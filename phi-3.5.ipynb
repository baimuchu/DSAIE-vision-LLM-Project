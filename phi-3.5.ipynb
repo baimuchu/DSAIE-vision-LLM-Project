{
 "cells": [
  {
   "cell_type": "markdown",
   "id": "afd48f3c-d036-4c39-922c-166c0d1da32c",
   "metadata": {},
   "source": [
    "# Phi-3.5"
   ]
  },
  {
   "cell_type": "code",
   "execution_count": 8,
   "id": "ffa1aff2-84b9-4cdf-a617-f073750eade9",
   "metadata": {
    "scrolled": true
   },
   "outputs": [
    {
     "name": "stderr",
     "output_type": "stream",
     "text": [
      "huggingface/tokenizers: The current process just got forked, after parallelism has already been used. Disabling parallelism to avoid deadlocks...\n",
      "To disable this warning, you can either:\n",
      "\t- Avoid using `tokenizers` before the fork if possible\n",
      "\t- Explicitly set the environment variable TOKENIZERS_PARALLELISM=(true | false)\n"
     ]
    },
    {
     "name": "stdout",
     "output_type": "stream",
     "text": [
      "Requirement already satisfied: pip in /usr/local/lib/python3.10/dist-packages (24.3.1)\n",
      "\u001b[33mWARNING: Running pip as the 'root' user can result in broken permissions and conflicting behaviour with the system package manager, possibly rendering your system unusable.It is recommended to use a virtual environment instead: https://pip.pypa.io/warnings/venv. Use the --root-user-action option if you know what you are doing and want to suppress this warning.\u001b[0m\u001b[33m\n",
      "\u001b[0m"
     ]
    },
    {
     "name": "stderr",
     "output_type": "stream",
     "text": [
      "huggingface/tokenizers: The current process just got forked, after parallelism has already been used. Disabling parallelism to avoid deadlocks...\n",
      "To disable this warning, you can either:\n",
      "\t- Avoid using `tokenizers` before the fork if possible\n",
      "\t- Explicitly set the environment variable TOKENIZERS_PARALLELISM=(true | false)\n"
     ]
    },
    {
     "name": "stdout",
     "output_type": "stream",
     "text": [
      "Requirement already satisfied: pandas in /usr/local/lib/python3.10/dist-packages (from -r phi_requirements.txt (line 1)) (2.2.3)\n",
      "Requirement already satisfied: scikit-learn in /usr/local/lib/python3.10/dist-packages (from -r phi_requirements.txt (line 2)) (1.5.2)\n",
      "Requirement already satisfied: tqdm in /usr/local/lib/python3.10/dist-packages (from -r phi_requirements.txt (line 3)) (4.67.1)\n",
      "\u001b[31mERROR: Could not find a version that satisfies the requirement json (from versions: none)\u001b[0m\u001b[31m\n",
      "\u001b[0m\u001b[31mERROR: No matching distribution found for json\u001b[0m\u001b[31m\n",
      "\u001b[0m"
     ]
    }
   ],
   "source": [
    "! python -m pip install --upgrade pip\n",
    "! pip install -r phi_requirements.txt"
   ]
  },
  {
   "cell_type": "code",
   "execution_count": 11,
   "id": "9bbfe5ab-c871-417b-b077-3934695692dc",
   "metadata": {
    "scrolled": true
   },
   "outputs": [
    {
     "data": {
      "application/vnd.jupyter.widget-view+json": {
       "model_id": "e326b36e324d49ce8e246ceb0c52891b",
       "version_major": 2,
       "version_minor": 0
      },
      "text/plain": [
       "Loading checkpoint shards:   0%|          | 0/2 [00:00<?, ?it/s]"
      ]
     },
     "metadata": {},
     "output_type": "display_data"
    },
    {
     "name": "stderr",
     "output_type": "stream",
     "text": [
      "/usr/local/lib/python3.10/dist-packages/transformers/models/auto/image_processing_auto.py:513: FutureWarning: The image_processor_class argument is deprecated and will be removed in v4.42. Please use `slow_image_processor_class`, or `fast_image_processor_class` instead\n",
      "  warnings.warn(\n",
      "Processing images:   0%|          | 0/200 [00:00<?, ?it/s]/usr/local/lib/python3.10/dist-packages/transformers/generation/configuration_utils.py:567: UserWarning: `do_sample` is set to `False`. However, `temperature` is set to `0.0` -- this flag is only used in sample-based generation modes. You should set `do_sample=True` or unset `temperature`.\n",
      "  warnings.warn(\n",
      "Processing images:   0%|          | 1/200 [00:03<11:57,  3.61s/it]"
     ]
    },
    {
     "name": "stdout",
     "output_type": "stream",
     "text": [
      "{\n",
      "  \"DESCRIPTION\": \"The image shows a section of a sewer pipe with a visible crack running vertically along its length. The surrounding area appears to be wet, suggesting the presence of water. The lighting conditions are dim, and the image is not very clear, making it difficult to discern finer details.\",\n",
      "  \"CODE\": \"RB\"\n",
      "}\n",
      "Image ID: 00617545.png | Predicted: RB | Ground Truth: RB\n",
      "\n"
     ]
    },
    {
     "name": "stderr",
     "output_type": "stream",
     "text": [
      "Processing images:   1%|          | 2/200 [00:09<15:57,  4.84s/it]"
     ]
    },
    {
     "name": "stdout",
     "output_type": "stream",
     "text": [
      "{\n",
      "\n",
      "  \"DESCRIPTION\": \"The image shows a section of a sewer pipe with a dark interior and a lighter, possibly metallic, exterior. The pipe appears to be in a state of disrepair with visible signs of corrosion and wear. There are no clear indications of water flow, and the lighting conditions are uneven, with some areas appearing brighter than others. The pipe's surface shows signs of scaling and pitting, suggesting long-term exposure to the elements or chemicals. No roots or significant deformations are visible, but the pipe's integrity is compromised due to the surface damage.\",\n",
      "\n",
      "  \"CODE\": \"OB\"\n",
      "\n",
      "}\n",
      "Image ID: 00635967.png | Predicted: OB | Ground Truth: NoDefect\n",
      "\n"
     ]
    },
    {
     "name": "stderr",
     "output_type": "stream",
     "text": [
      "Processing images:   2%|▏         | 3/200 [00:12<14:02,  4.28s/it]"
     ]
    },
    {
     "name": "stdout",
     "output_type": "stream",
     "text": [
      "{\n",
      "\n",
      "  \"DESCRIPTION\": \"The image shows a section of a sewer pipe with a smooth, unbroken surface and no visible signs of damage or blockages. The lighting conditions are dim, and the pipe appears to be made of concrete. There are no cracks, breaks, or collapses visible in the image.\",\n",
      "\n",
      "  \"CODE\": \"NoDefect\"\n",
      "\n",
      "}\n",
      "Image ID: 00002720.png | Predicted: NoDefect | Ground Truth: NoDefect\n",
      "\n"
     ]
    },
    {
     "name": "stderr",
     "output_type": "stream",
     "text": [
      "Processing images:   2%|▏         | 4/200 [00:16<13:22,  4.09s/it]"
     ]
    },
    {
     "name": "stdout",
     "output_type": "stream",
     "text": [
      "{\n",
      "\n",
      "  \"DESCRIPTION\": \"The image shows a section of a sewer pipe with a visible crack running along its length. The pipe appears to be made of concrete and is partially filled with water. There are no signs of roots or other obstructions, and the lighting conditions suggest it is daytime. The surface of the pipe shows signs of wear and erosion.\",\n",
      "\n",
      "  \"CODE\": \"OB\"\n",
      "\n",
      "}\n",
      "Image ID: 00497284.png | Predicted: OB | Ground Truth: NoDefect\n",
      "\n"
     ]
    },
    {
     "name": "stderr",
     "output_type": "stream",
     "text": [
      "Processing images:   2%|▎         | 5/200 [00:20<12:51,  3.96s/it]"
     ]
    },
    {
     "name": "stdout",
     "output_type": "stream",
     "text": [
      "{\n",
      "\n",
      "  \"DESCRIPTION\": \"The image shows a section of a sewer pipe with a visible crack running vertically along its length. The pipe appears to be made of concrete and is situated in a dark environment, possibly underground. There is no visible water flow, and the lighting conditions are dim, making it difficult to assess the full extent of the damage.\",\n",
      "\n",
      "  \"CODE\": \"RB\"\n",
      "\n",
      "}\n",
      "Image ID: 00231002.png | Predicted: RB | Ground Truth: RB\n",
      "\n"
     ]
    },
    {
     "name": "stderr",
     "output_type": "stream",
     "text": [
      "Processing images:   3%|▎         | 6/200 [00:24<13:02,  4.03s/it]"
     ]
    },
    {
     "name": "stdout",
     "output_type": "stream",
     "text": [
      "{\n",
      "\n",
      "  \"DESCRIPTION\": \"The image shows a sewer pipe with a smooth, unbroken surface and no visible signs of damage or blockages. The lighting conditions are adequate, and the pipe appears to be in good condition with no cracks, breaks, or collapses. There is no evidence of roots, surface damage, production errors, or deformations in the visible section of the pipe.\",\n",
      "\n",
      "  \"CODE\": \"NoDefect\"\n",
      "\n",
      "}\n",
      "Image ID: 00468553.png | Predicted: NoDefect | Ground Truth: PF\n",
      "\n"
     ]
    },
    {
     "name": "stderr",
     "output_type": "stream",
     "text": [
      "Processing images:   4%|▎         | 7/200 [00:28<12:44,  3.96s/it]"
     ]
    },
    {
     "name": "stdout",
     "output_type": "stream",
     "text": [
      "{\n",
      "  \"DESCRIPTION\": \"The image shows a blurred view of a sewer pipe with a greenish hue, possibly due to the lighting conditions. The pipe appears to be in a state of disrepair with visible signs of damage. There are no clear indications of the pipe's material or the presence of water. The image is not clear enough to provide a detailed analysis of the defects.\",\n",
      "  \"CODE\": \"RB\"\n",
      "}\n",
      "Image ID: 00953221.png | Predicted: RB | Ground Truth: NoDefect\n",
      "\n"
     ]
    },
    {
     "name": "stderr",
     "output_type": "stream",
     "text": [
      "Processing images:   4%|▍         | 8/200 [00:31<12:01,  3.76s/it]"
     ]
    },
    {
     "name": "stdout",
     "output_type": "stream",
     "text": [
      "{\n",
      "  \"DESCRIPTION\": \"The image shows a sewer pipe with a dark interior, likely indicating the presence of water. The surface of the pipe appears to be rough and uneven, with visible signs of wear and potential damage. There are no clear indications of roots or other obstructions within the visible section of the pipe.\",\n",
      "  \"CODE\": \"OB\"\n",
      "}\n",
      "Image ID: 00242381.png | Predicted: OB | Ground Truth: NoDefect\n",
      "\n"
     ]
    },
    {
     "name": "stderr",
     "output_type": "stream",
     "text": [
      "Processing images:   4%|▍         | 9/200 [00:35<12:06,  3.81s/it]"
     ]
    },
    {
     "name": "stdout",
     "output_type": "stream",
     "text": [
      "{\n",
      "\n",
      "  \"DESCRIPTION\": \"The image shows a sewer pipe with a darkened section indicating a possible blockage or obstruction. The pipe appears to be made of concrete and is in a straight section with no visible signs of damage or deformation. The lighting conditions are dim, and the image is not very clear, making it difficult to assess the pipe's condition in detail.\",\n",
      "\n",
      "  \"CODE\": \"NoDefect\"\n",
      "\n",
      "}\n",
      "Image ID: 00292340.png | Predicted: NoDefect | Ground Truth: PF\n",
      "\n"
     ]
    },
    {
     "name": "stderr",
     "output_type": "stream",
     "text": [
      "Processing images:   5%|▌         | 10/200 [00:39<12:18,  3.89s/it]"
     ]
    },
    {
     "name": "stdout",
     "output_type": "stream",
     "text": [
      "{\n",
      "  \"DESCRIPTION\": \"The image shows a section of a sewer pipe with a dark, smooth interior. The lighting is dim, and the surface appears to be wet, suggesting the presence of water. The pipe is likely made of a non-metallic material, possibly PVC, given the color and sheen. There are no visible signs of damage, cracks, or roots in the visible section of the pipe.\",\n",
      "  \"CODE\": \"NoDefect\"\n",
      "}\n",
      "Image ID: 00184032.png | Predicted: NoDefect | Ground Truth: OB\n",
      "\n"
     ]
    },
    {
     "name": "stderr",
     "output_type": "stream",
     "text": [
      "Processing images:   6%|▌         | 11/200 [00:43<12:12,  3.87s/it]"
     ]
    },
    {
     "name": "stdout",
     "output_type": "stream",
     "text": [
      "{\n",
      "  \"DESCRIPTION\": \"The image shows a dark, narrow sewer pipe with a rough, uneven surface. The lighting is dim, and the pipe appears to be made of concrete. There are no visible signs of water flow, and the walls of the pipe have some stains and debris. The image is blurry, making it difficult to discern finer details.\",\n",
      "  \"CODE\": \"NoDefect\"\n",
      "}\n",
      "Image ID: 00544551.png | Predicted: NoDefect | Ground Truth: NoDefect\n",
      "\n"
     ]
    },
    {
     "name": "stderr",
     "output_type": "stream",
     "text": [
      "Processing images:   6%|▌         | 12/200 [00:46<11:26,  3.65s/it]"
     ]
    },
    {
     "name": "stdout",
     "output_type": "stream",
     "text": [
      "{\n",
      "\n",
      "  \"DESCRIPTION\": \"The image shows a sewer pipe with a dark, wet interior. The lighting is dim, and the surface of the pipe appears smooth with no visible signs of damage or blockages. The pipe is likely made of concrete or a similar material.\",\n",
      "\n",
      "  \"CODE\": \"NoDefect\"\n",
      "\n",
      "}\n",
      "Image ID: 01051658.png | Predicted: NoDefect | Ground Truth: DE\n",
      "\n"
     ]
    },
    {
     "name": "stderr",
     "output_type": "stream",
     "text": [
      "Processing images:   6%|▋         | 13/200 [00:50<11:47,  3.78s/it]"
     ]
    },
    {
     "name": "stdout",
     "output_type": "stream",
     "text": [
      "{\n",
      "\n",
      "  \"DESCRIPTION\": \"The image shows a sewer pipe with a smooth, unbroken surface and no visible signs of damage or blockages. The lighting conditions are bright, and the pipe appears to be in good condition with no cracks, breaks, or collapses. There is no evidence of roots or surface damage, and the pipe's interior is clear of any obstructions.\",\n",
      "\n",
      "  \"CODE\": \"NoDefect\"\n",
      "\n",
      "}\n",
      "Image ID: 00841517.png | Predicted: NoDefect | Ground Truth: PF\n",
      "\n"
     ]
    },
    {
     "name": "stderr",
     "output_type": "stream",
     "text": [
      "Processing images:   7%|▋         | 14/200 [00:54<11:52,  3.83s/it]"
     ]
    },
    {
     "name": "stdout",
     "output_type": "stream",
     "text": [
      "{\n",
      "\n",
      "  \"DESCRIPTION\": \"The image shows a sewer pipe with a dark interior, possibly indicating a lack of lighting or the presence of a blockage. The surface of the pipe appears to be rough and uneven, with some areas showing signs of wear or damage. There are no visible roots or significant deformations, but the pipe does not appear to be in pristine condition.\",\n",
      "\n",
      "  \"CODE\": \"OB\"\n",
      "\n",
      "}\n",
      "Image ID: 00306871.png | Predicted: OB | Ground Truth: RO\n",
      "\n"
     ]
    },
    {
     "name": "stderr",
     "output_type": "stream",
     "text": [
      "Processing images:   8%|▊         | 15/200 [00:58<11:55,  3.87s/it]"
     ]
    },
    {
     "name": "stdout",
     "output_type": "stream",
     "text": [
      "{\n",
      "\n",
      "  \"DESCRIPTION\": \"The image shows a close-up view of a sewer pipe with a smooth, metallic surface. The pipe appears to be made of a dark-colored material, possibly metal, and is in good condition with no visible signs of damage or blockages. The lighting is even, and there are no obstructions in the view of the pipe.\",\n",
      "\n",
      "  \"CODE\": \"NoDefect\"\n",
      "\n",
      "}\n",
      "Image ID: 01057513.png | Predicted: NoDefect | Ground Truth: DE\n",
      "\n"
     ]
    },
    {
     "name": "stderr",
     "output_type": "stream",
     "text": [
      "Processing images:   8%|▊         | 16/200 [01:03<12:21,  4.03s/it]"
     ]
    },
    {
     "name": "stdout",
     "output_type": "stream",
     "text": [
      "{\n",
      "\n",
      "  \"DESCRIPTION\": \"The image shows a close-up view of a sewer pipe with a clear view of the interior. The pipe appears to be made of a dark material, possibly PVC, and is partially filled with water. There is a visible crack running vertically along the pipe, indicating a structural defect. The lighting conditions are sufficient to illuminate the interior of the pipe, and the image is clear enough to identify the defect.\",\n",
      "\n",
      "  \"CODE\": \"RB\"\n",
      "\n",
      "}\n",
      "Image ID: 00852617.png | Predicted: RB | Ground Truth: NoDefect\n",
      "\n"
     ]
    },
    {
     "name": "stderr",
     "output_type": "stream",
     "text": [
      "Processing images:   8%|▊         | 17/200 [01:08<13:55,  4.57s/it]"
     ]
    },
    {
     "name": "stdout",
     "output_type": "stream",
     "text": [
      "{\n",
      "\n",
      "  \"DESCRIPTION\": \"The image shows a close-up view of a sewer pipe with a focus on the interior surface. The lighting conditions are dim, and the image is somewhat blurry, making it difficult to discern fine details. The pipe appears to be made of a dark material, possibly PVC or a similar plastic, and there is visible water within the pipe. There are no clear signs of roots, and the surface shows some minor scratches and pitting, indicating some level of wear. No obvious cracks, breaks, or collapses are visible, and the pipe does not exhibit any significant deformations or production errors.\",\n",
      "\n",
      "  \"CODE\": \"OB\"\n",
      "\n",
      "}\n",
      "Image ID: 00908736.png | Predicted: OB | Ground Truth: NoDefect\n",
      "\n"
     ]
    },
    {
     "name": "stderr",
     "output_type": "stream",
     "text": [
      "Processing images:   9%|▉         | 18/200 [01:13<13:52,  4.57s/it]"
     ]
    },
    {
     "name": "stdout",
     "output_type": "stream",
     "text": [
      "{\n",
      "\n",
      "  \"DESCRIPTION\": \"The image depicts a sewer pipe with a yellow lining on the interior surface. The pipe appears to be in a dark environment with some light sources visible at the end of the tunnel. The surface of the pipe looks smooth with no visible signs of cracks, breaks, or collapses. There are no obvious signs of root intrusion or surface damage. The pipe seems to be in good condition with no production errors or deformations apparent.\",\n",
      "\n",
      "  \"CODE\": \"NoDefect\"\n",
      "\n",
      "}\n",
      "Image ID: 00287653.png | Predicted: NoDefect | Ground Truth: NoDefect\n",
      "\n"
     ]
    },
    {
     "name": "stderr",
     "output_type": "stream",
     "text": [
      "Processing images:  10%|▉         | 19/200 [01:17<13:27,  4.46s/it]"
     ]
    },
    {
     "name": "stdout",
     "output_type": "stream",
     "text": [
      "{\n",
      "  \"DESCRIPTION\": \"The image shows a section of a sewer pipe with a smooth, unbroken surface and no visible signs of damage or blockages. The pipe appears to be in good condition with no cracks, breaks, or collapses. There is no evidence of roots, surface damage, production errors, or deformations. The lighting conditions are adequate for visual inspection.\",\n",
      "  \"CODE\": \"NoDefect\"\n",
      "}\n",
      "Image ID: 00967874.png | Predicted: NoDefect | Ground Truth: NoDefect\n",
      "\n"
     ]
    },
    {
     "name": "stderr",
     "output_type": "stream",
     "text": [
      "Processing images:  10%|█         | 20/200 [01:22<13:24,  4.47s/it]"
     ]
    },
    {
     "name": "stdout",
     "output_type": "stream",
     "text": [
      "{\n",
      "\n",
      "  \"DESCRIPTION\": \"The image shows a section of a sewer pipe with a visible entrance and a dark interior suggesting the presence of water. The surface of the pipe appears to be smooth with no visible signs of cracks, breaks, or collapses. There are no obvious signs of root intrusion or surface damage. The lighting conditions are dim, and the image is slightly blurred, possibly due to the camera's focus or movement.\",\n",
      "\n",
      "  \"CODE\": \"NoDefect\"\n",
      "\n",
      "}\n",
      "Image ID: 00519810.png | Predicted: NoDefect | Ground Truth: NoDefect\n",
      "\n"
     ]
    },
    {
     "name": "stderr",
     "output_type": "stream",
     "text": [
      "Processing images:  10%|█         | 21/200 [01:25<12:36,  4.23s/it]"
     ]
    },
    {
     "name": "stdout",
     "output_type": "stream",
     "text": [
      "{\n",
      "\n",
      "  \"DESCRIPTION\": \"The image shows a sewer pipe with a bright, glowing light source at the end, creating a tunnel-like effect. The pipe appears to be made of concrete and is partially filled with water. There are no visible signs of damage, cracks, or roots in the visible section of the pipe.\",\n",
      "\n",
      "  \"CODE\": \"NoDefect\"\n",
      "\n",
      "}\n",
      "Image ID: 00902655.png | Predicted: NoDefect | Ground Truth: NoDefect\n",
      "\n"
     ]
    },
    {
     "name": "stderr",
     "output_type": "stream",
     "text": [
      "Processing images:  11%|█         | 22/200 [01:30<12:32,  4.23s/it]"
     ]
    },
    {
     "name": "stdout",
     "output_type": "stream",
     "text": [
      "{\n",
      "\n",
      "  \"DESCRIPTION\": \"The image shows a sewer pipe with a dark interior, possibly indicating the presence of water. The pipe appears to be made of concrete and has a rough texture. There are no visible signs of cracks, breaks, or collapses, and no roots are apparent. The lighting conditions are dim, and the image is slightly blurred, making it difficult to discern finer details.\",\n",
      "\n",
      "  \"CODE\": \"NoDefect\"\n",
      "\n",
      "}\n",
      "Image ID: 00248494.png | Predicted: NoDefect | Ground Truth: NoDefect\n",
      "\n"
     ]
    },
    {
     "name": "stderr",
     "output_type": "stream",
     "text": [
      "Processing images:  12%|█▏        | 23/200 [01:34<12:21,  4.19s/it]"
     ]
    },
    {
     "name": "stdout",
     "output_type": "stream",
     "text": [
      "{\n",
      "\n",
      "  \"DESCRIPTION\": \"The image shows a section of a sewer pipe with a dark, opaque interior. The surface appears to be smooth with no visible signs of cracks, breaks, or collapses. There is no evidence of roots or significant surface damage. The lighting conditions are dim, and the image is somewhat blurry, making it difficult to discern finer details.\",\n",
      "\n",
      "  \"CODE\": \"NoDefect\"\n",
      "\n",
      "}\n",
      "Image ID: 00306868.png | Predicted: NoDefect | Ground Truth: RO\n",
      "\n"
     ]
    },
    {
     "name": "stderr",
     "output_type": "stream",
     "text": [
      "Processing images:  12%|█▏        | 24/200 [01:38<12:04,  4.12s/it]"
     ]
    },
    {
     "name": "stdout",
     "output_type": "stream",
     "text": [
      "{\n",
      "\n",
      "  \"DESCRIPTION\": \"The image shows a section of a sewer pipe with a dark, moist interior. The surface appears to be rough and uneven, with some areas of discoloration and possible corrosion. There is a visible crack running vertically along the pipe, and the lighting conditions are dim, making it difficult to assess the full extent of the damage.\",\n",
      "\n",
      "  \"CODE\": \"RB\"\n",
      "\n",
      "}\n",
      "Image ID: 00305000.png | Predicted: RB | Ground Truth: RB\n",
      "\n"
     ]
    },
    {
     "name": "stderr",
     "output_type": "stream",
     "text": [
      "Processing images:  12%|█▎        | 25/200 [01:42<12:26,  4.27s/it]"
     ]
    },
    {
     "name": "stdout",
     "output_type": "stream",
     "text": [
      "{\n",
      "\n",
      "  \"DESCRIPTION\": \"The image shows a sewer pipe with a visible interior surface that appears to be made of concrete. The lighting conditions are bright, and the pipe is in a straight section with no visible signs of blockages or roots. The surface of the pipe shows some signs of wear and erosion, but no significant cracks, breaks, or collapses are visible. The pipe's walls seem to be intact without any noticeable deformations or production errors.\",\n",
      "\n",
      "  \"CODE\": \"OB\"\n",
      "\n",
      "}\n",
      "Image ID: 00406657.png | Predicted: OB | Ground Truth: PF\n",
      "\n"
     ]
    },
    {
     "name": "stderr",
     "output_type": "stream",
     "text": [
      "Processing images:  13%|█▎        | 26/200 [01:47<12:45,  4.40s/it]"
     ]
    },
    {
     "name": "stdout",
     "output_type": "stream",
     "text": [
      "{\n",
      "\n",
      "  \"DESCRIPTION\": \"The image shows a section of a sewer pipe with a visible crack running vertically through the center. The surrounding area appears to be dry, and there are no signs of water flow or blockages. The pipe's surface shows signs of wear and erosion, with some areas appearing pitted and scratched. There is no visible root intrusion or deformation, and the pipe does not exhibit any obvious manufacturing defects or inconsistencies in thickness.\",\n",
      "\n",
      "  \"CODE\": \"RB\"\n",
      "\n",
      "}\n",
      "Image ID: 01021927.png | Predicted: RB | Ground Truth: RO\n",
      "\n"
     ]
    },
    {
     "name": "stderr",
     "output_type": "stream",
     "text": [
      "Processing images:  14%|█▎        | 27/200 [01:51<12:43,  4.41s/it]"
     ]
    },
    {
     "name": "stdout",
     "output_type": "stream",
     "text": [
      "{\n",
      "  \"DESCRIPTION\": \"The image shows a sewer pipe with a camera inserted into it. The pipe appears to be made of concrete and is partially filled with water. There are visible signs of wear and erosion on the pipe's interior surface, indicating surface damage. No cracks, breaks, collapses, or roots are immediately apparent. The lighting conditions are dim, and the image is somewhat blurry, making it difficult to assess the pipe's condition in detail.\",\n",
      "  \"CODE\": \"OB\"\n",
      "}\n",
      "Image ID: 00572939.png | Predicted: OB | Ground Truth: OB\n",
      "\n"
     ]
    },
    {
     "name": "stderr",
     "output_type": "stream",
     "text": [
      "Processing images:  14%|█▍        | 28/200 [01:55<12:08,  4.24s/it]"
     ]
    },
    {
     "name": "stdout",
     "output_type": "stream",
     "text": [
      "{\n",
      "\n",
      "  \"DESCRIPTION\": \"The image shows a sewer pipe with a smooth, unbroken surface and no visible signs of damage or blockages. The lighting conditions are even, and the pipe appears to be in good condition with no evidence of cracks, breaks, collapses, or deformations. There is no visible presence of roots or surface damage.\",\n",
      "\n",
      "  \"CODE\": \"NoDefect\"\n",
      "\n",
      "}\n",
      "Image ID: 00710330.png | Predicted: NoDefect | Ground Truth: NoDefect\n",
      "\n"
     ]
    },
    {
     "name": "stderr",
     "output_type": "stream",
     "text": [
      "Processing images:  14%|█▍        | 29/200 [02:00<12:07,  4.26s/it]"
     ]
    },
    {
     "name": "stdout",
     "output_type": "stream",
     "text": [
      "{\n",
      "\n",
      "  \"DESCRIPTION\": \"The image shows a section of a sewer pipe with a dark, opaque interior. The lighting is dim, and the surface of the pipe appears smooth with no visible signs of damage or blockages. The pipe seems to be in good condition with no cracks, breaks, or collapses. There are no roots visible, and the pipe's surface does not show any signs of wear or damage.\",\n",
      "\n",
      "  \"CODE\": \"NoDefect\"\n",
      "\n",
      "}\n",
      "Image ID: 00311380.png | Predicted: NoDefect | Ground Truth: NoDefect\n",
      "\n"
     ]
    },
    {
     "name": "stderr",
     "output_type": "stream",
     "text": [
      "Processing images:  15%|█▌        | 30/200 [02:03<11:03,  3.90s/it]"
     ]
    },
    {
     "name": "stdout",
     "output_type": "stream",
     "text": [
      "{\n",
      "\n",
      "  \"DESCRIPTION\": \"The image shows a sewer pipe with a smooth, unbroken surface and no visible signs of damage or blockages. The lighting conditions are consistent, and the pipe appears to be in good condition without any noticeable defects.\",\n",
      "\n",
      "  \"CODE\": \"NoDefect\"\n",
      "\n",
      "}\n",
      "Image ID: 00959013.png | Predicted: NoDefect | Ground Truth: NoDefect\n",
      "\n"
     ]
    },
    {
     "name": "stderr",
     "output_type": "stream",
     "text": [
      "Processing images:  16%|█▌        | 31/200 [02:06<10:47,  3.83s/it]"
     ]
    },
    {
     "name": "stdout",
     "output_type": "stream",
     "text": [
      "{\n",
      "\n",
      "  \"DESCRIPTION\": \"The image shows a section of a sewer pipe with a dark, opaque interior. The surface appears to be rough and uneven, with some areas showing signs of erosion or damage. There is no visible water flow, and the lighting conditions are dim, making it difficult to assess the overall condition of the pipe.\",\n",
      "\n",
      "  \"CODE\": \"OB\"\n",
      "\n",
      "}\n",
      "Image ID: 00341760.png | Predicted: OB | Ground Truth: RO\n",
      "\n"
     ]
    },
    {
     "name": "stderr",
     "output_type": "stream",
     "text": [
      "Processing images:  16%|█▌        | 32/200 [02:10<11:01,  3.94s/it]"
     ]
    },
    {
     "name": "stdout",
     "output_type": "stream",
     "text": [
      "{\n",
      "\n",
      "  \"DESCRIPTION\": \"The image depicts a sewer pipe with a smooth, unbroken surface and no visible signs of damage or blockages. The lighting conditions are even, and the pipe appears to be in good condition with no cracks, breaks, or collapses. There is no evidence of roots or surface damage, and the pipe's interior is free of any deformations or production errors.\",\n",
      "\n",
      "  \"CODE\": \"NoDefect\"\n",
      "\n",
      "}\n",
      "Image ID: 01233591.png | Predicted: NoDefect | Ground Truth: NoDefect\n",
      "\n"
     ]
    },
    {
     "name": "stderr",
     "output_type": "stream",
     "text": [
      "Processing images:  16%|█▋        | 33/200 [02:15<11:25,  4.10s/it]"
     ]
    },
    {
     "name": "stdout",
     "output_type": "stream",
     "text": [
      "{\n",
      "  \"DESCRIPTION\": \"The image shows a dimly lit sewer pipe with a light source at the end, creating a bright spot. The pipe appears to be made of concrete and is partially filled with water. There are no visible signs of cracks, breaks, or collapses. The surface shows some minor scratches and pitting, indicating surface damage. No roots or production errors are visible. The pipe is not deformed, and there are no signs of roots infiltrating the pipe.\",\n",
      "  \"CODE\": \"OB\"\n",
      "}\n",
      "Image ID: 01069656.png | Predicted: OB | Ground Truth: NoDefect\n",
      "\n"
     ]
    },
    {
     "name": "stderr",
     "output_type": "stream",
     "text": [
      "Processing images:  17%|█▋        | 34/200 [02:19<11:08,  4.03s/it]"
     ]
    },
    {
     "name": "stdout",
     "output_type": "stream",
     "text": [
      "{\n",
      "\n",
      "  \"DESCRIPTION\": \"The image shows a section of a sewer pipe with a dark, opaque interior suggesting the presence of water. The lighting is uneven, with some areas appearing brighter, possibly due to light sources from above or reflections within the pipe. The pipe's surface is not clearly visible, making it difficult to assess its condition or material.\",\n",
      "\n",
      "  \"CODE\": \"NoDefect\"\n",
      "\n",
      "}\n",
      "Image ID: 01051282.png | Predicted: NoDefect | Ground Truth: RO\n",
      "\n"
     ]
    },
    {
     "name": "stderr",
     "output_type": "stream",
     "text": [
      "Processing images:  18%|█▊        | 35/200 [02:24<11:39,  4.24s/it]"
     ]
    },
    {
     "name": "stdout",
     "output_type": "stream",
     "text": [
      "{\n",
      "  \"DESCRIPTION\": \"The image shows a close-up view of a sewer pipe with a metal rod inserted into it. The pipe appears to be made of metal and is in a dark environment, possibly indicating the presence of water. There are visible signs of wear and rust on the pipe's surface, and the metal rod is inserted into a section of the pipe that seems to be slightly damaged or corroded. The image is not very clear, and there are no visible roots or significant deformations in the pipe.\",\n",
      "  \"CODE\": \"OB\"\n",
      "}\n",
      "Image ID: 00414188.png | Predicted: OB | Ground Truth: RB\n",
      "\n"
     ]
    },
    {
     "name": "stderr",
     "output_type": "stream",
     "text": [
      "Processing images:  18%|█▊        | 36/200 [02:27<11:03,  4.05s/it]"
     ]
    },
    {
     "name": "stdout",
     "output_type": "stream",
     "text": [
      "{\n",
      "\n",
      "  \"DESCRIPTION\": \"The image shows a sewer pipe with a smooth, unbroken surface and no visible signs of damage or blockages. The lighting conditions are dim, and the pipe appears to be made of concrete. There are no cracks, breaks, or collapses, and no roots are visible in the pipe.\",\n",
      "\n",
      "  \"CODE\": \"NoDefect\"\n",
      "\n",
      "}\n",
      "Image ID: 00656179.png | Predicted: NoDefect | Ground Truth: NoDefect\n",
      "\n"
     ]
    },
    {
     "name": "stderr",
     "output_type": "stream",
     "text": [
      "Processing images:  18%|█▊        | 37/200 [02:32<11:19,  4.17s/it]"
     ]
    },
    {
     "name": "stdout",
     "output_type": "stream",
     "text": [
      "{\n",
      "\n",
      "  \"DESCRIPTION\": \"The image shows a sewer pipe with a central circular light source, possibly a camera or lighting fixture, casting a glow on the interior. The surrounding area is uniformly lit with a yellowish hue, and there are no visible signs of water or any obstructions within the pipe. The edges of the image are slightly blurred, and there are no discernible text or symbols that provide additional information.\",\n",
      "\n",
      "  \"CODE\": \"NoDefect\"\n",
      "\n",
      "}\n",
      "Image ID: 01230189.png | Predicted: NoDefect | Ground Truth: NoDefect\n",
      "\n"
     ]
    },
    {
     "name": "stderr",
     "output_type": "stream",
     "text": [
      "Processing images:  19%|█▉        | 38/200 [02:37<11:51,  4.39s/it]"
     ]
    },
    {
     "name": "stdout",
     "output_type": "stream",
     "text": [
      "{\n",
      "\n",
      "  \"DESCRIPTION\": \"The image shows a sewer pipe with a gradient of light to dark orange hues, suggesting a transition from light to darker areas. The pipe appears to be in a straight path with no visible signs of damage or blockages. The lighting conditions seem to be consistent, and the pipe's surface looks smooth without any noticeable cracks or breaks. There are no visible roots or deformations, and the pipe's interior does not show any signs of surface damage or production errors.\",\n",
      "\n",
      "  \"CODE\": \"NoDefect\"\n",
      "\n",
      "}\n",
      "Image ID: 01103697.png | Predicted: NoDefect | Ground Truth: NoDefect\n",
      "\n"
     ]
    },
    {
     "name": "stderr",
     "output_type": "stream",
     "text": [
      "Processing images:  20%|█▉        | 39/200 [02:40<10:43,  4.00s/it]"
     ]
    },
    {
     "name": "stdout",
     "output_type": "stream",
     "text": [
      "{\n",
      "  \"DESCRIPTION\": \"The image shows a section of a sewer pipe with a visible crack running vertically along its length. The pipe appears to be made of concrete and is partially filled with water. The surrounding area is not clearly visible due to the angle and focus of the image.\",\n",
      "  \"CODE\": \"RB\"\n",
      "}\n",
      "Image ID: 00055654.png | Predicted: RB | Ground Truth: NoDefect\n",
      "\n"
     ]
    },
    {
     "name": "stderr",
     "output_type": "stream",
     "text": [
      "Processing images:  20%|██        | 40/200 [02:44<10:49,  4.06s/it]"
     ]
    },
    {
     "name": "stdout",
     "output_type": "stream",
     "text": [
      "{\n",
      "\n",
      "  \"DESCRIPTION\": \"The image shows a section of a sewer pipe with a visible crack running vertically down the center. The surrounding area is filled with a mix of purple and pink hues, likely due to the reflection of light on the pipe's surface. There are no visible signs of water flow, and the lighting conditions are dim, making it difficult to assess the overall condition of the pipe.\",\n",
      "\n",
      "  \"CODE\": \"RB\"\n",
      "\n",
      "}\n",
      "Image ID: 00224834.png | Predicted: RB | Ground Truth: RB\n",
      "\n"
     ]
    },
    {
     "name": "stderr",
     "output_type": "stream",
     "text": [
      "Processing images:  20%|██        | 41/200 [02:47<10:27,  3.95s/it]"
     ]
    },
    {
     "name": "stdout",
     "output_type": "stream",
     "text": [
      "{\n",
      "\n",
      "  \"DESCRIPTION\": \"The image shows a section of a sewer pipe with a dark, opaque interior. The lighting is dim, and the image is not clear enough to discern specific details. There are no visible signs of damage, blockages, or roots. The pipe appears to be intact without any obvious defects.\",\n",
      "\n",
      "  \"CODE\": \"NoDefect\"\n",
      "\n",
      "}\n",
      "Image ID: 00953931.png | Predicted: NoDefect | Ground Truth: DE\n",
      "\n"
     ]
    },
    {
     "name": "stderr",
     "output_type": "stream",
     "text": [
      "Processing images:  21%|██        | 42/200 [02:52<10:28,  3.98s/it]"
     ]
    },
    {
     "name": "stdout",
     "output_type": "stream",
     "text": [
      "{\n",
      "\n",
      "  \"DESCRIPTION\": \"The image shows a sewer pipe with a smooth, unbroken surface and no visible signs of damage or blockages. The lighting conditions are bright, and the pipe appears to be in good condition with no cracks, breaks, or collapses. There is no evidence of roots or surface damage, and the pipe's interior is clear of any obstructions.\",\n",
      "\n",
      "  \"CODE\": \"NoDefect\"\n",
      "\n",
      "}\n",
      "Image ID: 00392052.png | Predicted: NoDefect | Ground Truth: NoDefect\n",
      "\n"
     ]
    },
    {
     "name": "stderr",
     "output_type": "stream",
     "text": [
      "Processing images:  22%|██▏       | 43/200 [02:56<10:32,  4.03s/it]"
     ]
    },
    {
     "name": "stdout",
     "output_type": "stream",
     "text": [
      "{\n",
      "\n",
      "  \"DESCRIPTION\": \"The image shows a sewer pipe with a dark, opaque interior. The lighting is uneven, with a bright spot on the right side, possibly due to a light source. The pipe appears to be made of concrete and is in a state of disrepair with visible signs of wear and potential damage. There are no clear indications of water flow or blockages within the pipe.\",\n",
      "\n",
      "  \"CODE\": \"RB\"\n",
      "\n",
      "}\n",
      "Image ID: 00795710.png | Predicted: RB | Ground Truth: OB\n",
      "\n"
     ]
    },
    {
     "name": "stderr",
     "output_type": "stream",
     "text": [
      "Processing images:  22%|██▏       | 44/200 [03:01<11:15,  4.33s/it]"
     ]
    },
    {
     "name": "stdout",
     "output_type": "stream",
     "text": [
      "{\n",
      "\n",
      "  \"DESCRIPTION\": \"The image shows a close-up view of a sewer pipe with a bright yellowish background. The pipe appears to be made of a dark material, possibly concrete, and is surrounded by a high-contrast environment with a focus on the center of the pipe where the lighting is dimmer, suggesting a depth of field effect. There are no visible signs of damage, blockages, or roots in the visible section of the pipe. The image is clear and provides a good view of the pipe's interior.\",\n",
      "\n",
      "  \"CODE\": \"NoDefect\"\n",
      "\n",
      "}\n",
      "Image ID: 01154770.png | Predicted: NoDefect | Ground Truth: NoDefect\n",
      "\n"
     ]
    },
    {
     "name": "stderr",
     "output_type": "stream",
     "text": [
      "Processing images:  22%|██▎       | 45/200 [03:06<11:37,  4.50s/it]"
     ]
    },
    {
     "name": "stdout",
     "output_type": "stream",
     "text": [
      "{\n",
      "\n",
      "  \"DESCRIPTION\": \"The image shows a section of a sewer pipe with a yellowish tint, possibly due to the lighting conditions. The pipe appears to be made of concrete and is partially filled with water. There are no visible signs of cracks, breaks, or collapses. The surface shows some minor scratches and pitting, indicating surface damage. No roots are visible in the image. The overall condition of the pipe seems to be good, with no immediate signs of production errors or deformations.\",\n",
      "\n",
      "  \"CODE\": \"OB\"\n",
      "\n",
      "}\n",
      "Image ID: 00299021.png | Predicted: OB | Ground Truth: OB\n",
      "\n"
     ]
    },
    {
     "name": "stderr",
     "output_type": "stream",
     "text": [
      "Processing images:  23%|██▎       | 46/200 [03:09<10:56,  4.26s/it]"
     ]
    },
    {
     "name": "stdout",
     "output_type": "stream",
     "text": [
      "{\n",
      "\"DESCRIPTION\": \"The image shows a dark, indistinct view of a sewer pipe with poor lighting conditions, making it difficult to discern any details or defects. The pipe appears to be made of a dark material, possibly PVC, and there is no visible water or roots. The image is too blurry to provide a clear assessment of the pipe's condition.\",\n",
      "\"CODE\": \"NoDefect\"\n",
      "}\n",
      "Image ID: 00919648.png | Predicted: NoDefect | Ground Truth: RO\n",
      "\n"
     ]
    },
    {
     "name": "stderr",
     "output_type": "stream",
     "text": [
      "Processing images:  24%|██▎       | 47/200 [03:14<11:17,  4.43s/it]"
     ]
    },
    {
     "name": "stdout",
     "output_type": "stream",
     "text": [
      "{\n",
      "\n",
      "  \"DESCRIPTION\": \"The image shows a sewer pipe with a smooth, unbroken surface and no visible signs of damage or blockages. The lighting conditions are bright, and the pipe appears to be in good condition with no cracks, breaks, or collapses. There is no evidence of roots or surface damage, and the pipe's interior does not show any signs of wear or erosion. The pipe's thickness and alignment appear consistent, with no visible production errors.\",\n",
      "\n",
      "  \"CODE\": \"NoDefect\"\n",
      "\n",
      "}\n",
      "Image ID: 01024200.png | Predicted: NoDefect | Ground Truth: NoDefect\n",
      "\n"
     ]
    },
    {
     "name": "stderr",
     "output_type": "stream",
     "text": [
      "Processing images:  24%|██▍       | 48/200 [03:20<12:08,  4.79s/it]"
     ]
    },
    {
     "name": "stdout",
     "output_type": "stream",
     "text": [
      "{\n",
      "\n",
      "  \"DESCRIPTION\": \"The image shows a sewer pipe with a clear view of its interior. The pipe appears to be made of a dark material, possibly PVC, and is set against a yellowish background that could be indicative of the sewer environment. There is no visible water flow within the pipe, and the surface looks relatively smooth with no obvious signs of damage or deformation. The lighting conditions are bright, suggesting the image may have been taken during the day or in a well-lit area. There are no visible roots, cracks, breaks, or collapses in the visible section of the pipe.\",\n",
      "\n",
      "  \"CODE\": \"NoDefect\"\n",
      "\n",
      "}\n",
      "Image ID: 00822900.png | Predicted: NoDefect | Ground Truth: NoDefect\n",
      "\n"
     ]
    },
    {
     "name": "stderr",
     "output_type": "stream",
     "text": [
      "Processing images:  24%|██▍       | 49/200 [03:24<11:30,  4.57s/it]"
     ]
    },
    {
     "name": "stdout",
     "output_type": "stream",
     "text": [
      "{\n",
      "\n",
      "  \"DESCRIPTION\": \"The image shows a view from inside a sewer pipe, with a dark tunnel leading into the distance. The pipe appears to be made of concrete and is partially filled with water. There is a visible crack running vertically down the center of the pipe, and the lighting conditions are dim, making it difficult to see other details clearly.\",\n",
      "\n",
      "  \"CODE\": \"RB\"\n",
      "\n",
      "}\n",
      "Image ID: 01127769.png | Predicted: RB | Ground Truth: NoDefect\n",
      "\n"
     ]
    },
    {
     "name": "stderr",
     "output_type": "stream",
     "text": [
      "Processing images:  25%|██▌       | 50/200 [03:28<11:18,  4.52s/it]"
     ]
    },
    {
     "name": "stdout",
     "output_type": "stream",
     "text": [
      "{\n",
      "\n",
      "  \"DESCRIPTION\": \"The image shows a view from inside a sewer pipe with a bright light source at the top, casting a glare and creating a tunnel-like effect. The pipe appears to be made of concrete and is partially filled with water. There are no visible signs of cracks, breaks, or collapses, and no roots are apparent. The surface shows some minor scratches and pitting, indicating some level of wear.\",\n",
      "\n",
      "  \"CODE\": \"OB\"\n",
      "\n",
      "}\n",
      "Image ID: 01016394.png | Predicted: OB | Ground Truth: NoDefect\n",
      "\n"
     ]
    },
    {
     "name": "stderr",
     "output_type": "stream",
     "text": [
      "Processing images:  26%|██▌       | 51/200 [03:33<11:33,  4.65s/it]"
     ]
    },
    {
     "name": "stdout",
     "output_type": "stream",
     "text": [
      "{\n",
      "\n",
      "  \"DESCRIPTION\": \"The image shows a section of a sewer pipe with a bright yellowish hue, possibly due to lighting or the material of the pipe. The pipe appears to be intact with no visible signs of cracks, breaks, or collapses. There is no evidence of roots or surface damage, and the pipe seems to be in good condition without any production errors or deformations. The image is clear and the lighting conditions are consistent, allowing for a good view of the pipe's interior.\",\n",
      "\n",
      "  \"CODE\": \"NoDefect\"\n",
      "\n",
      "}\n",
      "Image ID: 01143948.png | Predicted: NoDefect | Ground Truth: DE\n",
      "\n"
     ]
    },
    {
     "name": "stderr",
     "output_type": "stream",
     "text": [
      "Processing images:  26%|██▌       | 52/200 [03:38<11:35,  4.70s/it]"
     ]
    },
    {
     "name": "stdout",
     "output_type": "stream",
     "text": [
      "{\n",
      "\n",
      "  \"DESCRIPTION\": \"The image shows a section of a sewer pipe with a circular viewing window. The pipe appears to be made of a dark material, possibly PVC, and is set against a yellowish background that could be the surrounding soil or concrete. There is no visible water flow within the pipe, and the surface looks relatively smooth with no obvious signs of damage or deformation. The viewing window is slightly dirty, but the pipe itself seems intact without any visible cracks or breaks.\",\n",
      "\n",
      "  \"CODE\": \"NoDefect\"\n",
      "\n",
      "}\n",
      "Image ID: 01129787.png | Predicted: NoDefect | Ground Truth: NoDefect\n",
      "\n"
     ]
    },
    {
     "name": "stderr",
     "output_type": "stream",
     "text": [
      "Processing images:  26%|██▋       | 53/200 [03:42<11:09,  4.56s/it]"
     ]
    },
    {
     "name": "stdout",
     "output_type": "stream",
     "text": [
      "{\n",
      "\n",
      "  \"DESCRIPTION\": \"The image shows a sewer pipe with a smooth, unbroken surface and no visible signs of damage or blockages. The lighting conditions are dim, and the pipe appears to be made of a dark material, possibly PVC or a similar plastic. There are no cracks, breaks, or collapses visible in the image.\",\n",
      "\n",
      "  \"CODE\": \"NoDefect\"\n",
      "\n",
      "}\n",
      "Image ID: 00412362.png | Predicted: NoDefect | Ground Truth: NoDefect\n",
      "\n"
     ]
    },
    {
     "name": "stderr",
     "output_type": "stream",
     "text": [
      "Processing images:  27%|██▋       | 54/200 [03:46<10:38,  4.38s/it]"
     ]
    },
    {
     "name": "stdout",
     "output_type": "stream",
     "text": [
      "{\n",
      "\n",
      "  \"DESCRIPTION\": \"The image shows a view from inside a sewer pipe, with a dark circular opening at the bottom and a light source at the top. The pipe appears to be made of concrete and is in a relatively clean state with no visible roots or blockages. The walls of the pipe have a textured surface with some minor scratches and pitting, indicating some surface damage.\",\n",
      "\n",
      "  \"CODE\": \"OB\"\n",
      "\n",
      "}\n",
      "Image ID: 01153621.png | Predicted: OB | Ground Truth: NoDefect\n",
      "\n"
     ]
    },
    {
     "name": "stderr",
     "output_type": "stream",
     "text": [
      "Processing images:  28%|██▊       | 55/200 [03:50<10:22,  4.29s/it]"
     ]
    },
    {
     "name": "stdout",
     "output_type": "stream",
     "text": [
      "{\n",
      "\n",
      "  \"DESCRIPTION\": \"The image shows a sewer pipe with a smooth, unbroken surface and no visible signs of damage or blockages. The lighting conditions are even, and the pipe appears to be in good condition with no cracks, breaks, or collapses. There is no evidence of roots or surface damage, and the pipe's interior is clear of any obstructions.\",\n",
      "\n",
      "  \"CODE\": \"NoDefect\"\n",
      "\n",
      "}\n",
      "Image ID: 01238319.png | Predicted: NoDefect | Ground Truth: NoDefect\n",
      "\n"
     ]
    },
    {
     "name": "stderr",
     "output_type": "stream",
     "text": [
      "Processing images:  28%|██▊       | 56/200 [03:55<10:15,  4.27s/it]"
     ]
    },
    {
     "name": "stdout",
     "output_type": "stream",
     "text": [
      "{\n",
      "\n",
      "  \"DESCRIPTION\": \"The image shows a section of a sewer pipe with a dark liquid flowing through it. The pipe appears to be made of a dark material, possibly PVC, and is set against a yellowish background. There are no visible signs of damage, cracks, or deformations in the visible section of the pipe. The lighting conditions are bright, and the image is clear.\",\n",
      "\n",
      "  \"CODE\": \"NoDefect\"\n",
      "\n",
      "}\n",
      "Image ID: 01019697.png | Predicted: NoDefect | Ground Truth: DE\n",
      "\n"
     ]
    },
    {
     "name": "stderr",
     "output_type": "stream",
     "text": [
      "Processing images:  28%|██▊       | 57/200 [03:59<10:31,  4.42s/it]"
     ]
    },
    {
     "name": "stdout",
     "output_type": "stream",
     "text": [
      "{\n",
      "\n",
      "  \"DESCRIPTION\": \"The image shows a sewer pipe with a narrow, darkened pathway leading into the distance. The walls of the pipe are rough and show signs of wear and erosion. There is visible debris and sediment buildup on the sides, and the lighting conditions are dim, suggesting the pipe may be underground or in a shaded area. The pipe appears to be made of concrete and is not currently showing any signs of blockages or roots.\",\n",
      "\n",
      "  \"CODE\": \"NoDefect\"\n",
      "\n",
      "}\n",
      "Image ID: 00553974.png | Predicted: NoDefect | Ground Truth: PF\n",
      "\n"
     ]
    },
    {
     "name": "stderr",
     "output_type": "stream",
     "text": [
      "Processing images:  29%|██▉       | 58/200 [04:03<10:02,  4.24s/it]"
     ]
    },
    {
     "name": "stdout",
     "output_type": "stream",
     "text": [
      "{\n",
      "\n",
      "  \"DESCRIPTION\": \"The image shows a sewer pipe with a smooth, unbroken surface and no visible signs of damage or blockages. The lighting conditions are even, and the pipe appears to be in good condition with no evidence of cracks, breaks, collapses, or deformations. There is no visible presence of roots or surface damage.\",\n",
      "\n",
      "  \"CODE\": \"NoDefect\"\n",
      "\n",
      "}\n",
      "Image ID: 01182752.png | Predicted: NoDefect | Ground Truth: OB\n",
      "\n"
     ]
    },
    {
     "name": "stderr",
     "output_type": "stream",
     "text": [
      "Processing images:  30%|██▉       | 59/200 [04:10<11:30,  4.90s/it]"
     ]
    },
    {
     "name": "stdout",
     "output_type": "stream",
     "text": [
      "{\n",
      "\n",
      "  \"DESCRIPTION\": \"The image shows a clear X-ray view of a sewer pipe. The pipe appears to be made of a solid material, likely concrete, with a smooth interior surface. There is no visible water within the pipe, and the lighting conditions are even, allowing for a clear view of the pipe's interior. The image is taken from a perspective that shows the pipe's length and diameter, with no obstructions or roots visible. The pipe's walls are intact without any visible cracks, breaks, or collapses. The surface of the pipe shows no signs of damage or wear. The image does not provide any information on the pipe's manufacturing process or any deformations.\",\n",
      "\n",
      "  \"CODE\": \"NoDefect\"\n",
      "\n",
      "}\n",
      "Image ID: 00763700.png | Predicted: NoDefect | Ground Truth: DE\n",
      "\n"
     ]
    },
    {
     "name": "stderr",
     "output_type": "stream",
     "text": [
      "Processing images:  30%|███       | 60/200 [04:13<10:32,  4.52s/it]"
     ]
    },
    {
     "name": "stdout",
     "output_type": "stream",
     "text": [
      "{\n",
      "\n",
      "  \"DESCRIPTION\": \"The image shows a section of a sewer pipe with a visible crack running vertically down the center. The pipe appears to be made of concrete and is partially submerged in water. The surrounding area is dark, and the image is not very clear, making it difficult to assess the full extent of the damage.\",\n",
      "\n",
      "  \"CODE\": \"RB\"\n",
      "\n",
      "}\n",
      "Image ID: 00472380.png | Predicted: RB | Ground Truth: RB\n",
      "\n"
     ]
    },
    {
     "name": "stderr",
     "output_type": "stream",
     "text": [
      "Processing images:  30%|███       | 61/200 [04:17<10:08,  4.38s/it]"
     ]
    },
    {
     "name": "stdout",
     "output_type": "stream",
     "text": [
      "{\n",
      "  \"DESCRIPTION\": \"The image shows a section of a sewer pipe with a visible defect. The pipe appears to be made of concrete and is partially buried in the ground. There is a noticeable crack running vertically along the pipe, indicating a structural failure. The surrounding area is dark, suggesting it might be underground or in a shaded area. No other objects or text are discernible in the image.\",\n",
      "  \"CODE\": \"RB\"\n",
      "}\n",
      "Image ID: 00235099.png | Predicted: RB | Ground Truth: RB\n",
      "\n"
     ]
    },
    {
     "name": "stderr",
     "output_type": "stream",
     "text": [
      "Processing images:  31%|███       | 62/200 [04:21<09:34,  4.16s/it]"
     ]
    },
    {
     "name": "stdout",
     "output_type": "stream",
     "text": [
      "{\n",
      "  \"DESCRIPTION\": \"The image shows a close-up view of a sewer pipe with a dark interior. The surface appears to be smooth with no visible signs of cracks, breaks, or collapses. There is no evidence of roots or surface damage. The lighting conditions are dim, and the pipe's material is not clearly identifiable.\",\n",
      "  \"CODE\": \"NoDefect\"\n",
      "}\n",
      "Image ID: 00347287.png | Predicted: NoDefect | Ground Truth: RB\n",
      "\n"
     ]
    },
    {
     "name": "stderr",
     "output_type": "stream",
     "text": [
      "Processing images:  32%|███▏      | 63/200 [04:25<09:29,  4.16s/it]"
     ]
    },
    {
     "name": "stdout",
     "output_type": "stream",
     "text": [
      "{\n",
      "\n",
      "  \"DESCRIPTION\": \"The image shows a close-up view of a sewer pipe with a smooth, unbroken surface and no visible signs of damage or blockages. The lighting conditions are dim, and the pipe appears to be made of a dark material, possibly PVC or another type of plastic. There are no cracks, breaks, or collapses visible in the image.\",\n",
      "\n",
      "  \"CODE\": \"NoDefect\"\n",
      "\n",
      "}\n",
      "Image ID: 00848872.png | Predicted: NoDefect | Ground Truth: PF\n",
      "\n"
     ]
    },
    {
     "name": "stderr",
     "output_type": "stream",
     "text": [
      "Processing images:  32%|███▏      | 64/200 [04:29<09:16,  4.09s/it]"
     ]
    },
    {
     "name": "stdout",
     "output_type": "stream",
     "text": [
      "{\n",
      "\n",
      "  \"DESCRIPTION\": \"The image shows a close-up view of a sewer pipe with a dark interior. The surface of the pipe appears to be rough and uneven, with visible debris and particles. There are no clear signs of water flow within the pipe, and the lighting conditions are dim, making it difficult to assess the overall condition of the pipe.\",\n",
      "\n",
      "  \"CODE\": \"NoDefect\"\n",
      "\n",
      "}\n",
      "Image ID: 00069800.png | Predicted: NoDefect | Ground Truth: OB\n",
      "\n"
     ]
    },
    {
     "name": "stderr",
     "output_type": "stream",
     "text": [
      "Processing images:  32%|███▎      | 65/200 [04:33<09:22,  4.17s/it]"
     ]
    },
    {
     "name": "stdout",
     "output_type": "stream",
     "text": [
      "{\n",
      "\n",
      "  \"DESCRIPTION\": \"The image shows a sewer pipe with a dark, smooth interior. The lighting conditions are dim, and the pipe appears to be made of a dark material, possibly concrete or PVC. There is no visible water in the pipe, and the surface looks intact without any obvious signs of damage or deformation. The image is taken from a distance, and the edges of the pipe are not clearly visible.\",\n",
      "\n",
      "  \"CODE\": \"NoDefect\"\n",
      "\n",
      "}\n",
      "Image ID: 00222387.png | Predicted: NoDefect | Ground Truth: NoDefect\n",
      "\n"
     ]
    },
    {
     "name": "stderr",
     "output_type": "stream",
     "text": [
      "Processing images:  33%|███▎      | 66/200 [04:39<10:28,  4.69s/it]"
     ]
    },
    {
     "name": "stdout",
     "output_type": "stream",
     "text": [
      "{\n",
      "\n",
      "  \"DESCRIPTION\": \"The image shows a close-up view of a sewer pipe with a rough, textured interior surface. The lighting is uneven, with some areas appearing brighter than others. The pipe appears to be made of a metallic material, possibly steel or aluminum, and shows signs of wear and aging. There are no visible roots, and the pipe does not exhibit any obvious signs of cracks, breaks, or collapses. The surface shows some minor scratches and pitting, indicating surface damage. There are no obvious signs of production errors or deformations, and no roots are visible in the image.\",\n",
      "\n",
      "  \"CODE\": \"OB\"\n",
      "\n",
      "}\n",
      "Image ID: 01009692.png | Predicted: OB | Ground Truth: NoDefect\n",
      "\n"
     ]
    },
    {
     "name": "stderr",
     "output_type": "stream",
     "text": [
      "Processing images:  34%|███▎      | 67/200 [04:44<10:17,  4.64s/it]"
     ]
    },
    {
     "name": "stdout",
     "output_type": "stream",
     "text": [
      "{\n",
      "\n",
      "  \"DESCRIPTION\": \"The image shows a sewer pipe with a dark, metallic interior. The lighting is dim, and the pipe appears to be made of a dark material, possibly metal. There is a visible water flow at the bottom of the pipe, and the walls of the pipe are smooth with no visible signs of damage or blockages. The image is taken from a distance, and the focus is not on any specific area of the pipe.\",\n",
      "\n",
      "  \"CODE\": \"NoDefect\"\n",
      "\n",
      "}\n",
      "Image ID: 00360434.png | Predicted: NoDefect | Ground Truth: NoDefect\n",
      "\n"
     ]
    },
    {
     "name": "stderr",
     "output_type": "stream",
     "text": [
      "Processing images:  34%|███▍      | 68/200 [04:48<10:06,  4.60s/it]"
     ]
    },
    {
     "name": "stdout",
     "output_type": "stream",
     "text": [
      "{\n",
      "\n",
      "  \"DESCRIPTION\": \"The image shows a sewer pipe with a smooth, unbroken surface and no visible signs of damage or blockages. The lighting conditions are even, and the pipe appears to be in good condition with no cracks, breaks, or collapses. There is no evidence of roots or surface damage, and no deformations are apparent. The pipe's interior is clear, and the walls are consistent in thickness.\",\n",
      "\n",
      "  \"CODE\": \"NoDefect\"\n",
      "\n",
      "}\n",
      "Image ID: 00617232.png | Predicted: NoDefect | Ground Truth: NoDefect\n",
      "\n"
     ]
    },
    {
     "name": "stderr",
     "output_type": "stream",
     "text": [
      "Processing images:  34%|███▍      | 69/200 [04:52<09:44,  4.47s/it]"
     ]
    },
    {
     "name": "stdout",
     "output_type": "stream",
     "text": [
      "{\n",
      "  \"DESCRIPTION\": \"The image shows a section of a sewer pipe with a clear view of the interior. The pipe appears to be made of concrete and is partially filled with water. There is a visible pipe joint with a white sealant. The surrounding area is covered with gravel and there are no obvious signs of roots or significant surface damage. The lighting conditions are natural, suggesting the image was taken during the day.\",\n",
      "  \"CODE\": \"NoDefect\"\n",
      "}\n",
      "Image ID: 00402904.png | Predicted: NoDefect | Ground Truth: OB\n",
      "\n"
     ]
    },
    {
     "name": "stderr",
     "output_type": "stream",
     "text": [
      "Processing images:  35%|███▌      | 70/200 [04:57<09:33,  4.41s/it]"
     ]
    },
    {
     "name": "stdout",
     "output_type": "stream",
     "text": [
      "{\n",
      "  \"DESCRIPTION\": \"The image shows a section of a sewer pipe with a gradient of light to dark, possibly indicating a transition from a well-lit area to a darker one. The pipe appears to be made of a solid material, likely concrete, with no visible signs of damage or blockages. The image is not clear enough to identify any specific defects or the presence of roots.\",\n",
      "  \"CODE\": \"NoDefect\"\n",
      "}\n",
      "Image ID: 01028450.png | Predicted: NoDefect | Ground Truth: DE\n",
      "\n"
     ]
    },
    {
     "name": "stderr",
     "output_type": "stream",
     "text": [
      "Processing images:  36%|███▌      | 71/200 [05:00<09:04,  4.22s/it]"
     ]
    },
    {
     "name": "stdout",
     "output_type": "stream",
     "text": [
      "{\n",
      "\n",
      "  \"DESCRIPTION\": \"The image shows a sewer pipe with a smooth, unbroken surface and no visible signs of damage or blockages. The lighting conditions are dim, and the pipe appears to be made of a reflective material, possibly PVC. There are no cracks, breaks, or collapses visible in the image.\",\n",
      "\n",
      "  \"CODE\": \"NoDefect\"\n",
      "\n",
      "}\n",
      "Image ID: 00860498.png | Predicted: NoDefect | Ground Truth: NoDefect\n",
      "\n"
     ]
    },
    {
     "name": "stderr",
     "output_type": "stream",
     "text": [
      "Processing images:  36%|███▌      | 72/200 [05:05<09:09,  4.29s/it]"
     ]
    },
    {
     "name": "stdout",
     "output_type": "stream",
     "text": [
      "{\n",
      "\n",
      "  \"DESCRIPTION\": \"The image shows a sewer pipe with a smooth, unbroken surface and no visible signs of damage or blockages. The lighting conditions are even, and the pipe appears to be in good condition with no cracks, breaks, or collapses. There is no evidence of roots or surface damage, and the pipe's interior is clear of any obstructions.\",\n",
      "\n",
      "  \"CODE\": \"NoDefect\"\n",
      "\n",
      "}\n",
      "Image ID: 00938594.png | Predicted: NoDefect | Ground Truth: NoDefect\n",
      "\n"
     ]
    },
    {
     "name": "stderr",
     "output_type": "stream",
     "text": [
      "Processing images:  36%|███▋      | 73/200 [05:09<08:48,  4.16s/it]"
     ]
    },
    {
     "name": "stdout",
     "output_type": "stream",
     "text": [
      "{\n",
      "\n",
      "  \"DESCRIPTION\": \"The image shows a section of a sewer pipe with a central circular opening, possibly for inspection or cleaning purposes. The pipe appears to be made of a dark material, likely PVC, and is set against a yellow background. There are no visible signs of damage, blockages, or roots in the visible section of the pipe.\",\n",
      "\n",
      "  \"CODE\": \"NoDefect\"\n",
      "\n",
      "}\n",
      "Image ID: 00260898.png | Predicted: NoDefect | Ground Truth: NoDefect\n",
      "\n"
     ]
    },
    {
     "name": "stderr",
     "output_type": "stream",
     "text": [
      "Processing images:  37%|███▋      | 74/200 [05:14<09:09,  4.36s/it]"
     ]
    },
    {
     "name": "stdout",
     "output_type": "stream",
     "text": [
      "{\n",
      "\n",
      "  \"DESCRIPTION\": \"The image shows a sewer pipe with a gradient of colors from dark at the bottom to light at the top, indicating a possible depth or lighting effect. The pipe appears to be intact with no visible signs of cracks, breaks, or collapses. There is no evidence of surface damage, production errors, deformations, or root intrusion. The image is clear and the lighting conditions are consistent, suggesting a well-maintained sewer system.\",\n",
      "\n",
      "  \"CODE\": \"NoDefect\"\n",
      "\n",
      "}\n",
      "Image ID: 00457210.png | Predicted: NoDefect | Ground Truth: NoDefect\n",
      "\n"
     ]
    },
    {
     "name": "stderr",
     "output_type": "stream",
     "text": [
      "Processing images:  38%|███▊      | 75/200 [05:17<08:47,  4.22s/it]"
     ]
    },
    {
     "name": "stdout",
     "output_type": "stream",
     "text": [
      "{\n",
      "  \"DESCRIPTION\": \"The image shows a section of a sewer pipe with a rough, uneven surface and visible signs of wear. The lighting conditions are dim, and the pipe appears to be made of concrete. There are no visible signs of blockages or roots, but the surface shows some pitting and scaling. The pipe has a slight deformation, with a noticeable bend.\",\n",
      "  \"CODE\": \"OB\"\n",
      "}\n",
      "Image ID: 00425339.png | Predicted: OB | Ground Truth: PF\n",
      "\n"
     ]
    },
    {
     "name": "stderr",
     "output_type": "stream",
     "text": [
      "Processing images:  38%|███▊      | 76/200 [05:23<09:41,  4.69s/it]"
     ]
    },
    {
     "name": "stdout",
     "output_type": "stream",
     "text": [
      "{\n",
      "  \"DESCRIPTION\": \"The image shows a sewer pipe with a clear view of the interior. The pipe appears to be made of concrete and is filled with water. The lighting conditions are dim, and the image is slightly blurred, making it difficult to discern finer details. There are no visible signs of damage, cracks, or collapses in the visible section of the pipe. The surface of the pipe looks intact without any noticeable wear or erosion. There are no roots or other obstructions visible in the water. The pipe seems to be in good condition with no production errors or deformations apparent.\",\n",
      "  \"CODE\": \"NoDefect\"\n",
      "}\n",
      "Image ID: 00481322.png | Predicted: NoDefect | Ground Truth: NoDefect\n",
      "\n"
     ]
    },
    {
     "name": "stderr",
     "output_type": "stream",
     "text": [
      "Processing images:  38%|███▊      | 77/200 [05:27<08:56,  4.36s/it]"
     ]
    },
    {
     "name": "stdout",
     "output_type": "stream",
     "text": [
      "{\n",
      "\n",
      "  \"DESCRIPTION\": \"The image shows a section of a sewer pipe with a visible crack running vertically along its length. The pipe appears to be made of concrete and is situated in a dark environment, possibly underground. There is no visible water flow, and the surrounding area is not clearly visible.\",\n",
      "\n",
      "  \"CODE\": \"RB\"\n",
      "\n",
      "}\n",
      "Image ID: 00836585.png | Predicted: RB | Ground Truth: DE\n",
      "\n"
     ]
    },
    {
     "name": "stderr",
     "output_type": "stream",
     "text": [
      "Processing images:  39%|███▉      | 78/200 [05:31<08:38,  4.25s/it]"
     ]
    },
    {
     "name": "stdout",
     "output_type": "stream",
     "text": [
      "{\n",
      "\n",
      "  \"DESCRIPTION\": \"The image shows a section of a sewer pipe with a visible defect. The pipe appears to be made of concrete and is partially buried in the ground. There is a noticeable dark area in the center of the pipe which could be a blockage or a void. The surrounding area is not clearly visible due to the angle and lighting conditions.\",\n",
      "\n",
      "  \"CODE\": \"RB\"\n",
      "\n",
      "}\n",
      "Image ID: 00803164.png | Predicted: RB | Ground Truth: NoDefect\n",
      "\n"
     ]
    },
    {
     "name": "stderr",
     "output_type": "stream",
     "text": [
      "Processing images:  40%|███▉      | 79/200 [05:35<08:20,  4.14s/it]"
     ]
    },
    {
     "name": "stdout",
     "output_type": "stream",
     "text": [
      "{\n",
      "  \"DESCRIPTION\": \"The image shows a dark, narrow sewer pipe with a rough interior surface. There is visible lighting at the top, suggesting the presence of a light source above. The pipe appears to be made of a dark material, possibly concrete or PVC, and there is no visible water flow. The image is blurry, making it difficult to discern finer details.\",\n",
      "  \"CODE\": \"NoDefect\"\n",
      "}\n",
      "Image ID: 00959031.png | Predicted: NoDefect | Ground Truth: NoDefect\n",
      "\n"
     ]
    },
    {
     "name": "stderr",
     "output_type": "stream",
     "text": [
      "Processing images:  40%|████      | 80/200 [05:39<08:06,  4.05s/it]"
     ]
    },
    {
     "name": "stdout",
     "output_type": "stream",
     "text": [
      "{\n",
      "\n",
      "  \"DESCRIPTION\": \"The image shows a section of a sewer pipe with a visible crack running vertically down the center. The pipe appears to be made of concrete and is in a state of disrepair. There is no visible water flow, and the surrounding area is not clearly visible due to the narrowness of the pipe.\",\n",
      "\n",
      "  \"CODE\": \"RB\"\n",
      "\n",
      "}\n",
      "Image ID: 00836815.png | Predicted: RB | Ground Truth: PF\n",
      "\n"
     ]
    },
    {
     "name": "stderr",
     "output_type": "stream",
     "text": [
      "Processing images:  40%|████      | 81/200 [05:44<08:34,  4.32s/it]"
     ]
    },
    {
     "name": "stdout",
     "output_type": "stream",
     "text": [
      "{\n",
      "\n",
      "  \"DESCRIPTION\": \"The image shows a section of a sewer pipe with a dark, smooth interior. The pipe appears to be made of concrete and is surrounded by a rough, textured surface that could be the ground or a protective layer. There are no visible signs of water within the pipe, and the lighting conditions are dim, suggesting the image may have been taken in a low-light environment. The edges of the pipe are not clearly visible, and there are no obvious signs of damage or blockages.\",\n",
      "\n",
      "  \"CODE\": \"NoDefect\"\n",
      "\n",
      "}\n",
      "Image ID: 01121214.png | Predicted: NoDefect | Ground Truth: RO\n",
      "\n"
     ]
    },
    {
     "name": "stderr",
     "output_type": "stream",
     "text": [
      "Processing images:  41%|████      | 82/200 [05:47<08:09,  4.15s/it]"
     ]
    },
    {
     "name": "stdout",
     "output_type": "stream",
     "text": [
      "{\n",
      "\n",
      "  \"DESCRIPTION\": \"The image shows a section of a sewer pipe with a dark, shadowy area suggesting a potential obstruction or damage. The surrounding area is not clearly visible due to the darkness and lack of lighting. The pipe appears to be made of a dark material, possibly concrete or PVC, and there is no visible water flow.\",\n",
      "\n",
      "  \"CODE\": \"NoDefect\"\n",
      "\n",
      "}\n",
      "Image ID: 00307807.png | Predicted: NoDefect | Ground Truth: OB\n",
      "\n"
     ]
    },
    {
     "name": "stderr",
     "output_type": "stream",
     "text": [
      "Processing images:  42%|████▏     | 83/200 [05:52<08:15,  4.23s/it]"
     ]
    },
    {
     "name": "stdout",
     "output_type": "stream",
     "text": [
      "{\n",
      "\n",
      "  \"DESCRIPTION\": \"The image shows a close-up view of a sewer pipe with a metal rod inserted into it. The pipe appears to be metallic, possibly steel, and has a rough, corroded surface with visible signs of wear and tear. There are no clear indications of roots or significant blockages. The lighting is dim, and the image is somewhat blurry, making it difficult to discern finer details.\",\n",
      "\n",
      "  \"CODE\": \"OB\"\n",
      "\n",
      "}\n",
      "Image ID: 00134089.png | Predicted: OB | Ground Truth: NoDefect\n",
      "\n"
     ]
    },
    {
     "name": "stderr",
     "output_type": "stream",
     "text": [
      "Processing images:  42%|████▏     | 84/200 [05:56<08:29,  4.39s/it]"
     ]
    },
    {
     "name": "stdout",
     "output_type": "stream",
     "text": [
      "{\n",
      "\n",
      "  \"DESCRIPTION\": \"The image shows a sewer pipe with a dark, narrow passage leading into the distance. The pipe appears to be made of concrete and is surrounded by a yellow safety line. The lighting is dim, and the image is slightly blurred, making it difficult to discern finer details. There is no visible water flow within the pipe, and the surface of the pipe shows signs of wear and erosion. No roots or other obstructions are visible in the image.\",\n",
      "\n",
      "  \"CODE\": \"OB\"\n",
      "\n",
      "}\n",
      "Image ID: 01279553.png | Predicted: OB | Ground Truth: OB\n",
      "\n"
     ]
    },
    {
     "name": "stderr",
     "output_type": "stream",
     "text": [
      "Processing images:  42%|████▎     | 85/200 [06:00<07:49,  4.09s/it]"
     ]
    },
    {
     "name": "stdout",
     "output_type": "stream",
     "text": [
      "{\n",
      "  \"DESCRIPTION\": \"The image shows a sewer pipe with a dark, opaque interior suggesting the presence of water. The surface of the pipe appears to be rough and uneven, with visible signs of wear and potential damage. There are no clear indications of roots or other obstructions within the visible section of the pipe.\",\n",
      "  \"CODE\": \"OB\"\n",
      "}\n",
      "Image ID: 00213396.png | Predicted: OB | Ground Truth: NoDefect\n",
      "\n"
     ]
    },
    {
     "name": "stderr",
     "output_type": "stream",
     "text": [
      "Processing images:  43%|████▎     | 86/200 [06:03<07:10,  3.78s/it]"
     ]
    },
    {
     "name": "stdout",
     "output_type": "stream",
     "text": [
      "{\n",
      "  \"DESCRIPTION\": \"The image shows a section of a sewer pipe with a rough, uneven surface and visible signs of wear and tear. There are no clear indications of water flow within the pipe, and the lighting conditions are dim, making it difficult to assess the overall condition of the pipe.\",\n",
      "  \"CODE\": \"OB\"\n",
      "}\n",
      "Image ID: 00242368.png | Predicted: OB | Ground Truth: RB\n",
      "\n"
     ]
    },
    {
     "name": "stderr",
     "output_type": "stream",
     "text": [
      "Processing images:  44%|████▎     | 87/200 [06:07<07:24,  3.93s/it]"
     ]
    },
    {
     "name": "stdout",
     "output_type": "stream",
     "text": [
      "{\n",
      "\n",
      "  \"DESCRIPTION\": \"The image shows a sewer pipe with a clear view of its interior. The pipe appears to be made of concrete and is partially filled with water. There are visible signs of wear and erosion on the pipe's surface, indicating surface damage. No cracks, breaks, collapses, or roots are immediately apparent. The lighting conditions are bright, and the image is clear enough to identify the defects.\",\n",
      "\n",
      "  \"CODE\": \"OB\"\n",
      "\n",
      "}\n",
      "Image ID: 00814913.png | Predicted: OB | Ground Truth: NoDefect\n",
      "\n"
     ]
    },
    {
     "name": "stderr",
     "output_type": "stream",
     "text": [
      "Processing images:  44%|████▍     | 88/200 [06:11<07:16,  3.90s/it]"
     ]
    },
    {
     "name": "stdout",
     "output_type": "stream",
     "text": [
      "{\n",
      "\n",
      "  \"DESCRIPTION\": \"The image shows a section of a sewer pipe with a visible defect. The pipe appears to be made of concrete and is partially submerged in water. There is a noticeable crack running vertically along the pipe, indicating a potential break or collapse. The surrounding area is not clear, but the focus is on the pipe itself.\",\n",
      "\n",
      "  \"CODE\": \"RB\"\n",
      "\n",
      "}\n",
      "Image ID: 01157853.png | Predicted: RB | Ground Truth: RB\n",
      "\n"
     ]
    },
    {
     "name": "stderr",
     "output_type": "stream",
     "text": [
      "Processing images:  44%|████▍     | 89/200 [06:15<07:01,  3.80s/it]"
     ]
    },
    {
     "name": "stdout",
     "output_type": "stream",
     "text": [
      "{\n",
      "\n",
      "  \"DESCRIPTION\": \"The image shows a sewer pipe with a smooth, unbroken surface and no visible signs of damage or blockages. The lighting conditions are dim, and the pipe appears to be made of concrete. There are no cracks, breaks, collapses, or roots visible in the image.\",\n",
      "\n",
      "  \"CODE\": \"NoDefect\"\n",
      "\n",
      "}\n",
      "Image ID: 00758263.png | Predicted: NoDefect | Ground Truth: DE\n",
      "\n"
     ]
    },
    {
     "name": "stderr",
     "output_type": "stream",
     "text": [
      "Processing images:  45%|████▌     | 90/200 [06:19<07:33,  4.13s/it]"
     ]
    },
    {
     "name": "stdout",
     "output_type": "stream",
     "text": [
      "{\n",
      "\n",
      "  \"DESCRIPTION\": \"The image shows a sewer pipe with a glittery, reflective surface, likely indicating a metallic material such as PVC or metal. The lighting conditions are bright, and the pipe appears to be in a well-lit environment. There are no visible signs of water flow, and the pipe seems to be in a straight section without any visible defects or obstructions. The surface of the pipe is smooth and unblemished, suggesting no immediate signs of damage or wear.\",\n",
      "\n",
      "  \"CODE\": \"NoDefect\"\n",
      "\n",
      "}\n",
      "Image ID: 01116344.png | Predicted: NoDefect | Ground Truth: OB\n",
      "\n"
     ]
    },
    {
     "name": "stderr",
     "output_type": "stream",
     "text": [
      "Processing images:  46%|████▌     | 91/200 [06:24<07:46,  4.28s/it]"
     ]
    },
    {
     "name": "stdout",
     "output_type": "stream",
     "text": [
      "{\n",
      "  \"DESCRIPTION\": \"The image shows a sewer pipe with a smooth, unbroken surface and no visible signs of damage or blockages. The pipe appears to be in good condition with no cracks, breaks, or collapses. There is no evidence of roots, surface damage, production errors, or deformations. The lighting conditions are consistent, and the image clarity is high, allowing for a detailed view of the pipe's interior.\",\n",
      "  \"CODE\": \"NoDefect\"\n",
      "}\n",
      "Image ID: 00990063.png | Predicted: NoDefect | Ground Truth: PF\n",
      "\n"
     ]
    },
    {
     "name": "stderr",
     "output_type": "stream",
     "text": [
      "Processing images:  46%|████▌     | 92/200 [06:29<07:59,  4.44s/it]"
     ]
    },
    {
     "name": "stdout",
     "output_type": "stream",
     "text": [
      "{\n",
      "\n",
      "  \"DESCRIPTION\": \"The image shows a sewer pipe with a dark, narrow passage leading into the distance. The lighting is dim, and the surface appears to be wet, suggesting the presence of water. The pipe's material is not clearly visible, but it seems to be a solid structure without any visible signs of damage or blockages. There are no obvious defects such as cracks, roots, or deformations visible in the image.\",\n",
      "\n",
      "  \"CODE\": \"NoDefect\"\n",
      "\n",
      "}\n",
      "Image ID: 00426911.png | Predicted: NoDefect | Ground Truth: NoDefect\n",
      "\n"
     ]
    },
    {
     "name": "stderr",
     "output_type": "stream",
     "text": [
      "Processing images:  46%|████▋     | 93/200 [06:33<07:44,  4.34s/it]"
     ]
    },
    {
     "name": "stdout",
     "output_type": "stream",
     "text": [
      "{\n",
      "\n",
      "  \"DESCRIPTION\": \"The image shows a sewer pipe with a smooth, unbroken surface and no visible signs of damage or blockages. The lighting conditions are even, and the pipe appears to be in good condition with no cracks, breaks, or collapses. There is no evidence of roots or surface damage, and the pipe's interior is clear of any obstructions.\",\n",
      "\n",
      "  \"CODE\": \"NoDefect\"\n",
      "\n",
      "}\n",
      "Image ID: 00177468.png | Predicted: NoDefect | Ground Truth: DE\n",
      "\n"
     ]
    },
    {
     "name": "stderr",
     "output_type": "stream",
     "text": [
      "Processing images:  47%|████▋     | 94/200 [06:38<07:47,  4.41s/it]"
     ]
    },
    {
     "name": "stdout",
     "output_type": "stream",
     "text": [
      "{\n",
      "\n",
      "  \"DESCRIPTION\": \"The image shows a section of a sewer pipe with a clear view of the interior. The lighting conditions are bright, possibly due to sunlight reflecting off the pipe's surface. The pipe appears to be made of a dark material, likely concrete, and there is visible water flow within the pipe. There are no obvious signs of roots or significant surface damage, but the image is not clear enough to confirm the absence of such defects.\",\n",
      "\n",
      "  \"CODE\": \"NoDefect\"\n",
      "\n",
      "}\n",
      "Image ID: 00904376.png | Predicted: NoDefect | Ground Truth: RO\n",
      "\n"
     ]
    },
    {
     "name": "stderr",
     "output_type": "stream",
     "text": [
      "Processing images:  48%|████▊     | 95/200 [06:41<07:22,  4.22s/it]"
     ]
    },
    {
     "name": "stdout",
     "output_type": "stream",
     "text": [
      "{\n",
      "  \"DESCRIPTION\": \"The image shows a section of a sewer pipe with a visible pipe joint. The pipe appears to be made of concrete and is partially submerged in water. There are no visible signs of cracks, breaks, or collapses, and no roots are apparent. The surface of the pipe shows some minor scratches and pitting, indicating some surface damage.\",\n",
      "  \"CODE\": \"OB\"\n",
      "}\n",
      "Image ID: 00561167.png | Predicted: OB | Ground Truth: NoDefect\n",
      "\n"
     ]
    },
    {
     "name": "stderr",
     "output_type": "stream",
     "text": [
      "Processing images:  48%|████▊     | 96/200 [06:45<07:14,  4.18s/it]"
     ]
    },
    {
     "name": "stdout",
     "output_type": "stream",
     "text": [
      "{\n",
      "\n",
      "  \"DESCRIPTION\": \"The image shows a sewer pipe with a dark interior, possibly indicating the presence of water. The surface of the pipe appears to be dirty and there are visible signs of wear or damage. There are no clear indications of roots or other obstructions. The lighting conditions are dim, and the image is not very clear, making it difficult to assess the condition of the pipe in detail.\",\n",
      "\n",
      "  \"CODE\": \"OB\"\n",
      "\n",
      "}\n",
      "Image ID: 00088775.png | Predicted: OB | Ground Truth: NoDefect\n",
      "\n"
     ]
    },
    {
     "name": "stderr",
     "output_type": "stream",
     "text": [
      "Processing images:  48%|████▊     | 97/200 [06:50<07:16,  4.23s/it]"
     ]
    },
    {
     "name": "stdout",
     "output_type": "stream",
     "text": [
      "{\n",
      "\n",
      "  \"DESCRIPTION\": \"The image shows a section of a sewer pipe with a rough, uneven surface. There are visible signs of wear and erosion, with some areas appearing darker, possibly indicating deeper damage or debris accumulation. The lighting conditions are dim, and the pipe appears to be made of concrete. There are no clear signs of roots or other obstructions visible in the image.\",\n",
      "\n",
      "  \"CODE\": \"OB\"\n",
      "\n",
      "}\n",
      "Image ID: 00415061.png | Predicted: OB | Ground Truth: RO\n",
      "\n"
     ]
    },
    {
     "name": "stderr",
     "output_type": "stream",
     "text": [
      "Processing images:  49%|████▉     | 98/200 [06:55<07:52,  4.63s/it]"
     ]
    },
    {
     "name": "stdout",
     "output_type": "stream",
     "text": [
      "{\n",
      "\n",
      "  \"DESCRIPTION\": \"The image shows a close-up view of a sewer pipe with a dark, circular opening at the end. The pipe's interior is visible with a glossy surface, and there are small particles or debris scattered throughout. The lighting appears to be artificial, and the pipe seems to be made of a dark material, possibly PVC or a similar plastic. There are no visible signs of roots, and the pipe does not show any obvious cracks, breaks, or collapses. The surface appears to be in good condition without significant damage or deformations.\",\n",
      "\n",
      "  \"CODE\": \"NoDefect\"\n",
      "\n",
      "}\n",
      "Image ID: 00175871.png | Predicted: NoDefect | Ground Truth: NoDefect\n",
      "\n"
     ]
    },
    {
     "name": "stderr",
     "output_type": "stream",
     "text": [
      "Processing images:  50%|████▉     | 99/200 [07:00<07:52,  4.67s/it]"
     ]
    },
    {
     "name": "stdout",
     "output_type": "stream",
     "text": [
      "{\n",
      "\n",
      "  \"DESCRIPTION\": \"The image shows a section of a sewer pipe with a darkened area indicating a possible blockage or obstruction. The pipe appears to be made of concrete and is in a vertical orientation. There are no visible signs of cracks, breaks, or collapses, and the surface does not show any significant damage or deformations. The lighting conditions are dim, and the image is not very clear, making it difficult to assess the pipe's condition in detail.\",\n",
      "\n",
      "  \"CODE\": \"NoDefect\"\n",
      "\n",
      "}\n",
      "Image ID: 00292339.png | Predicted: NoDefect | Ground Truth: PF\n",
      "\n"
     ]
    },
    {
     "name": "stderr",
     "output_type": "stream",
     "text": [
      "Processing images:  50%|█████     | 100/200 [07:04<07:20,  4.40s/it]"
     ]
    },
    {
     "name": "stdout",
     "output_type": "stream",
     "text": [
      "{\n",
      "  \"DESCRIPTION\": \"The image shows a section of a sewer pipe with a rough, textured surface. The lighting conditions are dim, and the pipe appears to be made of concrete. There is visible debris and a small amount of water within the pipe. A clock is drawn on the image, but it is not related to the sewer pipe's condition.\",\n",
      "  \"CODE\": \"NoDefect\"\n",
      "}\n",
      "Image ID: 00583802.png | Predicted: NoDefect | Ground Truth: RO\n",
      "\n"
     ]
    },
    {
     "name": "stderr",
     "output_type": "stream",
     "text": [
      "Processing images:  50%|█████     | 101/200 [07:08<07:08,  4.33s/it]"
     ]
    },
    {
     "name": "stdout",
     "output_type": "stream",
     "text": [
      "{\n",
      "\n",
      "  \"DESCRIPTION\": \"The image shows a sewer pipe with a smooth, unbroken surface and no visible signs of damage or blockages. The lighting conditions are bright, and the pipe appears to be in good condition with no cracks, breaks, or collapses. There are no roots visible in the pipe, and the pipe's interior surface does not show any signs of wear or damage.\",\n",
      "\n",
      "  \"CODE\": \"NoDefect\"\n",
      "\n",
      "}\n",
      "Image ID: 00511913.png | Predicted: NoDefect | Ground Truth: NoDefect\n",
      "\n"
     ]
    },
    {
     "name": "stderr",
     "output_type": "stream",
     "text": [
      "Processing images:  51%|█████     | 102/200 [07:12<06:49,  4.18s/it]"
     ]
    },
    {
     "name": "stdout",
     "output_type": "stream",
     "text": [
      "{\n",
      "\n",
      "  \"DESCRIPTION\": \"The image shows a section of a sewer pipe with a rough, uneven surface and visible signs of wear and tear. There are no clear indications of cracks, breaks, or collapses, and no roots are visible. The lighting conditions are dim, making it difficult to assess the pipe's condition accurately.\",\n",
      "\n",
      "  \"CODE\": \"NoDefect\"\n",
      "\n",
      "}\n",
      "Image ID: 00234428.png | Predicted: NoDefect | Ground Truth: RB\n",
      "\n"
     ]
    },
    {
     "name": "stderr",
     "output_type": "stream",
     "text": [
      "Processing images:  52%|█████▏    | 103/200 [07:16<06:45,  4.18s/it]"
     ]
    },
    {
     "name": "stdout",
     "output_type": "stream",
     "text": [
      "{\n",
      "\n",
      "  \"DESCRIPTION\": \"The image shows a section of a sewer pipe with a rough, uneven surface. There are visible signs of wear and erosion on the interior walls, and the pipe appears to be made of concrete. The lighting is dim, and there is no visible water flow within the pipe. A green circle highlights a specific area of interest, possibly indicating a defect or a point of concern.\",\n",
      "\n",
      "  \"CODE\": \"OB\"\n",
      "\n",
      "}\n",
      "Image ID: 01003241.png | Predicted: OB | Ground Truth: RO\n",
      "\n"
     ]
    },
    {
     "name": "stderr",
     "output_type": "stream",
     "text": [
      "Processing images:  52%|█████▏    | 104/200 [07:20<06:39,  4.17s/it]"
     ]
    },
    {
     "name": "stdout",
     "output_type": "stream",
     "text": [
      "{\n",
      "\n",
      "  \"DESCRIPTION\": \"The image shows a sewer pipe with a smooth, unbroken surface and no visible signs of damage or blockages. The lighting conditions are bright, and the pipe appears to be in good condition with no cracks, breaks, or collapses. There is no evidence of roots or surface damage, and the pipe's interior is clear of any obstructions.\",\n",
      "\n",
      "  \"CODE\": \"NoDefect\"\n",
      "\n",
      "}\n",
      "Image ID: 00478094.png | Predicted: NoDefect | Ground Truth: NoDefect\n",
      "\n"
     ]
    },
    {
     "name": "stderr",
     "output_type": "stream",
     "text": [
      "Processing images:  52%|█████▎    | 105/200 [07:24<06:35,  4.16s/it]"
     ]
    },
    {
     "name": "stdout",
     "output_type": "stream",
     "text": [
      "{\n",
      "  \"DESCRIPTION\": \"The image shows a dark, narrow sewer pipe with a central circular opening. The pipe appears to be made of a dark material, possibly PVC, and is surrounded by a reflective surface, likely water. There are no visible signs of damage, blockages, or roots. The lighting conditions are dim, and the image is slightly blurred, making it difficult to discern finer details.\",\n",
      "  \"CODE\": \"NoDefect\"\n",
      "}\n",
      "Image ID: 01195696.png | Predicted: NoDefect | Ground Truth: NoDefect\n",
      "\n"
     ]
    },
    {
     "name": "stderr",
     "output_type": "stream",
     "text": [
      "Processing images:  53%|█████▎    | 106/200 [07:28<06:15,  3.99s/it]"
     ]
    },
    {
     "name": "stdout",
     "output_type": "stream",
     "text": [
      "{\n",
      "\n",
      "  \"DESCRIPTION\": \"The image shows a sewer pipe with a gradient of orange to darker tones, possibly indicating a light source from the top left corner. The pipe appears to be in a straight path with no visible signs of damage or blockages. The surface looks smooth and unbroken, suggesting no immediate defects.\",\n",
      "\n",
      "  \"CODE\": \"NoDefect\"\n",
      "\n",
      "}\n",
      "Image ID: 01203448.png | Predicted: NoDefect | Ground Truth: NoDefect\n",
      "\n"
     ]
    },
    {
     "name": "stderr",
     "output_type": "stream",
     "text": [
      "Processing images:  54%|█████▎    | 107/200 [07:32<06:23,  4.12s/it]"
     ]
    },
    {
     "name": "stdout",
     "output_type": "stream",
     "text": [
      "{\n",
      "\n",
      "  \"DESCRIPTION\": \"The image shows a sewer pipe with a dark interior, likely due to the presence of water. The pipe appears to be made of concrete and has a smooth surface with no visible signs of cracks, breaks, or collapses. There are no roots or significant surface damage visible. The lighting conditions are dim, and the image is slightly blurred, possibly due to the camera's movement or the environment.\",\n",
      "\n",
      "  \"CODE\": \"NoDefect\"\n",
      "\n",
      "}\n",
      "Image ID: 00828234.png | Predicted: NoDefect | Ground Truth: DE\n",
      "\n"
     ]
    },
    {
     "name": "stderr",
     "output_type": "stream",
     "text": [
      "Processing images:  54%|█████▍    | 108/200 [07:36<06:10,  4.02s/it]"
     ]
    },
    {
     "name": "stdout",
     "output_type": "stream",
     "text": [
      "{\n",
      "  \"DESCRIPTION\": \"The image shows a blurry view of a sewer pipe with poor lighting conditions, making it difficult to discern details. The pipe appears to be made of a dark material, possibly PVC, and there is no visible water flow. The image is not clear enough to identify any specific defects or classify the pipe's condition accurately.\",\n",
      "  \"CODE\": \"NoDefect\"\n",
      "}\n",
      "Image ID: 01084051.png | Predicted: NoDefect | Ground Truth: NoDefect\n",
      "\n"
     ]
    },
    {
     "name": "stderr",
     "output_type": "stream",
     "text": [
      "Processing images:  55%|█████▍    | 109/200 [07:42<06:44,  4.45s/it]"
     ]
    },
    {
     "name": "stdout",
     "output_type": "stream",
     "text": [
      "{\n",
      "\n",
      "  \"DESCRIPTION\": \"The image shows a sewer pipe with a yellowish hue, possibly due to lighting conditions. The pipe appears to be made of concrete and is in a straight section with no visible signs of damage or blockages. The lighting is uneven, with a brighter area at the top and a darker area at the bottom, suggesting a light source from above. There are no visible cracks, breaks, or collapses, and no roots are apparent in the image. The pipe's surface shows some minor scratches and pitting, indicating some surface damage.\",\n",
      "\n",
      "  \"CODE\": \"OB\"\n",
      "\n",
      "}\n",
      "Image ID: 01032510.png | Predicted: OB | Ground Truth: NoDefect\n",
      "\n"
     ]
    },
    {
     "name": "stderr",
     "output_type": "stream",
     "text": [
      "Processing images:  55%|█████▌    | 110/200 [07:46<06:33,  4.38s/it]"
     ]
    },
    {
     "name": "stdout",
     "output_type": "stream",
     "text": [
      "{\n",
      "  \"DESCRIPTION\": \"The image shows a view from inside a sewer pipe, with a focus on the central pathway. The lighting is dim, and the pipe appears to be made of concrete. There are no visible signs of water, and the surface of the pipe looks smooth without any obvious defects. The walls of the pipe are not clearly visible, and there are no roots or other obstructions visible in the central pathway.\",\n",
      "  \"CODE\": \"NoDefect\"\n",
      "}\n",
      "Image ID: 00739180.png | Predicted: NoDefect | Ground Truth: NoDefect\n",
      "\n"
     ]
    },
    {
     "name": "stderr",
     "output_type": "stream",
     "text": [
      "Processing images:  56%|█████▌    | 111/200 [07:50<06:33,  4.43s/it]"
     ]
    },
    {
     "name": "stdout",
     "output_type": "stream",
     "text": [
      "{\n",
      "\n",
      "  \"DESCRIPTION\": \"The image shows a sewer pipe with a clear view of the interior. The pipe appears to be made of concrete and is partially filled with water. There are visible signs of wear and erosion on the surface, indicating surface damage. No cracks, breaks, collapses, or roots are immediately apparent. The lighting conditions are dim, and the image is slightly blurred, making it difficult to assess the full extent of the damage.\",\n",
      "\n",
      "  \"CODE\": \"OB\"\n",
      "\n",
      "}\n",
      "Image ID: 00276076.png | Predicted: OB | Ground Truth: NoDefect\n",
      "\n"
     ]
    },
    {
     "name": "stderr",
     "output_type": "stream",
     "text": [
      "Processing images:  56%|█████▌    | 112/200 [07:54<06:03,  4.13s/it]"
     ]
    },
    {
     "name": "stdout",
     "output_type": "stream",
     "text": [
      "{\n",
      "\n",
      "  \"DESCRIPTION\": \"The image shows a sewer pipe with a smooth, unbroken surface and no visible signs of damage or blockages. The lighting conditions are dim, and the pipe appears to be made of concrete. There are no roots or other obstructions visible in the image.\",\n",
      "\n",
      "  \"CODE\": \"NoDefect\"\n",
      "\n",
      "}\n",
      "Image ID: 00173582.png | Predicted: NoDefect | Ground Truth: NoDefect\n",
      "\n"
     ]
    },
    {
     "name": "stderr",
     "output_type": "stream",
     "text": [
      "Processing images:  56%|█████▋    | 113/200 [08:00<06:44,  4.65s/it]"
     ]
    },
    {
     "name": "stdout",
     "output_type": "stream",
     "text": [
      "{\n",
      "\n",
      "  \"DESCRIPTION\": \"The image shows a close-up view of a sewer pipe with a focus on the interior surface. The pipe appears to be made of a dark material, possibly PVC, and is partially filled with water. The surface of the pipe has a textured appearance with concentric circular patterns, which could be indicative of the pipe's age or the material's characteristics. There are no visible signs of cracks, breaks, or collapses, and no roots are apparent. The lighting conditions are such that the interior of the pipe is well-illuminated, allowing for clear visibility of the pipe's surface.\",\n",
      "\n",
      "  \"CODE\": \"NoDefect\"\n",
      "\n",
      "}\n",
      "Image ID: 00690716.png | Predicted: NoDefect | Ground Truth: NoDefect\n",
      "\n"
     ]
    },
    {
     "name": "stderr",
     "output_type": "stream",
     "text": [
      "Processing images:  57%|█████▋    | 114/200 [08:03<06:10,  4.31s/it]"
     ]
    },
    {
     "name": "stdout",
     "output_type": "stream",
     "text": [
      "{\n",
      "\n",
      "  \"DESCRIPTION\": \"The image shows a blurry view of a sewer pipe with a green circle highlighting a specific area. The pipe appears to be in a state of disrepair with visible signs of damage. There are no clear indications of the pipe's material or the presence of water.\",\n",
      "\n",
      "  \"CODE\": \"RB\"\n",
      "\n",
      "}\n",
      "Image ID: 01124051.png | Predicted: RB | Ground Truth: NoDefect\n",
      "\n"
     ]
    },
    {
     "name": "stderr",
     "output_type": "stream",
     "text": [
      "Processing images:  57%|█████▊    | 115/200 [08:07<05:49,  4.11s/it]"
     ]
    },
    {
     "name": "stdout",
     "output_type": "stream",
     "text": [
      "{\n",
      "\n",
      "  \"DESCRIPTION\": \"The image shows a sewer pipe with a dark, almost black interior suggesting a lack of lighting or a blockage. The surface appears smooth with no visible cracks or damage. There are no signs of roots or deformations. The pipe seems to be in good condition with no immediate defects visible.\",\n",
      "\n",
      "  \"CODE\": \"NoDefect\"\n",
      "\n",
      "}\n",
      "Image ID: 00412106.png | Predicted: NoDefect | Ground Truth: NoDefect\n",
      "\n"
     ]
    },
    {
     "name": "stderr",
     "output_type": "stream",
     "text": [
      "Processing images:  58%|█████▊    | 116/200 [08:11<05:35,  4.00s/it]"
     ]
    },
    {
     "name": "stdout",
     "output_type": "stream",
     "text": [
      "{\n",
      "  \"DESCRIPTION\": \"The image shows a section of a sewer pipe with a dark, cylindrical opening at the end. The surface of the pipe appears to be rough and uneven, with some areas showing signs of wear or damage. There is no visible water flow within the pipe, and the lighting conditions are dim, making it difficult to assess the overall condition of the pipe.\",\n",
      "  \"CODE\": \"OB\"\n",
      "}\n",
      "Image ID: 00312938.png | Predicted: OB | Ground Truth: OB\n",
      "\n"
     ]
    },
    {
     "name": "stderr",
     "output_type": "stream",
     "text": [
      "Processing images:  58%|█████▊    | 117/200 [08:14<05:13,  3.78s/it]"
     ]
    },
    {
     "name": "stdout",
     "output_type": "stream",
     "text": [
      "{\n",
      "  \"DESCRIPTION\": \"The image shows a series of orange PVC sewer pipes with a smooth surface, indicating no visible signs of damage or blockages. The lighting conditions are dim, and the image is slightly blurred, making it difficult to assess the condition of the pipes in detail.\",\n",
      "  \"CODE\": \"NoDefect\"\n",
      "}\n",
      "Image ID: 00456442.png | Predicted: NoDefect | Ground Truth: NoDefect\n",
      "\n"
     ]
    },
    {
     "name": "stderr",
     "output_type": "stream",
     "text": [
      "Processing images:  59%|█████▉    | 118/200 [08:18<05:10,  3.79s/it]"
     ]
    },
    {
     "name": "stdout",
     "output_type": "stream",
     "text": [
      "{\n",
      "\n",
      "  \"DESCRIPTION\": \"The image shows a view of a sewer pipe with a circular area highlighted, possibly indicating a point of interest or concern. The pipe appears to be made of concrete and is partially filled with water. The surface shows some signs of wear and debris, but no clear defects are visible.\",\n",
      "\n",
      "  \"CODE\": \"NoDefect\"\n",
      "\n",
      "}\n",
      "Image ID: 01153619.png | Predicted: NoDefect | Ground Truth: NoDefect\n",
      "\n"
     ]
    },
    {
     "name": "stderr",
     "output_type": "stream",
     "text": [
      "Processing images:  60%|█████▉    | 119/200 [08:21<04:45,  3.52s/it]"
     ]
    },
    {
     "name": "stdout",
     "output_type": "stream",
     "text": [
      "{\n",
      "\n",
      "  \"DESCRIPTION\": \"The image shows a dark, narrow sewer pipe with a smooth surface, indicating no visible signs of damage or blockages. The lighting conditions are low, making it difficult to discern finer details.\",\n",
      "\n",
      "  \"CODE\": \"NoDefect\"\n",
      "\n",
      "}\n",
      "Image ID: 00847063.png | Predicted: NoDefect | Ground Truth: NoDefect\n",
      "\n"
     ]
    },
    {
     "name": "stderr",
     "output_type": "stream",
     "text": [
      "Processing images:  60%|██████    | 120/200 [08:24<04:48,  3.60s/it]"
     ]
    },
    {
     "name": "stdout",
     "output_type": "stream",
     "text": [
      "{\n",
      "\n",
      "  \"DESCRIPTION\": \"The image shows a section of a sewer pipe with a rough, uneven surface. There are visible signs of wear and erosion, with some areas appearing to have pitting and scaling. The lighting conditions are dim, and the pipe appears to be made of concrete. There are no visible signs of roots or other obstructions.\",\n",
      "\n",
      "  \"CODE\": \"OB\"\n",
      "\n",
      "}\n",
      "Image ID: 00406425.png | Predicted: OB | Ground Truth: RB\n",
      "\n"
     ]
    },
    {
     "name": "stderr",
     "output_type": "stream",
     "text": [
      "Processing images:  60%|██████    | 121/200 [08:29<05:07,  3.89s/it]"
     ]
    },
    {
     "name": "stdout",
     "output_type": "stream",
     "text": [
      "{\n",
      "  \"DESCRIPTION\": \"The image shows a section of a sewer pipe with a rough, uneven surface. There are visible signs of wear and potential damage, such as cracks and areas where the pipe material appears to be eroding or damaged. The lighting conditions are dim, and the pipe is not clearly visible due to the angle and lighting. The pipe appears to be made of concrete and is not in a state of complete collapse, but there are indications of structural weaknesses.\",\n",
      "  \"CODE\": \"OB\"\n",
      "}\n",
      "Image ID: 00128889.png | Predicted: OB | Ground Truth: RO\n",
      "\n"
     ]
    },
    {
     "name": "stderr",
     "output_type": "stream",
     "text": [
      "Processing images:  61%|██████    | 122/200 [08:34<05:24,  4.16s/it]"
     ]
    },
    {
     "name": "stdout",
     "output_type": "stream",
     "text": [
      "{\n",
      "  \"DESCRIPTION\": \"The image shows a close-up view of a sewer pipe with a dark interior. The pipe appears to be made of a metallic material, possibly steel or a similar alloy. The surface of the pipe is smooth with no visible signs of cracks, breaks, or collapses. There is no evidence of roots or other obstructions within the pipe. The lighting conditions are dim, and the image is slightly grainy, which may affect the clarity of the details.\",\n",
      "  \"CODE\": \"NoDefect\"\n",
      "}\n",
      "Image ID: 00231010.png | Predicted: NoDefect | Ground Truth: NoDefect\n",
      "\n"
     ]
    },
    {
     "name": "stderr",
     "output_type": "stream",
     "text": [
      "Processing images:  62%|██████▏   | 123/200 [08:37<05:11,  4.05s/it]"
     ]
    },
    {
     "name": "stdout",
     "output_type": "stream",
     "text": [
      "{\n",
      "\n",
      "  \"DESCRIPTION\": \"The image shows a sewer pipe with a visible central hole, indicating a possible collapse or breakage. The surrounding area of the pipe is not clearly visible due to the angle and lighting conditions. The pipe appears to be made of a solid material, possibly concrete or PVC, and there is no visible water flow within the pipe.\",\n",
      "\n",
      "  \"CODE\": \"RB\"\n",
      "\n",
      "}\n",
      "Image ID: 00759937.png | Predicted: RB | Ground Truth: DE\n",
      "\n"
     ]
    },
    {
     "name": "stderr",
     "output_type": "stream",
     "text": [
      "Processing images:  62%|██████▏   | 124/200 [08:41<05:01,  3.97s/it]"
     ]
    },
    {
     "name": "stdout",
     "output_type": "stream",
     "text": [
      "{\n",
      "\n",
      "  \"DESCRIPTION\": \"The image shows a sewer pipe with a dark, narrow passage. The lighting is dim, and the pipe appears to be made of concrete. There are no visible signs of water flow, and the surface of the pipe looks smooth without any obvious defects. The edges of the pipe are not clearly visible due to the lighting conditions.\",\n",
      "\n",
      "  \"CODE\": \"NoDefect\"\n",
      "\n",
      "}\n",
      "Image ID: 01192271.png | Predicted: NoDefect | Ground Truth: NoDefect\n",
      "\n"
     ]
    },
    {
     "name": "stderr",
     "output_type": "stream",
     "text": [
      "Processing images:  62%|██████▎   | 125/200 [08:46<05:17,  4.23s/it]"
     ]
    },
    {
     "name": "stdout",
     "output_type": "stream",
     "text": [
      "{\n",
      "\n",
      "  \"DESCRIPTION\": \"The image shows a section of a sewer pipe with a clear view of the interior. The pipe appears to be made of a smooth material, possibly PVC, and is illuminated by a bright light source from the top, casting shadows inside the pipe. There is a visible joint or connection point where a white object, possibly a tool or part of a maintenance device, is inserted into the pipe. The lighting conditions are high, which may affect the visibility of finer details.\",\n",
      "\n",
      "  \"CODE\": \"NoDefect\"\n",
      "\n",
      "}\n",
      "Image ID: 00368814.png | Predicted: NoDefect | Ground Truth: NoDefect\n",
      "\n"
     ]
    },
    {
     "name": "stderr",
     "output_type": "stream",
     "text": [
      "Processing images:  63%|██████▎   | 126/200 [08:50<05:12,  4.23s/it]"
     ]
    },
    {
     "name": "stdout",
     "output_type": "stream",
     "text": [
      "{\n",
      "\n",
      "  \"DESCRIPTION\": \"The image shows a section of a sewer pipe with a dark interior, possibly indicating a blockage or a section of the pipe that is not in use. The surrounding area is covered with debris and roots, suggesting potential issues with the sewer system. The lighting is dim, and the image is not very clear, making it difficult to assess the condition of the pipe in detail.\",\n",
      "\n",
      "  \"CODE\": \"NoDefect\"\n",
      "\n",
      "}\n",
      "Image ID: 01075787.png | Predicted: NoDefect | Ground Truth: RO\n",
      "\n"
     ]
    },
    {
     "name": "stderr",
     "output_type": "stream",
     "text": [
      "Processing images:  64%|██████▎   | 127/200 [08:54<04:57,  4.07s/it]"
     ]
    },
    {
     "name": "stdout",
     "output_type": "stream",
     "text": [
      "{\n",
      "\n",
      "  \"DESCRIPTION\": \"The image shows a close-up view of a sewer pipe with a focus on a section where the pipe has a visible crack running vertically. The surrounding area appears to be well-lit, and the pipe material looks like concrete. There is no visible root intrusion or other defects in the visible section of the pipe.\",\n",
      "\n",
      "  \"CODE\": \"RB\"\n",
      "\n",
      "}\n",
      "Image ID: 00595037.png | Predicted: RB | Ground Truth: OB\n",
      "\n"
     ]
    },
    {
     "name": "stderr",
     "output_type": "stream",
     "text": [
      "Processing images:  64%|██████▍   | 128/200 [08:59<05:20,  4.45s/it]"
     ]
    },
    {
     "name": "stdout",
     "output_type": "stream",
     "text": [
      "{\n",
      "\n",
      "  \"DESCRIPTION\": \"The image shows a section of a sewer pipe with a bright light source reflecting off its surface, creating a glare. The pipe appears to be made of a dark material, possibly concrete, and is surrounded by a yellowish background that could be indicative of the sewer environment. There are no visible signs of water flow or blockages, and the surface of the pipe seems relatively smooth with no obvious cracks or breaks. The image is taken from a perspective that does not allow for a clear view of the entire pipe or any potential defects.\",\n",
      "\n",
      "  \"CODE\": \"NoDefect\"\n",
      "\n",
      "}\n",
      "Image ID: 00521590.png | Predicted: NoDefect | Ground Truth: PF\n",
      "\n"
     ]
    },
    {
     "name": "stderr",
     "output_type": "stream",
     "text": [
      "Processing images:  64%|██████▍   | 129/200 [09:02<04:46,  4.03s/it]"
     ]
    },
    {
     "name": "stdout",
     "output_type": "stream",
     "text": [
      "{\n",
      "\n",
      "  \"DESCRIPTION\": \"The image shows a sewer pipe with a visible crack running vertically down the center. The pipe appears to be made of concrete and is partially filled with water. The surrounding area is not clearly visible due to the angle of the image.\",\n",
      "\n",
      "  \"CODE\": \"RB\"\n",
      "\n",
      "}\n",
      "Image ID: 00555059.png | Predicted: RB | Ground Truth: NoDefect\n",
      "\n"
     ]
    },
    {
     "name": "stderr",
     "output_type": "stream",
     "text": [
      "Processing images:  65%|██████▌   | 130/200 [09:06<04:36,  3.95s/it]"
     ]
    },
    {
     "name": "stdout",
     "output_type": "stream",
     "text": [
      "{\n",
      "  \"DESCRIPTION\": \"The image shows a section of a sewer pipe with a visible defect. The pipe appears to be made of concrete and is partially submerged in water. There is a noticeable crack running vertically down the center of the pipe, indicating a structural failure. The surrounding area is not clear, but there are no visible roots or other obstructions.\",\n",
      "  \"CODE\": \"RB\"\n",
      "}\n",
      "Image ID: 00324277.png | Predicted: RB | Ground Truth: NoDefect\n",
      "\n"
     ]
    },
    {
     "name": "stderr",
     "output_type": "stream",
     "text": [
      "Processing images:  66%|██████▌   | 131/200 [09:10<04:33,  3.97s/it]"
     ]
    },
    {
     "name": "stdout",
     "output_type": "stream",
     "text": [
      "{\n",
      "\n",
      "  \"DESCRIPTION\": \"The image shows a section of a sewer pipe with a clear view of the interior. The pipe appears to be made of concrete and is partially filled with water. There is a visible crack running vertically along the pipe's surface, indicating a potential defect. The lighting conditions are dim, and the image is slightly blurred, making it difficult to assess other details.\",\n",
      "\n",
      "  \"CODE\": \"RB\"\n",
      "\n",
      "}\n",
      "Image ID: 01095696.png | Predicted: RB | Ground Truth: RO\n",
      "\n"
     ]
    },
    {
     "name": "stderr",
     "output_type": "stream",
     "text": [
      "Processing images:  66%|██████▌   | 132/200 [09:14<04:35,  4.06s/it]"
     ]
    },
    {
     "name": "stdout",
     "output_type": "stream",
     "text": [
      "{\n",
      "\n",
      "  \"DESCRIPTION\": \"The image shows a section of a sewer pipe with a visible pipe end and a cleaning tool inserted into it. The pipe appears to be made of concrete and is in a dark, possibly underground environment. There are no visible signs of damage, blockages, or roots. The lighting is dim, and the image is slightly blurred, making it difficult to discern finer details.\",\n",
      "\n",
      "  \"CODE\": \"NoDefect\"\n",
      "\n",
      "}\n",
      "Image ID: 00641759.png | Predicted: NoDefect | Ground Truth: OB\n",
      "\n"
     ]
    },
    {
     "name": "stderr",
     "output_type": "stream",
     "text": [
      "Processing images:  66%|██████▋   | 133/200 [09:18<04:19,  3.88s/it]"
     ]
    },
    {
     "name": "stdout",
     "output_type": "stream",
     "text": [
      "{\n",
      "\n",
      "  \"DESCRIPTION\": \"The image shows a section of a sewer pipe with a visible crack running along its length. The pipe appears to be made of concrete and is partially filled with water. The lighting conditions are dim, and the image is slightly blurred, making it difficult to discern finer details.\",\n",
      "\n",
      "  \"CODE\": \"RB\"\n",
      "\n",
      "}\n",
      "Image ID: 01062947.png | Predicted: RB | Ground Truth: RB\n",
      "\n"
     ]
    },
    {
     "name": "stderr",
     "output_type": "stream",
     "text": [
      "Processing images:  67%|██████▋   | 134/200 [09:22<04:10,  3.80s/it]"
     ]
    },
    {
     "name": "stdout",
     "output_type": "stream",
     "text": [
      "{\n",
      "\n",
      "  \"DESCRIPTION\": \"The image shows a sewer pipe with a dark interior, likely due to the presence of water. The surface appears to be rough and uneven, with some areas showing signs of wear or damage. There are no visible roots or significant blockages, but the pipe does not appear to be in pristine condition.\",\n",
      "\n",
      "  \"CODE\": \"OB\"\n",
      "\n",
      "}\n",
      "Image ID: 00117348.png | Predicted: OB | Ground Truth: OB\n",
      "\n"
     ]
    },
    {
     "name": "stderr",
     "output_type": "stream",
     "text": [
      "Processing images:  68%|██████▊   | 135/200 [09:26<04:14,  3.91s/it]"
     ]
    },
    {
     "name": "stdout",
     "output_type": "stream",
     "text": [
      "{\n",
      "\n",
      "  \"DESCRIPTION\": \"The image shows a sewer pipe with a dark interior, possibly indicating the presence of water. The surface appears smooth with no visible signs of cracks, breaks, or collapses. There are no obvious signs of root intrusion or surface damage. The lighting conditions suggest it might be taken during the day. The pipe's material cannot be determined with certainty from the image.\",\n",
      "\n",
      "  \"CODE\": \"NoDefect\"\n",
      "\n",
      "}\n",
      "Image ID: 00251253.png | Predicted: NoDefect | Ground Truth: NoDefect\n",
      "\n"
     ]
    },
    {
     "name": "stderr",
     "output_type": "stream",
     "text": [
      "Processing images:  68%|██████▊   | 136/200 [09:31<04:33,  4.27s/it]"
     ]
    },
    {
     "name": "stdout",
     "output_type": "stream",
     "text": [
      "{\n",
      "\n",
      "  \"DESCRIPTION\": \"The image shows a section of a sewer pipe with a dark, reflective surface indicating the presence of water. The pipe appears to be made of a dark material, possibly PVC or a similar plastic, and is in a state of disrepair with visible signs of damage. There are several areas where the pipe's surface is cracked and broken, suggesting a significant structural failure. The lighting conditions are dim, and the image is not very clear, making it difficult to discern finer details.\",\n",
      "\n",
      "  \"CODE\": \"RB\"\n",
      "\n",
      "}\n",
      "Image ID: 00899810.png | Predicted: RB | Ground Truth: NoDefect\n",
      "\n"
     ]
    },
    {
     "name": "stderr",
     "output_type": "stream",
     "text": [
      "Processing images:  68%|██████▊   | 137/200 [09:36<04:38,  4.43s/it]"
     ]
    },
    {
     "name": "stdout",
     "output_type": "stream",
     "text": [
      "{\n",
      "\n",
      "  \"DESCRIPTION\": \"The image shows a section of a sewer pipe with a dark, circular area indicating a possible blockage or obstruction. The pipe appears to be made of concrete and is in a vertical orientation. There are no visible signs of cracks, breaks, or collapses, and the surface does not show any significant damage or deformations. The lighting conditions are dim, and the image is not very clear, making it difficult to assess the pipe's condition in detail.\",\n",
      "\n",
      "  \"CODE\": \"NoDefect\"\n",
      "\n",
      "}\n",
      "Image ID: 00663241.png | Predicted: NoDefect | Ground Truth: DE\n",
      "\n"
     ]
    },
    {
     "name": "stderr",
     "output_type": "stream",
     "text": [
      "Processing images:  69%|██████▉   | 138/200 [09:40<04:41,  4.54s/it]"
     ]
    },
    {
     "name": "stdout",
     "output_type": "stream",
     "text": [
      "{\n",
      "  \"DESCRIPTION\": \"The image shows a section of a sewer pipe with a visible inspection camera inserted into it. The camera is capturing a yellow-colored object, possibly a tool or a piece of debris, inside the pipe. The lighting conditions are dim, and the pipe appears to be made of concrete. There is no visible water flow, and the surface of the pipe looks smooth without any obvious signs of damage or deformation. No roots or other obstructions are visible in the image.\",\n",
      "  \"CODE\": \"NoDefect\"\n",
      "}\n",
      "Image ID: 00856645.png | Predicted: NoDefect | Ground Truth: PF\n",
      "\n"
     ]
    },
    {
     "name": "stderr",
     "output_type": "stream",
     "text": [
      "Processing images:  70%|██████▉   | 139/200 [09:44<04:17,  4.23s/it]"
     ]
    },
    {
     "name": "stdout",
     "output_type": "stream",
     "text": [
      "{\n",
      "\n",
      "  \"DESCRIPTION\": \"The image shows a sewer pipe with a smooth, unbroken surface and no visible signs of damage or blockages. The lighting conditions are dim, and the pipe appears to be made of concrete. There are no cracks, breaks, or collapses visible in the image.\",\n",
      "\n",
      "  \"CODE\": \"NoDefect\"\n",
      "\n",
      "}\n",
      "Image ID: 00322633.png | Predicted: NoDefect | Ground Truth: NoDefect\n",
      "\n"
     ]
    },
    {
     "name": "stderr",
     "output_type": "stream",
     "text": [
      "Processing images:  70%|███████   | 140/200 [09:49<04:30,  4.51s/it]"
     ]
    },
    {
     "name": "stdout",
     "output_type": "stream",
     "text": [
      "{\n",
      "\n",
      "  \"DESCRIPTION\": \"The image shows a sewer pipe with a darkened section at the bottom, possibly indicating a blockage or a section of the pipe that is not functioning properly. The pipe appears to be made of concrete and is in a vertical orientation. There are no visible signs of cracks, breaks, or collapses, and the surface does not show any obvious signs of damage or deformation. The lighting conditions are dim, and the image is not very clear, making it difficult to assess the pipe's condition in detail.\",\n",
      "\n",
      "  \"CODE\": \"NoDefect\"\n",
      "\n",
      "}\n",
      "Image ID: 00292342.png | Predicted: NoDefect | Ground Truth: DE\n",
      "\n"
     ]
    },
    {
     "name": "stderr",
     "output_type": "stream",
     "text": [
      "Processing images:  70%|███████   | 141/200 [09:53<04:23,  4.47s/it]"
     ]
    },
    {
     "name": "stdout",
     "output_type": "stream",
     "text": [
      "{\n",
      "  \"DESCRIPTION\": \"The image shows a section of a sewer pipe with a dark, opaque interior, possibly indicating the presence of water or waste. The surface of the pipe appears smooth with no visible signs of cracks, breaks, or collapses. There are no obvious signs of root intrusion or surface damage. The lighting conditions are dim, and the image is not clear enough to determine the material of the pipe or the presence of any production errors.\",\n",
      "  \"CODE\": \"NoDefect\"\n",
      "}\n",
      "Image ID: 00246069.png | Predicted: NoDefect | Ground Truth: NoDefect\n",
      "\n"
     ]
    },
    {
     "name": "stderr",
     "output_type": "stream",
     "text": [
      "Processing images:  71%|███████   | 142/200 [09:58<04:21,  4.52s/it]"
     ]
    },
    {
     "name": "stdout",
     "output_type": "stream",
     "text": [
      "{\n",
      "\n",
      "  \"DESCRIPTION\": \"The image shows a sewer pipe with a section of the pipe's interior visible. The pipe appears to be made of concrete and is partially filled with water. The surface of the pipe is rough and there are no visible signs of cracks, breaks, or collapses. There is no evidence of roots or surface damage. The lighting conditions are dim, and the image is slightly blurred, making it difficult to discern finer details.\",\n",
      "\n",
      "  \"CODE\": \"NoDefect\"\n",
      "\n",
      "}\n",
      "Image ID: 00643468.png | Predicted: NoDefect | Ground Truth: OB\n",
      "\n"
     ]
    },
    {
     "name": "stderr",
     "output_type": "stream",
     "text": [
      "Processing images:  72%|███████▏  | 143/200 [10:02<04:16,  4.49s/it]"
     ]
    },
    {
     "name": "stdout",
     "output_type": "stream",
     "text": [
      "{\n",
      "  \"DESCRIPTION\": \"The image shows a view of a sewer pipe with a rough, textured surface indicating possible wear or erosion. The lighting conditions are dim, and the pipe appears to be made of concrete. There are no visible signs of blockages, roots, or significant damage to the pipe's structure. The image is taken from a perspective that shows the pipe's interior, and there are no clear indications of any defects or production errors.\",\n",
      "  \"CODE\": \"NoDefect\"\n",
      "}\n",
      "Image ID: 00356629.png | Predicted: NoDefect | Ground Truth: RB\n",
      "\n"
     ]
    },
    {
     "name": "stderr",
     "output_type": "stream",
     "text": [
      "Processing images:  72%|███████▏  | 144/200 [10:06<03:59,  4.28s/it]"
     ]
    },
    {
     "name": "stdout",
     "output_type": "stream",
     "text": [
      "{\n",
      "\n",
      "  \"DESCRIPTION\": \"The image shows a section of a sewer pipe with a visible crack running vertically along its length. The pipe appears to be made of concrete and is partially filled with water. There are no signs of roots or other obstructions, and the lighting conditions are dim, making it difficult to assess the full extent of the damage.\",\n",
      "\n",
      "  \"CODE\": \"RB\"\n",
      "\n",
      "}\n",
      "Image ID: 00773678.png | Predicted: RB | Ground Truth: PF\n",
      "\n"
     ]
    },
    {
     "name": "stderr",
     "output_type": "stream",
     "text": [
      "Processing images:  72%|███████▎  | 145/200 [10:11<04:00,  4.37s/it]"
     ]
    },
    {
     "name": "stdout",
     "output_type": "stream",
     "text": [
      "{\n",
      "\n",
      "  \"DESCRIPTION\": \"The image shows a section of a sewer pipe with a dark, opaque interior. The pipe appears to be made of a dark material, possibly PVC, and is partially filled with water. There are no visible signs of roots, and the surface of the pipe looks relatively smooth without any obvious cracks or breaks. The lighting conditions are dim, and the image is slightly blurred, making it difficult to discern finer details.\",\n",
      "\n",
      "  \"CODE\": \"NoDefect\"\n",
      "\n",
      "}\n",
      "Image ID: 00701822.png | Predicted: NoDefect | Ground Truth: DE\n",
      "\n"
     ]
    },
    {
     "name": "stderr",
     "output_type": "stream",
     "text": [
      "Processing images:  73%|███████▎  | 146/200 [10:15<03:54,  4.34s/it]"
     ]
    },
    {
     "name": "stdout",
     "output_type": "stream",
     "text": [
      "{\n",
      "\n",
      "  \"DESCRIPTION\": \"The image shows a sewer pipe with a smooth, unbroken surface and no visible signs of damage or blockages. The lighting conditions are even, and the pipe appears to be in good condition with no evidence of cracks, breaks, collapses, or deformations. There is no visible root intrusion, and the pipe's interior surface does not show any signs of wear or damage.\",\n",
      "\n",
      "  \"CODE\": \"NoDefect\"\n",
      "\n",
      "}\n",
      "Image ID: 00342979.png | Predicted: NoDefect | Ground Truth: NoDefect\n",
      "\n"
     ]
    },
    {
     "name": "stderr",
     "output_type": "stream",
     "text": [
      "Processing images:  74%|███████▎  | 147/200 [10:19<03:50,  4.34s/it]"
     ]
    },
    {
     "name": "stdout",
     "output_type": "stream",
     "text": [
      "{\n",
      "\n",
      "  \"DESCRIPTION\": \"The image shows a sewer pipe with a dark interior, likely due to the presence of water. The surface of the pipe appears to be smooth with no visible signs of cracks, breaks, or collapses. There are no obvious signs of root intrusion or surface damage. The lighting conditions are dim, and the image is not very clear, making it difficult to assess the pipe's condition in detail.\",\n",
      "\n",
      "  \"CODE\": \"NoDefect\"\n",
      "\n",
      "}\n",
      "Image ID: 00736295.png | Predicted: NoDefect | Ground Truth: OB\n",
      "\n"
     ]
    },
    {
     "name": "stderr",
     "output_type": "stream",
     "text": [
      "Processing images:  74%|███████▍  | 148/200 [10:24<03:44,  4.31s/it]"
     ]
    },
    {
     "name": "stdout",
     "output_type": "stream",
     "text": [
      "{\n",
      "\n",
      "  \"DESCRIPTION\": \"The image shows a section of a sewer pipe with a darkened area at the bottom, suggesting a shadow or a light source. The pipe appears to be made of concrete and is partially filled with water. There are no visible signs of cracks, breaks, or collapses, and no roots are apparent. The surface shows some minor scratches and pitting, indicating some level of wear.\",\n",
      "\n",
      "  \"CODE\": \"OB\"\n",
      "\n",
      "}\n",
      "Image ID: 00557617.png | Predicted: OB | Ground Truth: DE\n",
      "\n"
     ]
    },
    {
     "name": "stderr",
     "output_type": "stream",
     "text": [
      "Processing images:  74%|███████▍  | 149/200 [10:28<03:40,  4.33s/it]"
     ]
    },
    {
     "name": "stdout",
     "output_type": "stream",
     "text": [
      "{\n",
      "\n",
      "  \"DESCRIPTION\": \"The image shows a sewer pipe with a dark interior, possibly indicating the presence of water. The surface of the pipe appears to be smooth with no visible signs of cracks, breaks, or collapses. There are no obvious signs of root intrusion or surface damage. The lighting conditions are dim, and the image is slightly blurred, making it difficult to assess the pipe's condition in detail.\",\n",
      "\n",
      "  \"CODE\": \"NoDefect\"\n",
      "\n",
      "}\n",
      "Image ID: 00722113.png | Predicted: NoDefect | Ground Truth: DE\n",
      "\n"
     ]
    },
    {
     "name": "stderr",
     "output_type": "stream",
     "text": [
      "Processing images:  75%|███████▌  | 150/200 [10:32<03:34,  4.29s/it]"
     ]
    },
    {
     "name": "stdout",
     "output_type": "stream",
     "text": [
      "{\n",
      "\n",
      "  \"DESCRIPTION\": \"The image shows a view from inside a sewer pipe with a dark, murky water flow. The pipe appears to be made of concrete and has a rough, uneven surface with visible signs of wear and erosion. There are no clear indications of cracks, breaks, or collapses, but the presence of roots is noticeable, suggesting potential blockages or obstructions.\",\n",
      "\n",
      "  \"CODE\": \"OB\"\n",
      "\n",
      "}\n",
      "Image ID: 00616737.png | Predicted: OB | Ground Truth: RO\n",
      "\n"
     ]
    },
    {
     "name": "stderr",
     "output_type": "stream",
     "text": [
      "Processing images:  76%|███████▌  | 151/200 [10:36<03:28,  4.26s/it]"
     ]
    },
    {
     "name": "stdout",
     "output_type": "stream",
     "text": [
      "{\n",
      "\n",
      "  \"DESCRIPTION\": \"The image shows a section of a sewer pipe with a dark, smooth interior. The lighting conditions are uneven, with some areas appearing brighter than others. The pipe appears to be made of a dark material, possibly concrete or PVC, and there is no visible water flow within the pipe. The edges of the pipe are rough and there are no visible signs of damage or blockages.\",\n",
      "\n",
      "  \"CODE\": \"NoDefect\"\n",
      "\n",
      "}\n",
      "Image ID: 00817381.png | Predicted: NoDefect | Ground Truth: OB\n",
      "\n"
     ]
    },
    {
     "name": "stderr",
     "output_type": "stream",
     "text": [
      "Processing images:  76%|███████▌  | 152/200 [10:40<03:11,  4.00s/it]"
     ]
    },
    {
     "name": "stdout",
     "output_type": "stream",
     "text": [
      "{\n",
      "\n",
      "  \"DESCRIPTION\": \"The image shows a blurred view of a sewer pipe with a bright light source at the top, creating a glare effect. The pipe appears to be in a dark environment, and the image is not clear enough to determine the exact condition of the pipe.\",\n",
      "\n",
      "  \"CODE\": \"NoDefect\"\n",
      "\n",
      "}\n",
      "Image ID: 00563451.png | Predicted: NoDefect | Ground Truth: NoDefect\n",
      "\n"
     ]
    },
    {
     "name": "stderr",
     "output_type": "stream",
     "text": [
      "Processing images:  76%|███████▋  | 153/200 [10:45<03:26,  4.38s/it]"
     ]
    },
    {
     "name": "stdout",
     "output_type": "stream",
     "text": [
      "{\n",
      "\n",
      "  \"DESCRIPTION\": \"The image shows a view of a sewer pipe with a clear view of the interior. The pipe appears to be made of a dark material, possibly PVC, and is surrounded by a dark, textured background that could be the surrounding soil or concrete. There is no visible water flow within the pipe, and the lighting conditions are dim, making it difficult to assess the pipe's condition in detail. The image is taken from a perspective that shows the pipe's entrance and extends towards the center, with no visible signs of damage or blockages.\",\n",
      "\n",
      "  \"CODE\": \"NoDefect\"\n",
      "\n",
      "}\n",
      "Image ID: 00122097.png | Predicted: NoDefect | Ground Truth: OB\n",
      "\n"
     ]
    },
    {
     "name": "stderr",
     "output_type": "stream",
     "text": [
      "Processing images:  77%|███████▋  | 154/200 [10:51<03:43,  4.85s/it]"
     ]
    },
    {
     "name": "stdout",
     "output_type": "stream",
     "text": [
      "{\n",
      "\n",
      "  \"DESCRIPTION\": \"The image shows a section of a sewer pipe with a dark, narrow passage leading into a larger chamber. The lighting is dim, and the image is somewhat blurry, making it difficult to discern fine details. The pipe appears to be made of a dark material, possibly concrete or PVC, and there is no visible water flow within the pipe. There are no clear signs of roots, and the surface of the pipe does not show any obvious damage or deformations. The image is obstructed by a blurred rectangular area in the center, which prevents a full view of the pipe's interior.\",\n",
      "\n",
      "  \"CODE\": \"NoDefect\"\n",
      "\n",
      "}\n",
      "Image ID: 00989281.png | Predicted: NoDefect | Ground Truth: PF\n",
      "\n"
     ]
    },
    {
     "name": "stderr",
     "output_type": "stream",
     "text": [
      "Processing images:  78%|███████▊  | 155/200 [10:55<03:29,  4.66s/it]"
     ]
    },
    {
     "name": "stdout",
     "output_type": "stream",
     "text": [
      "{\n",
      "\n",
      "  \"DESCRIPTION\": \"The image shows a section of a sewer pipe with a visible water flow. The pipe appears to be made of concrete and has a rough, textured surface. There are no obvious signs of cracks, breaks, or collapses. The lighting conditions are dim, and the image is slightly blurred, making it difficult to discern finer details.\",\n",
      "\n",
      "  \"CODE\": \"NoDefect\"\n",
      "\n",
      "}\n",
      "Image ID: 01077629.png | Predicted: NoDefect | Ground Truth: NoDefect\n",
      "\n"
     ]
    },
    {
     "name": "stderr",
     "output_type": "stream",
     "text": [
      "Processing images:  78%|███████▊  | 156/200 [11:00<03:29,  4.76s/it]"
     ]
    },
    {
     "name": "stdout",
     "output_type": "stream",
     "text": [
      "{\n",
      "  \"DESCRIPTION\": \"The image shows a section of a sewer pipe with a visible internal surface. The pipe appears to be made of concrete and is in a darkened area, making it difficult to assess the lighting conditions accurately. There are no visible signs of water flow within the pipe. The surface shows some signs of wear and erosion, with minor scratches and pitting. There are no obvious cracks, breaks, or collapses visible in the image. The pipe's edges are not perfectly aligned, suggesting a possible manufacturing defect.\",\n",
      "  \"CODE\": \"OB\"\n",
      "}\n",
      "Image ID: 00555056.png | Predicted: OB | Ground Truth: PF\n",
      "\n"
     ]
    },
    {
     "name": "stderr",
     "output_type": "stream",
     "text": [
      "Processing images:  78%|███████▊  | 157/200 [11:04<03:10,  4.44s/it]"
     ]
    },
    {
     "name": "stdout",
     "output_type": "stream",
     "text": [
      "{\n",
      "\n",
      "  \"DESCRIPTION\": \"The image shows a sewer pipe with a visible central circular opening, likely a manhole or vent. The pipe appears to be made of concrete and is wet, suggesting the presence of water. The lighting is dim, and the image is somewhat blurry, making it difficult to discern finer details.\",\n",
      "\n",
      "  \"CODE\": \"NoDefect\"\n",
      "\n",
      "}\n",
      "Image ID: 00046169.png | Predicted: NoDefect | Ground Truth: NoDefect\n",
      "\n"
     ]
    },
    {
     "name": "stderr",
     "output_type": "stream",
     "text": [
      "Processing images:  79%|███████▉  | 158/200 [11:09<03:10,  4.55s/it]"
     ]
    },
    {
     "name": "stdout",
     "output_type": "stream",
     "text": [
      "{\n",
      "\n",
      "  \"DESCRIPTION\": \"The image shows a sewer pipe with a dark, reflective interior surface. The lighting conditions are dim, and the pipe appears to be wet, suggesting the presence of water. The surface of the pipe shows signs of wear and erosion, with visible scratches and pitting. There are no obvious signs of cracks, breaks, or collapses, and no roots are visible in the image. The pipe's interior is not smooth, indicating some level of surface damage.\",\n",
      "\n",
      "  \"CODE\": \"OB\"\n",
      "\n",
      "}\n",
      "Image ID: 01266260.png | Predicted: OB | Ground Truth: OB\n",
      "\n"
     ]
    },
    {
     "name": "stderr",
     "output_type": "stream",
     "text": [
      "Processing images:  80%|███████▉  | 159/200 [11:13<02:58,  4.35s/it]"
     ]
    },
    {
     "name": "stdout",
     "output_type": "stream",
     "text": [
      "{\n",
      "  \"DESCRIPTION\": \"The image shows a sewer pipe with a gradient of orange to yellow hues, indicating a possible lighting condition or material. The pipe appears to be intact with no visible signs of cracks, breaks, or collapses. There is no evidence of surface damage, production errors, deformations, or root intrusion. The image is clear and the pipe seems to be in good condition.\",\n",
      "  \"CODE\": \"NoDefect\"\n",
      "}\n",
      "Image ID: 00575420.png | Predicted: NoDefect | Ground Truth: NoDefect\n",
      "\n"
     ]
    },
    {
     "name": "stderr",
     "output_type": "stream",
     "text": [
      "Processing images:  80%|████████  | 160/200 [11:17<02:53,  4.34s/it]"
     ]
    },
    {
     "name": "stdout",
     "output_type": "stream",
     "text": [
      "{\n",
      "\n",
      "  \"DESCRIPTION\": \"The image shows a section of a sewer pipe with a dark interior, likely indicating the presence of water. The pipe appears to be made of concrete and has a rough texture. There are no visible signs of cracks, breaks, or collapses, and no roots are apparent. The lighting conditions are dim, and the image is slightly blurred, possibly due to movement or low light.\",\n",
      "\n",
      "  \"CODE\": \"NoDefect\"\n",
      "\n",
      "}\n",
      "Image ID: 00903107.png | Predicted: NoDefect | Ground Truth: NoDefect\n",
      "\n"
     ]
    },
    {
     "name": "stderr",
     "output_type": "stream",
     "text": [
      "Processing images:  80%|████████  | 161/200 [11:20<02:34,  3.97s/it]"
     ]
    },
    {
     "name": "stdout",
     "output_type": "stream",
     "text": [
      "{\n",
      "\n",
      "  \"DESCRIPTION\": \"The image shows a dark, indistinct view of a sewer pipe with no clear visibility of its interior or exterior. The lighting conditions are poor, making it difficult to discern any details or defects within the pipe.\",\n",
      "\n",
      "  \"CODE\": \"NoDefect\"\n",
      "\n",
      "}\n",
      "Image ID: 00309864.png | Predicted: NoDefect | Ground Truth: NoDefect\n",
      "\n"
     ]
    },
    {
     "name": "stderr",
     "output_type": "stream",
     "text": [
      "Processing images:  81%|████████  | 162/200 [11:24<02:29,  3.93s/it]"
     ]
    },
    {
     "name": "stdout",
     "output_type": "stream",
     "text": [
      "{\n",
      "\n",
      "  \"DESCRIPTION\": \"The image shows a section of a sewer pipe with a rough, uneven surface. The lighting conditions are dim, and the pipe appears to be made of concrete. There are no visible signs of water flow within the pipe, and the image is taken from a distance, making it difficult to assess the pipe's condition in detail.\",\n",
      "\n",
      "  \"CODE\": \"NoDefect\"\n",
      "\n",
      "}\n",
      "Image ID: 01108894.png | Predicted: NoDefect | Ground Truth: NoDefect\n",
      "\n"
     ]
    },
    {
     "name": "stderr",
     "output_type": "stream",
     "text": [
      "Processing images:  82%|████████▏ | 163/200 [11:28<02:27,  4.00s/it]"
     ]
    },
    {
     "name": "stdout",
     "output_type": "stream",
     "text": [
      "{\n",
      "  \"DESCRIPTION\": \"The image shows a section of a sewer pipe with a dark, shadowy appearance. The lighting is low, and the image is not clear, making it difficult to discern specific details. The pipe appears to be made of a solid material, possibly concrete or metal, and there is no visible water flow or blockages. The edges of the pipe are not distinctly visible due to the low light conditions.\",\n",
      "  \"CODE\": \"NoDefect\"\n",
      "}\n",
      "Image ID: 00334169.png | Predicted: NoDefect | Ground Truth: NoDefect\n",
      "\n"
     ]
    },
    {
     "name": "stderr",
     "output_type": "stream",
     "text": [
      "Processing images:  82%|████████▏ | 164/200 [11:32<02:18,  3.86s/it]"
     ]
    },
    {
     "name": "stdout",
     "output_type": "stream",
     "text": [
      "{\n",
      "\n",
      "  \"DESCRIPTION\": \"The image shows a sewer pipe with a dark, opaque interior suggesting the presence of water. The surface appears to be rough and uneven, with visible signs of wear and potential damage. There are no clear indications of roots or other obstructions within the visible section of the pipe.\",\n",
      "\n",
      "  \"CODE\": \"OB\"\n",
      "\n",
      "}\n",
      "Image ID: 00220697.png | Predicted: OB | Ground Truth: NoDefect\n",
      "\n"
     ]
    },
    {
     "name": "stderr",
     "output_type": "stream",
     "text": [
      "Processing images:  82%|████████▎ | 165/200 [11:36<02:15,  3.88s/it]"
     ]
    },
    {
     "name": "stdout",
     "output_type": "stream",
     "text": [
      "{\n",
      "\n",
      "  \"DESCRIPTION\": \"The image shows a sewer pipe with a dark interior, likely indicating the presence of water. The pipe appears to be in a straight section with no visible signs of damage or deformations. The lighting conditions are dim, and the image is not clear enough to identify any specific defects or the material of the pipe.\",\n",
      "\n",
      "  \"CODE\": \"NoDefect\"\n",
      "\n",
      "}\n",
      "Image ID: 01196894.png | Predicted: NoDefect | Ground Truth: NoDefect\n",
      "\n"
     ]
    },
    {
     "name": "stderr",
     "output_type": "stream",
     "text": [
      "Processing images:  83%|████████▎ | 166/200 [11:39<02:11,  3.88s/it]"
     ]
    },
    {
     "name": "stdout",
     "output_type": "stream",
     "text": [
      "{\n",
      "\n",
      "  \"DESCRIPTION\": \"The image shows a sewer pipe with a smooth, unbroken surface and no visible signs of damage or blockages. The lighting conditions are dim, and the pipe appears to be in good condition with no evidence of cracks, breaks, collapses, or deformations. There is no visible presence of roots or surface damage.\",\n",
      "\n",
      "  \"CODE\": \"NoDefect\"\n",
      "\n",
      "}\n",
      "Image ID: 01259730.png | Predicted: NoDefect | Ground Truth: NoDefect\n",
      "\n"
     ]
    },
    {
     "name": "stderr",
     "output_type": "stream",
     "text": [
      "Processing images:  84%|████████▎ | 167/200 [11:44<02:11,  3.97s/it]"
     ]
    },
    {
     "name": "stdout",
     "output_type": "stream",
     "text": [
      "{\n",
      "  \"DESCRIPTION\": \"The image shows a view from inside a sewer pipe, with a focus on a section that appears to be corroded and has a dark, possibly stagnant water. The lighting is dim, and the pipe's interior is not clearly visible due to the darkness and the angle of the camera. There are no visible signs of roots, and the pipe's surface shows signs of wear and erosion.\",\n",
      "  \"CODE\": \"OB\"\n",
      "}\n",
      "Image ID: 00116458.png | Predicted: OB | Ground Truth: PF\n",
      "\n"
     ]
    },
    {
     "name": "stderr",
     "output_type": "stream",
     "text": [
      "Processing images:  84%|████████▍ | 168/200 [11:48<02:14,  4.22s/it]"
     ]
    },
    {
     "name": "stdout",
     "output_type": "stream",
     "text": [
      "{\n",
      "\n",
      "  \"DESCRIPTION\": \"The image shows a section of a sewer pipe with a clear view of its interior. The pipe appears to be made of concrete and is partially filled with water. There are visible signs of wear and erosion on the pipe's surface, indicating surface damage. No cracks, breaks, collapses, or roots are immediately apparent. The lighting conditions are dim, and the image is not very clear, making it difficult to assess the pipe's condition in detail.\",\n",
      "\n",
      "  \"CODE\": \"OB\"\n",
      "\n",
      "}\n",
      "Image ID: 01051480.png | Predicted: OB | Ground Truth: RB\n",
      "\n"
     ]
    },
    {
     "name": "stderr",
     "output_type": "stream",
     "text": [
      "Processing images:  84%|████████▍ | 169/200 [11:52<02:08,  4.13s/it]"
     ]
    },
    {
     "name": "stdout",
     "output_type": "stream",
     "text": [
      "{\n",
      "\n",
      "  \"DESCRIPTION\": \"The image shows a sewer pipe with a dark interior, possibly indicating the presence of waste or sediment. The surface appears smooth with no visible cracks or breaks. There is no evidence of roots or significant surface damage. The lighting conditions are dim, and the image is not clear enough to determine the material of the pipe or the presence of water.\",\n",
      "\n",
      "  \"CODE\": \"NoDefect\"\n",
      "\n",
      "}\n",
      "Image ID: 01098148.png | Predicted: NoDefect | Ground Truth: DE\n",
      "\n"
     ]
    },
    {
     "name": "stderr",
     "output_type": "stream",
     "text": [
      "Processing images:  85%|████████▌ | 170/200 [11:56<01:57,  3.90s/it]"
     ]
    },
    {
     "name": "stdout",
     "output_type": "stream",
     "text": [
      "{\n",
      "\n",
      "  \"DESCRIPTION\": \"The image shows a sewer pipe with a smooth, unbroken surface and no visible signs of damage or blockages. The lighting conditions are dim, and the pipe appears to be made of concrete. There are no roots or other obstructions visible in the image.\",\n",
      "\n",
      "  \"CODE\": \"NoDefect\"\n",
      "\n",
      "}\n",
      "Image ID: 00650644.png | Predicted: NoDefect | Ground Truth: NoDefect\n",
      "\n"
     ]
    },
    {
     "name": "stderr",
     "output_type": "stream",
     "text": [
      "Processing images:  86%|████████▌ | 171/200 [12:00<02:00,  4.15s/it]"
     ]
    },
    {
     "name": "stdout",
     "output_type": "stream",
     "text": [
      "{\n",
      "\n",
      "  \"DESCRIPTION\": \"The image shows a sewer pipe with a yellowish hue, possibly due to the lighting conditions. The pipe appears to be made of concrete and is partially filled with water. There are no visible signs of cracks, breaks, or collapses. The surface shows some minor wear and erosion, indicating surface damage. No roots or production errors are visible. The pipe is not deformed, and there are no signs of roots infiltrating the pipe.\",\n",
      "\n",
      "  \"CODE\": \"OB\"\n",
      "\n",
      "}\n",
      "Image ID: 00076692.png | Predicted: OB | Ground Truth: NoDefect\n",
      "\n"
     ]
    },
    {
     "name": "stderr",
     "output_type": "stream",
     "text": [
      "Processing images:  86%|████████▌ | 172/200 [12:04<01:52,  4.00s/it]"
     ]
    },
    {
     "name": "stdout",
     "output_type": "stream",
     "text": [
      "{\n",
      "\n",
      "  \"DESCRIPTION\": \"The image shows a sewer pipe with a smooth, unbroken surface and no visible signs of damage or blockages. The lighting conditions are dim, and the pipe appears to be made of concrete. There are no cracks, breaks, or collapses, and no roots are visible in the image.\",\n",
      "\n",
      "  \"CODE\": \"NoDefect\"\n",
      "\n",
      "}\n",
      "Image ID: 00650641.png | Predicted: NoDefect | Ground Truth: NoDefect\n",
      "\n"
     ]
    },
    {
     "name": "stderr",
     "output_type": "stream",
     "text": [
      "Processing images:  86%|████████▋ | 173/200 [12:09<01:58,  4.37s/it]"
     ]
    },
    {
     "name": "stdout",
     "output_type": "stream",
     "text": [
      "{\n",
      "  \"DESCRIPTION\": \"The image shows a section of a sewer pipe with a dark interior and a metallic exterior. The lighting conditions are dim, and the image is somewhat blurry, making it difficult to discern fine details. The pipe appears to be made of a dark material, possibly metal, and there is no visible water flow within the pipe. There are no clear signs of roots, and the surface of the pipe does not show any obvious damage or deformations. The image does not provide enough detail to determine if there are any production errors or surface damage.\",\n",
      "  \"CODE\": \"NoDefect\"\n",
      "}\n",
      "Image ID: 01011133.png | Predicted: NoDefect | Ground Truth: NoDefect\n",
      "\n"
     ]
    },
    {
     "name": "stderr",
     "output_type": "stream",
     "text": [
      "Processing images:  87%|████████▋ | 174/200 [12:15<02:00,  4.65s/it]"
     ]
    },
    {
     "name": "stdout",
     "output_type": "stream",
     "text": [
      "{\n",
      "\n",
      "  \"DESCRIPTION\": \"The image shows a section of a sewer pipe with a visible defect. The pipe appears to be made of PVC and is in a state of disrepair. There is a noticeable crack running along the length of the pipe, with the pipe material visibly fractured and separated at the point of the crack. The surrounding area is not well-lit, and there is no visible water flow within the pipe. The image is taken from an angle that does not show the entire length of the pipe, and the focus is on the defect itself.\",\n",
      "\n",
      "  \"CODE\": \"RB\"\n",
      "\n",
      "}\n",
      "Image ID: 01225283.png | Predicted: RB | Ground Truth: PF\n",
      "\n"
     ]
    },
    {
     "name": "stderr",
     "output_type": "stream",
     "text": [
      "Processing images:  88%|████████▊ | 175/200 [12:19<01:54,  4.57s/it]"
     ]
    },
    {
     "name": "stdout",
     "output_type": "stream",
     "text": [
      "{\n",
      "\n",
      "  \"DESCRIPTION\": \"The image shows a section of a sewer pipe with a clear view of the interior. The pipe appears to be made of a dark material, possibly PVC, and is partially filled with water. The lighting conditions are dim, and there are no visible signs of damage or blockages. The pipe's surface looks smooth and unbroken, with no cracks, collapses, or deformations apparent.\",\n",
      "\n",
      "  \"CODE\": \"NoDefect\"\n",
      "\n",
      "}\n",
      "Image ID: 00773677.png | Predicted: NoDefect | Ground Truth: PF\n",
      "\n"
     ]
    },
    {
     "name": "stderr",
     "output_type": "stream",
     "text": [
      "Processing images:  88%|████████▊ | 176/200 [12:23<01:43,  4.30s/it]"
     ]
    },
    {
     "name": "stdout",
     "output_type": "stream",
     "text": [
      "{\n",
      "  \"DESCRIPTION\": \"The image shows a section of a sewer pipe with a visible crack running vertically down the center. The surrounding area appears to be dirty and there are some debris particles visible in the water. The lighting conditions are dim, and the pipe material looks like concrete. There are no visible signs of roots or other obstructions.\",\n",
      "  \"CODE\": \"RB\"\n",
      "}\n",
      "Image ID: 00189308.png | Predicted: RB | Ground Truth: RB\n",
      "\n"
     ]
    },
    {
     "name": "stderr",
     "output_type": "stream",
     "text": [
      "Processing images:  88%|████████▊ | 177/200 [12:26<01:34,  4.13s/it]"
     ]
    },
    {
     "name": "stdout",
     "output_type": "stream",
     "text": [
      "{\n",
      "\n",
      "  \"DESCRIPTION\": \"The image shows a section of a sewer pipe with a dark, murky interior. The pipe appears to be made of concrete and is partially filled with water. There are visible signs of wear and erosion on the pipe's surface, and the lighting conditions are dim, making it difficult to discern finer details.\",\n",
      "\n",
      "  \"CODE\": \"OB\"\n",
      "\n",
      "}\n",
      "Image ID: 00251271.png | Predicted: OB | Ground Truth: NoDefect\n",
      "\n"
     ]
    },
    {
     "name": "stderr",
     "output_type": "stream",
     "text": [
      "Processing images:  89%|████████▉ | 178/200 [12:31<01:32,  4.20s/it]"
     ]
    },
    {
     "name": "stdout",
     "output_type": "stream",
     "text": [
      "{\n",
      "  \"DESCRIPTION\": \"The image shows a section of a sewer pipe with a rough, uneven surface. There are visible signs of wear and erosion, with some areas appearing darker, possibly indicating deeper damage or debris accumulation. The lighting conditions are dim, and the pipe appears to be made of concrete. There are no clear indications of roots, cracks, breaks, or collapses, but the surface damage is noticeable.\",\n",
      "  \"CODE\": \"OB\"\n",
      "}\n",
      "Image ID: 00583788.png | Predicted: OB | Ground Truth: RO\n",
      "\n"
     ]
    },
    {
     "name": "stderr",
     "output_type": "stream",
     "text": [
      "Processing images:  90%|████████▉ | 179/200 [12:35<01:28,  4.20s/it]"
     ]
    },
    {
     "name": "stdout",
     "output_type": "stream",
     "text": [
      "{\n",
      "\n",
      "  \"DESCRIPTION\": \"The image shows a sewer pipe with a gradient of colors from dark at the bottom to light at the top, suggesting a light source from above. The pipe appears to be intact with no visible signs of cracks, breaks, or collapses. There are no roots or significant surface damage visible. The pipe seems to be in good condition with no production errors or deformations apparent.\",\n",
      "\n",
      "  \"CODE\": \"NoDefect\"\n",
      "\n",
      "}\n",
      "Image ID: 00998155.png | Predicted: NoDefect | Ground Truth: NoDefect\n",
      "\n"
     ]
    },
    {
     "name": "stderr",
     "output_type": "stream",
     "text": [
      "Processing images:  90%|█████████ | 180/200 [12:41<01:32,  4.64s/it]"
     ]
    },
    {
     "name": "stdout",
     "output_type": "stream",
     "text": [
      "{\n",
      "  \"DESCRIPTION\": \"The image shows a section of a sewer pipe with a rough, textured surface. The lighting conditions are dim, and the pipe appears to be made of concrete. There is visible water flowing through the pipe, and no significant blockages or roots are apparent. The image is taken from an angle that shows the interior of the pipe, with a focus on the central area where the pipe bends. The surface of the pipe shows signs of wear and erosion, with some areas appearing more damaged than others. There are no obvious cracks or breaks, but the pipe does not appear to be in pristine condition.\",\n",
      "  \"CODE\": \"OB\"\n",
      "}\n",
      "Image ID: 00071719.png | Predicted: OB | Ground Truth: RB\n",
      "\n"
     ]
    },
    {
     "name": "stderr",
     "output_type": "stream",
     "text": [
      "Processing images:  90%|█████████ | 181/200 [12:46<01:33,  4.91s/it]"
     ]
    },
    {
     "name": "stdout",
     "output_type": "stream",
     "text": [
      "{\n",
      "\n",
      "  \"DESCRIPTION\": \"The image shows a section of a sewer pipe with a dark, possibly wet surface. There are visible signs of wear and erosion on the pipe's interior, with some areas appearing to have pitting or scaling. The lighting conditions are uneven, with some areas illuminated and others in shadow, making it difficult to assess the full extent of the damage. The pipe appears to be made of a dark material, possibly PVC or a similar plastic, and there is no visible water flow within the pipe. There are no obvious signs of roots or other obstructions.\",\n",
      "\n",
      "  \"CODE\": \"OB\"\n",
      "\n",
      "}\n",
      "Image ID: 00904368.png | Predicted: OB | Ground Truth: RO\n",
      "\n"
     ]
    },
    {
     "name": "stderr",
     "output_type": "stream",
     "text": [
      "Processing images:  91%|█████████ | 182/200 [12:51<01:27,  4.85s/it]"
     ]
    },
    {
     "name": "stdout",
     "output_type": "stream",
     "text": [
      "{\n",
      "\n",
      "  \"DESCRIPTION\": \"The image shows a section of a sewer pipe with a clear view of its interior. The pipe appears to be made of a dark material, possibly PVC, and is set against a bright yellow background. There is a visible circular opening at the top of the pipe, and the surface of the pipe is smooth with no visible signs of damage or blockages. The lighting conditions are bright, and there are no visible roots or deformations in the pipe.\",\n",
      "\n",
      "  \"CODE\": \"NoDefect\"\n",
      "\n",
      "}\n",
      "Image ID: 00795294.png | Predicted: NoDefect | Ground Truth: NoDefect\n",
      "\n"
     ]
    },
    {
     "name": "stderr",
     "output_type": "stream",
     "text": [
      "Processing images:  92%|█████████▏| 183/200 [12:56<01:24,  4.98s/it]"
     ]
    },
    {
     "name": "stdout",
     "output_type": "stream",
     "text": [
      "{\n",
      "\n",
      "  \"DESCRIPTION\": \"The image shows a view of a sewer pipe with a reddish-brown color, likely indicating rust or sediment buildup. The lighting is dim, and the image is not very clear, making it difficult to discern finer details. The pipe appears to be made of concrete, and there is no visible water flow. There are no obvious signs of cracks, breaks, or collapses, and no roots are visible. The surface shows some minor scratches and pitting, suggesting some level of wear or damage.\",\n",
      "\n",
      "  \"CODE\": \"OB\"\n",
      "\n",
      "}\n",
      "Image ID: 00221213.png | Predicted: OB | Ground Truth: NoDefect\n",
      "\n"
     ]
    },
    {
     "name": "stderr",
     "output_type": "stream",
     "text": [
      "Processing images:  92%|█████████▏| 184/200 [13:00<01:16,  4.75s/it]"
     ]
    },
    {
     "name": "stdout",
     "output_type": "stream",
     "text": [
      "{\n",
      "\n",
      "  \"DESCRIPTION\": \"The image shows a view of a sewer pipe with a bright orange and yellow glow, possibly due to lighting or reflections. The pipe appears to be in a state of disrepair with visible signs of damage. There are no clear indications of the pipe's material or the presence of water. The image is not clear enough to determine the exact type of defects present.\",\n",
      "\n",
      "  \"CODE\": \"NoDefect\"\n",
      "\n",
      "}\n",
      "Image ID: 00298504.png | Predicted: NoDefect | Ground Truth: NoDefect\n",
      "\n"
     ]
    },
    {
     "name": "stderr",
     "output_type": "stream",
     "text": [
      "Processing images:  92%|█████████▎| 185/200 [13:04<01:06,  4.46s/it]"
     ]
    },
    {
     "name": "stdout",
     "output_type": "stream",
     "text": [
      "{\n",
      "  \"DESCRIPTION\": \"The image shows a sewer pipe with a clear view of the interior. The pipe appears to be made of concrete and is partially filled with water. The lighting is bright, possibly from an overhead source, and there are no visible signs of damage or blockages. The walls of the pipe are smooth and there are no cracks or breaks visible.\",\n",
      "  \"CODE\": \"NoDefect\"\n",
      "}\n",
      "Image ID: 01085889.png | Predicted: NoDefect | Ground Truth: OB\n",
      "\n"
     ]
    },
    {
     "name": "stderr",
     "output_type": "stream",
     "text": [
      "Processing images:  93%|█████████▎| 186/200 [13:09<01:02,  4.48s/it]"
     ]
    },
    {
     "name": "stdout",
     "output_type": "stream",
     "text": [
      "{\n",
      "\n",
      "  \"DESCRIPTION\": \"The image shows a sewer pipe with a visible interior surface. The lighting conditions are dim, and the pipe appears to be made of concrete. There are no visible signs of water flow, and the surface of the pipe shows some signs of wear and erosion. There are no obvious cracks, breaks, or collapses, and no roots are visible. The pipe seems to be in a relatively good condition with some surface damage.\",\n",
      "\n",
      "  \"CODE\": \"OB\"\n",
      "\n",
      "}\n",
      "Image ID: 00975300.png | Predicted: OB | Ground Truth: NoDefect\n",
      "\n"
     ]
    },
    {
     "name": "stderr",
     "output_type": "stream",
     "text": [
      "Processing images:  94%|█████████▎| 187/200 [13:13<00:59,  4.55s/it]"
     ]
    },
    {
     "name": "stdout",
     "output_type": "stream",
     "text": [
      "{\n",
      "\n",
      "  \"DESCRIPTION\": \"The image shows a close-up view of a sewer pipe with a reflective surface, likely made of a metallic material. The lighting conditions are bright, and the pipe appears to be in a clean state with no visible signs of blockages or roots. The pipe's interior is smooth, and there are no obvious signs of surface damage or deformations. The image is clear, and the edges of the pipe are well-defined.\",\n",
      "\n",
      "  \"CODE\": \"NoDefect\"\n",
      "\n",
      "}\n",
      "Image ID: 01145726.png | Predicted: NoDefect | Ground Truth: DE\n",
      "\n"
     ]
    },
    {
     "name": "stderr",
     "output_type": "stream",
     "text": [
      "Processing images:  94%|█████████▍| 188/200 [13:18<00:53,  4.46s/it]"
     ]
    },
    {
     "name": "stdout",
     "output_type": "stream",
     "text": [
      "{\n",
      "\n",
      "  \"DESCRIPTION\": \"The image shows a sewer pipe with a dark, almost black interior suggesting the presence of waste or debris. The surface of the pipe appears smooth with no visible cracks or breaks. There is no evidence of roots or significant surface damage. The lighting conditions are dim, and the image is taken from a distance, making it difficult to assess the pipe's material or thickness.\",\n",
      "\n",
      "  \"CODE\": \"NoDefect\"\n",
      "\n",
      "}\n",
      "Image ID: 00255694.png | Predicted: NoDefect | Ground Truth: NoDefect\n",
      "\n"
     ]
    },
    {
     "name": "stderr",
     "output_type": "stream",
     "text": [
      "Processing images:  94%|█████████▍| 189/200 [13:22<00:47,  4.35s/it]"
     ]
    },
    {
     "name": "stdout",
     "output_type": "stream",
     "text": [
      "{\n",
      "  \"DESCRIPTION\": \"The image shows a section of a sewer pipe with a clear view of the interior. The pipe appears to be made of concrete and is partially submerged in water. There is visible debris and a small amount of standing water at the bottom of the pipe. The lighting conditions are dim, and the image is somewhat blurry, making it difficult to discern finer details.\",\n",
      "  \"CODE\": \"NoDefect\"\n",
      "}\n",
      "Image ID: 00615828.png | Predicted: NoDefect | Ground Truth: RO\n",
      "\n"
     ]
    },
    {
     "name": "stderr",
     "output_type": "stream",
     "text": [
      "Processing images:  95%|█████████▌| 190/200 [13:26<00:41,  4.17s/it]"
     ]
    },
    {
     "name": "stdout",
     "output_type": "stream",
     "text": [
      "{\n",
      "\n",
      "  \"DESCRIPTION\": \"The image shows a section of a sewer pipe with a dark interior, likely indicating the presence of water. The surface of the pipe appears to be rough and uneven, with some areas showing signs of wear or damage. There are no visible cracks or breaks, but the pipe does not appear to be in pristine condition.\",\n",
      "\n",
      "  \"CODE\": \"OB\"\n",
      "\n",
      "}\n",
      "Image ID: 01164967.png | Predicted: OB | Ground Truth: RO\n",
      "\n"
     ]
    },
    {
     "name": "stderr",
     "output_type": "stream",
     "text": [
      "Processing images:  96%|█████████▌| 191/200 [13:29<00:36,  4.04s/it]"
     ]
    },
    {
     "name": "stdout",
     "output_type": "stream",
     "text": [
      "{\n",
      "\n",
      "  \"DESCRIPTION\": \"The image shows a section of a sewer pipe with a visible crack running vertically along its length. The pipe appears to be made of concrete and is situated in a dark environment, possibly underground. There is no visible water flow, and the surrounding area is not clearly visible due to the angle and focus on the pipe.\",\n",
      "\n",
      "  \"CODE\": \"RB\"\n",
      "\n",
      "}\n",
      "Image ID: 00932585.png | Predicted: RB | Ground Truth: NoDefect\n",
      "\n"
     ]
    },
    {
     "name": "stderr",
     "output_type": "stream",
     "text": [
      "Processing images:  96%|█████████▌| 192/200 [13:34<00:32,  4.11s/it]"
     ]
    },
    {
     "name": "stdout",
     "output_type": "stream",
     "text": [
      "{\n",
      "\n",
      "  \"DESCRIPTION\": \"The image shows a section of a sewer pipe with a smooth, unbroken surface and no visible signs of damage or blockages. The lighting conditions are even, and the pipe appears to be in good condition with no cracks, breaks, or collapses. There is no evidence of roots or surface damage, and the pipe's interior is clear of any obstructions.\",\n",
      "\n",
      "  \"CODE\": \"NoDefect\"\n",
      "\n",
      "}\n",
      "Image ID: 00210684.png | Predicted: NoDefect | Ground Truth: NoDefect\n",
      "\n"
     ]
    },
    {
     "name": "stderr",
     "output_type": "stream",
     "text": [
      "Processing images:  96%|█████████▋| 193/200 [13:38<00:28,  4.11s/it]"
     ]
    },
    {
     "name": "stdout",
     "output_type": "stream",
     "text": [
      "{\n",
      "\n",
      "  \"DESCRIPTION\": \"The image shows a sewer pipe with a smooth, unbroken surface and no visible signs of damage or blockages. The lighting conditions are even, and the pipe appears to be in good condition with no cracks, breaks, or collapses. There is no evidence of roots or surface damage, and the pipe's interior is clear of any obstructions.\",\n",
      "\n",
      "  \"CODE\": \"NoDefect\"\n",
      "\n",
      "}\n",
      "Image ID: 00582609.png | Predicted: NoDefect | Ground Truth: NoDefect\n",
      "\n"
     ]
    },
    {
     "name": "stderr",
     "output_type": "stream",
     "text": [
      "Processing images:  97%|█████████▋| 194/200 [13:41<00:23,  3.96s/it]"
     ]
    },
    {
     "name": "stdout",
     "output_type": "stream",
     "text": [
      "{\n",
      "\n",
      "  \"DESCRIPTION\": \"The image shows a section of a sewer pipe with a visible crack running vertically down the center. The lighting conditions are dim, and the pipe appears to be made of concrete. There is no visible water flow, and the surrounding area is not clearly visible due to the angle and focus of the image.\",\n",
      "\n",
      "  \"CODE\": \"RB\"\n",
      "\n",
      "}\n",
      "Image ID: 00225888.png | Predicted: RB | Ground Truth: RB\n",
      "\n"
     ]
    },
    {
     "name": "stderr",
     "output_type": "stream",
     "text": [
      "Processing images:  98%|█████████▊| 195/200 [13:45<00:19,  3.97s/it]"
     ]
    },
    {
     "name": "stdout",
     "output_type": "stream",
     "text": [
      "{\n",
      "\n",
      "  \"DESCRIPTION\": \"The image shows a sewer pipe with a smooth, unbroken surface and no visible signs of damage or blockages. The lighting conditions are bright, highlighting the interior of the pipe. The pipe appears to be made of a solid material, possibly concrete or PVC, and there is water flowing through it.\",\n",
      "\n",
      "  \"CODE\": \"NoDefect\"\n",
      "\n",
      "}\n",
      "Image ID: 01174815.png | Predicted: NoDefect | Ground Truth: PF\n",
      "\n"
     ]
    },
    {
     "name": "stderr",
     "output_type": "stream",
     "text": [
      "Processing images:  98%|█████████▊| 196/200 [13:49<00:15,  3.95s/it]"
     ]
    },
    {
     "name": "stdout",
     "output_type": "stream",
     "text": [
      "{\n",
      "\n",
      "  \"DESCRIPTION\": \"The image shows a section of a sewer pipe with a darkened area indicating a possible blockage or obstruction. The pipe appears to be made of concrete and is partially covered with debris and roots. There are no visible signs of cracks, breaks, or collapses, and the surface shows some signs of wear but no significant damage.\",\n",
      "\n",
      "  \"CODE\": \"NoDefect\"\n",
      "\n",
      "}\n",
      "Image ID: 01076125.png | Predicted: NoDefect | Ground Truth: RO\n",
      "\n"
     ]
    },
    {
     "name": "stderr",
     "output_type": "stream",
     "text": [
      "Processing images:  98%|█████████▊| 197/200 [13:53<00:11,  3.85s/it]"
     ]
    },
    {
     "name": "stdout",
     "output_type": "stream",
     "text": [
      "{\n",
      "  \"DESCRIPTION\": \"The image shows a section of a sewer pipe with a visible crack running vertically down the center. The pipe appears to be made of concrete and is in a dark environment, possibly underground. There is no visible water in the image, and the lighting conditions are dim, making it difficult to assess the full extent of the damage.\",\n",
      "  \"CODE\": \"RB\"\n",
      "}\n",
      "Image ID: 00190227.png | Predicted: RB | Ground Truth: RB\n",
      "\n"
     ]
    },
    {
     "name": "stderr",
     "output_type": "stream",
     "text": [
      "Processing images:  99%|█████████▉| 198/200 [13:57<00:07,  3.98s/it]"
     ]
    },
    {
     "name": "stdout",
     "output_type": "stream",
     "text": [
      "{\n",
      "\n",
      "  \"DESCRIPTION\": \"The image shows a section of a sewer pipe with a dark, shadowy area at the top, possibly indicating a light source or an opening. The surface of the pipe appears to be rough and uneven with visible signs of wear and tear. There are no clear indications of cracks, breaks, or collapses, but the pipe does show signs of surface damage and deformations.\",\n",
      "\n",
      "  \"CODE\": \"OB, DE\"\n",
      "\n",
      "}\n",
      "Image ID: 01001126.png | Predicted: OB, DE | Ground Truth: RB\n",
      "\n"
     ]
    },
    {
     "name": "stderr",
     "output_type": "stream",
     "text": [
      "Processing images: 100%|█████████▉| 199/200 [14:02<00:04,  4.15s/it]"
     ]
    },
    {
     "name": "stdout",
     "output_type": "stream",
     "text": [
      "{\n",
      "\n",
      "  \"DESCRIPTION\": \"The image shows a section of a sewer pipe with a yellowish hue, possibly due to the material or lighting conditions. The pipe appears to be made of concrete and is partially filled with water. There is a visible crack running vertically through the center of the pipe, which is a significant defect. No other defects such as roots, production errors, or deformations are visible in the image.\",\n",
      "\n",
      "  \"CODE\": \"RB\"\n",
      "\n",
      "}\n",
      "Image ID: 00835200.png | Predicted: RB | Ground Truth: DE\n",
      "\n"
     ]
    },
    {
     "name": "stderr",
     "output_type": "stream",
     "text": [
      "Processing images: 100%|██████████| 200/200 [14:06<00:00,  4.23s/it]"
     ]
    },
    {
     "name": "stdout",
     "output_type": "stream",
     "text": [
      "{\n",
      "\n",
      "  \"DESCRIPTION\": \"The image shows a sewer pipe with a smooth, unbroken surface and no visible signs of damage or blockages. The lighting conditions are even, and the pipe appears to be in good condition with no evidence of cracks, breaks, collapses, or deformations. There is no visible presence of roots or other obstructions.\",\n",
      "\n",
      "  \"CODE\": \"NoDefect\"\n",
      "\n",
      "}\n",
      "Image ID: 00507208.png | Predicted: NoDefect | Ground Truth: PF\n",
      "\n"
     ]
    },
    {
     "name": "stderr",
     "output_type": "stream",
     "text": [
      "\n",
      "/usr/local/lib/python3.10/dist-packages/sklearn/metrics/_classification.py:1531: UndefinedMetricWarning: Precision is ill-defined and being set to 0.0 in labels with no predicted samples. Use `zero_division` parameter to control this behavior.\n",
      "  _warn_prf(average, modifier, f\"{metric.capitalize()} is\", len(result))\n",
      "/usr/local/lib/python3.10/dist-packages/sklearn/metrics/_classification.py:1531: UndefinedMetricWarning: Recall is ill-defined and being set to 0.0 in labels with no true samples. Use `zero_division` parameter to control this behavior.\n",
      "  _warn_prf(average, modifier, f\"{metric.capitalize()} is\", len(result))\n",
      "/usr/local/lib/python3.10/dist-packages/sklearn/metrics/_classification.py:1531: UndefinedMetricWarning: Precision is ill-defined and being set to 0.0 in labels with no predicted samples. Use `zero_division` parameter to control this behavior.\n",
      "  _warn_prf(average, modifier, f\"{metric.capitalize()} is\", len(result))\n",
      "/usr/local/lib/python3.10/dist-packages/sklearn/metrics/_classification.py:1531: UndefinedMetricWarning: Recall is ill-defined and being set to 0.0 in labels with no true samples. Use `zero_division` parameter to control this behavior.\n",
      "  _warn_prf(average, modifier, f\"{metric.capitalize()} is\", len(result))\n",
      "/usr/local/lib/python3.10/dist-packages/sklearn/metrics/_classification.py:1531: UndefinedMetricWarning: Precision is ill-defined and being set to 0.0 in labels with no predicted samples. Use `zero_division` parameter to control this behavior.\n",
      "  _warn_prf(average, modifier, f\"{metric.capitalize()} is\", len(result))\n",
      "/usr/local/lib/python3.10/dist-packages/sklearn/metrics/_classification.py:1531: UndefinedMetricWarning: Recall is ill-defined and being set to 0.0 in labels with no true samples. Use `zero_division` parameter to control this behavior.\n",
      "  _warn_prf(average, modifier, f\"{metric.capitalize()} is\", len(result))\n"
     ]
    }
   ],
   "source": [
    "import os\n",
    "import torch\n",
    "from PIL import Image\n",
    "from transformers import AutoModelForCausalLM, AutoProcessor\n",
    "import pandas as pd\n",
    "from sklearn.metrics import accuracy_score, f1_score, classification_report\n",
    "from tqdm import tqdm\n",
    "import json\n",
    "\n",
    "\n",
    "# Open log file\n",
    "log_path = './results/new_prompt/phi/'\n",
    "os.makedirs(log_path, exist_ok=True)\n",
    "log_file = os.path.join(log_path, 'prediction_log.txt')\n",
    "log_file = open(log_file, 'w')\n",
    "\n",
    "# Load data\n",
    "df_table_prd = pd.read_csv('../LMM_sewerML/results/df_table_prd.csv')\n",
    "df_table_dsc = pd.read_csv('../LMM_sewerML/results/df_table_dsc.csv')\n",
    "image_dir = '../LMM_sewerML/images'\n",
    "\n",
    "# Load model and processor\n",
    "model_id = \"microsoft/Phi-3.5-vision-instruct\"\n",
    "model = AutoModelForCausalLM.from_pretrained(\n",
    "    model_id,\n",
    "    device_map=\"cuda\",\n",
    "    trust_remote_code=True,\n",
    "    torch_dtype=\"auto\",\n",
    "    _attn_implementation='eager'\n",
    ")\n",
    "processor = AutoProcessor.from_pretrained(\n",
    "    model_id,\n",
    "    trust_remote_code=True,\n",
    "    num_crops=4  # Setting for single-frame performance\n",
    ")\n",
    "\n",
    "# Define the prompt template\n",
    "prompt_template = \"\"\"\n",
    "You are a virtual sewer technician with the capability to analyze images from CCTV cameras taken inside sewer pipes.\n",
    "Your task is to examine each image and provide a concise, yet accurate, summary for retrieval. \n",
    "After summarizing, you must classify the image as defect types.\n",
    "While providing the summary, remember the following guidelines:\"\n",
    "1) Provide a general overview of the image that you see, describing important elements such image clarity, lighting conditions, type of pipe (concrete, PVC, ...), presence of water.\n",
    "2) Check for defects in the sewer pipes in the image.\n",
    "3) Pipes in good condition usually show a smooth, unbroken surface, no visible signs of damage like cracks or collapses, and an absence of blockages such as roots.\n",
    "4) On the other hand, you can have the following defects:\n",
    "4a)Cracks, Breaks, and Collapses (RB): Identify visible cracks along the pipe, instances where the pipe has fractured or completely broken apart, and areas where the pipe has collapsed.\n",
    "This includes longitudinal cracks, circumferential breaks, and complete structural failures that compromise the integrity of the sewer system.\n",
    "4b)Surface Damage (OB): Detect areas of the pipe's interior that exhibit signs of wear, erosion, or damage on the surface.\n",
    "This includes minor scratches, pitting, scaling, or any form of deterioration that affects the pipe's surface but does not necessarily penetrate deeply into the structure.\n",
    "4c) Production Error (PF): Identify defects that originated during the pipe's manufacturing process, such as inconsistent pipe thickness, improper joint alignment, or material imperfections.\n",
    "These are flaws that were introduced before installation and could potentially affect the pipe's performance or longevity.\n",
    "4d) Deformations (DE): Recognize any alterations in the shape of the pipe, such as bending, sagging, or bulging, that indicate a deformation.\n",
    "This includes both minor deformations that may affect flow efficiency and major deformations that threaten the pipe's structural integrity.\n",
    "4e) Roots (RO): Detect the presence of roots infiltrating the sewer pipe, whether through joints, cracks, or other vulnerabilities.\n",
    "This involves identifying both the initial stages of root intrusion and the more advanced stages where roots have significantly obstructed the pipe.\n",
    "5) Additional considerations while analyzing the images: do not consider blurred text or user-defined circled areas in the images.\n",
    "6) You will always try to describe the image that you see. Provide the output in JSON format as follows:\n",
    "\n",
    "{ \"DESCRIPTION\": \"<Description of the image that you see>\", \"CODE\": \"<Defect Code>\"}\n",
    "\n",
    "Note: The \"CODE\" includes \"RB\", \"OB\", \"PF\", \"DE\", \"RO\". If no defect is detected, set \"CODE\" to \"NoDefect\".\n",
    "\"\"\"\n",
    "\n",
    "# Store predictions and actual labels\n",
    "predictions = []\n",
    "actual_labels = []\n",
    "descriptions = []\n",
    "\n",
    "\n",
    "# Add tqdm progress bar\n",
    "for idx, row in tqdm(df_table_prd.iterrows(), total=len(df_table_prd), desc=\"Processing images\"):\n",
    "    img_id = row['img_id']\n",
    "    ground_truth = row['defect_type']\n",
    "    img_path = os.path.join(image_dir, img_id)\n",
    "    \n",
    "    # Check if image file exists\n",
    "    if not os.path.exists(img_path):\n",
    "        log_file.write(f\"Image {img_id} not found. Skipping.\\n\")\n",
    "        continue\n",
    "\n",
    "    # Load image\n",
    "    image = Image.open(img_path)\n",
    "    images = [image]\n",
    "    placeholder = \"<|image_1|>\\n\"\n",
    "    \n",
    "    # Create prompt with image placeholder\n",
    "    messages = [\n",
    "        {\"role\": \"user\", \"content\": placeholder + prompt_template}\n",
    "    ]\n",
    "    prompt = processor.tokenizer.apply_chat_template(\n",
    "        messages,\n",
    "        tokenize=False,\n",
    "        add_generation_prompt=True\n",
    "    )\n",
    "\n",
    "    # Prepare inputs\n",
    "    inputs = processor(prompt, images, return_tensors=\"pt\").to(\"cuda:0\")\n",
    "\n",
    "    # Generate output\n",
    "    generation_args = {\n",
    "        \"max_new_tokens\": 1024,\n",
    "        \"temperature\": 0.0,\n",
    "        \"do_sample\": False,\n",
    "    }\n",
    "    with torch.inference_mode():\n",
    "        generate_ids = model.generate(\n",
    "            **inputs,\n",
    "            eos_token_id=processor.tokenizer.eos_token_id,\n",
    "            **generation_args\n",
    "        )\n",
    "\n",
    "        # Process output\n",
    "        generate_ids = generate_ids[:, inputs['input_ids'].shape[1]:]\n",
    "        response = processor.batch_decode(\n",
    "            generate_ids,\n",
    "            skip_special_tokens=True,\n",
    "            clean_up_tokenization_spaces=False\n",
    "        )[0]\n",
    "        \n",
    "    if response.startswith(\"```\"):\n",
    "        cleaned_response_text = response.split('\\n', 1)[-1].rsplit('\\n', 1)[0].strip()\n",
    "    else:\n",
    "        cleaned_response_text = response.strip()\n",
    "    print(cleaned_response_text)\n",
    "    # Extract defect prediction and description from model output\n",
    "    try:\n",
    "        # Attempt to parse the response as JSON\n",
    "        response_json = json.loads(cleaned_response_text)\n",
    "        description = response_json.get(\"DESCRIPTION\", \"No description provided\")\n",
    "        predicted_defect = response_json.get(\"CODE\", \"NoDefect\")\n",
    "    except json.JSONDecodeError:\n",
    "        # Handle cases where the response is not valid JSON\n",
    "        log_file.write(f\"Invalid JSON response for Image ID {img_id}: {response}\\n\")\n",
    "        description = \"Error in JSON response\"\n",
    "        predicted_defect = \"Error\"\n",
    "\n",
    "    # Append results to lists\n",
    "    predictions.append(predicted_defect)\n",
    "    actual_labels.append(ground_truth)\n",
    "    descriptions.append(description)\n",
    "\n",
    "    # Log intermediate outputs\n",
    "    print()\n",
    "    log_file.write(f\"Image ID: {img_id} | Predicted: {predicted_defect} | Ground Truth: {ground_truth}\\n\")\n",
    "\n",
    "# Calculate evaluation metrics\n",
    "accuracy = accuracy_score(actual_labels, predictions)\n",
    "f1 = f1_score(actual_labels, predictions, average='weighted')\n",
    "report = classification_report(actual_labels, predictions)\n",
    "\n",
    "log_file.write(f\"\\nAccuracy: {accuracy:.4f}\\n\")\n",
    "log_file.write(f\"F1 Score: {f1:.4f}\\n\")\n",
    "log_file.write(\"\\nClassification Report:\\n\")\n",
    "log_file.write(report)\n",
    "\n",
    "# Close log file\n",
    "log_file.close()\n",
    "\n",
    "# Save results to CSV files\n",
    "df_table_prd['phi-3.5'] = predictions\n",
    "df_table_prd.to_csv(log_path + 'df_table_prd.csv', index=False)\n",
    "\n",
    "df_table_dsc['phi-3.5'] = descriptions\n",
    "df_table_dsc.to_csv(log_path + 'df_table_dsc.csv', index=False)\n"
   ]
  }
 ],
 "metadata": {
  "kernelspec": {
   "display_name": "Python 3 (ipykernel)",
   "language": "python",
   "name": "python3"
  },
  "language_info": {
   "codemirror_mode": {
    "name": "ipython",
    "version": 3
   },
   "file_extension": ".py",
   "mimetype": "text/x-python",
   "name": "python",
   "nbconvert_exporter": "python",
   "pygments_lexer": "ipython3",
   "version": "3.10.12"
  }
 },
 "nbformat": 4,
 "nbformat_minor": 5
}
