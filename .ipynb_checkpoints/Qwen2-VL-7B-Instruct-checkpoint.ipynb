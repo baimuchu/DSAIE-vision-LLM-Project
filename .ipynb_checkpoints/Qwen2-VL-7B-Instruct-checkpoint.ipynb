{
 "cells": [
  {
   "cell_type": "markdown",
   "id": "64768960-c896-4564-b44c-35324fd60f2c",
   "metadata": {},
   "source": [
    "# Qwen2-VL-7B-Instruct"
   ]
  },
  {
   "cell_type": "code",
   "execution_count": 1,
   "id": "bd3deda5-abdd-4e5b-b0fe-173ae44b0455",
   "metadata": {},
   "outputs": [
    {
     "name": "stdout",
     "output_type": "stream",
     "text": [
      "Requirement already satisfied: pip in /usr/local/lib/python3.11/dist-packages (24.2)\n",
      "Collecting pip\n",
      "  Downloading pip-24.3.1-py3-none-any.whl.metadata (3.7 kB)\n",
      "Downloading pip-24.3.1-py3-none-any.whl (1.8 MB)\n",
      "\u001b[2K   \u001b[90m━━━━━━━━━━━━━━━━━━━━━━━━━━━━━━━━━━━━━━━━\u001b[0m \u001b[32m1.8/1.8 MB\u001b[0m \u001b[31m123.2 MB/s\u001b[0m eta \u001b[36m0:00:00\u001b[0m\n",
      "\u001b[?25hInstalling collected packages: pip\n",
      "  Attempting uninstall: pip\n",
      "    Found existing installation: pip 24.2\n",
      "    Uninstalling pip-24.2:\n",
      "      Successfully uninstalled pip-24.2\n",
      "Successfully installed pip-24.3.1\n",
      "\u001b[33mWARNING: Running pip as the 'root' user can result in broken permissions and conflicting behaviour with the system package manager, possibly rendering your system unusable.It is recommended to use a virtual environment instead: https://pip.pypa.io/warnings/venv. Use the --root-user-action option if you know what you are doing and want to suppress this warning.\u001b[0m\u001b[33m\n",
      "\u001b[0m"
     ]
    }
   ],
   "source": [
    "! python -m pip install --upgrade pip"
   ]
  },
  {
   "cell_type": "code",
   "execution_count": 2,
   "id": "eb180d0e-7446-4f5f-ab42-e7af7fd558cb",
   "metadata": {},
   "outputs": [
    {
     "name": "stdout",
     "output_type": "stream",
     "text": [
      "Collecting git+https://github.com/huggingface/transformers\n",
      "  Cloning https://github.com/huggingface/transformers to /tmp/pip-req-build-_i5gd5gj\n",
      "  Running command git clone --filter=blob:none --quiet https://github.com/huggingface/transformers /tmp/pip-req-build-_i5gd5gj\n",
      "  Resolved https://github.com/huggingface/transformers to commit c8c8dffbe45ebef0a8dba4a51024e5e5e498596b\n",
      "  Installing build dependencies ... \u001b[?25ldone\n",
      "\u001b[?25h  Getting requirements to build wheel ... \u001b[?25ldone\n",
      "\u001b[?25h  Preparing metadata (pyproject.toml) ... \u001b[?25ldone\n",
      "\u001b[?25hRequirement already satisfied: filelock in /usr/local/lib/python3.11/dist-packages (from transformers==4.48.0.dev0) (3.13.1)\n",
      "Collecting huggingface-hub<1.0,>=0.24.0 (from transformers==4.48.0.dev0)\n",
      "  Downloading huggingface_hub-0.26.5-py3-none-any.whl.metadata (13 kB)\n",
      "Requirement already satisfied: numpy>=1.17 in /usr/local/lib/python3.11/dist-packages (from transformers==4.48.0.dev0) (1.26.3)\n",
      "Requirement already satisfied: packaging>=20.0 in /usr/local/lib/python3.11/dist-packages (from transformers==4.48.0.dev0) (24.1)\n",
      "Requirement already satisfied: pyyaml>=5.1 in /usr/local/lib/python3.11/dist-packages (from transformers==4.48.0.dev0) (6.0.2)\n",
      "Collecting regex!=2019.12.17 (from transformers==4.48.0.dev0)\n",
      "  Downloading regex-2024.11.6-cp311-cp311-manylinux_2_17_x86_64.manylinux2014_x86_64.whl.metadata (40 kB)\n",
      "Requirement already satisfied: requests in /usr/local/lib/python3.11/dist-packages (from transformers==4.48.0.dev0) (2.32.3)\n",
      "Collecting tokenizers<0.22,>=0.21 (from transformers==4.48.0.dev0)\n",
      "  Downloading tokenizers-0.21.0-cp39-abi3-manylinux_2_17_x86_64.manylinux2014_x86_64.whl.metadata (6.7 kB)\n",
      "Collecting safetensors>=0.4.1 (from transformers==4.48.0.dev0)\n",
      "  Downloading safetensors-0.4.5-cp311-cp311-manylinux_2_17_x86_64.manylinux2014_x86_64.whl.metadata (3.8 kB)\n",
      "Collecting tqdm>=4.27 (from transformers==4.48.0.dev0)\n",
      "  Downloading tqdm-4.67.1-py3-none-any.whl.metadata (57 kB)\n",
      "Requirement already satisfied: fsspec>=2023.5.0 in /usr/local/lib/python3.11/dist-packages (from huggingface-hub<1.0,>=0.24.0->transformers==4.48.0.dev0) (2024.2.0)\n",
      "Requirement already satisfied: typing-extensions>=3.7.4.3 in /usr/local/lib/python3.11/dist-packages (from huggingface-hub<1.0,>=0.24.0->transformers==4.48.0.dev0) (4.9.0)\n",
      "Requirement already satisfied: charset-normalizer<4,>=2 in /usr/local/lib/python3.11/dist-packages (from requests->transformers==4.48.0.dev0) (3.3.2)\n",
      "Requirement already satisfied: idna<4,>=2.5 in /usr/local/lib/python3.11/dist-packages (from requests->transformers==4.48.0.dev0) (3.10)\n",
      "Requirement already satisfied: urllib3<3,>=1.21.1 in /usr/local/lib/python3.11/dist-packages (from requests->transformers==4.48.0.dev0) (2.2.3)\n",
      "Requirement already satisfied: certifi>=2017.4.17 in /usr/local/lib/python3.11/dist-packages (from requests->transformers==4.48.0.dev0) (2024.8.30)\n",
      "Downloading huggingface_hub-0.26.5-py3-none-any.whl (447 kB)\n",
      "Downloading regex-2024.11.6-cp311-cp311-manylinux_2_17_x86_64.manylinux2014_x86_64.whl (792 kB)\n",
      "\u001b[2K   \u001b[90m━━━━━━━━━━━━━━━━━━━━━━━━━━━━━━━━━━━━━━━━\u001b[0m \u001b[32m792.7/792.7 kB\u001b[0m \u001b[31m97.9 MB/s\u001b[0m eta \u001b[36m0:00:00\u001b[0m\n",
      "\u001b[?25hDownloading safetensors-0.4.5-cp311-cp311-manylinux_2_17_x86_64.manylinux2014_x86_64.whl (435 kB)\n",
      "Downloading tokenizers-0.21.0-cp39-abi3-manylinux_2_17_x86_64.manylinux2014_x86_64.whl (3.0 MB)\n",
      "\u001b[2K   \u001b[90m━━━━━━━━━━━━━━━━━━━━━━━━━━━━━━━━━━━━━━━━\u001b[0m \u001b[32m3.0/3.0 MB\u001b[0m \u001b[31m192.3 MB/s\u001b[0m eta \u001b[36m0:00:00\u001b[0m\n",
      "\u001b[?25hDownloading tqdm-4.67.1-py3-none-any.whl (78 kB)\n",
      "Building wheels for collected packages: transformers\n",
      "  Building wheel for transformers (pyproject.toml) ... \u001b[?25ldone\n",
      "\u001b[?25h  Created wheel for transformers: filename=transformers-4.48.0.dev0-py3-none-any.whl size=10185493 sha256=9394e88be5e7412f7ea6f29fdc344af214d74a6b5d3f269446a1cd0d46447e47\n",
      "  Stored in directory: /tmp/pip-ephem-wheel-cache-jruz3gws/wheels/04/a3/f1/b88775f8e1665827525b19ac7590250f1038d947067beba9fb\n",
      "Successfully built transformers\n",
      "Installing collected packages: tqdm, safetensors, regex, huggingface-hub, tokenizers, transformers\n",
      "Successfully installed huggingface-hub-0.26.5 regex-2024.11.6 safetensors-0.4.5 tokenizers-0.21.0 tqdm-4.67.1 transformers-4.48.0.dev0\n",
      "\u001b[33mWARNING: Running pip as the 'root' user can result in broken permissions and conflicting behaviour with the system package manager, possibly rendering your system unusable.It is recommended to use a virtual environment instead: https://pip.pypa.io/warnings/venv. Use the --root-user-action option if you know what you are doing and want to suppress this warning.\u001b[0m\u001b[33m\n",
      "\u001b[0m"
     ]
    }
   ],
   "source": [
    "! pip install git+https://github.com/huggingface/transformers"
   ]
  },
  {
   "cell_type": "code",
   "execution_count": 3,
   "id": "fbf0a527-d270-4881-9312-60647cb12be9",
   "metadata": {},
   "outputs": [
    {
     "name": "stdout",
     "output_type": "stream",
     "text": [
      "Collecting qwen-vl-utils (from -r qwen_requirement.txt (line 1))\n",
      "  Downloading qwen_vl_utils-0.0.8-py3-none-any.whl.metadata (3.6 kB)\n",
      "Collecting pandas (from -r qwen_requirement.txt (line 2))\n",
      "  Downloading pandas-2.2.3-cp311-cp311-manylinux_2_17_x86_64.manylinux2014_x86_64.whl.metadata (89 kB)\n",
      "Collecting scikit-learn (from -r qwen_requirement.txt (line 3))\n",
      "  Downloading scikit_learn-1.5.2-cp311-cp311-manylinux_2_17_x86_64.manylinux2014_x86_64.whl.metadata (13 kB)\n",
      "Requirement already satisfied: tqdm in /usr/local/lib/python3.11/dist-packages (from -r qwen_requirement.txt (line 4)) (4.67.1)\n",
      "Requirement already satisfied: Pillow in /usr/local/lib/python3.11/dist-packages (from -r qwen_requirement.txt (line 5)) (10.2.0)\n",
      "Collecting accelerate (from -r qwen_requirement.txt (line 6))\n",
      "  Downloading accelerate-1.2.0-py3-none-any.whl.metadata (19 kB)\n",
      "Collecting av (from qwen-vl-utils->-r qwen_requirement.txt (line 1))\n",
      "  Downloading av-14.0.1-cp311-cp311-manylinux_2_17_x86_64.manylinux2014_x86_64.whl.metadata (4.5 kB)\n",
      "Requirement already satisfied: packaging in /usr/local/lib/python3.11/dist-packages (from qwen-vl-utils->-r qwen_requirement.txt (line 1)) (24.1)\n",
      "Requirement already satisfied: requests in /usr/local/lib/python3.11/dist-packages (from qwen-vl-utils->-r qwen_requirement.txt (line 1)) (2.32.3)\n",
      "Requirement already satisfied: numpy>=1.23.2 in /usr/local/lib/python3.11/dist-packages (from pandas->-r qwen_requirement.txt (line 2)) (1.26.3)\n",
      "Requirement already satisfied: python-dateutil>=2.8.2 in /usr/local/lib/python3.11/dist-packages (from pandas->-r qwen_requirement.txt (line 2)) (2.9.0.post0)\n",
      "Collecting pytz>=2020.1 (from pandas->-r qwen_requirement.txt (line 2))\n",
      "  Downloading pytz-2024.2-py2.py3-none-any.whl.metadata (22 kB)\n",
      "Collecting tzdata>=2022.7 (from pandas->-r qwen_requirement.txt (line 2))\n",
      "  Downloading tzdata-2024.2-py2.py3-none-any.whl.metadata (1.4 kB)\n",
      "Collecting scipy>=1.6.0 (from scikit-learn->-r qwen_requirement.txt (line 3))\n",
      "  Downloading scipy-1.14.1-cp311-cp311-manylinux_2_17_x86_64.manylinux2014_x86_64.whl.metadata (60 kB)\n",
      "Collecting joblib>=1.2.0 (from scikit-learn->-r qwen_requirement.txt (line 3))\n",
      "  Downloading joblib-1.4.2-py3-none-any.whl.metadata (5.4 kB)\n",
      "Collecting threadpoolctl>=3.1.0 (from scikit-learn->-r qwen_requirement.txt (line 3))\n",
      "  Downloading threadpoolctl-3.5.0-py3-none-any.whl.metadata (13 kB)\n",
      "Requirement already satisfied: psutil in /usr/local/lib/python3.11/dist-packages (from accelerate->-r qwen_requirement.txt (line 6)) (6.0.0)\n",
      "Requirement already satisfied: pyyaml in /usr/local/lib/python3.11/dist-packages (from accelerate->-r qwen_requirement.txt (line 6)) (6.0.2)\n",
      "Requirement already satisfied: torch>=1.10.0 in /usr/local/lib/python3.11/dist-packages (from accelerate->-r qwen_requirement.txt (line 6)) (2.4.1+cu124)\n",
      "Requirement already satisfied: huggingface-hub>=0.21.0 in /usr/local/lib/python3.11/dist-packages (from accelerate->-r qwen_requirement.txt (line 6)) (0.26.5)\n",
      "Requirement already satisfied: safetensors>=0.4.3 in /usr/local/lib/python3.11/dist-packages (from accelerate->-r qwen_requirement.txt (line 6)) (0.4.5)\n",
      "Requirement already satisfied: filelock in /usr/local/lib/python3.11/dist-packages (from huggingface-hub>=0.21.0->accelerate->-r qwen_requirement.txt (line 6)) (3.13.1)\n",
      "Requirement already satisfied: fsspec>=2023.5.0 in /usr/local/lib/python3.11/dist-packages (from huggingface-hub>=0.21.0->accelerate->-r qwen_requirement.txt (line 6)) (2024.2.0)\n",
      "Requirement already satisfied: typing-extensions>=3.7.4.3 in /usr/local/lib/python3.11/dist-packages (from huggingface-hub>=0.21.0->accelerate->-r qwen_requirement.txt (line 6)) (4.9.0)\n",
      "Requirement already satisfied: six>=1.5 in /usr/lib/python3/dist-packages (from python-dateutil>=2.8.2->pandas->-r qwen_requirement.txt (line 2)) (1.16.0)\n",
      "Requirement already satisfied: sympy in /usr/local/lib/python3.11/dist-packages (from torch>=1.10.0->accelerate->-r qwen_requirement.txt (line 6)) (1.12)\n",
      "Requirement already satisfied: networkx in /usr/local/lib/python3.11/dist-packages (from torch>=1.10.0->accelerate->-r qwen_requirement.txt (line 6)) (3.2.1)\n",
      "Requirement already satisfied: jinja2 in /usr/local/lib/python3.11/dist-packages (from torch>=1.10.0->accelerate->-r qwen_requirement.txt (line 6)) (3.1.3)\n",
      "Requirement already satisfied: nvidia-cuda-nvrtc-cu12==12.4.99 in /usr/local/lib/python3.11/dist-packages (from torch>=1.10.0->accelerate->-r qwen_requirement.txt (line 6)) (12.4.99)\n",
      "Requirement already satisfied: nvidia-cuda-runtime-cu12==12.4.99 in /usr/local/lib/python3.11/dist-packages (from torch>=1.10.0->accelerate->-r qwen_requirement.txt (line 6)) (12.4.99)\n",
      "Requirement already satisfied: nvidia-cuda-cupti-cu12==12.4.99 in /usr/local/lib/python3.11/dist-packages (from torch>=1.10.0->accelerate->-r qwen_requirement.txt (line 6)) (12.4.99)\n",
      "Requirement already satisfied: nvidia-cudnn-cu12==9.1.0.70 in /usr/local/lib/python3.11/dist-packages (from torch>=1.10.0->accelerate->-r qwen_requirement.txt (line 6)) (9.1.0.70)\n",
      "Requirement already satisfied: nvidia-cublas-cu12==12.4.2.65 in /usr/local/lib/python3.11/dist-packages (from torch>=1.10.0->accelerate->-r qwen_requirement.txt (line 6)) (12.4.2.65)\n",
      "Requirement already satisfied: nvidia-cufft-cu12==11.2.0.44 in /usr/local/lib/python3.11/dist-packages (from torch>=1.10.0->accelerate->-r qwen_requirement.txt (line 6)) (11.2.0.44)\n",
      "Requirement already satisfied: nvidia-curand-cu12==10.3.5.119 in /usr/local/lib/python3.11/dist-packages (from torch>=1.10.0->accelerate->-r qwen_requirement.txt (line 6)) (10.3.5.119)\n",
      "Requirement already satisfied: nvidia-cusolver-cu12==11.6.0.99 in /usr/local/lib/python3.11/dist-packages (from torch>=1.10.0->accelerate->-r qwen_requirement.txt (line 6)) (11.6.0.99)\n",
      "Requirement already satisfied: nvidia-cusparse-cu12==12.3.0.142 in /usr/local/lib/python3.11/dist-packages (from torch>=1.10.0->accelerate->-r qwen_requirement.txt (line 6)) (12.3.0.142)\n",
      "Requirement already satisfied: nvidia-nccl-cu12==2.20.5 in /usr/local/lib/python3.11/dist-packages (from torch>=1.10.0->accelerate->-r qwen_requirement.txt (line 6)) (2.20.5)\n",
      "Requirement already satisfied: nvidia-nvtx-cu12==12.4.99 in /usr/local/lib/python3.11/dist-packages (from torch>=1.10.0->accelerate->-r qwen_requirement.txt (line 6)) (12.4.99)\n",
      "Requirement already satisfied: nvidia-nvjitlink-cu12==12.4.99 in /usr/local/lib/python3.11/dist-packages (from torch>=1.10.0->accelerate->-r qwen_requirement.txt (line 6)) (12.4.99)\n",
      "Requirement already satisfied: triton==3.0.0 in /usr/local/lib/python3.11/dist-packages (from torch>=1.10.0->accelerate->-r qwen_requirement.txt (line 6)) (3.0.0)\n",
      "Requirement already satisfied: charset-normalizer<4,>=2 in /usr/local/lib/python3.11/dist-packages (from requests->qwen-vl-utils->-r qwen_requirement.txt (line 1)) (3.3.2)\n",
      "Requirement already satisfied: idna<4,>=2.5 in /usr/local/lib/python3.11/dist-packages (from requests->qwen-vl-utils->-r qwen_requirement.txt (line 1)) (3.10)\n",
      "Requirement already satisfied: urllib3<3,>=1.21.1 in /usr/local/lib/python3.11/dist-packages (from requests->qwen-vl-utils->-r qwen_requirement.txt (line 1)) (2.2.3)\n",
      "Requirement already satisfied: certifi>=2017.4.17 in /usr/local/lib/python3.11/dist-packages (from requests->qwen-vl-utils->-r qwen_requirement.txt (line 1)) (2024.8.30)\n",
      "Requirement already satisfied: MarkupSafe>=2.0 in /usr/local/lib/python3.11/dist-packages (from jinja2->torch>=1.10.0->accelerate->-r qwen_requirement.txt (line 6)) (2.1.5)\n",
      "Requirement already satisfied: mpmath>=0.19 in /usr/local/lib/python3.11/dist-packages (from sympy->torch>=1.10.0->accelerate->-r qwen_requirement.txt (line 6)) (1.3.0)\n",
      "Downloading qwen_vl_utils-0.0.8-py3-none-any.whl (5.9 kB)\n",
      "Downloading pandas-2.2.3-cp311-cp311-manylinux_2_17_x86_64.manylinux2014_x86_64.whl (13.1 MB)\n",
      "\u001b[2K   \u001b[90m━━━━━━━━━━━━━━━━━━━━━━━━━━━━━━━━━━━━━━━━\u001b[0m \u001b[32m13.1/13.1 MB\u001b[0m \u001b[31m204.8 MB/s\u001b[0m eta \u001b[36m0:00:00\u001b[0m\n",
      "\u001b[?25hDownloading scikit_learn-1.5.2-cp311-cp311-manylinux_2_17_x86_64.manylinux2014_x86_64.whl (13.3 MB)\n",
      "\u001b[2K   \u001b[90m━━━━━━━━━━━━━━━━━━━━━━━━━━━━━━━━━━━━━━━━\u001b[0m \u001b[32m13.3/13.3 MB\u001b[0m \u001b[31m164.8 MB/s\u001b[0m eta \u001b[36m0:00:00\u001b[0m\n",
      "\u001b[?25hDownloading accelerate-1.2.0-py3-none-any.whl (336 kB)\n",
      "Downloading joblib-1.4.2-py3-none-any.whl (301 kB)\n",
      "Downloading pytz-2024.2-py2.py3-none-any.whl (508 kB)\n",
      "Downloading scipy-1.14.1-cp311-cp311-manylinux_2_17_x86_64.manylinux2014_x86_64.whl (41.2 MB)\n",
      "\u001b[2K   \u001b[90m━━━━━━━━━━━━━━━━━━━━━━━━━━━━━━━━━━━━━━━━\u001b[0m \u001b[32m41.2/41.2 MB\u001b[0m \u001b[31m179.3 MB/s\u001b[0m eta \u001b[36m0:00:00\u001b[0m00:01\u001b[0m\n",
      "\u001b[?25hDownloading threadpoolctl-3.5.0-py3-none-any.whl (18 kB)\n",
      "Downloading tzdata-2024.2-py2.py3-none-any.whl (346 kB)\n",
      "Downloading av-14.0.1-cp311-cp311-manylinux_2_17_x86_64.manylinux2014_x86_64.whl (33.8 MB)\n",
      "\u001b[2K   \u001b[90m━━━━━━━━━━━━━━━━━━━━━━━━━━━━━━━━━━━━━━━━\u001b[0m \u001b[32m33.8/33.8 MB\u001b[0m \u001b[31m124.0 MB/s\u001b[0m eta \u001b[36m0:00:00\u001b[0ma \u001b[36m0:00:01\u001b[0m\n",
      "\u001b[?25hInstalling collected packages: pytz, tzdata, threadpoolctl, scipy, joblib, av, scikit-learn, qwen-vl-utils, pandas, accelerate\n",
      "Successfully installed accelerate-1.2.0 av-14.0.1 joblib-1.4.2 pandas-2.2.3 pytz-2024.2 qwen-vl-utils-0.0.8 scikit-learn-1.5.2 scipy-1.14.1 threadpoolctl-3.5.0 tzdata-2024.2\n",
      "\u001b[33mWARNING: Running pip as the 'root' user can result in broken permissions and conflicting behaviour with the system package manager, possibly rendering your system unusable.It is recommended to use a virtual environment instead: https://pip.pypa.io/warnings/venv. Use the --root-user-action option if you know what you are doing and want to suppress this warning.\u001b[0m\u001b[33m\n",
      "\u001b[0m"
     ]
    }
   ],
   "source": [
    "! pip install -r qwen_requirement.txt"
   ]
  },
  {
   "cell_type": "code",
   "execution_count": 4,
   "id": "665d4184-a1b2-4375-996b-b8e7e1564260",
   "metadata": {},
   "outputs": [
    {
     "name": "stdout",
     "output_type": "stream",
     "text": [
      "Collecting flash-attn\n",
      "  Downloading flash_attn-2.7.1.post4.tar.gz (2.7 MB)\n",
      "\u001b[2K     \u001b[90m━━━━━━━━━━━━━━━━━━━━━━━━━━━━━━━━━━━━━━━━\u001b[0m \u001b[32m2.7/2.7 MB\u001b[0m \u001b[31m167.3 MB/s\u001b[0m eta \u001b[36m0:00:00\u001b[0m\n",
      "\u001b[?25h  Preparing metadata (setup.py) ... \u001b[?25ldone\n",
      "\u001b[?25hRequirement already satisfied: torch in /usr/local/lib/python3.11/dist-packages (from flash-attn) (2.4.1+cu124)\n",
      "Collecting einops (from flash-attn)\n",
      "  Downloading einops-0.8.0-py3-none-any.whl.metadata (12 kB)\n",
      "Requirement already satisfied: filelock in /usr/local/lib/python3.11/dist-packages (from torch->flash-attn) (3.13.1)\n",
      "Requirement already satisfied: typing-extensions>=4.8.0 in /usr/local/lib/python3.11/dist-packages (from torch->flash-attn) (4.9.0)\n",
      "Requirement already satisfied: sympy in /usr/local/lib/python3.11/dist-packages (from torch->flash-attn) (1.12)\n",
      "Requirement already satisfied: networkx in /usr/local/lib/python3.11/dist-packages (from torch->flash-attn) (3.2.1)\n",
      "Requirement already satisfied: jinja2 in /usr/local/lib/python3.11/dist-packages (from torch->flash-attn) (3.1.3)\n",
      "Requirement already satisfied: fsspec in /usr/local/lib/python3.11/dist-packages (from torch->flash-attn) (2024.2.0)\n",
      "Requirement already satisfied: nvidia-cuda-nvrtc-cu12==12.4.99 in /usr/local/lib/python3.11/dist-packages (from torch->flash-attn) (12.4.99)\n",
      "Requirement already satisfied: nvidia-cuda-runtime-cu12==12.4.99 in /usr/local/lib/python3.11/dist-packages (from torch->flash-attn) (12.4.99)\n",
      "Requirement already satisfied: nvidia-cuda-cupti-cu12==12.4.99 in /usr/local/lib/python3.11/dist-packages (from torch->flash-attn) (12.4.99)\n",
      "Requirement already satisfied: nvidia-cudnn-cu12==9.1.0.70 in /usr/local/lib/python3.11/dist-packages (from torch->flash-attn) (9.1.0.70)\n",
      "Requirement already satisfied: nvidia-cublas-cu12==12.4.2.65 in /usr/local/lib/python3.11/dist-packages (from torch->flash-attn) (12.4.2.65)\n",
      "Requirement already satisfied: nvidia-cufft-cu12==11.2.0.44 in /usr/local/lib/python3.11/dist-packages (from torch->flash-attn) (11.2.0.44)\n",
      "Requirement already satisfied: nvidia-curand-cu12==10.3.5.119 in /usr/local/lib/python3.11/dist-packages (from torch->flash-attn) (10.3.5.119)\n",
      "Requirement already satisfied: nvidia-cusolver-cu12==11.6.0.99 in /usr/local/lib/python3.11/dist-packages (from torch->flash-attn) (11.6.0.99)\n",
      "Requirement already satisfied: nvidia-cusparse-cu12==12.3.0.142 in /usr/local/lib/python3.11/dist-packages (from torch->flash-attn) (12.3.0.142)\n",
      "Requirement already satisfied: nvidia-nccl-cu12==2.20.5 in /usr/local/lib/python3.11/dist-packages (from torch->flash-attn) (2.20.5)\n",
      "Requirement already satisfied: nvidia-nvtx-cu12==12.4.99 in /usr/local/lib/python3.11/dist-packages (from torch->flash-attn) (12.4.99)\n",
      "Requirement already satisfied: nvidia-nvjitlink-cu12==12.4.99 in /usr/local/lib/python3.11/dist-packages (from torch->flash-attn) (12.4.99)\n",
      "Requirement already satisfied: triton==3.0.0 in /usr/local/lib/python3.11/dist-packages (from torch->flash-attn) (3.0.0)\n",
      "Requirement already satisfied: MarkupSafe>=2.0 in /usr/local/lib/python3.11/dist-packages (from jinja2->torch->flash-attn) (2.1.5)\n",
      "Requirement already satisfied: mpmath>=0.19 in /usr/local/lib/python3.11/dist-packages (from sympy->torch->flash-attn) (1.3.0)\n",
      "Downloading einops-0.8.0-py3-none-any.whl (43 kB)\n",
      "Building wheels for collected packages: flash-attn\n",
      "  Building wheel for flash-attn (setup.py) ... \u001b[?25ldone\n",
      "\u001b[?25h  Created wheel for flash-attn: filename=flash_attn-2.7.1.post4-cp311-cp311-linux_x86_64.whl size=187423065 sha256=60b950e158e9a0b50b689b2d8c84af3798cad36eec2b92ef56dc3a7ca029e4e6\n",
      "  Stored in directory: /root/.cache/pip/wheels/c3/05/97/a93f42c29fd0fd252c48e8582e485a5745ada372bd2161a07a\n",
      "Successfully built flash-attn\n",
      "Installing collected packages: einops, flash-attn\n",
      "Successfully installed einops-0.8.0 flash-attn-2.7.1.post4\n",
      "\u001b[33mWARNING: Running pip as the 'root' user can result in broken permissions and conflicting behaviour with the system package manager, possibly rendering your system unusable.It is recommended to use a virtual environment instead: https://pip.pypa.io/warnings/venv. Use the --root-user-action option if you know what you are doing and want to suppress this warning.\u001b[0m\u001b[33m\n",
      "\u001b[0m"
     ]
    }
   ],
   "source": [
    "! pip install flash-attn --no-build-isolation"
   ]
  },
  {
   "cell_type": "markdown",
   "id": "8a54172d-7018-4d88-a943-e62310436df7",
   "metadata": {},
   "source": [
    "Need to restart kernel after installing library"
   ]
  },
  {
   "cell_type": "code",
   "execution_count": null,
   "id": "d65e8664-6320-46c1-b914-56b2b2add507",
   "metadata": {
    "scrolled": true
   },
   "outputs": [
    {
     "name": "stderr",
     "output_type": "stream",
     "text": [
      "`Qwen2VLRotaryEmbedding` can now be fully parameterized by passing the model config through the `config` argument. All other arguments will be removed in v4.46\n"
     ]
    },
    {
     "data": {
      "application/vnd.jupyter.widget-view+json": {
       "model_id": "79b87ba1d2014fc39241f3f480a92cea",
       "version_major": 2,
       "version_minor": 0
      },
      "text/plain": [
       "Loading checkpoint shards:   0%|          | 0/5 [00:00<?, ?it/s]"
      ]
     },
     "metadata": {},
     "output_type": "display_data"
    },
    {
     "name": "stderr",
     "output_type": "stream",
     "text": [
      "Processing images:   0%|          | 1/200 [00:03<10:03,  3.03s/it]"
     ]
    },
    {
     "name": "stdout",
     "output_type": "stream",
     "text": [
      "```json\n",
      "{\n",
      "  \"DESCRIPTION\": \"The image shows a concrete sewer pipe with a visible crack running through it. The pipe appears to be in a deteriorated state, with signs of wear and erosion on the surface. There are no signs of water or liquid inside the pipe.\",\n",
      "  \"CODE\": \"RB\"\n",
      "}\n",
      "```\n",
      "{\n",
      "  \"DESCRIPTION\": \"The image shows a concrete sewer pipe with a visible crack running through it. The pipe appears to be in a deteriorated state, with signs of wear and erosion on the surface. There are no signs of water or liquid inside the pipe.\",\n",
      "  \"CODE\": \"RB\"\n",
      "}\n",
      "Image ID: 00617545.png | Predicted: RB | Ground Truth: RB\n",
      "\n"
     ]
    },
    {
     "name": "stderr",
     "output_type": "stream",
     "text": [
      "Processing images:   1%|          | 2/200 [00:05<09:43,  2.95s/it]"
     ]
    },
    {
     "name": "stdout",
     "output_type": "stream",
     "text": [
      "```json\n",
      "{\n",
      "  \"DESCRIPTION\": \"The image shows a section of a sewer pipe with a smooth, unbroken surface. There are no visible signs of damage such as cracks, breaks, collapses, or blockages. The lighting conditions are adequate, and the pipe appears to be made of concrete. No water is present in the pipe.\",\n",
      "  \"CODE\": \"NoDefect\"\n",
      "}\n",
      "```\n",
      "{\n",
      "  \"DESCRIPTION\": \"The image shows a section of a sewer pipe with a smooth, unbroken surface. There are no visible signs of damage such as cracks, breaks, collapses, or blockages. The lighting conditions are adequate, and the pipe appears to be made of concrete. No water is present in the pipe.\",\n",
      "  \"CODE\": \"NoDefect\"\n",
      "}\n",
      "Image ID: 00635967.png | Predicted: NoDefect | Ground Truth: NoDefect\n",
      "\n"
     ]
    },
    {
     "name": "stderr",
     "output_type": "stream",
     "text": [
      "Processing images:   2%|▏         | 3/200 [00:08<08:42,  2.65s/it]"
     ]
    },
    {
     "name": "stdout",
     "output_type": "stream",
     "text": [
      "```json\n",
      "{\n",
      "  \"DESCRIPTION\": \"The image shows a section of a concrete sewer pipe with a smooth surface. There is no visible water or debris inside the pipe. The lighting is adequate, allowing clear visibility of the pipe's interior.\",\n",
      "  \"CODE\": \"NoDefect\"\n",
      "}\n",
      "```\n",
      "{\n",
      "  \"DESCRIPTION\": \"The image shows a section of a concrete sewer pipe with a smooth surface. There is no visible water or debris inside the pipe. The lighting is adequate, allowing clear visibility of the pipe's interior.\",\n",
      "  \"CODE\": \"NoDefect\"\n",
      "}\n",
      "Image ID: 00002720.png | Predicted: NoDefect | Ground Truth: NoDefect\n",
      "\n"
     ]
    },
    {
     "name": "stderr",
     "output_type": "stream",
     "text": [
      "Processing images:   2%|▏         | 4/200 [00:11<09:06,  2.79s/it]"
     ]
    },
    {
     "name": "stdout",
     "output_type": "stream",
     "text": [
      "```json\n",
      "{\n",
      "  \"DESCRIPTION\": \"The image shows a section of a concrete sewer pipe with water flowing through it. The pipe appears to be in good condition with a smooth surface. There are no visible cracks, breaks, collapses, surface damage, production errors, or deformations. The water flow is clear, and there are no signs of roots infiltrating the pipe.\",\n",
      "  \"CODE\": \"NoDefect\"\n",
      "}\n",
      "```\n",
      "{\n",
      "  \"DESCRIPTION\": \"The image shows a section of a concrete sewer pipe with water flowing through it. The pipe appears to be in good condition with a smooth surface. There are no visible cracks, breaks, collapses, surface damage, production errors, or deformations. The water flow is clear, and there are no signs of roots infiltrating the pipe.\",\n",
      "  \"CODE\": \"NoDefect\"\n",
      "}\n",
      "Image ID: 00497284.png | Predicted: NoDefect | Ground Truth: NoDefect\n",
      "\n"
     ]
    },
    {
     "name": "stderr",
     "output_type": "stream",
     "text": [
      "Processing images:   2%|▎         | 5/200 [00:13<08:20,  2.57s/it]"
     ]
    },
    {
     "name": "stdout",
     "output_type": "stream",
     "text": [
      "```json\n",
      "{\n",
      "  \"DESCRIPTION\": \"The image shows a section of a concrete sewer pipe with visible cracks along the surface. The lighting is adequate, and the pipe appears to be in a wet environment. There are no signs of water blockages or roots.\",\n",
      "  \"CODE\": \"RB\"\n",
      "}\n",
      "```\n",
      "{\n",
      "  \"DESCRIPTION\": \"The image shows a section of a concrete sewer pipe with visible cracks along the surface. The lighting is adequate, and the pipe appears to be in a wet environment. There are no signs of water blockages or roots.\",\n",
      "  \"CODE\": \"RB\"\n",
      "}\n",
      "Image ID: 00231002.png | Predicted: RB | Ground Truth: RB\n",
      "\n"
     ]
    },
    {
     "name": "stderr",
     "output_type": "stream",
     "text": [
      "Processing images:   3%|▎         | 6/200 [00:15<07:48,  2.42s/it]"
     ]
    },
    {
     "name": "stdout",
     "output_type": "stream",
     "text": [
      "```json\n",
      "{\n",
      "  \"DESCRIPTION\": \"The image shows a sewer pipe with a smooth, unbroken surface. There is no visible water present, and the lighting conditions are adequate. The pipe appears to be made of concrete.\",\n",
      "  \"CODE\": \"NoDefect\"\n",
      "}\n",
      "```\n",
      "{\n",
      "  \"DESCRIPTION\": \"The image shows a sewer pipe with a smooth, unbroken surface. There is no visible water present, and the lighting conditions are adequate. The pipe appears to be made of concrete.\",\n",
      "  \"CODE\": \"NoDefect\"\n",
      "}\n",
      "Image ID: 00468553.png | Predicted: NoDefect | Ground Truth: PF\n",
      "\n"
     ]
    },
    {
     "name": "stderr",
     "output_type": "stream",
     "text": [
      "Processing images:   4%|▎         | 7/200 [00:19<09:05,  2.83s/it]"
     ]
    },
    {
     "name": "stdout",
     "output_type": "stream",
     "text": [
      "```json\n",
      "{\n",
      "  \"DESCRIPTION\": \"The image shows a section of a sewer pipe with a greenish-brown color, possibly due to the presence of water or sediment. The lighting is dim, and the image is slightly blurred, making it difficult to discern fine details. The pipe appears to be made of concrete or a similar material, and there is no visible water flow or blockages. The image does not show any obvious defects such as cracks, breaks, or collapses.\",\n",
      "  \"CODE\": \"NoDefect\"\n",
      "}\n",
      "```\n",
      "{\n",
      "  \"DESCRIPTION\": \"The image shows a section of a sewer pipe with a greenish-brown color, possibly due to the presence of water or sediment. The lighting is dim, and the image is slightly blurred, making it difficult to discern fine details. The pipe appears to be made of concrete or a similar material, and there is no visible water flow or blockages. The image does not show any obvious defects such as cracks, breaks, or collapses.\",\n",
      "  \"CODE\": \"NoDefect\"\n",
      "}\n",
      "Image ID: 00953221.png | Predicted: NoDefect | Ground Truth: NoDefect\n",
      "\n"
     ]
    },
    {
     "name": "stderr",
     "output_type": "stream",
     "text": [
      "Processing images:   4%|▍         | 8/200 [00:21<08:43,  2.73s/it]"
     ]
    },
    {
     "name": "stdout",
     "output_type": "stream",
     "text": [
      "```json\n",
      "{\n",
      "  \"DESCRIPTION\": \"The image shows the interior of a sewer pipe with a smooth, unbroken surface. There are no visible signs of damage such as cracks, collapses, or blockages. The lighting conditions are adequate, and the pipe appears to be made of concrete.\",\n",
      "  \"CODE\": \"NoDefect\"\n",
      "}\n",
      "```\n",
      "{\n",
      "  \"DESCRIPTION\": \"The image shows the interior of a sewer pipe with a smooth, unbroken surface. There are no visible signs of damage such as cracks, collapses, or blockages. The lighting conditions are adequate, and the pipe appears to be made of concrete.\",\n",
      "  \"CODE\": \"NoDefect\"\n",
      "}\n",
      "Image ID: 00242381.png | Predicted: NoDefect | Ground Truth: NoDefect\n",
      "\n"
     ]
    },
    {
     "name": "stderr",
     "output_type": "stream",
     "text": [
      "Processing images:   4%|▍         | 9/200 [00:23<08:12,  2.58s/it]"
     ]
    },
    {
     "name": "stdout",
     "output_type": "stream",
     "text": [
      "```json\n",
      "{\n",
      "  \"DESCRIPTION\": \"The image shows a sewer pipe with a smooth, unbroken surface. There is no visible water or debris inside the pipe. The lighting conditions are adequate, and the pipe appears to be made of concrete.\",\n",
      "  \"CODE\": \"NoDefect\"\n",
      "}\n",
      "```\n",
      "{\n",
      "  \"DESCRIPTION\": \"The image shows a sewer pipe with a smooth, unbroken surface. There is no visible water or debris inside the pipe. The lighting conditions are adequate, and the pipe appears to be made of concrete.\",\n",
      "  \"CODE\": \"NoDefect\"\n",
      "}\n",
      "Image ID: 00292340.png | Predicted: NoDefect | Ground Truth: PF\n",
      "\n"
     ]
    },
    {
     "name": "stderr",
     "output_type": "stream",
     "text": [
      "Processing images:   5%|▌         | 10/200 [00:26<07:46,  2.45s/it]"
     ]
    },
    {
     "name": "stdout",
     "output_type": "stream",
     "text": [
      "```json\n",
      "{\n",
      "  \"DESCRIPTION\": \"The image shows a sewer pipe with a smooth, unbroken surface. There is no visible water or debris inside the pipe. The lighting conditions are adequate, allowing for a clear view of the pipe's interior.\",\n",
      "  \"CODE\": \"NoDefect\"\n",
      "}\n",
      "```\n",
      "{\n",
      "  \"DESCRIPTION\": \"The image shows a sewer pipe with a smooth, unbroken surface. There is no visible water or debris inside the pipe. The lighting conditions are adequate, allowing for a clear view of the pipe's interior.\",\n",
      "  \"CODE\": \"NoDefect\"\n",
      "}\n",
      "Image ID: 00184032.png | Predicted: NoDefect | Ground Truth: OB\n",
      "\n"
     ]
    },
    {
     "name": "stderr",
     "output_type": "stream",
     "text": [
      "Processing images:   6%|▌         | 11/200 [00:28<07:27,  2.37s/it]"
     ]
    },
    {
     "name": "stdout",
     "output_type": "stream",
     "text": [
      "```json\n",
      "{\n",
      "  \"DESCRIPTION\": \"The image shows a sewer pipe with a smooth, unbroken surface. There is no visible water or debris inside the pipe. The lighting conditions are adequate, allowing for a clear view of the pipe's interior.\",\n",
      "  \"CODE\": \"NoDefect\"\n",
      "}\n",
      "```\n",
      "{\n",
      "  \"DESCRIPTION\": \"The image shows a sewer pipe with a smooth, unbroken surface. There is no visible water or debris inside the pipe. The lighting conditions are adequate, allowing for a clear view of the pipe's interior.\",\n",
      "  \"CODE\": \"NoDefect\"\n",
      "}\n",
      "Image ID: 00544551.png | Predicted: NoDefect | Ground Truth: NoDefect\n",
      "\n"
     ]
    },
    {
     "name": "stderr",
     "output_type": "stream",
     "text": [
      "Processing images:   6%|▌         | 12/200 [00:31<07:51,  2.51s/it]"
     ]
    },
    {
     "name": "stdout",
     "output_type": "stream",
     "text": [
      "```json\n",
      "{\n",
      "  \"DESCRIPTION\": \"The image shows a sewer pipe with water flowing inside. The pipe appears to be made of concrete and is in good condition with no visible cracks, breaks, or collapses. The lighting is adequate, and there are no signs of surface damage or production errors. The pipe is free of blockages such as roots.\",\n",
      "  \"CODE\": \"NoDefect\"\n",
      "}\n",
      "```\n",
      "{\n",
      "  \"DESCRIPTION\": \"The image shows a sewer pipe with water flowing inside. The pipe appears to be made of concrete and is in good condition with no visible cracks, breaks, or collapses. The lighting is adequate, and there are no signs of surface damage or production errors. The pipe is free of blockages such as roots.\",\n",
      "  \"CODE\": \"NoDefect\"\n",
      "}\n",
      "Image ID: 01051658.png | Predicted: NoDefect | Ground Truth: DE\n",
      "\n"
     ]
    },
    {
     "name": "stderr",
     "output_type": "stream",
     "text": [
      "Processing images:   6%|▋         | 13/200 [00:33<07:26,  2.39s/it]"
     ]
    },
    {
     "name": "stdout",
     "output_type": "stream",
     "text": [
      "```json\n",
      "{\n",
      "  \"DESCRIPTION\": \"The image shows a sewer pipe with a smooth, unbroken surface. There is no visible water present, and the lighting conditions are adequate. The pipe appears to be made of concrete.\",\n",
      "  \"CODE\": \"NoDefect\"\n",
      "}\n",
      "```\n",
      "{\n",
      "  \"DESCRIPTION\": \"The image shows a sewer pipe with a smooth, unbroken surface. There is no visible water present, and the lighting conditions are adequate. The pipe appears to be made of concrete.\",\n",
      "  \"CODE\": \"NoDefect\"\n",
      "}\n",
      "Image ID: 00841517.png | Predicted: NoDefect | Ground Truth: PF\n",
      "\n"
     ]
    },
    {
     "name": "stderr",
     "output_type": "stream",
     "text": [
      "Processing images:   7%|▋         | 14/200 [00:35<07:02,  2.27s/it]"
     ]
    },
    {
     "name": "stdout",
     "output_type": "stream",
     "text": [
      "```json\n",
      "{\n",
      "  \"DESCRIPTION\": \"The image shows a sewer pipe with a smooth, unbroken surface. There is no visible water present, and the lighting conditions are adequate. The pipe appears to be made of concrete.\",\n",
      "  \"CODE\": \"NoDefect\"\n",
      "}\n",
      "```\n",
      "{\n",
      "  \"DESCRIPTION\": \"The image shows a sewer pipe with a smooth, unbroken surface. There is no visible water present, and the lighting conditions are adequate. The pipe appears to be made of concrete.\",\n",
      "  \"CODE\": \"NoDefect\"\n",
      "}\n",
      "Image ID: 00306871.png | Predicted: NoDefect | Ground Truth: RO\n",
      "\n"
     ]
    },
    {
     "name": "stderr",
     "output_type": "stream",
     "text": [
      "Processing images:   8%|▊         | 15/200 [00:37<06:53,  2.23s/it]"
     ]
    },
    {
     "name": "stdout",
     "output_type": "stream",
     "text": [
      "```json\n",
      "{\n",
      "  \"DESCRIPTION\": \"The image shows a sewer pipe with a smooth, unbroken surface. There is no visible water or debris inside the pipe. The lighting conditions are adequate, and the pipe appears to be made of concrete.\",\n",
      "  \"CODE\": \"NoDefect\"\n",
      "}\n",
      "```\n",
      "{\n",
      "  \"DESCRIPTION\": \"The image shows a sewer pipe with a smooth, unbroken surface. There is no visible water or debris inside the pipe. The lighting conditions are adequate, and the pipe appears to be made of concrete.\",\n",
      "  \"CODE\": \"NoDefect\"\n",
      "}\n",
      "Image ID: 01057513.png | Predicted: NoDefect | Ground Truth: DE\n",
      "\n"
     ]
    },
    {
     "name": "stderr",
     "output_type": "stream",
     "text": [
      "Processing images:   8%|▊         | 16/200 [00:39<06:53,  2.25s/it]"
     ]
    },
    {
     "name": "stdout",
     "output_type": "stream",
     "text": [
      "```json\n",
      "{\n",
      "  \"DESCRIPTION\": \"The image shows a close-up view of a sewer pipe with a smooth, unbroken surface. There is no visible water present in the pipe, and the lighting conditions are adequate. The pipe appears to be made of concrete.\",\n",
      "  \"CODE\": \"NoDefect\"\n",
      "}\n",
      "```\n",
      "{\n",
      "  \"DESCRIPTION\": \"The image shows a close-up view of a sewer pipe with a smooth, unbroken surface. There is no visible water present in the pipe, and the lighting conditions are adequate. The pipe appears to be made of concrete.\",\n",
      "  \"CODE\": \"NoDefect\"\n",
      "}\n",
      "Image ID: 00852617.png | Predicted: NoDefect | Ground Truth: NoDefect\n",
      "\n"
     ]
    },
    {
     "name": "stderr",
     "output_type": "stream",
     "text": [
      "Processing images:   8%|▊         | 17/200 [00:41<06:47,  2.23s/it]"
     ]
    },
    {
     "name": "stdout",
     "output_type": "stream",
     "text": [
      "```json\n",
      "{\n",
      "  \"DESCRIPTION\": \"The image shows a sewer pipe with a smooth, unbroken surface. There is no visible water or debris inside the pipe. The lighting conditions are adequate, allowing for a clear view of the pipe's interior.\",\n",
      "  \"CODE\": \"NoDefect\"\n",
      "}\n",
      "```\n",
      "{\n",
      "  \"DESCRIPTION\": \"The image shows a sewer pipe with a smooth, unbroken surface. There is no visible water or debris inside the pipe. The lighting conditions are adequate, allowing for a clear view of the pipe's interior.\",\n",
      "  \"CODE\": \"NoDefect\"\n",
      "}\n",
      "Image ID: 00908736.png | Predicted: NoDefect | Ground Truth: NoDefect\n",
      "\n"
     ]
    },
    {
     "name": "stderr",
     "output_type": "stream",
     "text": [
      "Processing images:   9%|▉         | 18/200 [00:44<06:51,  2.26s/it]"
     ]
    },
    {
     "name": "stdout",
     "output_type": "stream",
     "text": [
      "```json\n",
      "{\n",
      "  \"DESCRIPTION\": \"The image shows a sewer pipe with a smooth surface, no visible cracks, breaks, or collapses. The lighting is adequate, and there is no water present inside the pipe. The pipe appears to be in good condition.\",\n",
      "  \"CODE\": \"NoDefect\"\n",
      "}\n",
      "```\n",
      "{\n",
      "  \"DESCRIPTION\": \"The image shows a sewer pipe with a smooth surface, no visible cracks, breaks, or collapses. The lighting is adequate, and there is no water present inside the pipe. The pipe appears to be in good condition.\",\n",
      "  \"CODE\": \"NoDefect\"\n",
      "}\n",
      "Image ID: 00287653.png | Predicted: NoDefect | Ground Truth: NoDefect\n",
      "\n"
     ]
    },
    {
     "name": "stderr",
     "output_type": "stream",
     "text": [
      "Processing images:  10%|▉         | 19/200 [00:46<06:46,  2.25s/it]"
     ]
    },
    {
     "name": "stdout",
     "output_type": "stream",
     "text": [
      "```json\n",
      "{\n",
      "  \"DESCRIPTION\": \"The image shows a section of a concrete sewer pipe with a smooth surface. There is no visible water or debris inside the pipe. The lighting conditions are adequate, allowing for a clear view of the pipe's interior.\",\n",
      "  \"CODE\": \"NoDefect\"\n",
      "}\n",
      "```\n",
      "{\n",
      "  \"DESCRIPTION\": \"The image shows a section of a concrete sewer pipe with a smooth surface. There is no visible water or debris inside the pipe. The lighting conditions are adequate, allowing for a clear view of the pipe's interior.\",\n",
      "  \"CODE\": \"NoDefect\"\n",
      "}\n",
      "Image ID: 00967874.png | Predicted: NoDefect | Ground Truth: NoDefect\n",
      "\n"
     ]
    },
    {
     "name": "stderr",
     "output_type": "stream",
     "text": [
      "Processing images:  10%|█         | 20/200 [00:48<06:58,  2.33s/it]"
     ]
    },
    {
     "name": "stdout",
     "output_type": "stream",
     "text": [
      "```json\n",
      "{\n",
      "  \"DESCRIPTION\": \"The image shows a sewer pipe with a smooth, unbroken surface. There are no visible signs of damage like cracks, collapses, or blockages such as roots. The lighting conditions are adequate, and the pipe appears to be made of concrete.\",\n",
      "  \"CODE\": \"NoDefect\"\n",
      "}\n",
      "```\n",
      "{\n",
      "  \"DESCRIPTION\": \"The image shows a sewer pipe with a smooth, unbroken surface. There are no visible signs of damage like cracks, collapses, or blockages such as roots. The lighting conditions are adequate, and the pipe appears to be made of concrete.\",\n",
      "  \"CODE\": \"NoDefect\"\n",
      "}\n",
      "Image ID: 00519810.png | Predicted: NoDefect | Ground Truth: NoDefect\n",
      "\n"
     ]
    },
    {
     "name": "stderr",
     "output_type": "stream",
     "text": [
      "Processing images:  10%|█         | 21/200 [00:51<06:46,  2.27s/it]"
     ]
    },
    {
     "name": "stdout",
     "output_type": "stream",
     "text": [
      "```json\n",
      "{\n",
      "  \"DESCRIPTION\": \"The image shows a sewer pipe with a smooth, unbroken surface. There is no visible water or debris inside the pipe. The lighting conditions are adequate, and the pipe appears to be made of concrete.\",\n",
      "  \"CODE\": \"NoDefect\"\n",
      "}\n",
      "```\n",
      "{\n",
      "  \"DESCRIPTION\": \"The image shows a sewer pipe with a smooth, unbroken surface. There is no visible water or debris inside the pipe. The lighting conditions are adequate, and the pipe appears to be made of concrete.\",\n",
      "  \"CODE\": \"NoDefect\"\n",
      "}\n",
      "Image ID: 00902655.png | Predicted: NoDefect | Ground Truth: NoDefect\n",
      "\n"
     ]
    },
    {
     "name": "stderr",
     "output_type": "stream",
     "text": [
      "Processing images:  11%|█         | 22/200 [00:53<06:37,  2.23s/it]"
     ]
    },
    {
     "name": "stdout",
     "output_type": "stream",
     "text": [
      "```json\n",
      "{\n",
      "  \"DESCRIPTION\": \"The image shows a sewer pipe with a smooth, unbroken surface. There is no visible water or debris inside the pipe. The lighting conditions are adequate, and the pipe appears to be made of concrete.\",\n",
      "  \"CODE\": \"NoDefect\"\n",
      "}\n",
      "```\n",
      "{\n",
      "  \"DESCRIPTION\": \"The image shows a sewer pipe with a smooth, unbroken surface. There is no visible water or debris inside the pipe. The lighting conditions are adequate, and the pipe appears to be made of concrete.\",\n",
      "  \"CODE\": \"NoDefect\"\n",
      "}\n",
      "Image ID: 00248494.png | Predicted: NoDefect | Ground Truth: NoDefect\n",
      "\n"
     ]
    },
    {
     "name": "stderr",
     "output_type": "stream",
     "text": [
      "Processing images:  12%|█▏        | 23/200 [00:55<07:01,  2.38s/it]"
     ]
    },
    {
     "name": "stdout",
     "output_type": "stream",
     "text": [
      "```json\n",
      "{\n",
      "  \"DESCRIPTION\": \"The image shows a sewer pipe with a smooth, unbroken surface. There is no visible water present, and the lighting conditions are adequate. The pipe appears to be made of concrete. No defects such as cracks, breaks, collapses, surface damage, production errors, or deformations are detected.\",\n",
      "  \"CODE\": \"NoDefect\"\n",
      "}\n",
      "```\n",
      "{\n",
      "  \"DESCRIPTION\": \"The image shows a sewer pipe with a smooth, unbroken surface. There is no visible water present, and the lighting conditions are adequate. The pipe appears to be made of concrete. No defects such as cracks, breaks, collapses, surface damage, production errors, or deformations are detected.\",\n",
      "  \"CODE\": \"NoDefect\"\n",
      "}\n",
      "Image ID: 00306868.png | Predicted: NoDefect | Ground Truth: RO\n",
      "\n"
     ]
    },
    {
     "name": "stderr",
     "output_type": "stream",
     "text": [
      "Processing images:  12%|█▏        | 24/200 [00:58<06:46,  2.31s/it]"
     ]
    },
    {
     "name": "stdout",
     "output_type": "stream",
     "text": [
      "```json\n",
      "{\n",
      "  \"DESCRIPTION\": \"The image shows a section of a concrete sewer pipe with a smooth surface. There are no visible cracks, breaks, or collapses. The lighting is adequate, and there is no water present in the pipe.\",\n",
      "  \"CODE\": \"NoDefect\"\n",
      "}\n",
      "```\n",
      "{\n",
      "  \"DESCRIPTION\": \"The image shows a section of a concrete sewer pipe with a smooth surface. There are no visible cracks, breaks, or collapses. The lighting is adequate, and there is no water present in the pipe.\",\n",
      "  \"CODE\": \"NoDefect\"\n",
      "}\n",
      "Image ID: 00305000.png | Predicted: NoDefect | Ground Truth: RB\n",
      "\n"
     ]
    },
    {
     "name": "stderr",
     "output_type": "stream",
     "text": [
      "Processing images:  12%|█▎        | 25/200 [01:00<06:35,  2.26s/it]"
     ]
    },
    {
     "name": "stdout",
     "output_type": "stream",
     "text": [
      "```json\n",
      "{\n",
      "  \"DESCRIPTION\": \"The image shows a sewer pipe with a smooth, unbroken surface. There is no visible water present, and the lighting conditions are adequate. The pipe appears to be made of concrete or a similar material.\",\n",
      "  \"CODE\": \"NoDefect\"\n",
      "}\n",
      "```\n",
      "{\n",
      "  \"DESCRIPTION\": \"The image shows a sewer pipe with a smooth, unbroken surface. There is no visible water present, and the lighting conditions are adequate. The pipe appears to be made of concrete or a similar material.\",\n",
      "  \"CODE\": \"NoDefect\"\n",
      "}\n",
      "Image ID: 00406657.png | Predicted: NoDefect | Ground Truth: PF\n",
      "\n"
     ]
    },
    {
     "name": "stderr",
     "output_type": "stream",
     "text": [
      "Processing images:  13%|█▎        | 26/200 [01:03<07:04,  2.44s/it]"
     ]
    },
    {
     "name": "stdout",
     "output_type": "stream",
     "text": [
      "```json\n",
      "{\n",
      "  \"DESCRIPTION\": \"The image shows a section of a concrete sewer pipe with visible cracks along the surface. The cracks are wide and run longitudinally along the pipe. There is no water present in the pipe, and the lighting conditions are adequate. The pipe appears to be in poor condition, with significant structural damage.\",\n",
      "  \"CODE\": \"RB\"\n",
      "}\n",
      "```\n",
      "{\n",
      "  \"DESCRIPTION\": \"The image shows a section of a concrete sewer pipe with visible cracks along the surface. The cracks are wide and run longitudinally along the pipe. There is no water present in the pipe, and the lighting conditions are adequate. The pipe appears to be in poor condition, with significant structural damage.\",\n",
      "  \"CODE\": \"RB\"\n",
      "}\n",
      "Image ID: 01021927.png | Predicted: RB | Ground Truth: RO\n",
      "\n"
     ]
    },
    {
     "name": "stderr",
     "output_type": "stream",
     "text": [
      "Processing images:  14%|█▎        | 27/200 [01:05<06:40,  2.31s/it]"
     ]
    },
    {
     "name": "stdout",
     "output_type": "stream",
     "text": [
      "```json\n",
      "{\n",
      "  \"DESCRIPTION\": \"The image shows a sewer pipe with a smooth, unbroken surface. There is no visible water present, and the lighting conditions are adequate. The pipe appears to be made of concrete.\",\n",
      "  \"CODE\": \"NoDefect\"\n",
      "}\n",
      "```\n",
      "{\n",
      "  \"DESCRIPTION\": \"The image shows a sewer pipe with a smooth, unbroken surface. There is no visible water present, and the lighting conditions are adequate. The pipe appears to be made of concrete.\",\n",
      "  \"CODE\": \"NoDefect\"\n",
      "}\n",
      "Image ID: 00572939.png | Predicted: NoDefect | Ground Truth: OB\n",
      "\n"
     ]
    },
    {
     "name": "stderr",
     "output_type": "stream",
     "text": [
      "Processing images:  14%|█▍        | 28/200 [01:07<06:34,  2.29s/it]"
     ]
    },
    {
     "name": "stdout",
     "output_type": "stream",
     "text": [
      "```json\n",
      "{\n",
      "  \"DESCRIPTION\": \"The image shows a sewer pipe with a smooth, unbroken surface. There is no visible water or debris inside the pipe. The lighting conditions are adequate, and the pipe appears to be made of concrete.\",\n",
      "  \"CODE\": \"NoDefect\"\n",
      "}\n",
      "```\n",
      "{\n",
      "  \"DESCRIPTION\": \"The image shows a sewer pipe with a smooth, unbroken surface. There is no visible water or debris inside the pipe. The lighting conditions are adequate, and the pipe appears to be made of concrete.\",\n",
      "  \"CODE\": \"NoDefect\"\n",
      "}\n",
      "Image ID: 00710330.png | Predicted: NoDefect | Ground Truth: NoDefect\n",
      "\n"
     ]
    },
    {
     "name": "stderr",
     "output_type": "stream",
     "text": [
      "Processing images:  14%|█▍        | 29/200 [01:09<06:31,  2.29s/it]"
     ]
    },
    {
     "name": "stdout",
     "output_type": "stream",
     "text": [
      "```json\n",
      "{\n",
      "  \"DESCRIPTION\": \"The image shows a section of a sewer pipe with a smooth, unbroken surface. There is no visible water present, and the lighting conditions are adequate. The pipe appears to be made of concrete or a similar material.\",\n",
      "  \"CODE\": \"NoDefect\"\n",
      "}\n",
      "```\n",
      "{\n",
      "  \"DESCRIPTION\": \"The image shows a section of a sewer pipe with a smooth, unbroken surface. There is no visible water present, and the lighting conditions are adequate. The pipe appears to be made of concrete or a similar material.\",\n",
      "  \"CODE\": \"NoDefect\"\n",
      "}\n",
      "Image ID: 00311380.png | Predicted: NoDefect | Ground Truth: NoDefect\n",
      "\n"
     ]
    },
    {
     "name": "stderr",
     "output_type": "stream",
     "text": [
      "Processing images:  15%|█▌        | 30/200 [01:11<06:31,  2.30s/it]"
     ]
    },
    {
     "name": "stdout",
     "output_type": "stream",
     "text": [
      "```json\n",
      "{\n",
      "  \"DESCRIPTION\": \"The image shows a sewer pipe with a smooth, unbroken surface. There is no visible water present, and the lighting conditions are adequate. The pipe appears to be made of concrete or a similar material.\",\n",
      "  \"CODE\": \"NoDefect\"\n",
      "}\n",
      "```\n",
      "{\n",
      "  \"DESCRIPTION\": \"The image shows a sewer pipe with a smooth, unbroken surface. There is no visible water present, and the lighting conditions are adequate. The pipe appears to be made of concrete or a similar material.\",\n",
      "  \"CODE\": \"NoDefect\"\n",
      "}\n",
      "Image ID: 00959013.png | Predicted: NoDefect | Ground Truth: NoDefect\n",
      "\n"
     ]
    },
    {
     "name": "stderr",
     "output_type": "stream",
     "text": [
      "Processing images:  16%|█▌        | 31/200 [01:14<06:36,  2.34s/it]"
     ]
    },
    {
     "name": "stdout",
     "output_type": "stream",
     "text": [
      "```json\n",
      "{\n",
      "  \"DESCRIPTION\": \"The image shows a sewer pipe with a smooth, unbroken surface. There is no visible water present in the pipe. The lighting conditions are adequate, allowing for a clear view of the pipe's interior. The pipe appears to be made of concrete.\",\n",
      "  \"CODE\": \"NoDefect\"\n",
      "}\n",
      "```\n",
      "{\n",
      "  \"DESCRIPTION\": \"The image shows a sewer pipe with a smooth, unbroken surface. There is no visible water present in the pipe. The lighting conditions are adequate, allowing for a clear view of the pipe's interior. The pipe appears to be made of concrete.\",\n",
      "  \"CODE\": \"NoDefect\"\n",
      "}\n",
      "Image ID: 00341760.png | Predicted: NoDefect | Ground Truth: RO\n",
      "\n"
     ]
    },
    {
     "name": "stderr",
     "output_type": "stream",
     "text": [
      "Processing images:  16%|█▌        | 32/200 [01:17<06:48,  2.43s/it]"
     ]
    },
    {
     "name": "stdout",
     "output_type": "stream",
     "text": [
      "```json\n",
      "{\n",
      "  \"DESCRIPTION\": \"The image shows a view inside a sewer pipe with a smooth, unbroken surface. The lighting is adequate, and the pipe appears to be made of concrete. There is no visible water or debris in the pipe. The image clarity is good, and there are no defects detected.\",\n",
      "  \"CODE\": \"NoDefect\"\n",
      "}\n",
      "```\n",
      "{\n",
      "  \"DESCRIPTION\": \"The image shows a view inside a sewer pipe with a smooth, unbroken surface. The lighting is adequate, and the pipe appears to be made of concrete. There is no visible water or debris in the pipe. The image clarity is good, and there are no defects detected.\",\n",
      "  \"CODE\": \"NoDefect\"\n",
      "}\n",
      "Image ID: 01233591.png | Predicted: NoDefect | Ground Truth: NoDefect\n",
      "\n"
     ]
    },
    {
     "name": "stderr",
     "output_type": "stream",
     "text": [
      "Processing images:  16%|█▋        | 33/200 [01:19<06:34,  2.36s/it]"
     ]
    },
    {
     "name": "stdout",
     "output_type": "stream",
     "text": [
      "```json\n",
      "{\n",
      "  \"DESCRIPTION\": \"The image shows a section of a concrete sewer pipe with a smooth surface. There is no visible water or debris inside the pipe. The lighting conditions are adequate, allowing for a clear view of the pipe's interior.\",\n",
      "  \"CODE\": \"NoDefect\"\n",
      "}\n",
      "```\n",
      "{\n",
      "  \"DESCRIPTION\": \"The image shows a section of a concrete sewer pipe with a smooth surface. There is no visible water or debris inside the pipe. The lighting conditions are adequate, allowing for a clear view of the pipe's interior.\",\n",
      "  \"CODE\": \"NoDefect\"\n",
      "}\n",
      "Image ID: 01069656.png | Predicted: NoDefect | Ground Truth: NoDefect\n",
      "\n"
     ]
    },
    {
     "name": "stderr",
     "output_type": "stream",
     "text": [
      "Processing images:  17%|█▋        | 34/200 [01:22<07:12,  2.60s/it]"
     ]
    },
    {
     "name": "stdout",
     "output_type": "stream",
     "text": [
      "```json\n",
      "{\n",
      "  \"DESCRIPTION\": \"The image shows a section of a concrete sewer pipe with water flowing through it. The lighting is poor, making it difficult to see the details of the pipe's surface. There are no visible cracks, breaks, or collapses in the pipe. The surface appears smooth, and there are no signs of blockages such as roots. The pipe is in good condition.\",\n",
      "  \"CODE\": \"NoDefect\"\n",
      "}\n",
      "```\n",
      "{\n",
      "  \"DESCRIPTION\": \"The image shows a section of a concrete sewer pipe with water flowing through it. The lighting is poor, making it difficult to see the details of the pipe's surface. There are no visible cracks, breaks, or collapses in the pipe. The surface appears smooth, and there are no signs of blockages such as roots. The pipe is in good condition.\",\n",
      "  \"CODE\": \"NoDefect\"\n",
      "}\n",
      "Image ID: 01051282.png | Predicted: NoDefect | Ground Truth: RO\n",
      "\n"
     ]
    },
    {
     "name": "stderr",
     "output_type": "stream",
     "text": [
      "Processing images:  18%|█▊        | 35/200 [01:25<07:40,  2.79s/it]"
     ]
    },
    {
     "name": "stdout",
     "output_type": "stream",
     "text": [
      "```json\n",
      "{\n",
      "  \"DESCRIPTION\": \"The image shows a section of a concrete sewer pipe with a smooth, unbroken surface. There is no visible water present, and the lighting conditions are adequate. The pipe appears to be in good condition with no signs of cracks, breaks, collapses, surface damage, production errors, or deformations. No roots are detected in the image.\",\n",
      "  \"CODE\": \"NoDefect\"\n",
      "}\n",
      "```\n",
      "{\n",
      "  \"DESCRIPTION\": \"The image shows a section of a concrete sewer pipe with a smooth, unbroken surface. There is no visible water present, and the lighting conditions are adequate. The pipe appears to be in good condition with no signs of cracks, breaks, collapses, surface damage, production errors, or deformations. No roots are detected in the image.\",\n",
      "  \"CODE\": \"NoDefect\"\n",
      "}\n",
      "Image ID: 00414188.png | Predicted: NoDefect | Ground Truth: RB\n",
      "\n"
     ]
    },
    {
     "name": "stderr",
     "output_type": "stream",
     "text": [
      "Processing images:  18%|█▊        | 36/200 [01:28<07:47,  2.85s/it]"
     ]
    },
    {
     "name": "stdout",
     "output_type": "stream",
     "text": [
      "```json\n",
      "{\n",
      "  \"DESCRIPTION\": \"The image shows a sewer pipe with water flowing through it. The pipe appears to be made of concrete and is in good condition with no visible cracks, breaks, or collapses. The lighting is adequate, and there are no signs of surface damage or production errors. The pipe is free of blockages such as roots.\",\n",
      "  \"CODE\": \"NoDefect\"\n",
      "}\n",
      "```\n",
      "{\n",
      "  \"DESCRIPTION\": \"The image shows a sewer pipe with water flowing through it. The pipe appears to be made of concrete and is in good condition with no visible cracks, breaks, or collapses. The lighting is adequate, and there are no signs of surface damage or production errors. The pipe is free of blockages such as roots.\",\n",
      "  \"CODE\": \"NoDefect\"\n",
      "}\n",
      "Image ID: 00656179.png | Predicted: NoDefect | Ground Truth: NoDefect\n",
      "\n"
     ]
    },
    {
     "name": "stderr",
     "output_type": "stream",
     "text": [
      "Processing images:  18%|█▊        | 37/200 [01:30<07:15,  2.67s/it]"
     ]
    },
    {
     "name": "stdout",
     "output_type": "stream",
     "text": [
      "```json\n",
      "{\n",
      "  \"DESCRIPTION\": \"The image shows a sewer pipe with a smooth surface, no visible cracks, breaks, or collapses. The lighting is adequate, and the pipe appears to be made of concrete. There is no water present in the pipe.\",\n",
      "  \"CODE\": \"NoDefect\"\n",
      "}\n",
      "```\n",
      "{\n",
      "  \"DESCRIPTION\": \"The image shows a sewer pipe with a smooth surface, no visible cracks, breaks, or collapses. The lighting is adequate, and the pipe appears to be made of concrete. There is no water present in the pipe.\",\n",
      "  \"CODE\": \"NoDefect\"\n",
      "}\n",
      "Image ID: 01230189.png | Predicted: NoDefect | Ground Truth: NoDefect\n",
      "\n"
     ]
    },
    {
     "name": "stderr",
     "output_type": "stream",
     "text": [
      "Processing images:  19%|█▉        | 38/200 [01:33<06:47,  2.51s/it]"
     ]
    },
    {
     "name": "stdout",
     "output_type": "stream",
     "text": [
      "```json\n",
      "{\n",
      "  \"DESCRIPTION\": \"The image shows a sewer pipe with a smooth, unbroken surface. There is no visible water or debris inside the pipe. The lighting conditions are adequate, and the pipe appears to be made of concrete.\",\n",
      "  \"CODE\": \"NoDefect\"\n",
      "}\n",
      "```\n",
      "{\n",
      "  \"DESCRIPTION\": \"The image shows a sewer pipe with a smooth, unbroken surface. There is no visible water or debris inside the pipe. The lighting conditions are adequate, and the pipe appears to be made of concrete.\",\n",
      "  \"CODE\": \"NoDefect\"\n",
      "}\n",
      "Image ID: 01103697.png | Predicted: NoDefect | Ground Truth: NoDefect\n",
      "\n"
     ]
    },
    {
     "name": "stderr",
     "output_type": "stream",
     "text": [
      "Processing images:  20%|█▉        | 39/200 [01:35<06:43,  2.51s/it]"
     ]
    },
    {
     "name": "stdout",
     "output_type": "stream",
     "text": [
      "```json\n",
      "{\n",
      "  \"DESCRIPTION\": \"The image shows a section of a concrete sewer pipe with a smooth, unbroken surface. There is no visible water present in the pipe. The lighting conditions are adequate, allowing for clear visibility of the pipe's interior and exterior.\",\n",
      "  \"CODE\": \"NoDefect\"\n",
      "}\n",
      "```\n",
      "{\n",
      "  \"DESCRIPTION\": \"The image shows a section of a concrete sewer pipe with a smooth, unbroken surface. There is no visible water present in the pipe. The lighting conditions are adequate, allowing for clear visibility of the pipe's interior and exterior.\",\n",
      "  \"CODE\": \"NoDefect\"\n",
      "}\n",
      "Image ID: 00055654.png | Predicted: NoDefect | Ground Truth: NoDefect\n",
      "\n"
     ]
    },
    {
     "name": "stderr",
     "output_type": "stream",
     "text": [
      "Processing images:  20%|██        | 40/200 [01:37<06:10,  2.31s/it]"
     ]
    },
    {
     "name": "stdout",
     "output_type": "stream",
     "text": [
      "```json\n",
      "{\n",
      "  \"DESCRIPTION\": \"The image shows a concrete sewer pipe with a visible crack running through it. The lighting is poor, and the pipe appears to be in a section where water is present.\",\n",
      "  \"CODE\": \"RB\"\n",
      "}\n",
      "```\n",
      "{\n",
      "  \"DESCRIPTION\": \"The image shows a concrete sewer pipe with a visible crack running through it. The lighting is poor, and the pipe appears to be in a section where water is present.\",\n",
      "  \"CODE\": \"RB\"\n",
      "}\n",
      "Image ID: 00224834.png | Predicted: RB | Ground Truth: RB\n",
      "\n"
     ]
    },
    {
     "name": "stderr",
     "output_type": "stream",
     "text": [
      "Processing images:  20%|██        | 41/200 [01:39<06:03,  2.28s/it]"
     ]
    },
    {
     "name": "stdout",
     "output_type": "stream",
     "text": [
      "```json\n",
      "{\n",
      "  \"DESCRIPTION\": \"The image shows a view inside a sewer pipe with a smooth, unbroken surface. There is no visible water present, and the lighting conditions are adequate. The pipe appears to be made of concrete.\",\n",
      "  \"CODE\": \"NoDefect\"\n",
      "}\n",
      "```\n",
      "{\n",
      "  \"DESCRIPTION\": \"The image shows a view inside a sewer pipe with a smooth, unbroken surface. There is no visible water present, and the lighting conditions are adequate. The pipe appears to be made of concrete.\",\n",
      "  \"CODE\": \"NoDefect\"\n",
      "}\n",
      "Image ID: 00953931.png | Predicted: NoDefect | Ground Truth: DE\n",
      "\n"
     ]
    },
    {
     "name": "stderr",
     "output_type": "stream",
     "text": [
      "Processing images:  21%|██        | 42/200 [01:41<05:48,  2.21s/it]"
     ]
    },
    {
     "name": "stdout",
     "output_type": "stream",
     "text": [
      "```json\n",
      "{\n",
      "  \"DESCRIPTION\": \"The image shows a sewer pipe with a smooth, unbroken surface. There is no visible water present, and the lighting conditions are adequate. The pipe appears to be made of concrete.\",\n",
      "  \"CODE\": \"NoDefect\"\n",
      "}\n",
      "```\n",
      "{\n",
      "  \"DESCRIPTION\": \"The image shows a sewer pipe with a smooth, unbroken surface. There is no visible water present, and the lighting conditions are adequate. The pipe appears to be made of concrete.\",\n",
      "  \"CODE\": \"NoDefect\"\n",
      "}\n",
      "Image ID: 00392052.png | Predicted: NoDefect | Ground Truth: NoDefect\n",
      "\n"
     ]
    },
    {
     "name": "stderr",
     "output_type": "stream",
     "text": [
      "Processing images:  22%|██▏       | 43/200 [01:43<05:37,  2.15s/it]"
     ]
    },
    {
     "name": "stdout",
     "output_type": "stream",
     "text": [
      "```json\n",
      "{\n",
      "  \"DESCRIPTION\": \"The image shows a sewer pipe with a smooth, unbroken surface. There is no visible water present, and the lighting conditions are adequate. The pipe appears to be made of concrete.\",\n",
      "  \"CODE\": \"NoDefect\"\n",
      "}\n",
      "```\n",
      "{\n",
      "  \"DESCRIPTION\": \"The image shows a sewer pipe with a smooth, unbroken surface. There is no visible water present, and the lighting conditions are adequate. The pipe appears to be made of concrete.\",\n",
      "  \"CODE\": \"NoDefect\"\n",
      "}\n",
      "Image ID: 00795710.png | Predicted: NoDefect | Ground Truth: OB\n",
      "\n"
     ]
    },
    {
     "name": "stderr",
     "output_type": "stream",
     "text": [
      "Processing images:  22%|██▏       | 44/200 [01:46<05:48,  2.24s/it]"
     ]
    },
    {
     "name": "stdout",
     "output_type": "stream",
     "text": [
      "```json\n",
      "{\n",
      "  \"DESCRIPTION\": \"The image shows a section of a sewer pipe with a smooth, unbroken surface. There is no visible water present, and the lighting conditions are adequate. The pipe appears to be made of concrete or a similar material.\",\n",
      "  \"CODE\": \"NoDefect\"\n",
      "}\n",
      "```\n",
      "{\n",
      "  \"DESCRIPTION\": \"The image shows a section of a sewer pipe with a smooth, unbroken surface. There is no visible water present, and the lighting conditions are adequate. The pipe appears to be made of concrete or a similar material.\",\n",
      "  \"CODE\": \"NoDefect\"\n",
      "}\n",
      "Image ID: 01154770.png | Predicted: NoDefect | Ground Truth: NoDefect\n",
      "\n"
     ]
    },
    {
     "name": "stderr",
     "output_type": "stream",
     "text": [
      "Processing images:  22%|██▎       | 45/200 [01:48<05:37,  2.18s/it]"
     ]
    },
    {
     "name": "stdout",
     "output_type": "stream",
     "text": [
      "```json\n",
      "{\n",
      "  \"DESCRIPTION\": \"The image shows a section of a sewer pipe with a smooth surface. The lighting is adequate, and the pipe appears to be made of concrete. There is no visible water in the pipe.\",\n",
      "  \"CODE\": \"NoDefect\"\n",
      "}\n",
      "```\n",
      "{\n",
      "  \"DESCRIPTION\": \"The image shows a section of a sewer pipe with a smooth surface. The lighting is adequate, and the pipe appears to be made of concrete. There is no visible water in the pipe.\",\n",
      "  \"CODE\": \"NoDefect\"\n",
      "}\n",
      "Image ID: 00299021.png | Predicted: NoDefect | Ground Truth: OB\n",
      "\n"
     ]
    },
    {
     "name": "stderr",
     "output_type": "stream",
     "text": [
      "Processing images:  23%|██▎       | 46/200 [01:49<05:01,  1.96s/it]"
     ]
    },
    {
     "name": "stdout",
     "output_type": "stream",
     "text": [
      "```json\n",
      "{\n",
      "  \"DESCRIPTION\": \"The image shows a dark, blurry scene inside a sewer pipe with no visible defects or anomalies.\",\n",
      "  \"CODE\": \"NoDefect\"\n",
      "}\n",
      "```\n",
      "{\n",
      "  \"DESCRIPTION\": \"The image shows a dark, blurry scene inside a sewer pipe with no visible defects or anomalies.\",\n",
      "  \"CODE\": \"NoDefect\"\n",
      "}\n",
      "Image ID: 00919648.png | Predicted: NoDefect | Ground Truth: RO\n",
      "\n"
     ]
    },
    {
     "name": "stderr",
     "output_type": "stream",
     "text": [
      "Processing images:  24%|██▎       | 47/200 [01:51<05:03,  1.98s/it]"
     ]
    },
    {
     "name": "stdout",
     "output_type": "stream",
     "text": [
      "```json\n",
      "{\n",
      "  \"DESCRIPTION\": \"The image shows a sewer pipe with a smooth, unbroken surface. The lighting is adequate, and the pipe appears to be made of concrete. There is no visible water inside the pipe.\",\n",
      "  \"CODE\": \"NoDefect\"\n",
      "}\n",
      "```\n",
      "{\n",
      "  \"DESCRIPTION\": \"The image shows a sewer pipe with a smooth, unbroken surface. The lighting is adequate, and the pipe appears to be made of concrete. There is no visible water inside the pipe.\",\n",
      "  \"CODE\": \"NoDefect\"\n",
      "}\n",
      "Image ID: 01024200.png | Predicted: NoDefect | Ground Truth: NoDefect\n",
      "\n"
     ]
    },
    {
     "name": "stderr",
     "output_type": "stream",
     "text": [
      "Processing images:  24%|██▍       | 48/200 [01:53<05:08,  2.03s/it]"
     ]
    },
    {
     "name": "stdout",
     "output_type": "stream",
     "text": [
      "```json\n",
      "{\n",
      "  \"DESCRIPTION\": \"The image shows a sewer pipe with a smooth, unbroken surface. There is no visible water or debris inside the pipe. The lighting conditions are adequate, and the pipe appears to be made of concrete.\",\n",
      "  \"CODE\": \"NoDefect\"\n",
      "}\n",
      "```\n",
      "{\n",
      "  \"DESCRIPTION\": \"The image shows a sewer pipe with a smooth, unbroken surface. There is no visible water or debris inside the pipe. The lighting conditions are adequate, and the pipe appears to be made of concrete.\",\n",
      "  \"CODE\": \"NoDefect\"\n",
      "}\n",
      "Image ID: 00822900.png | Predicted: NoDefect | Ground Truth: NoDefect\n",
      "\n"
     ]
    },
    {
     "name": "stderr",
     "output_type": "stream",
     "text": [
      "Processing images:  24%|██▍       | 49/200 [01:55<05:13,  2.08s/it]"
     ]
    },
    {
     "name": "stdout",
     "output_type": "stream",
     "text": [
      "```json\n",
      "{\n",
      "  \"DESCRIPTION\": \"The image shows a sewer pipe with a smooth, unbroken surface. There is no visible water or debris inside the pipe. The lighting conditions are adequate, allowing for a clear view of the pipe's interior.\",\n",
      "  \"CODE\": \"NoDefect\"\n",
      "}\n",
      "```\n",
      "{\n",
      "  \"DESCRIPTION\": \"The image shows a sewer pipe with a smooth, unbroken surface. There is no visible water or debris inside the pipe. The lighting conditions are adequate, allowing for a clear view of the pipe's interior.\",\n",
      "  \"CODE\": \"NoDefect\"\n",
      "}\n",
      "Image ID: 01127769.png | Predicted: NoDefect | Ground Truth: NoDefect\n",
      "\n"
     ]
    },
    {
     "name": "stderr",
     "output_type": "stream",
     "text": [
      "Processing images:  25%|██▌       | 50/200 [01:57<05:08,  2.06s/it]"
     ]
    },
    {
     "name": "stdout",
     "output_type": "stream",
     "text": [
      "```json\n",
      "{\n",
      "  \"DESCRIPTION\": \"The image shows a sewer pipe with a smooth, unbroken surface. There is no visible water present, and the lighting conditions are adequate. The pipe appears to be made of concrete.\",\n",
      "  \"CODE\": \"NoDefect\"\n",
      "}\n",
      "```\n",
      "{\n",
      "  \"DESCRIPTION\": \"The image shows a sewer pipe with a smooth, unbroken surface. There is no visible water present, and the lighting conditions are adequate. The pipe appears to be made of concrete.\",\n",
      "  \"CODE\": \"NoDefect\"\n",
      "}\n",
      "Image ID: 01016394.png | Predicted: NoDefect | Ground Truth: NoDefect\n",
      "\n"
     ]
    },
    {
     "name": "stderr",
     "output_type": "stream",
     "text": [
      "Processing images:  26%|██▌       | 51/200 [02:00<05:19,  2.14s/it]"
     ]
    },
    {
     "name": "stdout",
     "output_type": "stream",
     "text": [
      "```json\n",
      "{\n",
      "  \"DESCRIPTION\": \"The image shows a section of a concrete sewer pipe with a smooth, unbroken surface. There is no visible water or debris inside the pipe. The lighting conditions are adequate, allowing for a clear view of the pipe's interior.\",\n",
      "  \"CODE\": \"NoDefect\"\n",
      "}\n",
      "```\n",
      "{\n",
      "  \"DESCRIPTION\": \"The image shows a section of a concrete sewer pipe with a smooth, unbroken surface. There is no visible water or debris inside the pipe. The lighting conditions are adequate, allowing for a clear view of the pipe's interior.\",\n",
      "  \"CODE\": \"NoDefect\"\n",
      "}\n",
      "Image ID: 01143948.png | Predicted: NoDefect | Ground Truth: DE\n",
      "\n"
     ]
    },
    {
     "name": "stderr",
     "output_type": "stream",
     "text": [
      "Processing images:  26%|██▌       | 52/200 [02:02<05:18,  2.15s/it]"
     ]
    },
    {
     "name": "stdout",
     "output_type": "stream",
     "text": [
      "```json\n",
      "{\n",
      "  \"DESCRIPTION\": \"The image shows a sewer pipe with a smooth, unbroken surface. There is no visible water or debris inside the pipe. The lighting conditions are adequate, and the pipe appears to be made of concrete.\",\n",
      "  \"CODE\": \"NoDefect\"\n",
      "}\n",
      "```\n",
      "{\n",
      "  \"DESCRIPTION\": \"The image shows a sewer pipe with a smooth, unbroken surface. There is no visible water or debris inside the pipe. The lighting conditions are adequate, and the pipe appears to be made of concrete.\",\n",
      "  \"CODE\": \"NoDefect\"\n",
      "}\n",
      "Image ID: 01129787.png | Predicted: NoDefect | Ground Truth: NoDefect\n",
      "\n"
     ]
    },
    {
     "name": "stderr",
     "output_type": "stream",
     "text": [
      "Processing images:  26%|██▋       | 53/200 [02:04<05:24,  2.21s/it]"
     ]
    },
    {
     "name": "stdout",
     "output_type": "stream",
     "text": [
      "```json\n",
      "{\n",
      "  \"DESCRIPTION\": \"The image shows a sewer pipe with a smooth, unbroken surface. There is no visible water or debris inside the pipe. The lighting conditions are adequate, and the pipe appears to be made of concrete.\",\n",
      "  \"CODE\": \"NoDefect\"\n",
      "}\n",
      "```\n",
      "{\n",
      "  \"DESCRIPTION\": \"The image shows a sewer pipe with a smooth, unbroken surface. There is no visible water or debris inside the pipe. The lighting conditions are adequate, and the pipe appears to be made of concrete.\",\n",
      "  \"CODE\": \"NoDefect\"\n",
      "}\n",
      "Image ID: 00412362.png | Predicted: NoDefect | Ground Truth: NoDefect\n",
      "\n"
     ]
    },
    {
     "name": "stderr",
     "output_type": "stream",
     "text": [
      "Processing images:  27%|██▋       | 54/200 [02:07<05:32,  2.28s/it]"
     ]
    },
    {
     "name": "stdout",
     "output_type": "stream",
     "text": [
      "```json\n",
      "{\n",
      "  \"DESCRIPTION\": \"The image shows a view inside a sewer pipe with a smooth, unbroken surface. There is no visible water present, and the lighting conditions are adequate. The pipe appears to be made of concrete or a similar material.\",\n",
      "  \"CODE\": \"NoDefect\"\n",
      "}\n",
      "```\n",
      "{\n",
      "  \"DESCRIPTION\": \"The image shows a view inside a sewer pipe with a smooth, unbroken surface. There is no visible water present, and the lighting conditions are adequate. The pipe appears to be made of concrete or a similar material.\",\n",
      "  \"CODE\": \"NoDefect\"\n",
      "}\n",
      "Image ID: 01153621.png | Predicted: NoDefect | Ground Truth: NoDefect\n",
      "\n"
     ]
    },
    {
     "name": "stderr",
     "output_type": "stream",
     "text": [
      "Processing images:  28%|██▊       | 55/200 [02:09<05:30,  2.28s/it]"
     ]
    },
    {
     "name": "stdout",
     "output_type": "stream",
     "text": [
      "```json\n",
      "{\n",
      "  \"DESCRIPTION\": \"The image shows a sewer pipe with a smooth, unbroken surface. There is no visible water or debris inside the pipe. The lighting conditions are adequate, and the pipe appears to be made of concrete.\",\n",
      "  \"CODE\": \"NoDefect\"\n",
      "}\n",
      "```\n",
      "{\n",
      "  \"DESCRIPTION\": \"The image shows a sewer pipe with a smooth, unbroken surface. There is no visible water or debris inside the pipe. The lighting conditions are adequate, and the pipe appears to be made of concrete.\",\n",
      "  \"CODE\": \"NoDefect\"\n",
      "}\n",
      "Image ID: 01238319.png | Predicted: NoDefect | Ground Truth: NoDefect\n",
      "\n"
     ]
    },
    {
     "name": "stderr",
     "output_type": "stream",
     "text": [
      "Processing images:  28%|██▊       | 56/200 [02:11<05:21,  2.24s/it]"
     ]
    },
    {
     "name": "stdout",
     "output_type": "stream",
     "text": [
      "```json\n",
      "{\n",
      "  \"DESCRIPTION\": \"The image shows a sewer pipe with a smooth, unbroken surface. There is no visible water or debris inside the pipe. The lighting conditions are adequate, and the pipe appears to be made of concrete.\",\n",
      "  \"CODE\": \"NoDefect\"\n",
      "}\n",
      "```\n",
      "{\n",
      "  \"DESCRIPTION\": \"The image shows a sewer pipe with a smooth, unbroken surface. There is no visible water or debris inside the pipe. The lighting conditions are adequate, and the pipe appears to be made of concrete.\",\n",
      "  \"CODE\": \"NoDefect\"\n",
      "}\n",
      "Image ID: 01019697.png | Predicted: NoDefect | Ground Truth: DE\n",
      "\n"
     ]
    }
   ],
   "source": [
    "import os\n",
    "import torch\n",
    "from transformers import Qwen2VLForConditionalGeneration, AutoProcessor\n",
    "from qwen_vl_utils import process_vision_info\n",
    "import pandas as pd\n",
    "from sklearn.metrics import accuracy_score, f1_score, classification_report\n",
    "from tqdm import tqdm\n",
    "import json\n",
    "\n",
    "\n",
    "# Open log file\n",
    "log_path = './results/qwen2-7B-V-Instruct/'\n",
    "os.makedirs(log_path, exist_ok=True)\n",
    "log_file = os.path.join(log_path, 'prediction_log.txt')\n",
    "log_file = open(log_file, 'w')\n",
    "\n",
    "\n",
    "# Load data\n",
    "df_table_prd = pd.read_csv('../LMM_sewerML/results/df_table_prd.csv')\n",
    "df_table_dsc = pd.read_csv('../LMM_sewerML/results/df_table_dsc.csv')\n",
    "image_dir = '../LMM_sewerML/images'\n",
    "\n",
    "\n",
    "# Load Qwen model and processor\n",
    "model_id = \"Qwen/Qwen2-VL-7B-Instruct\"\n",
    "model = Qwen2VLForConditionalGeneration.from_pretrained(\n",
    "    \"Qwen/Qwen2-VL-7B-Instruct\",\n",
    "    torch_dtype=torch.bfloat16,\n",
    "    attn_implementation=\"flash_attention_2\",\n",
    "    device_map=\"auto\",\n",
    ")\n",
    "processor = AutoProcessor.from_pretrained(model_id)\n",
    "\n",
    "\n",
    "# Define the prompt template\n",
    "prompt_template = \"\"\"\n",
    "You are a virtual sewer technician with the capability to analyze images from CCTV cameras taken inside sewer pipes.\n",
    "Your task is to examine each image and provide a concise, yet accurate, summary for retrieval. \n",
    "After summarizing, you must classify the image as defect types.\n",
    "While providing the summary, remember the following guidelines:\n",
    "1) Provide a general overview of the image that you see, describing important elements such image clarity, lighting conditions, type of pipe (concrete, PVC, ...), presence of water.\n",
    "2) Check for defects in the sewer pipes in the image.\n",
    "3) Pipes in good condition usually show a smooth, unbroken surface, no visible signs of damage like cracks or collapses, and an absence of blockages such as roots.\n",
    "4) On the other hand, you can have the following defects:\n",
    "4a) Cracks, Breaks, and Collapses (RB): Identify visible cracks along the pipe, instances where the pipe has fractured or completely broken apart, and areas where the pipe has collapsed.\n",
    "This includes longitudinal cracks, circumferential breaks, and complete structural failures that compromise the integrity of the sewer system.\n",
    "4b) Surface Damage (OB): Detect areas of the pipe's interior that exhibit signs of wear, erosion, or damage on the surface.\n",
    "This includes minor scratches, pitting, scaling, or any form of deterioration that affects the pipe's surface but does not necessarily penetrate deeply into the structure.\n",
    "4c) Production Error (PF): Identify defects that originated during the pipe's manufacturing process, such as inconsistent pipe thickness, improper joint alignment, or material imperfections.\n",
    "These are flaws that were introduced before installation and could potentially affect the pipe's performance or longevity.\n",
    "4d) Deformations (DE): Recognize any alterations in the shape of the pipe, such as bending, sagging, or bulging, that indicate a deformation.\n",
    "This includes both minor deformations that may affect flow efficiency and major deformations that threaten the pipe's structural integrity.\n",
    "4e) Roots (RO): Detect the presence of roots infiltrating the sewer pipe, whether through joints, cracks, or other vulnerabilities.\n",
    "This involves identifying both the initial stages of root intrusion and the more advanced stages where roots have significantly obstructed the pipe.\n",
    "5) Additional considerations while analyzing the images: do not consider blurred text or user-defined circled areas in the images.\n",
    "6) You will always try to describe the image that you see. Provide the output in JSON format as follows:\n",
    "\n",
    "{ \"DESCRIPTION\": \"<Description of the image that you see>\", \"CODE\": \"<Defect Code>\"}\n",
    "\n",
    "Note: The \"CODE\" can be selected from \"RB\", \"OB\", \"PF\", \"DE\", \"RO\". If no defect is detected, set \"CODE\" to \"NoDefect\".\n",
    "\"\"\"\n",
    "\n",
    "# Store predictions and actual labels\n",
    "predictions = []\n",
    "actual_labels = []\n",
    "descriptions = []\n",
    "\n",
    "\n",
    "# Add tqdm progress bar\n",
    "for idx, row in tqdm(df_table_prd.iterrows(), total=len(df_table_prd), desc=\"Processing images\"):\n",
    "    img_id = row['img_id']\n",
    "    ground_truth = row['defect_type']\n",
    "    img_path = os.path.join(image_dir, img_id)\n",
    "    \n",
    "    # Check if image file exists\n",
    "    if not os.path.exists(img_path):\n",
    "        log_file.write(f\"Image {img_id} not found. Skipping.\\n\")\n",
    "        continue\n",
    "\n",
    "    # Load image\n",
    "    # image = Image.open(img_path)\n",
    "\n",
    "    # Prepare input for Qwen\n",
    "    messages = [\n",
    "        {\n",
    "            \"role\": \"user\",\n",
    "            \"content\": [\n",
    "                {\"type\": \"image\", \"image\": img_path},\n",
    "                {\"type\": \"text\", \"text\": prompt_template},\n",
    "            ],\n",
    "        }\n",
    "    ]\n",
    "    \n",
    "    # Prepare processor inputs\n",
    "    text = processor.apply_chat_template(\n",
    "        messages, tokenize=False, add_generation_prompt=True\n",
    "    )\n",
    "    image_inputs, _ = process_vision_info(messages)\n",
    "    inputs = processor(\n",
    "        text=[text],\n",
    "        images=image_inputs,\n",
    "        padding=True,\n",
    "        return_tensors=\"pt\",\n",
    "    ).to(\"cuda\")\n",
    "\n",
    "    # Generate output\n",
    "    generation_args = {\n",
    "        \"max_new_tokens\": 1024,\n",
    "    }\n",
    "    outputs = model.generate(**inputs, **generation_args)\n",
    "\n",
    "    generated_ids_trimmed = outputs[:, inputs.input_ids.shape[1]:]\n",
    "    response = processor.decode(generated_ids_trimmed[0], skip_special_tokens=True)\n",
    "    print(response)\n",
    "\n",
    "    if response.startswith(\"```\"):\n",
    "        cleaned_response_text = response.split('\\n', 1)[-1].rsplit('\\n', 1)[0].strip()\n",
    "    else:\n",
    "        cleaned_response_text = response.strip()\n",
    "    print(cleaned_response_text)\n",
    "    # Extract defect prediction and description from model output\n",
    "    try:\n",
    "        response_json = json.loads(cleaned_response_text)\n",
    "        description = response_json.get(\"DESCRIPTION\", \"No description provided\")\n",
    "        predicted_defect = response_json.get(\"CODE\", \"NoDefect\")\n",
    "    except json.JSONDecodeError:\n",
    "        print(f\"Invalid JSON response for Image ID {img_id}: {response}\\n\")\n",
    "        log_file.write(f\"Invalid JSON response for Image ID {img_id}: {response}\\n\")\n",
    "        description = \"Error in JSON response\"\n",
    "        predicted_defect = \"Error\"\n",
    "\n",
    "    # Append results to lists\n",
    "    predictions.append(predicted_defect)\n",
    "    actual_labels.append(ground_truth)\n",
    "    descriptions.append(description)\n",
    "\n",
    "    # Log intermediate outputs\n",
    "    print(f\"Image ID: {img_id} | Predicted: {predicted_defect} | Ground Truth: {ground_truth}\\n\")\n",
    "    log_file.write(f\"Image ID: {img_id} | Predicted: {predicted_defect} | Ground Truth: {ground_truth}\\n\")\n",
    "\n",
    "\n",
    "# Calculate evaluation metrics\n",
    "accuracy = accuracy_score(actual_labels, predictions)\n",
    "f1 = f1_score(actual_labels, predictions, average='weighted')\n",
    "report = classification_report(actual_labels, predictions)\n",
    "\n",
    "log_file.write(f\"\\nAccuracy: {accuracy:.4f}\\n\")\n",
    "log_file.write(f\"F1 Score: {f1:.4f}\\n\")\n",
    "log_file.write(\"\\nClassification Report:\\n\")\n",
    "log_file.write(report)\n",
    "\n",
    "\n",
    "# Close log file\n",
    "log_file.close()\n",
    "\n",
    "\n",
    "# Save results to CSV files\n",
    "df_table_prd['qwen-vl-7B'] = predictions\n",
    "df_table_prd.to_csv(log_path + 'df_table_prd.csv', index=False)\n",
    "\n",
    "df_table_dsc['qwen-vl-7B'] = descriptions\n",
    "df_table_dsc.to_csv(log_path + 'df_table_dsc.csv', index=False)\n"
   ]
  },
  {
   "cell_type": "code",
   "execution_count": null,
   "id": "53dde0c4-8d8d-423c-ad0b-8add068c8a4f",
   "metadata": {},
   "outputs": [],
   "source": []
  }
 ],
 "metadata": {
  "kernelspec": {
   "display_name": "Python 3 (ipykernel)",
   "language": "python",
   "name": "python3"
  },
  "language_info": {
   "codemirror_mode": {
    "name": "ipython",
    "version": 3
   },
   "file_extension": ".py",
   "mimetype": "text/x-python",
   "name": "python",
   "nbconvert_exporter": "python",
   "pygments_lexer": "ipython3",
   "version": "3.11.10"
  }
 },
 "nbformat": 4,
 "nbformat_minor": 5
}
