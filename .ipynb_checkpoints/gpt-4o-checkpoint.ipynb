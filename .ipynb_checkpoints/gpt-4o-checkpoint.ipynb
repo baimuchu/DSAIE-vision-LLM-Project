{
 "cells": [
  {
   "cell_type": "markdown",
   "id": "cc2c4988-d923-476e-b94e-ccb8e634490e",
   "metadata": {},
   "source": [
    "# GPT-4o"
   ]
  },
  {
   "cell_type": "code",
   "execution_count": 3,
   "id": "3dfef079-4229-4aa7-bacc-f6a38c39409e",
   "metadata": {},
   "outputs": [
    {
     "name": "stdout",
     "output_type": "stream",
     "text": [
      "Requirement already satisfied: pip in /usr/local/lib/python3.10/dist-packages (24.3.1)\n",
      "\u001b[33mWARNING: Running pip as the 'root' user can result in broken permissions and conflicting behaviour with the system package manager, possibly rendering your system unusable.It is recommended to use a virtual environment instead: https://pip.pypa.io/warnings/venv. Use the --root-user-action option if you know what you are doing and want to suppress this warning.\u001b[0m\u001b[33m\n",
      "\u001b[0mRequirement already satisfied: pandas in /usr/local/lib/python3.10/dist-packages (from -r gpt_requirements.txt (line 1)) (2.2.3)\n",
      "Requirement already satisfied: scikit-learn in /usr/local/lib/python3.10/dist-packages (from -r gpt_requirements.txt (line 2)) (1.5.2)\n",
      "Requirement already satisfied: tqdm in /usr/local/lib/python3.10/dist-packages (from -r gpt_requirements.txt (line 3)) (4.67.1)\n",
      "Collecting openai (from -r gpt_requirements.txt (line 4))\n",
      "  Downloading openai-1.55.2-py3-none-any.whl.metadata (24 kB)\n",
      "Requirement already satisfied: numpy>=1.22.4 in /usr/local/lib/python3.10/dist-packages (from pandas->-r gpt_requirements.txt (line 1)) (1.24.4)\n",
      "Requirement already satisfied: python-dateutil>=2.8.2 in /usr/local/lib/python3.10/dist-packages (from pandas->-r gpt_requirements.txt (line 1)) (2.8.2)\n",
      "Requirement already satisfied: pytz>=2020.1 in /usr/local/lib/python3.10/dist-packages (from pandas->-r gpt_requirements.txt (line 1)) (2024.2)\n",
      "Requirement already satisfied: tzdata>=2022.7 in /usr/local/lib/python3.10/dist-packages (from pandas->-r gpt_requirements.txt (line 1)) (2024.2)\n",
      "Requirement already satisfied: scipy>=1.6.0 in /usr/local/lib/python3.10/dist-packages (from scikit-learn->-r gpt_requirements.txt (line 2)) (1.14.1)\n",
      "Requirement already satisfied: joblib>=1.2.0 in /usr/local/lib/python3.10/dist-packages (from scikit-learn->-r gpt_requirements.txt (line 2)) (1.4.2)\n",
      "Requirement already satisfied: threadpoolctl>=3.1.0 in /usr/local/lib/python3.10/dist-packages (from scikit-learn->-r gpt_requirements.txt (line 2)) (3.5.0)\n",
      "Requirement already satisfied: anyio<5,>=3.5.0 in /usr/local/lib/python3.10/dist-packages (from openai->-r gpt_requirements.txt (line 4)) (4.0.0)\n",
      "Requirement already satisfied: distro<2,>=1.7.0 in /usr/lib/python3/dist-packages (from openai->-r gpt_requirements.txt (line 4)) (1.7.0)\n",
      "Collecting httpx<1,>=0.23.0 (from openai->-r gpt_requirements.txt (line 4))\n",
      "  Downloading httpx-0.27.2-py3-none-any.whl.metadata (7.1 kB)\n",
      "Collecting jiter<1,>=0.4.0 (from openai->-r gpt_requirements.txt (line 4))\n",
      "  Downloading jiter-0.8.0-cp310-cp310-manylinux_2_17_x86_64.manylinux2014_x86_64.whl.metadata (5.2 kB)\n",
      "Collecting pydantic<3,>=1.9.0 (from openai->-r gpt_requirements.txt (line 4))\n",
      "  Downloading pydantic-2.10.2-py3-none-any.whl.metadata (170 kB)\n",
      "Requirement already satisfied: sniffio in /usr/local/lib/python3.10/dist-packages (from openai->-r gpt_requirements.txt (line 4)) (1.3.0)\n",
      "Requirement already satisfied: typing-extensions<5,>=4.11 in /usr/local/lib/python3.10/dist-packages (from openai->-r gpt_requirements.txt (line 4)) (4.12.2)\n",
      "Requirement already satisfied: idna>=2.8 in /usr/local/lib/python3.10/dist-packages (from anyio<5,>=3.5.0->openai->-r gpt_requirements.txt (line 4)) (3.4)\n",
      "Requirement already satisfied: exceptiongroup>=1.0.2 in /usr/local/lib/python3.10/dist-packages (from anyio<5,>=3.5.0->openai->-r gpt_requirements.txt (line 4)) (1.1.3)\n",
      "Requirement already satisfied: certifi in /usr/local/lib/python3.10/dist-packages (from httpx<1,>=0.23.0->openai->-r gpt_requirements.txt (line 4)) (2022.12.7)\n",
      "Collecting httpcore==1.* (from httpx<1,>=0.23.0->openai->-r gpt_requirements.txt (line 4))\n",
      "  Downloading httpcore-1.0.7-py3-none-any.whl.metadata (21 kB)\n",
      "Collecting h11<0.15,>=0.13 (from httpcore==1.*->httpx<1,>=0.23.0->openai->-r gpt_requirements.txt (line 4))\n",
      "  Downloading h11-0.14.0-py3-none-any.whl.metadata (8.2 kB)\n",
      "Collecting annotated-types>=0.6.0 (from pydantic<3,>=1.9.0->openai->-r gpt_requirements.txt (line 4))\n",
      "  Downloading annotated_types-0.7.0-py3-none-any.whl.metadata (15 kB)\n",
      "Collecting pydantic-core==2.27.1 (from pydantic<3,>=1.9.0->openai->-r gpt_requirements.txt (line 4))\n",
      "  Downloading pydantic_core-2.27.1-cp310-cp310-manylinux_2_17_x86_64.manylinux2014_x86_64.whl.metadata (6.6 kB)\n",
      "Requirement already satisfied: six>=1.5 in /usr/lib/python3/dist-packages (from python-dateutil>=2.8.2->pandas->-r gpt_requirements.txt (line 1)) (1.16.0)\n",
      "Downloading openai-1.55.2-py3-none-any.whl (389 kB)\n",
      "Downloading httpx-0.27.2-py3-none-any.whl (76 kB)\n",
      "Downloading httpcore-1.0.7-py3-none-any.whl (78 kB)\n",
      "Downloading jiter-0.8.0-cp310-cp310-manylinux_2_17_x86_64.manylinux2014_x86_64.whl (343 kB)\n",
      "Downloading pydantic-2.10.2-py3-none-any.whl (456 kB)\n",
      "Downloading pydantic_core-2.27.1-cp310-cp310-manylinux_2_17_x86_64.manylinux2014_x86_64.whl (2.1 MB)\n",
      "\u001b[2K   \u001b[90m━━━━━━━━━━━━━━━━━━━━━━━━━━━━━━━━━━━━━━━━\u001b[0m \u001b[32m2.1/2.1 MB\u001b[0m \u001b[31m327.3 MB/s\u001b[0m eta \u001b[36m0:00:00\u001b[0m\n",
      "\u001b[?25hDownloading annotated_types-0.7.0-py3-none-any.whl (13 kB)\n",
      "Downloading h11-0.14.0-py3-none-any.whl (58 kB)\n",
      "Installing collected packages: pydantic-core, jiter, h11, annotated-types, pydantic, httpcore, httpx, openai\n",
      "Successfully installed annotated-types-0.7.0 h11-0.14.0 httpcore-1.0.7 httpx-0.27.2 jiter-0.8.0 openai-1.55.2 pydantic-2.10.2 pydantic-core-2.27.1\n",
      "\u001b[33mWARNING: Running pip as the 'root' user can result in broken permissions and conflicting behaviour with the system package manager, possibly rendering your system unusable.It is recommended to use a virtual environment instead: https://pip.pypa.io/warnings/venv. Use the --root-user-action option if you know what you are doing and want to suppress this warning.\u001b[0m\u001b[33m\n",
      "\u001b[0m"
     ]
    }
   ],
   "source": [
    "! python -m pip install --upgrade pip\n",
    "! pip install -r gpt_requirements.txt"
   ]
  },
  {
   "cell_type": "code",
   "execution_count": 10,
   "id": "b97308e9-9f8c-4329-9dcf-484df8516082",
   "metadata": {
    "scrolled": true
   },
   "outputs": [
    {
     "name": "stderr",
     "output_type": "stream",
     "text": [
      "Processing images:   0%|          | 1/200 [00:03<12:49,  3.87s/it]"
     ]
    },
    {
     "name": "stdout",
     "output_type": "stream",
     "text": [
      "{\n",
      "  \"DESCRIPTION\": \"The image shows a sewer pipe with clear visibility and adequate lighting. The surface is concrete with a visible crack running along the pipe, indicating damage.\",\n",
      "  \"CODE\": \"RB\"\n",
      "}\n",
      "Image ID: 00617545.png | Predicted: RB | Ground Truth: RB\n"
     ]
    },
    {
     "name": "stderr",
     "output_type": "stream",
     "text": [
      "Processing images:   1%|          | 2/200 [00:11<20:31,  6.22s/it]"
     ]
    },
    {
     "name": "stdout",
     "output_type": "stream",
     "text": [
      "{\n",
      "  \"DESCRIPTION\": \"The image shows a sewer pipe with moderate lighting. The pipe appears to be made of concrete. There are visible areas of surface damage with noticeable wear and erosion, but no major structural defects. Some water is present at the bottom.\",\n",
      "  \"CODE\": \"OB\"\n",
      "}\n",
      "Image ID: 00635967.png | Predicted: OB | Ground Truth: NoDefect\n"
     ]
    },
    {
     "name": "stderr",
     "output_type": "stream",
     "text": [
      "Processing images:   2%|▏         | 3/200 [00:16<18:02,  5.49s/it]"
     ]
    },
    {
     "name": "stdout",
     "output_type": "stream",
     "text": [
      "{\n",
      "  \"DESCRIPTION\": \"The image shows a sewer pipe with adequate lighting, revealing a concrete surface. There is a presence of standing water at the bottom. The pipe walls appear smooth with no visible cracks, breaks, or blockages.\",\n",
      "  \"CODE\": \"NoDefect\"\n",
      "}\n",
      "Image ID: 00002720.png | Predicted: NoDefect | Ground Truth: NoDefect\n"
     ]
    },
    {
     "name": "stderr",
     "output_type": "stream",
     "text": [
      "Processing images:   2%|▏         | 4/200 [00:22<18:26,  5.64s/it]"
     ]
    },
    {
     "name": "stdout",
     "output_type": "stream",
     "text": [
      "{\n",
      "  \"DESCRIPTION\": \"The image shows a concrete pipe interior with clear visibility and good lighting conditions. There is a visible circular hole with no signs of cracks, breaks, or other defects observed.\",\n",
      "  \"CODE\": \"NoDefect\"\n",
      "}\n",
      "Image ID: 00497284.png | Predicted: NoDefect | Ground Truth: NoDefect\n"
     ]
    },
    {
     "name": "stderr",
     "output_type": "stream",
     "text": [
      "Processing images:   2%|▎         | 5/200 [00:29<19:45,  6.08s/it]"
     ]
    },
    {
     "name": "stdout",
     "output_type": "stream",
     "text": [
      "{\n",
      "  \"DESCRIPTION\": \"The image shows a section of a sewer pipe with clear visibility and good lighting conditions. The pipe appears to be concrete with a visible large crack along the surface.\",\n",
      "  \"CODE\": \"RB\"\n",
      "}\n",
      "Image ID: 00231002.png | Predicted: RB | Ground Truth: RB\n"
     ]
    },
    {
     "name": "stderr",
     "output_type": "stream",
     "text": [
      "Processing images:   3%|▎         | 6/200 [00:33<17:37,  5.45s/it]"
     ]
    },
    {
     "name": "stdout",
     "output_type": "stream",
     "text": [
      "{\n",
      "  \"DESCRIPTION\": \"The image shows a clear view inside a concrete sewer pipe with adequate lighting. There is a small amount of water at the bottom of the pipe. Surface buildup is visible along the pipe walls, but there are no visible cracks, collapses, or intrusions.\",\n",
      "  \"CODE\": \"OB\"\n",
      "}\n",
      "Image ID: 00468553.png | Predicted: OB | Ground Truth: PF\n"
     ]
    },
    {
     "name": "stderr",
     "output_type": "stream",
     "text": [
      "Processing images:   4%|▎         | 7/200 [00:36<14:51,  4.62s/it]"
     ]
    },
    {
     "name": "stdout",
     "output_type": "stream",
     "text": [
      "{\n",
      "  \"DESCRIPTION\": \"The image is blurry with unclear visibility, making it difficult to precisely identify the pipe material or any features. Lighting conditions appear to be poor, and no distinct details are visible.\",\n",
      "  \"CODE\": \"NoDefect\"\n",
      "}\n",
      "Image ID: 00953221.png | Predicted: NoDefect | Ground Truth: NoDefect\n"
     ]
    },
    {
     "name": "stderr",
     "output_type": "stream",
     "text": [
      "Processing images:   4%|▍         | 8/200 [00:39<12:55,  4.04s/it]"
     ]
    },
    {
     "name": "stdout",
     "output_type": "stream",
     "text": [
      "{\n",
      "  \"DESCRIPTION\": \"The image shows an interior view of a sewer pipe with adequate lighting and clear visibility. The pipe appears to be concrete, with a smooth surface and no visible signs of water or defects such as cracks, breaks, or root intrusions.\",\n",
      "  \"CODE\": \"NoDefect\"\n",
      "}\n",
      "Image ID: 00242381.png | Predicted: NoDefect | Ground Truth: NoDefect\n"
     ]
    },
    {
     "name": "stderr",
     "output_type": "stream",
     "text": [
      "Processing images:   4%|▍         | 9/200 [00:44<14:39,  4.61s/it]"
     ]
    },
    {
     "name": "stdout",
     "output_type": "stream",
     "text": [
      "{\n",
      "  \"DESCRIPTION\": \"The image shows a clear view inside a concrete sewer pipe with adequate lighting. There is a presence of water at the bottom. The pipe surface appears smooth and unbroken, with no visible signs of damage or blockages.\",\n",
      "  \"CODE\": \"NoDefect\"\n",
      "}\n",
      "Image ID: 00292340.png | Predicted: NoDefect | Ground Truth: PF\n"
     ]
    },
    {
     "name": "stderr",
     "output_type": "stream",
     "text": [
      "Processing images:   5%|▌         | 10/200 [00:48<13:11,  4.16s/it]"
     ]
    },
    {
     "name": "stdout",
     "output_type": "stream",
     "text": [
      "{\n",
      "  \"DESCRIPTION\": \"The image shows a concrete sewer pipe with clear visibility and even lighting conditions. The interior surface appears smooth with no visible signs of cracks, breaks, deformations, or root intrusion.\",\n",
      "  \"CODE\": \"NoDefect\"\n",
      "}\n",
      "Image ID: 00184032.png | Predicted: NoDefect | Ground Truth: OB\n"
     ]
    },
    {
     "name": "stderr",
     "output_type": "stream",
     "text": [
      "Processing images:   6%|▌         | 11/200 [00:50<11:46,  3.74s/it]"
     ]
    },
    {
     "name": "stdout",
     "output_type": "stream",
     "text": [
      "{\n",
      "  \"DESCRIPTION\": \"The image shows a sewer pipe interior with some debris at the bottom. The lighting is adequate, revealing the pipe's surface. The pipe appears to have surface irregularities but no significant cracks, deformations, or root intrusions are visible. The pipe is likely concrete with some visible surface wear.\",\n",
      "  \"CODE\": \"OB\"\n",
      "}\n",
      "Image ID: 00544551.png | Predicted: OB | Ground Truth: NoDefect\n"
     ]
    },
    {
     "name": "stderr",
     "output_type": "stream",
     "text": [
      "Processing images:   6%|▌         | 12/200 [00:56<13:52,  4.43s/it]"
     ]
    },
    {
     "name": "stdout",
     "output_type": "stream",
     "text": [
      "{\n",
      "  \"DESCRIPTION\": \"The image shows a large concrete sewer pipe with adequate lighting and a small amount of water flowing along the bottom. The surface appears smooth and intact with no visible signs of cracks, breaks, or roots.\",\n",
      "  \"CODE\": \"NoDefect\"\n",
      "}\n",
      "Image ID: 01051658.png | Predicted: NoDefect | Ground Truth: DE\n"
     ]
    },
    {
     "name": "stderr",
     "output_type": "stream",
     "text": [
      "Processing images:   6%|▋         | 13/200 [00:59<12:36,  4.05s/it]"
     ]
    },
    {
     "name": "stdout",
     "output_type": "stream",
     "text": [
      "{\n",
      "  \"DESCRIPTION\": \"The image shows the interior of a concrete sewer pipe with adequate lighting. The pipe surface appears to have discoloration and some surface streaking, but no significant cracks, breaks, or deformations are visible. There is no presence of water or roots infiltrating the pipe.\",\n",
      "  \"CODE\": \"OB\"\n",
      "}\n",
      "Image ID: 00841517.png | Predicted: OB | Ground Truth: PF\n"
     ]
    },
    {
     "name": "stderr",
     "output_type": "stream",
     "text": [
      "Processing images:   7%|▋         | 14/200 [01:03<12:27,  4.02s/it]"
     ]
    },
    {
     "name": "stdout",
     "output_type": "stream",
     "text": [
      "{\n",
      "  \"DESCRIPTION\": \"The image shows a concrete sewer pipe with adequate lighting and clarity. There are visible roots infiltrating the pipe on the right side. The interior surface appears mostly intact otherwise.\",\n",
      "  \"CODE\": \"RO\"\n",
      "}\n",
      "Image ID: 00306871.png | Predicted: RO | Ground Truth: RO\n"
     ]
    },
    {
     "name": "stderr",
     "output_type": "stream",
     "text": [
      "Processing images:   8%|▊         | 15/200 [01:06<10:52,  3.53s/it]"
     ]
    },
    {
     "name": "stdout",
     "output_type": "stream",
     "text": [
      "{\n",
      "  \"DESCRIPTION\": \"The image shows a clear view inside a sewer pipe. The lighting conditions are adequate, and the pipe appears to be made of concrete. There is a slight presence of water at the bottom of the pipe. The pipe's surface is smooth without any visible cracks, breaks, or roots indicating a good condition.\",\n",
      "  \"CODE\": \"NoDefect\"\n",
      "}\n",
      "Image ID: 01057513.png | Predicted: NoDefect | Ground Truth: DE\n"
     ]
    },
    {
     "name": "stderr",
     "output_type": "stream",
     "text": [
      "Processing images:   8%|▊         | 16/200 [01:09<10:18,  3.36s/it]"
     ]
    },
    {
     "name": "stdout",
     "output_type": "stream",
     "text": [
      "{\n",
      "  \"DESCRIPTION\": \"The image shows a clear interior view of a sewer pipe, possibly made of concrete, with good lighting conditions. The surface appears smooth with no visible cracks, breaks, or obstructions. There are no signs of roots or deformations.\",\n",
      "  \"CODE\": \"NoDefect\"\n",
      "}\n",
      "Image ID: 00852617.png | Predicted: NoDefect | Ground Truth: NoDefect\n"
     ]
    },
    {
     "name": "stderr",
     "output_type": "stream",
     "text": [
      "Processing images:   8%|▊         | 17/200 [01:11<09:30,  3.12s/it]"
     ]
    },
    {
     "name": "stdout",
     "output_type": "stream",
     "text": [
      "{\n",
      "  \"DESCRIPTION\": \"The image shows a clear view of a sewer pipe with good lighting conditions. The pipe appears to be made of concrete. There are visible lines, but the surface is generally smooth and unbroken with no visible signs of damage or blockages.\",\n",
      "  \"CODE\": \"NoDefect\"\n",
      "}\n",
      "Image ID: 00908736.png | Predicted: NoDefect | Ground Truth: NoDefect\n"
     ]
    },
    {
     "name": "stderr",
     "output_type": "stream",
     "text": [
      "Processing images:   9%|▉         | 18/200 [01:15<09:30,  3.13s/it]"
     ]
    },
    {
     "name": "stdout",
     "output_type": "stream",
     "text": [
      "{\n",
      "  \"DESCRIPTION\": \"The image shows the interior of a sewer pipe with relatively clear visibility and adequate lighting. The pipe appears to be concrete with a smooth, unbroken surface. There are no visible signs of water pooling or defects such as cracks, deformations, or root intrusions.\",\n",
      "  \"CODE\": \"NoDefect\"\n",
      "}\n",
      "Image ID: 00287653.png | Predicted: NoDefect | Ground Truth: NoDefect\n"
     ]
    },
    {
     "name": "stderr",
     "output_type": "stream",
     "text": [
      "Processing images:  10%|▉         | 19/200 [01:17<09:09,  3.03s/it]"
     ]
    },
    {
     "name": "stdout",
     "output_type": "stream",
     "text": [
      "{\n",
      "  \"DESCRIPTION\": \"The image shows a sewer pipe with adequate lighting. The interior surface seems to have a visible longitudinal crack along the pipe. The material appears to be concrete, and the pipe looks dry with no water present.\",\n",
      "  \"CODE\": \"RB\"\n",
      "}\n",
      "Image ID: 00967874.png | Predicted: RB | Ground Truth: NoDefect\n"
     ]
    },
    {
     "name": "stderr",
     "output_type": "stream",
     "text": [
      "Processing images:  10%|█         | 20/200 [01:20<08:39,  2.89s/it]"
     ]
    },
    {
     "name": "stdout",
     "output_type": "stream",
     "text": [
      "{\n",
      "  \"DESCRIPTION\": \"The image shows a sewer pipe with uneven, deformed structure visible. Lighting is adequate, revealing significant deformation around the upper section. There are some obstructions within the pipe possibly due to prior deformation.\",\n",
      "  \"CODE\": \"DE\"\n",
      "}\n",
      "Image ID: 00519810.png | Predicted: DE | Ground Truth: NoDefect\n"
     ]
    },
    {
     "name": "stderr",
     "output_type": "stream",
     "text": [
      "Processing images:  10%|█         | 21/200 [01:23<08:36,  2.89s/it]"
     ]
    },
    {
     "name": "stdout",
     "output_type": "stream",
     "text": [
      "{\n",
      "  \"DESCRIPTION\": \"The image shows a concrete sewer pipe with good lighting and clear visibility. The pipe is partially filled with water, and the interior surface appears smooth and intact with no visible signs of defects or blockages.\",\n",
      "  \"CODE\": \"NoDefect\"\n",
      "}\n",
      "Image ID: 00902655.png | Predicted: NoDefect | Ground Truth: NoDefect\n"
     ]
    },
    {
     "name": "stderr",
     "output_type": "stream",
     "text": [
      "Processing images:  11%|█         | 22/200 [01:25<08:10,  2.76s/it]"
     ]
    },
    {
     "name": "stdout",
     "output_type": "stream",
     "text": [
      "{\n",
      "  \"DESCRIPTION\": \"The image shows a sewer pipe with moderate lighting conditions. The pipe wall appears to be concrete with some discoloration. Water is present at the bottom, though the flow seems minimal. There are no visible cracks, roots, or structural deformations observed.\",\n",
      "  \"CODE\": \"NoDefect\"\n",
      "}\n",
      "Image ID: 00248494.png | Predicted: NoDefect | Ground Truth: NoDefect\n"
     ]
    },
    {
     "name": "stderr",
     "output_type": "stream",
     "text": [
      "Processing images:  12%|█▏        | 23/200 [01:28<07:50,  2.66s/it]"
     ]
    },
    {
     "name": "stdout",
     "output_type": "stream",
     "text": [
      "{\n",
      "  \"DESCRIPTION\": \"The image shows the interior of a concrete sewer pipe. Lighting conditions are adequate, providing clear visibility. There is a presence of roots infiltrating the pipe from the bottom.\",\n",
      "  \"CODE\": \"RO\"\n",
      "}\n",
      "Image ID: 00306868.png | Predicted: RO | Ground Truth: RO\n"
     ]
    },
    {
     "name": "stderr",
     "output_type": "stream",
     "text": [
      "Processing images:  12%|█▏        | 24/200 [01:30<07:55,  2.70s/it]"
     ]
    },
    {
     "name": "stdout",
     "output_type": "stream",
     "text": [
      "{\n",
      "  \"DESCRIPTION\": \"The image shows a concrete sewer pipe with relatively clear lighting conditions. There are visible cracks and partial collapses, indicating significant structural damage. Additionally, a small root intrusion is evident along the pipe wall.\",\n",
      "  \"CODE\": \"RB, RO\"\n",
      "}\n",
      "Image ID: 00305000.png | Predicted: RB, RO | Ground Truth: RB\n"
     ]
    },
    {
     "name": "stderr",
     "output_type": "stream",
     "text": [
      "Processing images:  12%|█▎        | 25/200 [01:33<07:51,  2.70s/it]"
     ]
    },
    {
     "name": "stdout",
     "output_type": "stream",
     "text": [
      "{\n",
      "  \"DESCRIPTION\": \"The image shows a concrete sewer pipe with clear and adequate lighting. There is some presence of water along the bottom, but no visible signs of cracks, breaks, or root intrusion. The surface appears to be largely smooth without noticeable deformations or damage.\",\n",
      "  \"CODE\": \"NoDefect\"\n",
      "}\n",
      "Image ID: 00406657.png | Predicted: NoDefect | Ground Truth: PF\n"
     ]
    },
    {
     "name": "stderr",
     "output_type": "stream",
     "text": [
      "Processing images:  13%|█▎        | 26/200 [01:41<12:21,  4.26s/it]"
     ]
    },
    {
     "name": "stdout",
     "output_type": "stream",
     "text": [
      "{\n",
      "  \"DESCRIPTION\": \"The image shows the interior of a concrete sewer pipe. The clarity is adequate with good lighting conditions. There is a visible longitudinal crack along the pipe surface and roots are present, infiltrating the pipe through the crack.\",\n",
      "  \"CODE\": \"RB, RO\"\n",
      "}\n",
      "Image ID: 01021927.png | Predicted: RB, RO | Ground Truth: RO\n"
     ]
    },
    {
     "name": "stderr",
     "output_type": "stream",
     "text": [
      "Processing images:  14%|█▎        | 27/200 [01:44<11:03,  3.83s/it]"
     ]
    },
    {
     "name": "stdout",
     "output_type": "stream",
     "text": [
      "{\n",
      "  \"DESCRIPTION\": \"The image shows a clear view of a concrete sewer pipe with some sediment and minor debris on the bottom. The surface appears mostly intact with no visible cracks, deformities, or blockages. Lighting conditions are adequate.\",\n",
      "  \"CODE\": \"NoDefect\"\n",
      "}\n",
      "Image ID: 00572939.png | Predicted: NoDefect | Ground Truth: OB\n"
     ]
    },
    {
     "name": "stderr",
     "output_type": "stream",
     "text": [
      "Processing images:  14%|█▍        | 28/200 [01:48<10:52,  3.80s/it]"
     ]
    },
    {
     "name": "stdout",
     "output_type": "stream",
     "text": [
      "{\n",
      "  \"DESCRIPTION\": \"The image shows a sewer pipe with good lighting and clarity. The pipe appears to be made of concrete with smooth, unbroken surfaces. There is a small amount of water at the bottom. No visible defects such as cracks, collapses, surface damage, deformations, or root intrusions are observed.\",\n",
      "  \"CODE\": \"NoDefect\"\n",
      "}\n",
      "Image ID: 00710330.png | Predicted: NoDefect | Ground Truth: NoDefect\n"
     ]
    },
    {
     "name": "stderr",
     "output_type": "stream",
     "text": [
      "Processing images:  14%|█▍        | 29/200 [01:50<10:03,  3.53s/it]"
     ]
    },
    {
     "name": "stdout",
     "output_type": "stream",
     "text": [
      "{\n",
      "  \"DESCRIPTION\": \"The image shows the interior of a sewer pipe with adequate lighting. The pipe appears clear with a smooth, unbroken surface, and there are no visible signs of damage such as cracks or collapses. There are no visible blockages or root intrusions.\",\n",
      "  \"CODE\": \"NoDefect\"\n",
      "}\n",
      "Image ID: 00311380.png | Predicted: NoDefect | Ground Truth: NoDefect\n"
     ]
    },
    {
     "name": "stderr",
     "output_type": "stream",
     "text": [
      "Processing images:  15%|█▌        | 30/200 [01:57<12:26,  4.39s/it]"
     ]
    },
    {
     "name": "stdout",
     "output_type": "stream",
     "text": [
      "{\n",
      "  \"DESCRIPTION\": \"The image shows a sewer pipe with clear visibility and adequate lighting. The pipe appears to be made of concrete with a noticeable texture on its surface. There is no presence of water or visible debris. The pipe surface is smooth without visible cracks, breaks, or root intrusion.\",\n",
      "  \"CODE\": \"NoDefect\"\n",
      "}\n",
      "Image ID: 00959013.png | Predicted: NoDefect | Ground Truth: NoDefect\n"
     ]
    },
    {
     "name": "stderr",
     "output_type": "stream",
     "text": [
      "Processing images:  16%|█▌        | 31/200 [01:59<10:35,  3.76s/it]"
     ]
    },
    {
     "name": "stdout",
     "output_type": "stream",
     "text": [
      "{\n",
      "  \"DESCRIPTION\": \"The image shows a sewer pipe with clear visibility and adequate lighting conditions. The pipe material appears to be concrete. There is significant presence of roots infiltrating the pipe interior.\",\n",
      "  \"CODE\": \"RO\"\n",
      "}\n",
      "Image ID: 00341760.png | Predicted: RO | Ground Truth: RO\n"
     ]
    },
    {
     "name": "stderr",
     "output_type": "stream",
     "text": [
      "Processing images:  16%|█▌        | 32/200 [02:04<11:23,  4.07s/it]"
     ]
    },
    {
     "name": "stdout",
     "output_type": "stream",
     "text": [
      "{\n",
      "  \"DESCRIPTION\": \"The image shows a clear view inside a well-lit PVC sewer pipe with smooth, unbroken surfaces. There is a presence of water at the bottom, but no visible signs of cracks, damage, deformations, or root infiltration. The pipe appears to be in good condition.\",\n",
      "  \"CODE\": \"NoDefect\"\n",
      "}\n",
      "Image ID: 01233591.png | Predicted: NoDefect | Ground Truth: NoDefect\n"
     ]
    },
    {
     "name": "stderr",
     "output_type": "stream",
     "text": [
      "Processing images:  16%|█▋        | 33/200 [02:06<09:53,  3.55s/it]"
     ]
    },
    {
     "name": "stdout",
     "output_type": "stream",
     "text": [
      "{\n",
      "  \"DESCRIPTION\": \"The image shows a section of a sewer pipe with dim lighting conditions and presence of water at the bottom. The pipe surface appears smooth and intact with no visible cracks, breaks, or intrusions.\",\n",
      "  \"CODE\": \"NoDefect\"\n",
      "}\n",
      "Image ID: 01069656.png | Predicted: NoDefect | Ground Truth: NoDefect\n"
     ]
    },
    {
     "name": "stderr",
     "output_type": "stream",
     "text": [
      "Processing images:  17%|█▋        | 34/200 [02:09<09:00,  3.26s/it]"
     ]
    },
    {
     "name": "stdout",
     "output_type": "stream",
     "text": [
      "{\n",
      "  \"DESCRIPTION\": \"The image appears to show a dark and unclear view with poor lighting conditions. There is something protruding from the surface on the left side and a brighter area on the right. The type of pipe material is not clearly visible, and there is no clear indication of the presence of water. Due to image quality, it is difficult to identify specific defects.\",\n",
      "  \"CODE\": \"NoDefect\"\n",
      "}\n",
      "Image ID: 01051282.png | Predicted: NoDefect | Ground Truth: RO\n"
     ]
    },
    {
     "name": "stderr",
     "output_type": "stream",
     "text": [
      "Processing images:  18%|█▊        | 35/200 [02:12<08:46,  3.19s/it]"
     ]
    },
    {
     "name": "stdout",
     "output_type": "stream",
     "text": [
      "{\n",
      "  \"DESCRIPTION\": \"The image shows a section of a sewer pipe with adequate lighting and clear visibility. The pipe appears to be made of concrete. There is visible surface damage, with erosion and wear evident along the upper half of the pipe. The integrity and smoothness of the surface are compromised.\",\n",
      "  \"CODE\": \"OB\"\n",
      "}\n",
      "Image ID: 00414188.png | Predicted: OB | Ground Truth: RB\n"
     ]
    },
    {
     "name": "stderr",
     "output_type": "stream",
     "text": [
      "Processing images:  18%|█▊        | 36/200 [02:14<07:52,  2.88s/it]"
     ]
    },
    {
     "name": "stdout",
     "output_type": "stream",
     "text": [
      "{\n",
      "  \"DESCRIPTION\": \"The image shows a sewer pipe in good lighting conditions. The pipe appears to be made of concrete and has a smooth surface with steady water flow at the bottom. No visible defects such as cracks, roots, or deformations are detected.\",\n",
      "  \"CODE\": \"NoDefect\"\n",
      "}\n",
      "Image ID: 00656179.png | Predicted: NoDefect | Ground Truth: NoDefect\n"
     ]
    },
    {
     "name": "stderr",
     "output_type": "stream",
     "text": [
      "Processing images:  18%|█▊        | 37/200 [02:17<08:07,  2.99s/it]"
     ]
    },
    {
     "name": "stdout",
     "output_type": "stream",
     "text": [
      "{\n",
      "  \"DESCRIPTION\": \"The image shows a well-lit interior of a sewer pipe, likely made of PVC. The pipe surface appears smooth and unbroken, with no visible cracks, blockages, or deformations. The pipe seems to be in good condition with no visible defects.\",\n",
      "  \"CODE\": \"NoDefect\"\n",
      "}\n",
      "Image ID: 01230189.png | Predicted: NoDefect | Ground Truth: NoDefect\n"
     ]
    },
    {
     "name": "stderr",
     "output_type": "stream",
     "text": [
      "Processing images:  19%|█▉        | 38/200 [02:20<07:55,  2.94s/it]"
     ]
    },
    {
     "name": "stdout",
     "output_type": "stream",
     "text": [
      "{\n",
      "  \"DESCRIPTION\": \"The image shows a clear view inside a sewer pipe. The lighting is adequate, and the surface of the pipe appears smooth and unbroken. There are no visible signs of damage such as cracks, collapses, or other intrusions.\",\n",
      "  \"CODE\": \"NoDefect\"\n",
      "}\n",
      "Image ID: 01103697.png | Predicted: NoDefect | Ground Truth: NoDefect\n"
     ]
    },
    {
     "name": "stderr",
     "output_type": "stream",
     "text": [
      "Processing images:  20%|█▉        | 39/200 [02:24<08:27,  3.16s/it]"
     ]
    },
    {
     "name": "stdout",
     "output_type": "stream",
     "text": [
      "{\n",
      "  \"DESCRIPTION\": \"The image shows a junction of sewer pipes with visible discoloration and some slight deposits on the surface. Lighting is adequate, and the pipes appear to be made of concrete. There is no visible cracking, deformation, or root intrusion observed.\",\n",
      "  \"CODE\": \"NoDefect\"\n",
      "}\n",
      "Image ID: 00055654.png | Predicted: NoDefect | Ground Truth: NoDefect\n"
     ]
    },
    {
     "name": "stderr",
     "output_type": "stream",
     "text": [
      "Processing images:  20%|██        | 40/200 [02:27<08:11,  3.07s/it]"
     ]
    },
    {
     "name": "stdout",
     "output_type": "stream",
     "text": [
      "{\n",
      "  \"DESCRIPTION\": \"The image shows a concrete sewer pipe with clear visibility and adequate lighting. There is a visible crack along the surface of the pipe.\",\n",
      "  \"CODE\": \"RB\"\n",
      "}\n",
      "Image ID: 00224834.png | Predicted: RB | Ground Truth: RB\n"
     ]
    },
    {
     "name": "stderr",
     "output_type": "stream",
     "text": [
      "Processing images:  20%|██        | 41/200 [02:30<08:39,  3.27s/it]"
     ]
    },
    {
     "name": "stdout",
     "output_type": "stream",
     "text": [
      "{ \n",
      "  \"DESCRIPTION\": \"The image is clear with adequate lighting showing the interior of a concrete sewer pipe. The surface appears smooth and there is no presence of water. No visible cracks, breaks, deformations, or root intrusions are noticeable.\", \n",
      "  \"CODE\": \"NoDefect\"\n",
      "}\n",
      "Image ID: 00953931.png | Predicted: NoDefect | Ground Truth: DE\n"
     ]
    },
    {
     "name": "stderr",
     "output_type": "stream",
     "text": [
      "Processing images:  21%|██        | 42/200 [02:33<08:26,  3.20s/it]"
     ]
    },
    {
     "name": "stdout",
     "output_type": "stream",
     "text": [
      "{\n",
      "  \"DESCRIPTION\": \"The image depicts a clean sewer pipe with good lighting conditions. The pipe appears smooth and intact, with no visible signs of cracks, deformations, or blockages such as roots. There is some water along the bottom, but it does not seem to indicate any defects.\",\n",
      "  \"CODE\": \"NoDefect\"\n",
      "}\n",
      "Image ID: 00392052.png | Predicted: NoDefect | Ground Truth: NoDefect\n"
     ]
    },
    {
     "name": "stderr",
     "output_type": "stream",
     "text": [
      "Processing images:  22%|██▏       | 43/200 [02:37<08:32,  3.26s/it]"
     ]
    },
    {
     "name": "stdout",
     "output_type": "stream",
     "text": [
      "{\n",
      "  \"DESCRIPTION\": \"The image shows a sewer pipe with clear visibility and adequate lighting. The pipe appears to be made of concrete. The surface is smooth and there are no visible signs of damage such as cracks, breaks, deformation, or root intrusion. There is a small presence of water at the bottom.\",\n",
      "  \"CODE\": \"NoDefect\"\n",
      "}\n",
      "Image ID: 00795710.png | Predicted: NoDefect | Ground Truth: OB\n"
     ]
    },
    {
     "name": "stderr",
     "output_type": "stream",
     "text": [
      "Processing images:  22%|██▏       | 44/200 [02:41<09:04,  3.49s/it]"
     ]
    },
    {
     "name": "stdout",
     "output_type": "stream",
     "text": [
      "{\n",
      "  \"DESCRIPTION\": \"The image shows the interior of a sewer pipe with clear visibility and good lighting conditions. The pipe appears to be made of PVC. There is no presence of water or visible defects such as cracks, breaks, deformations, or root intrusions. The pipe surface appears smooth and intact.\",\n",
      "  \"CODE\": \"NoDefect\"\n",
      "}\n",
      "Image ID: 01154770.png | Predicted: NoDefect | Ground Truth: NoDefect\n"
     ]
    },
    {
     "name": "stderr",
     "output_type": "stream",
     "text": [
      "Processing images:  22%|██▎       | 45/200 [02:44<08:34,  3.32s/it]"
     ]
    },
    {
     "name": "stdout",
     "output_type": "stream",
     "text": [
      "{\n",
      "  \"DESCRIPTION\": \"The image shows a sewer pipe with moderate lighting and a clear view. The pipe interior appears to be concrete with some discoloration but no visible water accumulation. There is a dark, string-like object protruding into the pipe, potentially indicating root intrusion.\",\n",
      "  \"CODE\": \"RO\"\n",
      "}\n",
      "Image ID: 00299021.png | Predicted: RO | Ground Truth: OB\n"
     ]
    },
    {
     "name": "stderr",
     "output_type": "stream",
     "text": [
      "Processing images:  23%|██▎       | 46/200 [02:47<08:02,  3.13s/it]"
     ]
    },
    {
     "name": "stdout",
     "output_type": "stream",
     "text": [
      "{\n",
      "  \"DESCRIPTION\": \"The image is too dark to clearly identify any features inside the sewer pipe. Limited visibility due to poor lighting conditions.\",\n",
      "  \"CODE\": \"NoDefect\"\n",
      "}\n",
      "Image ID: 00919648.png | Predicted: NoDefect | Ground Truth: RO\n"
     ]
    },
    {
     "name": "stderr",
     "output_type": "stream",
     "text": [
      "Processing images:  24%|██▎       | 47/200 [02:50<08:06,  3.18s/it]"
     ]
    },
    {
     "name": "stdout",
     "output_type": "stream",
     "text": [
      "{ \n",
      "  \"DESCRIPTION\": \"The image shows the interior of a sewer pipe with clear lighting conditions. The pipe appears to be made of concrete with a slightly rough surface. There is a presence of water along the bottom. Fine roots are visible on the upper surface of the pipe, indicating root intrusion.\",\n",
      "  \"CODE\": \"RO\"\n",
      "}\n",
      "Image ID: 01024200.png | Predicted: RO | Ground Truth: NoDefect\n"
     ]
    },
    {
     "name": "stderr",
     "output_type": "stream",
     "text": [
      "Processing images:  24%|██▍       | 48/200 [02:53<07:51,  3.10s/it]"
     ]
    },
    {
     "name": "stdout",
     "output_type": "stream",
     "text": [
      "{\n",
      "  \"DESCRIPTION\": \"The image shows a well-lit interior of a PVC sewer pipe with clear visibility. The pipe surface appears smooth and intact, with no visible cracks, breaks, or other defects. There is a small amount of water at the bottom, but it does not seem to obstruct the view or indicate any issues.\",\n",
      "  \"CODE\": \"NoDefect\"\n",
      "}\n",
      "Image ID: 00822900.png | Predicted: NoDefect | Ground Truth: NoDefect\n"
     ]
    },
    {
     "name": "stderr",
     "output_type": "stream",
     "text": [
      "Processing images:  24%|██▍       | 49/200 [02:57<08:20,  3.31s/it]"
     ]
    },
    {
     "name": "stdout",
     "output_type": "stream",
     "text": [
      "{\n",
      "  \"DESCRIPTION\": \"The image shows a concrete sewer pipe with clear visibility and adequate lighting. The pipe interior appears smooth with no visible cracks or deformations. There is some water present at the bottom of the pipe, but no blockages or root intrusions are observed.\",\n",
      "  \"CODE\": \"NoDefect\"\n",
      "}\n",
      "Image ID: 01127769.png | Predicted: NoDefect | Ground Truth: NoDefect\n"
     ]
    },
    {
     "name": "stderr",
     "output_type": "stream",
     "text": [
      "Processing images:  25%|██▌       | 50/200 [03:00<08:03,  3.22s/it]"
     ]
    },
    {
     "name": "stdout",
     "output_type": "stream",
     "text": [
      "{\n",
      "  \"DESCRIPTION\": \"The image shows a relatively clear view inside a sewer pipe with adequate lighting. The pipe appears to be in good condition with no visible cracks, breaks, or root intrusions. The pipe surface looks smooth and intact.\",\n",
      "  \"CODE\": \"NoDefect\"\n",
      "}\n",
      "Image ID: 01016394.png | Predicted: NoDefect | Ground Truth: NoDefect\n"
     ]
    },
    {
     "name": "stderr",
     "output_type": "stream",
     "text": [
      "Processing images:  26%|██▌       | 51/200 [03:03<07:49,  3.15s/it]"
     ]
    },
    {
     "name": "stdout",
     "output_type": "stream",
     "text": [
      "{ \n",
      "  \"DESCRIPTION\": \"The image shows a clear view inside a smooth and seemingly well-maintained sewer pipe. The lighting is adequate, highlighting a circular, unobstructed interior with no visible water or defects.\",\n",
      "  \"CODE\": \"NoDefect\"\n",
      "}\n",
      "Image ID: 01143948.png | Predicted: NoDefect | Ground Truth: DE\n"
     ]
    },
    {
     "name": "stderr",
     "output_type": "stream",
     "text": [
      "Processing images:  26%|██▌       | 52/200 [03:06<07:49,  3.17s/it]"
     ]
    },
    {
     "name": "stdout",
     "output_type": "stream",
     "text": [
      "{\n",
      "  \"DESCRIPTION\": \"The image shows an interior view of a sewer pipe that appears to be made of PVC. The lighting is adequate, allowing for clear visibility inside the pipe. A small stream of water is flowing along the bottom. There is a notable deformation in the pipe, indicated by a visible bend or bulge towards the center.\",\n",
      "  \"CODE\": \"DE\"\n",
      "}\n",
      "Image ID: 01129787.png | Predicted: DE | Ground Truth: NoDefect\n"
     ]
    },
    {
     "name": "stderr",
     "output_type": "stream",
     "text": [
      "Processing images:  26%|██▋       | 53/200 [03:09<07:50,  3.20s/it]"
     ]
    },
    {
     "name": "stdout",
     "output_type": "stream",
     "text": [
      "{\n",
      "  \"DESCRIPTION\": \"The image shows a well-lit, clear view inside a sewer pipe with a smooth surface, likely made of concrete or PVC. There is no visible water or signs of damage, roots, or deformations.\",\n",
      "  \"CODE\": \"NoDefect\"\n",
      "}\n",
      "Image ID: 00412362.png | Predicted: NoDefect | Ground Truth: NoDefect\n"
     ]
    },
    {
     "name": "stderr",
     "output_type": "stream",
     "text": [
      "Processing images:  27%|██▋       | 54/200 [03:12<07:32,  3.10s/it]"
     ]
    },
    {
     "name": "stdout",
     "output_type": "stream",
     "text": [
      "{\n",
      "  \"DESCRIPTION\": \"The image shows a clear view inside a sewer pipe, likely made of PVC due to its smooth interior. The lighting is adequate, with no visible water accumulation. The pipe surface appears unbroken and smooth, with no signs of damage or obstructions.\",\n",
      "  \"CODE\": \"NoDefect\"\n",
      "}\n",
      "Image ID: 01153621.png | Predicted: NoDefect | Ground Truth: NoDefect\n"
     ]
    },
    {
     "name": "stderr",
     "output_type": "stream",
     "text": [
      "Processing images:  28%|██▊       | 55/200 [03:16<08:13,  3.41s/it]"
     ]
    },
    {
     "name": "stdout",
     "output_type": "stream",
     "text": [
      "{\n",
      "  \"DESCRIPTION\": \"The image shows a clear view of a sewer pipe with good lighting conditions. The pipe appears to be circular and likely made of concrete or a similar material. The interior surface looks smooth with no visible cracks, breaks, or apparent blockages. There is a slight presence of water at the bottom, but no defects are observed.\",\n",
      "  \"CODE\": \"NoDefect\"\n",
      "}\n",
      "Image ID: 01238319.png | Predicted: NoDefect | Ground Truth: NoDefect\n"
     ]
    },
    {
     "name": "stderr",
     "output_type": "stream",
     "text": [
      "Processing images:  28%|██▊       | 56/200 [03:18<07:23,  3.08s/it]"
     ]
    },
    {
     "name": "stdout",
     "output_type": "stream",
     "text": [
      "{\n",
      "  \"DESCRIPTION\": \"The image shows a well-lit section of a sewer pipe, which appears to be made of PVC. The surface is smooth and unbroken with no visible signs of damage or blockages. There is some water at the bottom of the pipe.\",\n",
      "  \"CODE\": \"NoDefect\"\n",
      "}\n",
      "Image ID: 01019697.png | Predicted: NoDefect | Ground Truth: DE\n"
     ]
    },
    {
     "name": "stderr",
     "output_type": "stream",
     "text": [
      "Processing images:  28%|██▊       | 57/200 [03:22<07:44,  3.25s/it]"
     ]
    },
    {
     "name": "stdout",
     "output_type": "stream",
     "text": [
      "{\n",
      "  \"DESCRIPTION\": \"The image shows the interior of a sewer pipe, likely made of concrete or PVC, with clear lighting conditions. There is some discoloration and minor surface rust along the bottom and sides, indicating surface wear but no significant damage. The pipe appears smooth and uninterrupted, with no visible cracks, breaks, or blockages.\",\n",
      "  \"CODE\": \"NoDefect\"\n",
      "}\n",
      "Image ID: 00553974.png | Predicted: NoDefect | Ground Truth: PF\n"
     ]
    },
    {
     "name": "stderr",
     "output_type": "stream",
     "text": [
      "Processing images:  29%|██▉       | 58/200 [03:28<10:01,  4.23s/it]"
     ]
    },
    {
     "name": "stdout",
     "output_type": "stream",
     "text": [
      "{\n",
      "  \"DESCRIPTION\": \"The image shows a sewer pipe with clear visibility. The lighting conditions are adequate, revealing a concrete pipe with a smooth and unbroken surface. There is a minor presence of water at the bottom. No visible cracks, breaks, blockages, or deformations are detected.\",\n",
      "  \"CODE\": \"NoDefect\"\n",
      "}\n",
      "Image ID: 01182752.png | Predicted: NoDefect | Ground Truth: OB\n"
     ]
    },
    {
     "name": "stderr",
     "output_type": "stream",
     "text": [
      "Processing images:  30%|██▉       | 59/200 [03:32<09:11,  3.91s/it]"
     ]
    },
    {
     "name": "stdout",
     "output_type": "stream",
     "text": [
      "{\n",
      "  \"DESCRIPTION\": \"The image shows a concrete sewer pipe with good clarity and lighting. There is a visible joint line along the length of the pipe. A minimal amount of water is visible at the bottom center. The surface appears smooth and unbroken with no visible signs of damage or obstruction.\",\n",
      "  \"CODE\": \"NoDefect\"\n",
      "}\n",
      "Image ID: 00763700.png | Predicted: NoDefect | Ground Truth: DE\n"
     ]
    },
    {
     "name": "stderr",
     "output_type": "stream",
     "text": [
      "Processing images:  30%|███       | 60/200 [03:34<08:08,  3.49s/it]"
     ]
    },
    {
     "name": "stdout",
     "output_type": "stream",
     "text": [
      "{\n",
      "  \"DESCRIPTION\": \"The image shows the interior of a sewer pipe with good clarity and adequate lighting conditions. The pipe appears to be concrete with visible surface imperfections. There is light infiltration of roots on the right side of the pipe.\",\n",
      "  \"CODE\": \"RO\"\n",
      "}\n",
      "Image ID: 00472380.png | Predicted: RO | Ground Truth: RB\n"
     ]
    },
    {
     "name": "stderr",
     "output_type": "stream",
     "text": [
      "Processing images:  30%|███       | 61/200 [03:37<07:37,  3.29s/it]"
     ]
    },
    {
     "name": "stdout",
     "output_type": "stream",
     "text": [
      "{\n",
      "  \"DESCRIPTION\": \"The image shows a section of a concrete sewer pipe with adequate lighting. There is a noticeable crack with signs of structural damage as stones and debris are visible, suggesting a potential breach or collapse.\",\n",
      "  \"CODE\": \"RB\"\n",
      "}\n",
      "Image ID: 00235099.png | Predicted: RB | Ground Truth: RB\n"
     ]
    },
    {
     "name": "stderr",
     "output_type": "stream",
     "text": [
      "Processing images:  31%|███       | 62/200 [03:40<07:04,  3.08s/it]"
     ]
    },
    {
     "name": "stdout",
     "output_type": "stream",
     "text": [
      "{\n",
      "  \"DESCRIPTION\": \"The image depicts a clear view inside a sewer pipe with adequate lighting. The pipe appears to be smooth, with a consistent circular shape and no visible obstructions or signs of damage such as cracks, roots, or deformations.\",\n",
      "  \"CODE\": \"NoDefect\"\n",
      "}\n",
      "Image ID: 00347287.png | Predicted: NoDefect | Ground Truth: RB\n"
     ]
    },
    {
     "name": "stderr",
     "output_type": "stream",
     "text": [
      "Processing images:  32%|███▏      | 63/200 [03:43<07:30,  3.29s/it]"
     ]
    },
    {
     "name": "stdout",
     "output_type": "stream",
     "text": [
      "{\n",
      "  \"DESCRIPTION\": \"The image shows the interior of a sewer pipe with clear lighting conditions. The pipe is smooth with no visible cracks, breaks, or other damage. There is a presence of water droplets on the surface, but no obstructions such as roots or debris.\",\n",
      "  \"CODE\": \"NoDefect\"\n",
      "}\n",
      "Image ID: 00848872.png | Predicted: NoDefect | Ground Truth: PF\n"
     ]
    },
    {
     "name": "stderr",
     "output_type": "stream",
     "text": [
      "Processing images:  32%|███▏      | 64/200 [03:47<07:49,  3.45s/it]"
     ]
    },
    {
     "name": "stdout",
     "output_type": "stream",
     "text": [
      "{\n",
      "  \"DESCRIPTION\": \"The image shows a clear view of the inside of a sewer pipe, which appears to be made of concrete. Lighting conditions are adequate, allowing for a detailed observation of the pipe's interior. There is no visible water present in the pipe. The surface appears rough and slightly uneven, but there are no significant defects such as cracks, breaks, or root intrusions.\",\n",
      "  \"CODE\": \"NoDefect\"\n",
      "}\n",
      "Image ID: 00069800.png | Predicted: NoDefect | Ground Truth: OB\n"
     ]
    },
    {
     "name": "stderr",
     "output_type": "stream",
     "text": [
      "Processing images:  32%|███▎      | 65/200 [03:53<09:15,  4.11s/it]"
     ]
    },
    {
     "name": "stdout",
     "output_type": "stream",
     "text": [
      "{\n",
      "  \"DESCRIPTION\": \"The image shows a sewer pipe with concrete-like material. Lighting is adequate, allowing for a clear view of the pipe interior. There is presence of water at the bottom, but the pipe surface appears smooth and unbroken, with no visible defects.\",\n",
      "  \"CODE\": \"NoDefect\"\n",
      "}\n",
      "Image ID: 00222387.png | Predicted: NoDefect | Ground Truth: NoDefect\n"
     ]
    },
    {
     "name": "stderr",
     "output_type": "stream",
     "text": [
      "Processing images:  33%|███▎      | 66/200 [03:56<08:19,  3.73s/it]"
     ]
    },
    {
     "name": "stdout",
     "output_type": "stream",
     "text": [
      "{\n",
      "  \"DESCRIPTION\": \"The image shows a clear view inside a sewer pipe with adequate lighting. The pipe appears to be concrete with some water flow present. There are visible irregularities and surface erosion along the pipe's interior.\",\n",
      "  \"CODE\": \"OB\"\n",
      "}\n",
      "Image ID: 01009692.png | Predicted: OB | Ground Truth: NoDefect\n"
     ]
    },
    {
     "name": "stderr",
     "output_type": "stream",
     "text": [
      "Processing images:  34%|███▎      | 67/200 [03:58<07:33,  3.41s/it]"
     ]
    },
    {
     "name": "stdout",
     "output_type": "stream",
     "text": [
      "{\n",
      "  \"DESCRIPTION\": \"The image shows a clear view inside a concrete sewer pipe. Lighting conditions are good, revealing the interior surface in detail. There is a small amount of water at the bottom. The surface appears mostly smooth with no visible cracks or blockages present.\",\n",
      "  \"CODE\": \"NoDefect\"\n",
      "}\n",
      "Image ID: 00360434.png | Predicted: NoDefect | Ground Truth: NoDefect\n"
     ]
    },
    {
     "name": "stderr",
     "output_type": "stream",
     "text": [
      "Processing images:  34%|███▍      | 68/200 [04:02<07:34,  3.44s/it]"
     ]
    },
    {
     "name": "stdout",
     "output_type": "stream",
     "text": [
      "{\n",
      "  \"DESCRIPTION\": \"The image shows a sewer pipe with clear lighting. The pipe appears smooth and made of a uniform material, likely concrete or PVC. There is no visible water or obstructions present, and the interior looks intact without signs of damage.\",\n",
      "  \"CODE\": \"NoDefect\"\n",
      "}\n",
      "Image ID: 00617232.png | Predicted: NoDefect | Ground Truth: NoDefect\n"
     ]
    },
    {
     "name": "stderr",
     "output_type": "stream",
     "text": [
      "Processing images:  34%|███▍      | 69/200 [04:05<07:05,  3.24s/it]"
     ]
    },
    {
     "name": "stdout",
     "output_type": "stream",
     "text": [
      "{\n",
      "  \"DESCRIPTION\": \"The image shows the interior of a sewer pipe with moderate lighting conditions. The pipe appears to be made of concrete. There is water present at the bottom of the pipe. The surface is somewhat rough but appears structurally intact with no visible defects such as cracks, breaks, or deformations.\",\n",
      "  \"CODE\": \"NoDefect\"\n",
      "}\n",
      "Image ID: 00402904.png | Predicted: NoDefect | Ground Truth: OB\n"
     ]
    },
    {
     "name": "stderr",
     "output_type": "stream",
     "text": [
      "Processing images:  35%|███▌      | 70/200 [04:08<07:13,  3.33s/it]"
     ]
    },
    {
     "name": "stdout",
     "output_type": "stream",
     "text": [
      "{\n",
      "  \"DESCRIPTION\": \"The image shows a sewer pipe with good lighting conditions. The pipe surface appears smooth without visible signs of cracks, breaks, or roots. There is no indication of water or significant structural issues.\",\n",
      "  \"CODE\": \"NoDefect\"\n",
      "}\n",
      "Image ID: 01028450.png | Predicted: NoDefect | Ground Truth: DE\n"
     ]
    },
    {
     "name": "stderr",
     "output_type": "stream",
     "text": [
      "Processing images:  36%|███▌      | 71/200 [04:10<06:30,  3.03s/it]"
     ]
    },
    {
     "name": "stdout",
     "output_type": "stream",
     "text": [
      "{\n",
      "  \"DESCRIPTION\": \"The image shows a well-lit, corrugated yellow PVC pipe interior. The surface appears smooth with no visible signs of cracks, breaks, collapses, or blockages such as roots. Lighting conditions are good, and the pipe seems in proper shape without any deformations.\",\n",
      "  \"CODE\": \"NoDefect\"\n",
      "}\n",
      "Image ID: 00860498.png | Predicted: NoDefect | Ground Truth: NoDefect\n"
     ]
    },
    {
     "name": "stderr",
     "output_type": "stream",
     "text": [
      "Processing images:  36%|███▌      | 72/200 [04:13<06:22,  2.99s/it]"
     ]
    },
    {
     "name": "stdout",
     "output_type": "stream",
     "text": [
      "{\n",
      "  \"DESCRIPTION\": \"The image shows an inside view of a PVC sewer pipe with clear visibility and good lighting conditions. The pipe surface appears smooth and unbroken, with no visible signs of damage such as cracks or blockages. There is a small amount of water visible at the bottom.\",\n",
      "  \"CODE\": \"NoDefect\"\n",
      "}\n",
      "Image ID: 00938594.png | Predicted: NoDefect | Ground Truth: NoDefect\n"
     ]
    },
    {
     "name": "stderr",
     "output_type": "stream",
     "text": [
      "Processing images:  36%|███▋      | 73/200 [05:10<40:34, 19.17s/it]"
     ]
    },
    {
     "name": "stdout",
     "output_type": "stream",
     "text": [
      "{\n",
      "  \"DESCRIPTION\": \"The image shows a sewer pipe with good image clarity and adequate lighting. The pipe appears to be made of PVC. There is no visible water accumulation. The pipe surface looks smooth and intact with no visible cracks, breaks, or root intrusions.\",\n",
      "  \"CODE\": \"NoDefect\"\n",
      "}\n",
      "Image ID: 00260898.png | Predicted: NoDefect | Ground Truth: NoDefect\n"
     ]
    },
    {
     "name": "stderr",
     "output_type": "stream",
     "text": [
      "Processing images:  37%|███▋      | 74/200 [05:14<30:12, 14.39s/it]"
     ]
    },
    {
     "name": "stdout",
     "output_type": "stream",
     "text": [
      "{\n",
      "  \"DESCRIPTION\": \"The image shows a clear view of the inside of a sewer pipe, likely PVC, with adequate lighting. There is a visible longitudinal crack running along the pipe which indicates structural damage.\",\n",
      "  \"CODE\": \"RB\"\n",
      "}\n",
      "Image ID: 00457210.png | Predicted: RB | Ground Truth: NoDefect\n"
     ]
    },
    {
     "name": "stderr",
     "output_type": "stream",
     "text": [
      "Processing images:  38%|███▊      | 75/200 [05:16<22:25, 10.76s/it]"
     ]
    },
    {
     "name": "stdout",
     "output_type": "stream",
     "text": [
      "{\n",
      "  \"DESCRIPTION\": \"The image shows a clear view inside a concrete sewer pipe. Lighting is adequate, and the pipe interior appears generally smooth without visible damage. There's no apparent presence of water or blockages.\",\n",
      "  \"CODE\": \"NoDefect\"\n",
      "}\n",
      "Image ID: 00425339.png | Predicted: NoDefect | Ground Truth: PF\n"
     ]
    },
    {
     "name": "stderr",
     "output_type": "stream",
     "text": [
      "Processing images:  38%|███▊      | 76/200 [05:19<17:46,  8.60s/it]"
     ]
    },
    {
     "name": "stdout",
     "output_type": "stream",
     "text": [
      "{\n",
      "  \"DESCRIPTION\": \"The image shows a clear view inside a concrete sewer pipe with adequate lighting. There is a moderate amount of water flowing at the bottom. The pipe surface appears smooth, with no visible cracks, breaks, or roots. No deformations or surface damage are observed.\",\n",
      "  \"CODE\": \"NoDefect\"\n",
      "}\n",
      "Image ID: 00481322.png | Predicted: NoDefect | Ground Truth: NoDefect\n"
     ]
    },
    {
     "name": "stderr",
     "output_type": "stream",
     "text": [
      "Processing images:  38%|███▊      | 77/200 [05:23<14:22,  7.01s/it]"
     ]
    },
    {
     "name": "stdout",
     "output_type": "stream",
     "text": [
      "{\n",
      "  \"DESCRIPTION\": \"The image shows a clear view of a concrete sewer pipe with adequate lighting. There is some water presence at the bottom. No significant defects like cracks, breaks, or root intrusions are visible. The surface appears smooth with minor discoloration but no evident damage.\",\n",
      "  \"CODE\": \"NoDefect\"\n",
      "}\n",
      "Image ID: 00836585.png | Predicted: NoDefect | Ground Truth: DE\n"
     ]
    },
    {
     "name": "stderr",
     "output_type": "stream",
     "text": [
      "Processing images:  39%|███▉      | 78/200 [05:26<11:49,  5.82s/it]"
     ]
    },
    {
     "name": "stdout",
     "output_type": "stream",
     "text": [
      "{\n",
      "  \"DESCRIPTION\": \"The image shows a clear view of a concrete sewer pipe. Lighting conditions are adequate, ensuring the interior of the pipe is visible. There are no apparent cracks, blockages, or deformations. The pipe surface appears smooth and intact, with no visible signs of root intrusion.\",\n",
      "  \"CODE\": \"NoDefect\"\n",
      "}\n",
      "Image ID: 00803164.png | Predicted: NoDefect | Ground Truth: NoDefect\n"
     ]
    },
    {
     "name": "stderr",
     "output_type": "stream",
     "text": [
      "Processing images:  40%|███▉      | 79/200 [05:29<10:03,  4.99s/it]"
     ]
    },
    {
     "name": "stdout",
     "output_type": "stream",
     "text": [
      "{\n",
      "  \"DESCRIPTION\": \"The image shows a sewer pipe with adequate lighting, indicating a concrete type. There is a noticeable presence of water at the bottom. The pipe surface appears rough with discoloration, but no clear cracks, breaks, or intrusions are visible.\",\n",
      "  \"CODE\": \"NoDefect\"\n",
      "}\n",
      "Image ID: 00959031.png | Predicted: NoDefect | Ground Truth: NoDefect\n"
     ]
    },
    {
     "name": "stderr",
     "output_type": "stream",
     "text": [
      "Processing images:  40%|████      | 80/200 [05:31<08:34,  4.29s/it]"
     ]
    },
    {
     "name": "stdout",
     "output_type": "stream",
     "text": [
      "{\n",
      "  \"DESCRIPTION\": \"The image shows a clear view inside a sewer pipe with good lighting conditions. The pipe appears to be made of concrete, with a smooth and unbroken surface. There is a small amount of water at the bottom, but no visible defects such as cracks, roots, or deformations are present.\",\n",
      "  \"CODE\": \"NoDefect\"\n",
      "}\n",
      "Image ID: 00836815.png | Predicted: NoDefect | Ground Truth: PF\n"
     ]
    },
    {
     "name": "stderr",
     "output_type": "stream",
     "text": [
      "Processing images:  40%|████      | 81/200 [05:34<07:10,  3.62s/it]"
     ]
    },
    {
     "name": "stdout",
     "output_type": "stream",
     "text": [
      "{\n",
      "  \"DESCRIPTION\": \"The image shows a concrete sewer pipe with clear visibility and adequate lighting. There are roots visibly infiltrating the pipe along the surface.\",\n",
      "  \"CODE\": \"RO\"\n",
      "}\n",
      "Image ID: 01121214.png | Predicted: RO | Ground Truth: RO\n"
     ]
    },
    {
     "name": "stderr",
     "output_type": "stream",
     "text": [
      "Processing images:  41%|████      | 82/200 [05:37<06:50,  3.48s/it]"
     ]
    },
    {
     "name": "stdout",
     "output_type": "stream",
     "text": [
      "{\n",
      "  \"DESCRIPTION\": \"The image shows an interior view of a sewer pipe with adequate lighting. The pipe appears to be made of concrete and has a smooth inner surface. There is a small amount of water at the bottom, but no visible signs of cracks, breaks, or other structural damage. The clarity of the image is sufficient for inspection, and there are no obstructions such as roots or deformations.\",\n",
      "  \"CODE\": \"NoDefect\"\n",
      "}\n",
      "Image ID: 00307807.png | Predicted: NoDefect | Ground Truth: OB\n"
     ]
    },
    {
     "name": "stderr",
     "output_type": "stream",
     "text": [
      "Processing images:  42%|████▏     | 83/200 [05:40<06:48,  3.49s/it]"
     ]
    },
    {
     "name": "stdout",
     "output_type": "stream",
     "text": [
      "{\n",
      "  \"DESCRIPTION\": \"The image shows the interior of a sewer pipe with clear visibility and adequate lighting. The pipe appears to be made of concrete. There is a presence of water at the bottom, but no visible signs of cracks, deformations, or root intrusion are observed.\",\n",
      "  \"CODE\": \"NoDefect\"\n",
      "}\n",
      "Image ID: 00134089.png | Predicted: NoDefect | Ground Truth: NoDefect\n"
     ]
    },
    {
     "name": "stderr",
     "output_type": "stream",
     "text": [
      "Processing images:  42%|████▏     | 84/200 [05:43<06:22,  3.30s/it]"
     ]
    },
    {
     "name": "stdout",
     "output_type": "stream",
     "text": [
      "{\n",
      "  \"DESCRIPTION\": \"The image shows a clear view inside a concrete sewer pipe with good lighting conditions. The pipe appears structurally sound with no visible cracks, deformations, or root intrusions. A small amount of water is present at the bottom of the pipe.\",\n",
      "  \"CODE\": \"NoDefect\"\n",
      "}\n",
      "Image ID: 01279553.png | Predicted: NoDefect | Ground Truth: OB\n"
     ]
    },
    {
     "name": "stderr",
     "output_type": "stream",
     "text": [
      "Processing images:  42%|████▎     | 85/200 [05:47<06:27,  3.37s/it]"
     ]
    },
    {
     "name": "stdout",
     "output_type": "stream",
     "text": [
      "{\n",
      "  \"DESCRIPTION\": \"The image shows a clear view inside a sewer pipe with adequate lighting. The pipe appears to be made of concrete, with water present at the bottom. There are no visible defects such as cracks, breaks, surface damage, deformations, or root intrusions. The pipe surface seems smooth and intact.\",\n",
      "  \"CODE\": \"NoDefect\"\n",
      "}\n",
      "Image ID: 00213396.png | Predicted: NoDefect | Ground Truth: NoDefect\n"
     ]
    },
    {
     "name": "stderr",
     "output_type": "stream",
     "text": [
      "Processing images:  43%|████▎     | 86/200 [05:50<06:15,  3.29s/it]"
     ]
    },
    {
     "name": "stdout",
     "output_type": "stream",
     "text": [
      "{\n",
      "  \"DESCRIPTION\": \"The image shows a concrete sewer pipe with moderate clarity and adequate lighting. The interior surface appears uneven, with visible surface damage in the form of minor scratches and pitting.\",\n",
      "  \"CODE\": \"OB\"\n",
      "}\n",
      "Image ID: 00242368.png | Predicted: OB | Ground Truth: RB\n"
     ]
    },
    {
     "name": "stderr",
     "output_type": "stream",
     "text": [
      "Processing images:  44%|████▎     | 87/200 [05:52<05:33,  2.95s/it]"
     ]
    },
    {
     "name": "stdout",
     "output_type": "stream",
     "text": [
      "{\n",
      "  \"DESCRIPTION\": \"The image shows a sewer pipe with adequate lighting and visible ribbed patterns. The pipe appears to be made of a ribbed material, possibly indicating PVC. There is a notable presence of what appears to be roots intruding into the pipe, fanning out from one spot.\",\n",
      "  \"CODE\": \"RO\"\n",
      "}\n",
      "Image ID: 00814913.png | Predicted: RO | Ground Truth: NoDefect\n"
     ]
    },
    {
     "name": "stderr",
     "output_type": "stream",
     "text": [
      "Processing images:  44%|████▍     | 88/200 [05:55<05:42,  3.05s/it]"
     ]
    },
    {
     "name": "stdout",
     "output_type": "stream",
     "text": [
      "{\n",
      "  \"DESCRIPTION\": \"The image shows a concrete sewer pipe with visible root intrusion. The lighting is adequate, and there is no presence of water. The roots appear to have infiltrated through a joint or crack along the interior surface.\",\n",
      "  \"CODE\": \"RO\"\n",
      "}\n",
      "Image ID: 01157853.png | Predicted: RO | Ground Truth: RB\n"
     ]
    },
    {
     "name": "stderr",
     "output_type": "stream",
     "text": [
      "Processing images:  44%|████▍     | 89/200 [05:59<05:52,  3.17s/it]"
     ]
    },
    {
     "name": "stdout",
     "output_type": "stream",
     "text": [
      "{\n",
      "  \"DESCRIPTION\": \"The image shows the interior of a sewer pipe with smooth, slightly wet surfaces. Lighting is adequate, there are no visible cracks, roots, or other defects. The pipe appears to be in good condition.\",\n",
      "  \"CODE\": \"NoDefect\"\n",
      "}\n",
      "Image ID: 00758263.png | Predicted: NoDefect | Ground Truth: DE\n"
     ]
    },
    {
     "name": "stderr",
     "output_type": "stream",
     "text": [
      "Processing images:  45%|████▌     | 90/200 [06:02<05:41,  3.10s/it]"
     ]
    },
    {
     "name": "stdout",
     "output_type": "stream",
     "text": [
      "{\n",
      "  \"DESCRIPTION\": \"The image shows a sewer pipe interior with clear lighting. The pipe surface, likely concrete, appears rough with a shallow layer of water at the bottom. No visible cracks, breaks, roots, or deformations are present.\",\n",
      "  \"CODE\": \"NoDefect\"\n",
      "}\n",
      "Image ID: 01116344.png | Predicted: NoDefect | Ground Truth: OB\n"
     ]
    },
    {
     "name": "stderr",
     "output_type": "stream",
     "text": [
      "Processing images:  46%|████▌     | 91/200 [06:04<05:30,  3.04s/it]"
     ]
    },
    {
     "name": "stdout",
     "output_type": "stream",
     "text": [
      "{\n",
      "  \"DESCRIPTION\": \"The image shows a clear and well-lit view inside a concrete sewer pipe. The surface appears smooth with no visible cracks, breaks, or roots. There is some minor surface marking, but no significant defects are evident.\",\n",
      "  \"CODE\": \"NoDefect\"\n",
      "}\n",
      "Image ID: 00990063.png | Predicted: NoDefect | Ground Truth: PF\n"
     ]
    },
    {
     "name": "stderr",
     "output_type": "stream",
     "text": [
      "Processing images:  46%|████▌     | 92/200 [06:07<05:02,  2.80s/it]"
     ]
    },
    {
     "name": "stdout",
     "output_type": "stream",
     "text": [
      "{\n",
      "  \"DESCRIPTION\": \"The image depicts a concrete sewer pipe with adequate lighting and visible texture details. The surface appears stable with some small surface irregularities, but no significant cracks, roots, or deformations are evident.\",\n",
      "  \"CODE\": \"NoDefect\"\n",
      "}\n",
      "Image ID: 00426911.png | Predicted: NoDefect | Ground Truth: NoDefect\n"
     ]
    },
    {
     "name": "stderr",
     "output_type": "stream",
     "text": [
      "Processing images:  46%|████▋     | 93/200 [06:10<05:06,  2.86s/it]"
     ]
    },
    {
     "name": "stdout",
     "output_type": "stream",
     "text": [
      "{\n",
      "  \"DESCRIPTION\": \"The image shows a clear view of a PVC pipe interior with adequate lighting. The pipe appears smooth with no visible cracks, breaks, or obstructions. There are no signs of surface damage, deformations, or root intrusions.\",\n",
      "  \"CODE\": \"NoDefect\"\n",
      "}\n",
      "Image ID: 00177468.png | Predicted: NoDefect | Ground Truth: DE\n"
     ]
    },
    {
     "name": "stderr",
     "output_type": "stream",
     "text": [
      "Processing images:  47%|████▋     | 94/200 [06:13<05:05,  2.88s/it]"
     ]
    },
    {
     "name": "stdout",
     "output_type": "stream",
     "text": [
      "{\n",
      "  \"DESCRIPTION\": \"The image shows a sewer pipe with clear lighting conditions and visible concrete material. There is significant root intrusion visible in the pipe, indicating potential obstruction.\",\n",
      "  \"CODE\": \"RO\"\n",
      "}\n",
      "Image ID: 00904376.png | Predicted: RO | Ground Truth: RO\n"
     ]
    },
    {
     "name": "stderr",
     "output_type": "stream",
     "text": [
      "Processing images:  48%|████▊     | 95/200 [06:15<05:02,  2.88s/it]"
     ]
    },
    {
     "name": "stdout",
     "output_type": "stream",
     "text": [
      "{\n",
      "  \"DESCRIPTION\": \"The image shows a clear view inside a sewer pipe. The lighting is adequate to see the interior. The pipe appears to be concrete, with a smooth surface and no visible signs of damage such as cracks or roots. There are no blockages, and the pipe is in good condition.\",\n",
      "  \"CODE\": \"NoDefect\"\n",
      "}\n",
      "Image ID: 00561167.png | Predicted: NoDefect | Ground Truth: NoDefect\n"
     ]
    },
    {
     "name": "stderr",
     "output_type": "stream",
     "text": [
      "Processing images:  48%|████▊     | 96/200 [06:19<05:11,  3.00s/it]"
     ]
    },
    {
     "name": "stdout",
     "output_type": "stream",
     "text": [
      "{\n",
      "  \"DESCRIPTION\": \"The image shows a sewer pipe with clear visibility and uniform lighting. The interior appears to be made of concrete with some discoloration and minor surface marks. No significant cracks, breaks, or root intrusions are visible. There is some minor surface damage noted.\",\n",
      "  \"CODE\": \"OB\"\n",
      "}\n",
      "Image ID: 00088775.png | Predicted: OB | Ground Truth: NoDefect\n"
     ]
    },
    {
     "name": "stderr",
     "output_type": "stream",
     "text": [
      "Processing images:  48%|████▊     | 97/200 [06:21<04:42,  2.74s/it]"
     ]
    },
    {
     "name": "stdout",
     "output_type": "stream",
     "text": [
      "{\n",
      "  \"DESCRIPTION\": \"The image shows a sewer pipe interior with clear visibility and adequate lighting. There are significant cracks, possibly with some surface damage. Presence of what seems like roots infiltrating through the cracks.\",\n",
      "  \"CODE\": \"RO\"\n",
      "}\n",
      "Image ID: 00415061.png | Predicted: RO | Ground Truth: RO\n"
     ]
    },
    {
     "name": "stderr",
     "output_type": "stream",
     "text": [
      "Processing images:  49%|████▉     | 98/200 [06:23<04:26,  2.62s/it]"
     ]
    },
    {
     "name": "stdout",
     "output_type": "stream",
     "text": [
      "{\n",
      "    \"DESCRIPTION\": \"The image shows a clear view inside a sewer pipe with good lighting. The pipe appears to be made of concrete or PVC. There is some water presence but no significant obstruction. The surface appears smooth and intact, with no visible cracks, roots, or deformations.\",\n",
      "    \"CODE\": \"NoDefect\"\n",
      "}\n",
      "Image ID: 00175871.png | Predicted: NoDefect | Ground Truth: NoDefect\n"
     ]
    },
    {
     "name": "stderr",
     "output_type": "stream",
     "text": [
      "Processing images:  50%|████▉     | 99/200 [06:26<04:45,  2.82s/it]"
     ]
    },
    {
     "name": "stdout",
     "output_type": "stream",
     "text": [
      "{\n",
      "  \"DESCRIPTION\": \"The image shows a clear view inside a sewer pipe, which appears to be made of concrete. The lighting conditions are adequate, and there is some water at the bottom. The surface of the pipe appears mostly smooth with no visible cracks or breaks. There are no significant signs of deformation, surface damage, or root intrusion.\",\n",
      "  \"CODE\": \"NoDefect\"\n",
      "}\n",
      "Image ID: 00292339.png | Predicted: NoDefect | Ground Truth: PF\n"
     ]
    },
    {
     "name": "stderr",
     "output_type": "stream",
     "text": [
      "Processing images:  50%|█████     | 100/200 [06:29<04:18,  2.58s/it]"
     ]
    },
    {
     "name": "stdout",
     "output_type": "stream",
     "text": [
      "{\n",
      "  \"DESCRIPTION\": \"The image shows a sewer pipe interior with moderate lighting and visibility. The surface appears irregular with the presence of roots infiltrating the pipe.\",\n",
      "  \"CODE\": \"RO\"\n",
      "}\n",
      "Image ID: 00583802.png | Predicted: RO | Ground Truth: RO\n"
     ]
    },
    {
     "name": "stderr",
     "output_type": "stream",
     "text": [
      "Processing images:  50%|█████     | 101/200 [06:32<04:34,  2.77s/it]"
     ]
    },
    {
     "name": "stdout",
     "output_type": "stream",
     "text": [
      "{\n",
      "  \"DESCRIPTION\": \"The image shows a sewer pipe with clear visibility and adequate lighting conditions. The pipe appears to be smooth and uniform with no visible signs of cracks, roots, or surface damage. The material looks consistent, likely PVC or a similar smooth material. There is no presence of water or blockages.\",\n",
      "  \"CODE\": \"NoDefect\"\n",
      "}\n",
      "Image ID: 00511913.png | Predicted: NoDefect | Ground Truth: NoDefect\n"
     ]
    },
    {
     "name": "stderr",
     "output_type": "stream",
     "text": [
      "Processing images:  51%|█████     | 102/200 [06:34<04:26,  2.72s/it]"
     ]
    },
    {
     "name": "stdout",
     "output_type": "stream",
     "text": [
      "{\n",
      "  \"DESCRIPTION\": \"The image is unclear and dim, making it challenging to identify pipe material. There is visible debris and possible surface irregularities, but no obvious large defects such as cracks or root intrusions.\",\n",
      "  \"CODE\": \"NoDefect\"\n",
      "}\n",
      "Image ID: 00234428.png | Predicted: NoDefect | Ground Truth: RB\n"
     ]
    },
    {
     "name": "stderr",
     "output_type": "stream",
     "text": [
      "Processing images:  52%|█████▏    | 103/200 [06:37<04:30,  2.79s/it]"
     ]
    },
    {
     "name": "stdout",
     "output_type": "stream",
     "text": [
      "{\n",
      "  \"DESCRIPTION\": \"The image shows a concrete sewer pipe with clear visibility and adequate lighting conditions. There is a significant intrusion of roots visible along the pipe interior, indicating an advanced stage of obstruction. Water is present at the bottom of the pipe.\",\n",
      "  \"CODE\": \"RO\"\n",
      "}\n",
      "Image ID: 01003241.png | Predicted: RO | Ground Truth: RO\n"
     ]
    },
    {
     "name": "stderr",
     "output_type": "stream",
     "text": [
      "Processing images:  52%|█████▏    | 104/200 [06:40<04:14,  2.65s/it]"
     ]
    },
    {
     "name": "stdout",
     "output_type": "stream",
     "text": [
      "{\n",
      "  \"DESCRIPTION\": \"The image shows a clear view of a concrete sewer pipe with good lighting conditions. There are no visible defects such as cracks, breaks, or roots. The pipe appears to be in good condition with a smooth surface and no visible obstructions.\",\n",
      "  \"CODE\": \"NoDefect\"\n",
      "}\n",
      "Image ID: 00478094.png | Predicted: NoDefect | Ground Truth: NoDefect\n"
     ]
    },
    {
     "name": "stderr",
     "output_type": "stream",
     "text": [
      "Processing images:  52%|█████▎    | 105/200 [06:44<04:58,  3.14s/it]"
     ]
    },
    {
     "name": "stdout",
     "output_type": "stream",
     "text": [
      "{\n",
      "  \"DESCRIPTION\": \"The image shows the interior of a sewer pipe with adequate lighting. The pipe appears to be in good condition with no visible cracks, deformations, or surface damage. A small amount of water is present at the bottom, indicating normal flow conditions. No presence of roots or production errors detected.\",\n",
      "  \"CODE\": \"NoDefect\"\n",
      "}\n",
      "Image ID: 01195696.png | Predicted: NoDefect | Ground Truth: NoDefect\n"
     ]
    },
    {
     "name": "stderr",
     "output_type": "stream",
     "text": [
      "Processing images:  53%|█████▎    | 106/200 [06:46<04:18,  2.75s/it]"
     ]
    },
    {
     "name": "stdout",
     "output_type": "stream",
     "text": [
      "{\n",
      "  \"DESCRIPTION\": \"The image is unclear with prominent glowing orange lighting, making it difficult to discern details of the pipe's interior. The pipe appears to be largely obscured, likely due to poor image clarity.\",\n",
      "  \"CODE\": \"NoDefect\"\n",
      "}\n",
      "Image ID: 01203448.png | Predicted: NoDefect | Ground Truth: NoDefect\n"
     ]
    },
    {
     "name": "stderr",
     "output_type": "stream",
     "text": [
      "Processing images:  54%|█████▎    | 107/200 [06:49<04:28,  2.89s/it]"
     ]
    },
    {
     "name": "stdout",
     "output_type": "stream",
     "text": [
      "{ \n",
      "  \"DESCRIPTION\": \"The image shows a relatively clear pipe interior with visible water along the bottom. The lighting is adequate, revealing the pipe walls which appear to be concrete. No visible cracks, breaks, root intrusions, or significant deformations are observed. The surface shows minor discoloration possibly due to water flow or staining.\", \n",
      "  \"CODE\": \"NoDefect\"\n",
      "}\n",
      "Image ID: 00828234.png | Predicted: NoDefect | Ground Truth: DE\n"
     ]
    },
    {
     "name": "stderr",
     "output_type": "stream",
     "text": [
      "Processing images:  54%|█████▍    | 108/200 [06:51<04:15,  2.77s/it]"
     ]
    },
    {
     "name": "stdout",
     "output_type": "stream",
     "text": [
      "{\n",
      "  \"DESCRIPTION\": \"The image shows a circular sewer pipe with low lighting conditions. The surface appears generally smooth and there are no visible cracks or deformations. Some blurring is present around the edges, likely affecting visibility of some details. There is no significant water accumulation or obvious obstructions visible.\",\n",
      "  \"CODE\": \"NoDefect\"\n",
      "}\n",
      "Image ID: 01084051.png | Predicted: NoDefect | Ground Truth: NoDefect\n"
     ]
    },
    {
     "name": "stderr",
     "output_type": "stream",
     "text": [
      "Processing images:  55%|█████▍    | 109/200 [06:54<04:12,  2.77s/it]"
     ]
    },
    {
     "name": "stdout",
     "output_type": "stream",
     "text": [
      "{\n",
      "  \"DESCRIPTION\": \"The image shows an illuminated sewer pipe with clear visibility. The pipe appears to be made of a smooth material. There are no visible water levels and no apparent signs of damage, intrusion, or deformation.\",\n",
      "  \"CODE\": \"NoDefect\"\n",
      "}\n",
      "Image ID: 01032510.png | Predicted: NoDefect | Ground Truth: NoDefect\n"
     ]
    },
    {
     "name": "stderr",
     "output_type": "stream",
     "text": [
      "Processing images:  55%|█████▌    | 110/200 [06:56<03:52,  2.58s/it]"
     ]
    },
    {
     "name": "stdout",
     "output_type": "stream",
     "text": [
      "{\n",
      "  \"DESCRIPTION\": \"The image shows an interior view of a sewer pipe with moderately clear visibility and balanced lighting conditions. The pipe appears to be concrete with water accumulation along the bottom. The surface of the pipe is relatively smooth with no visible defects such as cracks, breaks, or root intrusions.\",\n",
      "  \"CODE\": \"NoDefect\"\n",
      "}\n",
      "Image ID: 00739180.png | Predicted: NoDefect | Ground Truth: NoDefect\n"
     ]
    },
    {
     "name": "stderr",
     "output_type": "stream",
     "text": [
      "Processing images:  56%|█████▌    | 111/200 [07:00<04:15,  2.87s/it]"
     ]
    },
    {
     "name": "stdout",
     "output_type": "stream",
     "text": [
      "{\n",
      "  \"DESCRIPTION\": \"The image shows a clear view inside a circular sewer pipe. The lighting is adequate, revealing a smooth, unbroken surface. The pipe appears to be clean with no visible cracks, breaks, or blockages such as roots. There is some water present at the bottom, but it does not obstruct the view of the pipe structure.\",\n",
      "  \"CODE\": \"NoDefect\"\n",
      "}\n",
      "Image ID: 00276076.png | Predicted: NoDefect | Ground Truth: NoDefect\n"
     ]
    },
    {
     "name": "stderr",
     "output_type": "stream",
     "text": [
      "Processing images:  56%|█████▌    | 112/200 [07:03<04:20,  2.96s/it]"
     ]
    },
    {
     "name": "stdout",
     "output_type": "stream",
     "text": [
      "{\n",
      "  \"DESCRIPTION\": \"The image shows a concrete sewer pipe with moderate lighting conditions, allowing for clear visibility. The surface appears smooth with some discoloration and streaks visible. No significant cracks, deformations, or root intrusions are observed.\",\n",
      "  \"CODE\": \"NoDefect\"\n",
      "}\n",
      "Image ID: 00173582.png | Predicted: NoDefect | Ground Truth: NoDefect\n"
     ]
    },
    {
     "name": "stderr",
     "output_type": "stream",
     "text": [
      "Processing images:  56%|█████▋    | 113/200 [07:06<04:22,  3.02s/it]"
     ]
    },
    {
     "name": "stdout",
     "output_type": "stream",
     "text": [
      "{\n",
      "  \"DESCRIPTION\": \"The image shows a clear view inside a concrete sewer pipe with good lighting conditions. The interior surface appears smooth and unbroken, with no visible signs of damage or obstructions.\",\n",
      "  \"CODE\": \"NoDefect\"\n",
      "}\n",
      "Image ID: 00690716.png | Predicted: NoDefect | Ground Truth: NoDefect\n"
     ]
    },
    {
     "name": "stderr",
     "output_type": "stream",
     "text": [
      "Processing images:  57%|█████▋    | 114/200 [07:09<04:13,  2.95s/it]"
     ]
    },
    {
     "name": "stdout",
     "output_type": "stream",
     "text": [
      "{\n",
      "  \"DESCRIPTION\": \"The image shows an interior view of a sewer pipe with orange lighting. The pipe appears to be made of concrete. There is a significant amount of water flowing at the bottom. There are visible dark lines running lengthwise, resembling cracks or breaks in the pipe.\",\n",
      "  \"CODE\": \"RB\"\n",
      "}\n",
      "Image ID: 01124051.png | Predicted: RB | Ground Truth: NoDefect\n"
     ]
    },
    {
     "name": "stderr",
     "output_type": "stream",
     "text": [
      "Processing images:  57%|█████▊    | 115/200 [07:12<04:14,  3.00s/it]"
     ]
    },
    {
     "name": "stdout",
     "output_type": "stream",
     "text": [
      "{\n",
      "  \"DESCRIPTION\": \"The image shows a clear view inside a concrete sewer pipe with good lighting conditions. The surface appears smooth with no visible defects such as cracks, roots, or deformations. There is no presence of water obstructing the view.\",\n",
      "  \"CODE\": \"NoDefect\"\n",
      "}\n",
      "Image ID: 00412106.png | Predicted: NoDefect | Ground Truth: NoDefect\n"
     ]
    },
    {
     "name": "stderr",
     "output_type": "stream",
     "text": [
      "Processing images:  58%|█████▊    | 116/200 [07:15<04:07,  2.95s/it]"
     ]
    },
    {
     "name": "stdout",
     "output_type": "stream",
     "text": [
      "{\n",
      "  \"DESCRIPTION\": \"The image shows a section of a sewer pipe with clear visibility and adequate lighting. The interior surface appears smooth without any cracks, breaks, or visible roots. There is no water present, and the pipe material seems intact without deformation.\",\n",
      "  \"CODE\": \"NoDefect\"\n",
      "}\n",
      "Image ID: 00312938.png | Predicted: NoDefect | Ground Truth: OB\n"
     ]
    },
    {
     "name": "stderr",
     "output_type": "stream",
     "text": [
      "Processing images:  58%|█████▊    | 117/200 [07:18<04:02,  2.92s/it]"
     ]
    },
    {
     "name": "stdout",
     "output_type": "stream",
     "text": [
      "{\n",
      "  \"DESCRIPTION\": \"The image shows a clear view of a sewer pipe area. The pipe appears to be made of PVC with no visible cracks, breaks, or root intrusions. The lighting is adequate, and there is some water flow visible at the bottom.\",\n",
      "  \"CODE\": \"NoDefect\"\n",
      "}\n",
      "Image ID: 00456442.png | Predicted: NoDefect | Ground Truth: NoDefect\n"
     ]
    },
    {
     "name": "stderr",
     "output_type": "stream",
     "text": [
      "Processing images:  59%|█████▉    | 118/200 [07:22<04:24,  3.22s/it]"
     ]
    },
    {
     "name": "stdout",
     "output_type": "stream",
     "text": [
      "{\n",
      "  \"DESCRIPTION\": \"The image shows the interior of a sewer pipe with good clarity and adequate lighting. The pipe appears to be of concrete, as seen from its texture and color. There is a clear view with no visible water obstructing the view. The pipe interior surface seems smooth with no visible signs of damage or defects such as cracks, roots, or deformation.\",\n",
      "  \"CODE\": \"NoDefect\"\n",
      "}\n",
      "Image ID: 01153619.png | Predicted: NoDefect | Ground Truth: NoDefect\n"
     ]
    },
    {
     "name": "stderr",
     "output_type": "stream",
     "text": [
      "Processing images:  60%|█████▉    | 119/200 [07:25<04:16,  3.17s/it]"
     ]
    },
    {
     "name": "stdout",
     "output_type": "stream",
     "text": [
      "{\n",
      "  \"DESCRIPTION\": \"The image shows a dark sewer pipe, likely concrete, with moderate lighting conditions. The interior surface appears smooth without visible water presence. No noticeable defects such as cracks, surface damage, or root intrusions are visible.\",\n",
      "  \"CODE\": \"NoDefect\"\n",
      "}\n",
      "Image ID: 00847063.png | Predicted: NoDefect | Ground Truth: NoDefect\n"
     ]
    },
    {
     "name": "stderr",
     "output_type": "stream",
     "text": [
      "Processing images:  60%|██████    | 120/200 [07:30<05:00,  3.76s/it]"
     ]
    },
    {
     "name": "stdout",
     "output_type": "stream",
     "text": [
      "{\n",
      "  \"DESCRIPTION\": \"The image shows a concrete sewer pipe with a visible longitudinal crack. Lighting conditions are adequate, and there is minimal presence of water. The surface appears rough due to gravel embedded in the concrete.\",\n",
      "  \"CODE\": \"RB\"\n",
      "}\n",
      "Image ID: 00406425.png | Predicted: RB | Ground Truth: RB\n"
     ]
    },
    {
     "name": "stderr",
     "output_type": "stream",
     "text": [
      "Processing images:  60%|██████    | 121/200 [07:33<04:37,  3.51s/it]"
     ]
    },
    {
     "name": "stdout",
     "output_type": "stream",
     "text": [
      "{\n",
      "  \"DESCRIPTION\": \"The image shows a concrete sewer pipe with adequate lighting conditions. There is a significant presence of roots infiltrating the pipe, indicating possible intrusion through joints or cracks.\",\n",
      "  \"CODE\": \"RO\"\n",
      "}\n",
      "Image ID: 00128889.png | Predicted: RO | Ground Truth: RO\n"
     ]
    },
    {
     "name": "stderr",
     "output_type": "stream",
     "text": [
      "Processing images:  61%|██████    | 122/200 [07:36<04:24,  3.39s/it]"
     ]
    },
    {
     "name": "stdout",
     "output_type": "stream",
     "text": [
      "{\n",
      "  \"DESCRIPTION\": \"The image shows a clear view inside a circular sewer pipe with good lighting conditions. The pipe appears to be made of concrete. No water is present. The interior surface is smooth and intact, with no visible signs of damage or obstructions.\",\n",
      "  \"CODE\": \"NoDefect\"\n",
      "}\n",
      "Image ID: 00231010.png | Predicted: NoDefect | Ground Truth: NoDefect\n"
     ]
    },
    {
     "name": "stderr",
     "output_type": "stream",
     "text": [
      "Processing images:  62%|██████▏   | 123/200 [07:39<04:07,  3.21s/it]"
     ]
    },
    {
     "name": "stdout",
     "output_type": "stream",
     "text": [
      "{\n",
      "  \"DESCRIPTION\": \"The image shows a clear view inside a sewer pipe with good lighting. The pipe appears to be made of concrete, with a smooth surface observed. There are some minor discolorations, but no visible cracks, collapses, or blockages like roots.\",\n",
      "  \"CODE\": \"NoDefect\"\n",
      "}\n",
      "Image ID: 00759937.png | Predicted: NoDefect | Ground Truth: DE\n"
     ]
    },
    {
     "name": "stderr",
     "output_type": "stream",
     "text": [
      "Processing images:  62%|██████▏   | 124/200 [07:42<03:56,  3.11s/it]"
     ]
    },
    {
     "name": "stdout",
     "output_type": "stream",
     "text": [
      "{\n",
      "  \"DESCRIPTION\": \"The image shows a sewer pipe with clear lighting and visibility conditions. The pipe seems to be made of a smooth material like PVC. There is a notable presence of roots growing into the pipe along the sides.\",\n",
      "  \"CODE\": \"RO\"\n",
      "}\n",
      "Image ID: 01192271.png | Predicted: RO | Ground Truth: NoDefect\n"
     ]
    },
    {
     "name": "stderr",
     "output_type": "stream",
     "text": [
      "Processing images:  62%|██████▎   | 125/200 [07:46<04:11,  3.35s/it]"
     ]
    },
    {
     "name": "stdout",
     "output_type": "stream",
     "text": [
      "{ \n",
      "  \"DESCRIPTION\": \"The image shows a clear view of the interior of a sewer pipe with good lighting conditions. The pipe appears to be made of PVC and displays a smooth, unbroken surface. No visible signs of cracks, breaks, collapses, or other defects are present. The pipe is free from obstructions such as roots or debris, and there is no presence of water.\",\n",
      "  \"CODE\": \"NoDefect\"\n",
      "}\n",
      "Image ID: 00368814.png | Predicted: NoDefect | Ground Truth: NoDefect\n"
     ]
    },
    {
     "name": "stderr",
     "output_type": "stream",
     "text": [
      "Processing images:  63%|██████▎   | 126/200 [07:48<03:47,  3.08s/it]"
     ]
    },
    {
     "name": "stdout",
     "output_type": "stream",
     "text": [
      "{\n",
      "  \"DESCRIPTION\": \"The image shows a sewer pipe with uneven lighting. The pipe appears to be concrete, with visible surface damage and some organic debris present. There is a visible intrusion of roots entering the pipe through an opening.\",\n",
      "  \"CODE\": \"RO\"\n",
      "}\n",
      "Image ID: 01075787.png | Predicted: RO | Ground Truth: RO\n"
     ]
    },
    {
     "name": "stderr",
     "output_type": "stream",
     "text": [
      "Processing images:  64%|██████▎   | 127/200 [07:51<03:53,  3.19s/it]"
     ]
    },
    {
     "name": "stdout",
     "output_type": "stream",
     "text": [
      "{\n",
      "  \"DESCRIPTION\": \"The image shows a sewer pipe with good lighting conditions and appears to be made of concrete. The interior surface seems smooth with some minor discoloration and faint deposits. There is no visible water or significant defects such as cracks, deformations, or root intrusions.\",\n",
      "  \"CODE\": \"NoDefect\"\n",
      "}\n",
      "Image ID: 00595037.png | Predicted: NoDefect | Ground Truth: OB\n"
     ]
    },
    {
     "name": "stderr",
     "output_type": "stream",
     "text": [
      "Processing images:  64%|██████▍   | 128/200 [07:58<05:05,  4.24s/it]"
     ]
    },
    {
     "name": "stdout",
     "output_type": "stream",
     "text": [
      "{\n",
      "  \"DESCRIPTION\": \"Image shows the interior of a PVC sewer pipe with adequate lighting. The surface appears smooth with no visible cracks, breaks, or blockages such as roots. Overall, the pipe seems to be in good condition.\",\n",
      "  \"CODE\": \"NoDefect\"\n",
      "}\n",
      "Image ID: 00521590.png | Predicted: NoDefect | Ground Truth: PF\n"
     ]
    },
    {
     "name": "stderr",
     "output_type": "stream",
     "text": [
      "Processing images:  64%|██████▍   | 129/200 [08:02<04:43,  3.99s/it]"
     ]
    },
    {
     "name": "stdout",
     "output_type": "stream",
     "text": [
      "{\n",
      "  \"DESCRIPTION\": \"The image depicts a sewer pipe with clear internal visibility and adequate lighting. The pipe appears to be made of concrete. There are no signs of cracks or collapses, but there is some surface staining visible which may indicate minor surface damage.\",\n",
      "  \"CODE\": \"OB\"\n",
      "}\n",
      "Image ID: 00555059.png | Predicted: OB | Ground Truth: NoDefect\n"
     ]
    },
    {
     "name": "stderr",
     "output_type": "stream",
     "text": [
      "Processing images:  65%|██████▌   | 130/200 [08:08<05:30,  4.72s/it]"
     ]
    },
    {
     "name": "stdout",
     "output_type": "stream",
     "text": [
      "{\n",
      "  \"DESCRIPTION\": \"The image shows a PVC sewer pipe with clear visibility and adequate lighting. The interior surface appears smooth without visible damage or blockages.\",\n",
      "  \"CODE\": \"NoDefect\"\n",
      "}\n",
      "Image ID: 00324277.png | Predicted: NoDefect | Ground Truth: NoDefect\n"
     ]
    },
    {
     "name": "stderr",
     "output_type": "stream",
     "text": [
      "Processing images:  66%|██████▌   | 131/200 [08:11<04:43,  4.10s/it]"
     ]
    },
    {
     "name": "stdout",
     "output_type": "stream",
     "text": [
      "{\n",
      "  \"DESCRIPTION\": \"The image shows a concrete sewer pipe with good lighting conditions and clear visibility. The pipe interior appears smooth with no visible cracks, breaks, or structural deformations. There is no presence of water obstruction or roots.\",\n",
      "  \"CODE\": \"NoDefect\"\n",
      "}\n",
      "Image ID: 01095696.png | Predicted: NoDefect | Ground Truth: RO\n"
     ]
    },
    {
     "name": "stderr",
     "output_type": "stream",
     "text": [
      "Processing images:  66%|██████▌   | 132/200 [08:15<04:40,  4.13s/it]"
     ]
    },
    {
     "name": "stdout",
     "output_type": "stream",
     "text": [
      "{\n",
      "  \"DESCRIPTION\": \"The image shows the interior of a sewer pipe with clear visibility and adequate lighting. The pipe appears to be made of concrete. There is some presence of water at the bottom, but no visible defects such as cracks, breaks, deformations, or root intrusions are observed.\",\n",
      "  \"CODE\": \"NoDefect\"\n",
      "}\n",
      "Image ID: 00641759.png | Predicted: NoDefect | Ground Truth: OB\n"
     ]
    },
    {
     "name": "stderr",
     "output_type": "stream",
     "text": [
      "Processing images:  66%|██████▋   | 133/200 [08:17<04:06,  3.68s/it]"
     ]
    },
    {
     "name": "stdout",
     "output_type": "stream",
     "text": [
      "{\n",
      "  \"DESCRIPTION\": \"The image shows a section of a concrete sewer pipe with clear lighting and minimal water presence. A visible circumferential crack is present on the pipe surface.\",\n",
      "  \"CODE\": \"RB\"\n",
      "}\n",
      "Image ID: 01062947.png | Predicted: RB | Ground Truth: RB\n"
     ]
    },
    {
     "name": "stderr",
     "output_type": "stream",
     "text": [
      "Processing images:  67%|██████▋   | 134/200 [08:22<04:18,  3.92s/it]"
     ]
    },
    {
     "name": "stdout",
     "output_type": "stream",
     "text": [
      "{\n",
      "  \"DESCRIPTION\": \"The image shows the interior of a sewer pipe with clear visibility and adequate lighting. The pipe surface appears to have some surface wear, and there is a visible circle that should be ignored. There are no evident signs of cracks, breakages, root intrusion, or major deformations.\",\n",
      "  \"CODE\": \"OB\"\n",
      "}\n",
      "Image ID: 00117348.png | Predicted: OB | Ground Truth: OB\n"
     ]
    },
    {
     "name": "stderr",
     "output_type": "stream",
     "text": [
      "Processing images:  68%|██████▊   | 135/200 [08:25<03:49,  3.53s/it]"
     ]
    },
    {
     "name": "stdout",
     "output_type": "stream",
     "text": [
      "{\n",
      "  \"DESCRIPTION\": \"The image shows a concrete sewer pipe with adequate lighting and clear visibility. There is a presence of water along the bottom of the pipe. The pipe surface appears smooth without visible defects such as cracks, deformations, or root intrusions.\",\n",
      "  \"CODE\": \"NoDefect\"\n",
      "}\n",
      "Image ID: 00251253.png | Predicted: NoDefect | Ground Truth: NoDefect\n"
     ]
    },
    {
     "name": "stderr",
     "output_type": "stream",
     "text": [
      "Processing images:  68%|██████▊   | 136/200 [08:29<03:55,  3.69s/it]"
     ]
    },
    {
     "name": "stdout",
     "output_type": "stream",
     "text": [
      "{\n",
      "  \"DESCRIPTION\": \"The image shows a section of a sewer pipe with clear visibility and adequate lighting. The pipe surface appears smooth with no significant damage, although there are slight discolorations likely due to surface debris or residue. The pipe material seems to be concrete or PVC, and there is no visible presence of water or major defects.\",\n",
      "  \"CODE\": \"NoDefect\"\n",
      "}\n",
      "Image ID: 00899810.png | Predicted: NoDefect | Ground Truth: NoDefect\n"
     ]
    },
    {
     "name": "stderr",
     "output_type": "stream",
     "text": [
      "Processing images:  68%|██████▊   | 137/200 [08:32<03:44,  3.57s/it]"
     ]
    },
    {
     "name": "stdout",
     "output_type": "stream",
     "text": [
      "{\n",
      "  \"DESCRIPTION\": \"The image shows a relatively clear view inside a sewer pipe, with adequate lighting and no visible water. The pipe appears to be smooth and without visible defects.\",\n",
      "  \"CODE\": \"NoDefect\"\n",
      "}\n",
      "Image ID: 00663241.png | Predicted: NoDefect | Ground Truth: DE\n"
     ]
    },
    {
     "name": "stderr",
     "output_type": "stream",
     "text": [
      "Processing images:  69%|██████▉   | 138/200 [08:35<03:37,  3.52s/it]"
     ]
    },
    {
     "name": "stdout",
     "output_type": "stream",
     "text": [
      "{\n",
      "  \"DESCRIPTION\": \"The image shows the interior of a sewer pipe with clear visibility and adequate lighting. The pipe appears to be made of concrete or a similar material. There is water present at the bottom, and a foreign object or blockage is visible. No cracks, deformations, or root intrusions are apparent.\",\n",
      "  \"CODE\": \"OB\"\n",
      "}\n",
      "Image ID: 00856645.png | Predicted: OB | Ground Truth: PF\n"
     ]
    },
    {
     "name": "stderr",
     "output_type": "stream",
     "text": [
      "Processing images:  70%|██████▉   | 139/200 [08:39<03:33,  3.49s/it]"
     ]
    },
    {
     "name": "stdout",
     "output_type": "stream",
     "text": [
      "{\n",
      "  \"DESCRIPTION\": \"The image shows a concrete sewer pipe with clear visibility and adequate lighting. The interior appears smooth with no noticeable cracks or root intrusions. A small amount of water is present at the bottom. Overall, the pipe seems to be in good condition.\",\n",
      "  \"CODE\": \"NoDefect\"\n",
      "}\n",
      "Image ID: 00322633.png | Predicted: NoDefect | Ground Truth: NoDefect\n"
     ]
    },
    {
     "name": "stderr",
     "output_type": "stream",
     "text": [
      "Processing images:  70%|███████   | 140/200 [08:42<03:19,  3.32s/it]"
     ]
    },
    {
     "name": "stdout",
     "output_type": "stream",
     "text": [
      "{\n",
      "  \"DESCRIPTION\": \"The image depicts a clear view inside a circular sewer pipe, likely made of concrete. The lighting conditions are good, allowing for visible details of the pipe's interior. There is a presence of murky water running along the bottom of the pipe, but no visible signs of defects such as cracks, breaks, surface damage, or root intrusion are apparent.\",\n",
      "  \"CODE\": \"NoDefect\"\n",
      "}\n",
      "Image ID: 00292342.png | Predicted: NoDefect | Ground Truth: DE\n"
     ]
    },
    {
     "name": "stderr",
     "output_type": "stream",
     "text": [
      "Processing images:  70%|███████   | 141/200 [08:44<03:01,  3.07s/it]"
     ]
    },
    {
     "name": "stdout",
     "output_type": "stream",
     "text": [
      "{\n",
      "  \"DESCRIPTION\": \"The image shows a concrete sewer pipe with adequate lighting and a clear view along its length. The pipe surface appears smooth with no visible cracks, breaks, or deformations. There is some accumulation of water along the bottom, but no obstructions such as roots are seen.\",\n",
      "  \"CODE\": \"NoDefect\"\n",
      "}\n",
      "Image ID: 00246069.png | Predicted: NoDefect | Ground Truth: NoDefect\n"
     ]
    },
    {
     "name": "stderr",
     "output_type": "stream",
     "text": [
      "Processing images:  71%|███████   | 142/200 [08:47<02:53,  3.00s/it]"
     ]
    },
    {
     "name": "stdout",
     "output_type": "stream",
     "text": [
      "{\n",
      "  \"DESCRIPTION\": \"The image shows a clear view inside a concrete sewer pipe with good lighting conditions. The pipe surface appears relatively smooth, with some minor surface variations. There is a presence of water at the bottom, but no visible cracks, breaks, deformations, or root intrusions.\",\n",
      "  \"CODE\": \"NoDefect\"\n",
      "}\n",
      "Image ID: 00643468.png | Predicted: NoDefect | Ground Truth: OB\n"
     ]
    },
    {
     "name": "stderr",
     "output_type": "stream",
     "text": [
      "Processing images:  72%|███████▏  | 143/200 [08:50<02:44,  2.89s/it]"
     ]
    },
    {
     "name": "stdout",
     "output_type": "stream",
     "text": [
      "{\n",
      "  \"DESCRIPTION\": \"The image shows a concrete sewer pipe with good lighting conditions and clear visibility. The surface appears smooth and unbroken, with no visible cracks, breaks, or obstructions such as roots.\",\n",
      "  \"CODE\": \"NoDefect\"\n",
      "}\n",
      "Image ID: 00356629.png | Predicted: NoDefect | Ground Truth: RB\n"
     ]
    },
    {
     "name": "stderr",
     "output_type": "stream",
     "text": [
      "Processing images:  72%|███████▏  | 144/200 [08:52<02:35,  2.77s/it]"
     ]
    },
    {
     "name": "stdout",
     "output_type": "stream",
     "text": [
      "{\n",
      "  \"DESCRIPTION\": \"The image shows the interior of a concrete sewer pipe with good lighting conditions. There are visible cracks along the pipe surface, indicating structural damage.\",\n",
      "  \"CODE\": \"RB\"\n",
      "}\n",
      "Image ID: 00773678.png | Predicted: RB | Ground Truth: PF\n"
     ]
    },
    {
     "name": "stderr",
     "output_type": "stream",
     "text": [
      "Processing images:  72%|███████▎  | 145/200 [08:55<02:28,  2.70s/it]"
     ]
    },
    {
     "name": "stdout",
     "output_type": "stream",
     "text": [
      "{\n",
      "  \"DESCRIPTION\": \"The image shows the interior of a sewer pipe with adequate lighting and visible pipe walls. The pipe appears to be made of a smooth material, likely PVC or similar. There is the presence of some water flow at the bottom. No visible defects such as cracks, breaks, roots, or deformations are observed.\",\n",
      "  \"CODE\": \"NoDefect\"\n",
      "}\n",
      "Image ID: 00701822.png | Predicted: NoDefect | Ground Truth: DE\n"
     ]
    },
    {
     "name": "stderr",
     "output_type": "stream",
     "text": [
      "Processing images:  73%|███████▎  | 146/200 [08:58<02:36,  2.89s/it]"
     ]
    },
    {
     "name": "stdout",
     "output_type": "stream",
     "text": [
      "{\n",
      "  \"DESCRIPTION\": \"The image shows the interior of a smooth and unbroken pipe with adequate lighting conditions. The pipe material appears consistent, likely concrete or similar, with some water residue at the bottom. There are no visible cracks, deformities, or intrusions such as roots.\",\n",
      "  \"CODE\": \"NoDefect\"\n",
      "}\n",
      "Image ID: 00342979.png | Predicted: NoDefect | Ground Truth: NoDefect\n"
     ]
    },
    {
     "name": "stderr",
     "output_type": "stream",
     "text": [
      "Processing images:  74%|███████▎  | 147/200 [09:05<03:37,  4.09s/it]"
     ]
    },
    {
     "name": "stdout",
     "output_type": "stream",
     "text": [
      "{\n",
      "  \"DESCRIPTION\": \"The image shows a sewer pipe with clear lighting and a visible concrete surface. There is water present at the bottom of the pipe. No visible cracks, breaks, collapses, or intrusions are observed. The pipe appears to be in good condition.\",\n",
      "  \"CODE\": \"NoDefect\"\n",
      "}\n",
      "Image ID: 00736295.png | Predicted: NoDefect | Ground Truth: OB\n"
     ]
    },
    {
     "name": "stderr",
     "output_type": "stream",
     "text": [
      "Processing images:  74%|███████▍  | 148/200 [09:08<03:16,  3.78s/it]"
     ]
    },
    {
     "name": "stdout",
     "output_type": "stream",
     "text": [
      "{\n",
      "  \"DESCRIPTION\": \"The image shows the interior of a sewer pipe with good clarity and adequate lighting. The pipe appears to be smooth and unbroken with no visible signs of defects such as cracks, deformations, or roots. It is likely a concrete pipe with some minor discoloration, but generally in good condition.\",\n",
      "  \"CODE\": \"NoDefect\"\n",
      "}\n",
      "Image ID: 00557617.png | Predicted: NoDefect | Ground Truth: DE\n"
     ]
    },
    {
     "name": "stderr",
     "output_type": "stream",
     "text": [
      "Processing images:  74%|███████▍  | 149/200 [09:11<03:04,  3.61s/it]"
     ]
    },
    {
     "name": "stdout",
     "output_type": "stream",
     "text": [
      "{\n",
      "  \"DESCRIPTION\": \"The image shows the interior of a sewer pipe with good lighting conditions. The pipe appears to be made of concrete and there is a presence of water at the bottom. The surface of the pipe looks smooth and intact with no visible defects or obstructions.\",\n",
      "  \"CODE\": \"NoDefect\"\n",
      "}\n",
      "Image ID: 00722113.png | Predicted: NoDefect | Ground Truth: DE\n"
     ]
    },
    {
     "name": "stderr",
     "output_type": "stream",
     "text": [
      "Processing images:  75%|███████▌  | 150/200 [09:14<02:53,  3.48s/it]"
     ]
    },
    {
     "name": "stdout",
     "output_type": "stream",
     "text": [
      "{\n",
      "  \"DESCRIPTION\": \"Image shows a concrete sewer pipe with good lighting and presence of debris such as leaves obstructing the view partially. There are no visible cracks, structural damage, or deformations observed in the pipe. However, there is some blockage due to debris accumulation.\",\n",
      "  \"CODE\": \"RO\"\n",
      "}\n",
      "Image ID: 00616737.png | Predicted: RO | Ground Truth: RO\n"
     ]
    },
    {
     "name": "stderr",
     "output_type": "stream",
     "text": [
      "Processing images:  76%|███████▌  | 151/200 [09:17<02:41,  3.30s/it]"
     ]
    },
    {
     "name": "stdout",
     "output_type": "stream",
     "text": [
      "{\n",
      "  \"DESCRIPTION\": \"The image shows the interior of a sewer pipe with good lighting conditions. The pipe appears to be made of concrete with a smooth interior surface and no visible water presence. There are no apparent defects such as cracks, breaks, collapses, or root intrusions.\",\n",
      "  \"CODE\": \"NoDefect\"\n",
      "}\n",
      "Image ID: 00817381.png | Predicted: NoDefect | Ground Truth: OB\n"
     ]
    },
    {
     "name": "stderr",
     "output_type": "stream",
     "text": [
      "Processing images:  76%|███████▌  | 152/200 [09:20<02:38,  3.29s/it]"
     ]
    },
    {
     "name": "stdout",
     "output_type": "stream",
     "text": [
      "{\n",
      "  \"DESCRIPTION\": \"The image shows a clear view inside a sewer pipe, likely made of concrete or PVC, with good lighting conditions. The pipe appears smooth and clean, with no visible signs of cracks, surface damage, deformations, or root infiltration.\",\n",
      "  \"CODE\": \"NoDefect\"\n",
      "}\n",
      "Image ID: 00563451.png | Predicted: NoDefect | Ground Truth: NoDefect\n"
     ]
    },
    {
     "name": "stderr",
     "output_type": "stream",
     "text": [
      "Processing images:  76%|███████▋  | 153/200 [09:24<02:44,  3.49s/it]"
     ]
    },
    {
     "name": "stdout",
     "output_type": "stream",
     "text": [
      "{\n",
      "  \"DESCRIPTION\": \"The image shows a clear view inside a concrete pipe with adequate lighting conditions. The surface appears smooth and uninterrupted, with no signs of water or visible defects.\",\n",
      "  \"CODE\": \"NoDefect\"\n",
      "}\n",
      "Image ID: 00122097.png | Predicted: NoDefect | Ground Truth: OB\n"
     ]
    },
    {
     "name": "stderr",
     "output_type": "stream",
     "text": [
      "Processing images:  77%|███████▋  | 154/200 [09:28<02:37,  3.43s/it]"
     ]
    },
    {
     "name": "stdout",
     "output_type": "stream",
     "text": [
      "{\n",
      "  \"DESCRIPTION\": \"The image shows a clear view inside a sewer pipe with adequate lighting. The pipe appears to be made of concrete, with no visible water present. There is a section in the upper part of the image that appears to be a significant crack or break.\",\n",
      "  \"CODE\": \"RB\"\n",
      "}\n",
      "Image ID: 00989281.png | Predicted: RB | Ground Truth: PF\n"
     ]
    },
    {
     "name": "stderr",
     "output_type": "stream",
     "text": [
      "Processing images:  78%|███████▊  | 155/200 [09:33<02:54,  3.87s/it]"
     ]
    },
    {
     "name": "stdout",
     "output_type": "stream",
     "text": [
      "{\n",
      "  \"DESCRIPTION\": \"The image shows a concrete sewer pipe with clear lighting conditions and a light presence of water on the bottom. The pipe appears structurally intact with no visible cracks, collapses, or deformations. The surface looks smooth and free of apparent damage or intrusions.\",\n",
      "  \"CODE\": \"NoDefect\"\n",
      "}\n",
      "Image ID: 01077629.png | Predicted: NoDefect | Ground Truth: NoDefect\n"
     ]
    },
    {
     "name": "stderr",
     "output_type": "stream",
     "text": [
      "Processing images:  78%|███████▊  | 156/200 [09:36<02:46,  3.78s/it]"
     ]
    },
    {
     "name": "stdout",
     "output_type": "stream",
     "text": [
      "{\n",
      "  \"DESCRIPTION\": \"The image shows a concrete sewer pipe with clear visibility and uneven lighting conditions. The pipe interior appears smooth, with slight surface discoloration but no visible structural defects or obstructions such as roots.\",\n",
      "  \"CODE\": \"NoDefect\"\n",
      "}\n",
      "Image ID: 00555056.png | Predicted: NoDefect | Ground Truth: PF\n"
     ]
    },
    {
     "name": "stderr",
     "output_type": "stream",
     "text": [
      "Processing images:  78%|███████▊  | 157/200 [09:39<02:32,  3.55s/it]"
     ]
    },
    {
     "name": "stdout",
     "output_type": "stream",
     "text": [
      "{\n",
      "  \"DESCRIPTION\": \"The image shows a sewer pipe with clear visibility and adequate lighting. The pipe appears to be smooth and unbroken, with no signs of cracks, breaks, or blockages. A small amount of water is visible at the bottom.\",\n",
      "  \"CODE\": \"NoDefect\"\n",
      "}\n",
      "Image ID: 00046169.png | Predicted: NoDefect | Ground Truth: NoDefect\n"
     ]
    },
    {
     "name": "stderr",
     "output_type": "stream",
     "text": [
      "Processing images:  79%|███████▉  | 158/200 [09:42<02:22,  3.39s/it]"
     ]
    },
    {
     "name": "stdout",
     "output_type": "stream",
     "text": [
      "{\n",
      "  \"DESCRIPTION\": \"The image shows a clear view inside a concrete sewer pipe with adequate lighting. The pipe's interior appears smooth and unbroken, with no visible signs of cracks, breaks, collapses, or root intrusion.\",\n",
      "  \"CODE\": \"NoDefect\"\n",
      "}\n",
      "Image ID: 01266260.png | Predicted: NoDefect | Ground Truth: OB\n"
     ]
    },
    {
     "name": "stderr",
     "output_type": "stream",
     "text": [
      "Processing images:  80%|███████▉  | 159/200 [09:44<02:05,  3.05s/it]"
     ]
    },
    {
     "name": "stdout",
     "output_type": "stream",
     "text": [
      "{\n",
      "  \"DESCRIPTION\": \"The image is unclear with poor lighting conditions, making it difficult to discern the pipe material or any specific features. No visible water or identifiable defects are present due to the blurred nature of the image.\",\n",
      "  \"CODE\": \"NoDefect\"\n",
      "}\n",
      "Image ID: 00575420.png | Predicted: NoDefect | Ground Truth: NoDefect\n"
     ]
    },
    {
     "name": "stderr",
     "output_type": "stream",
     "text": [
      "Processing images:  80%|████████  | 160/200 [09:47<02:01,  3.03s/it]"
     ]
    },
    {
     "name": "stdout",
     "output_type": "stream",
     "text": [
      "{\n",
      "  \"DESCRIPTION\": \"The image shows a clear view of the interior of a concrete sewer pipe with good lighting conditions. The pipe appears smooth and there is no visible presence of water. No cracks, breaks, deformations, or intrusions such as roots are observed.\",\n",
      "  \"CODE\": \"NoDefect\"\n",
      "}\n",
      "Image ID: 00903107.png | Predicted: NoDefect | Ground Truth: NoDefect\n"
     ]
    },
    {
     "name": "stderr",
     "output_type": "stream",
     "text": [
      "Processing images:  80%|████████  | 161/200 [09:50<01:55,  2.95s/it]"
     ]
    },
    {
     "name": "stdout",
     "output_type": "stream",
     "text": [
      "{\n",
      "  \"DESCRIPTION\": \"The image shows a dark view inside a sewer pipe with limited visibility. The lighting is poor, and the pipe material is not clearly identifiable. There is no visible presence of water or obvious defects detectable due to low image clarity.\",\n",
      "  \"CODE\": \"NoDefect\"\n",
      "}\n",
      "Image ID: 00309864.png | Predicted: NoDefect | Ground Truth: NoDefect\n"
     ]
    },
    {
     "name": "stderr",
     "output_type": "stream",
     "text": [
      "Processing images:  81%|████████  | 162/200 [09:53<01:48,  2.87s/it]"
     ]
    },
    {
     "name": "stdout",
     "output_type": "stream",
     "text": [
      "{\n",
      "  \"DESCRIPTION\": \"The image shows a sewer pipe with adequate lighting and clarity. The pipe material appears to be concrete. There is a visible crack along the pipe suggesting some structural damage.\",\n",
      "  \"CODE\": \"RB\"\n",
      "}\n",
      "Image ID: 01108894.png | Predicted: RB | Ground Truth: NoDefect\n"
     ]
    },
    {
     "name": "stderr",
     "output_type": "stream",
     "text": [
      "Processing images:  82%|████████▏ | 163/200 [09:55<01:38,  2.67s/it]"
     ]
    },
    {
     "name": "stdout",
     "output_type": "stream",
     "text": [
      "{\n",
      "  \"DESCRIPTION\": \"The image shows a concrete sewer pipe with clear visibility and adequate lighting. The pipe interior appears smooth and there are no visible signs of cracks, breaks, or blockages.\",\n",
      "  \"CODE\": \"NoDefect\"\n",
      "}\n",
      "Image ID: 00334169.png | Predicted: NoDefect | Ground Truth: NoDefect\n"
     ]
    },
    {
     "name": "stderr",
     "output_type": "stream",
     "text": [
      "Processing images:  82%|████████▏ | 164/200 [09:58<01:36,  2.67s/it]"
     ]
    },
    {
     "name": "stdout",
     "output_type": "stream",
     "text": [
      "{\n",
      "  \"DESCRIPTION\": \"The image shows a clear view inside a concrete sewer pipe with good lighting conditions. There is a small amount of water visible at the bottom. The pipe appears mostly smooth with one minor surface defect visible.\",\n",
      "  \"CODE\": \"OB\"\n",
      "}\n",
      "Image ID: 00220697.png | Predicted: OB | Ground Truth: NoDefect\n"
     ]
    },
    {
     "name": "stderr",
     "output_type": "stream",
     "text": [
      "Processing images:  82%|████████▎ | 165/200 [10:00<01:30,  2.60s/it]"
     ]
    },
    {
     "name": "stdout",
     "output_type": "stream",
     "text": [
      "{\n",
      "  \"DESCRIPTION\": \"The image shows a clear view inside a sewer pipe with good lighting conditions. The pipe appears smooth and intact with no visible cracks, breaks, or other obstructions. There are no signs of water presence or infiltration by roots.\",\n",
      "  \"CODE\": \"NoDefect\"\n",
      "}\n",
      "Image ID: 01196894.png | Predicted: NoDefect | Ground Truth: NoDefect\n"
     ]
    },
    {
     "name": "stderr",
     "output_type": "stream",
     "text": [
      "Processing images:  83%|████████▎ | 166/200 [10:03<01:33,  2.76s/it]"
     ]
    },
    {
     "name": "stdout",
     "output_type": "stream",
     "text": [
      "{\n",
      "  \"DESCRIPTION\": \"The image shows a clear view inside a sewer pipe with adequate lighting. The pipe appears to be made of concrete, with a smooth surface and no visible signs of water accumulation. There are no visible defects such as cracks, deformations, roots, or surface damage.\",\n",
      "  \"CODE\": \"NoDefect\"\n",
      "}\n",
      "Image ID: 01259730.png | Predicted: NoDefect | Ground Truth: NoDefect\n"
     ]
    },
    {
     "name": "stderr",
     "output_type": "stream",
     "text": [
      "Processing images:  84%|████████▎ | 167/200 [10:08<01:46,  3.23s/it]"
     ]
    },
    {
     "name": "stdout",
     "output_type": "stream",
     "text": [
      "{\n",
      "  \"DESCRIPTION\": \"The image shows the interior of a concrete sewer pipe with generally good lighting conditions. There are some streaks of discoloration along the pipe, but the surface appears mostly smooth with no obvious cracks, breaks, or deformations. Minimal water presence is noted at the bottom.\",\n",
      "  \"CODE\": \"NoDefect\"\n",
      "}\n",
      "Image ID: 00116458.png | Predicted: NoDefect | Ground Truth: PF\n"
     ]
    },
    {
     "name": "stderr",
     "output_type": "stream",
     "text": [
      "Processing images:  84%|████████▍ | 168/200 [10:10<01:37,  3.05s/it]"
     ]
    },
    {
     "name": "stdout",
     "output_type": "stream",
     "text": [
      "{\n",
      "  \"DESCRIPTION\": \"The image shows a concrete pipe interior with clear visibility and adequate lighting. There is a noticeable crack running along the surface.\",\n",
      "  \"CODE\": \"RB\"\n",
      "}\n",
      "Image ID: 01051480.png | Predicted: RB | Ground Truth: RB\n"
     ]
    },
    {
     "name": "stderr",
     "output_type": "stream",
     "text": [
      "Processing images:  84%|████████▍ | 169/200 [10:14<01:42,  3.32s/it]"
     ]
    },
    {
     "name": "stdout",
     "output_type": "stream",
     "text": [
      "{\n",
      "  \"DESCRIPTION\": \"The image shows a clear view inside a sewer pipe, likely made of PVC due to its smooth and reflective surface. Lighting conditions are adequate. There is a small amount of water running along the bottom. No visible damage or defects such as cracks, breaks, deformations, or root intrusions are detected.\",\n",
      "  \"CODE\": \"NoDefect\"\n",
      "}\n",
      "Image ID: 01098148.png | Predicted: NoDefect | Ground Truth: DE\n"
     ]
    },
    {
     "name": "stderr",
     "output_type": "stream",
     "text": [
      "Processing images:  85%|████████▌ | 170/200 [10:18<01:39,  3.32s/it]"
     ]
    },
    {
     "name": "stdout",
     "output_type": "stream",
     "text": [
      "{\n",
      "  \"DESCRIPTION\": \"The image shows a concrete sewer pipe interior with good lighting. The surface appears smooth and undamaged, with no visible cracks, deformations, or root intrusions.\",\n",
      "  \"CODE\": \"NoDefect\"\n",
      "}\n",
      "Image ID: 00650644.png | Predicted: NoDefect | Ground Truth: NoDefect\n"
     ]
    },
    {
     "name": "stderr",
     "output_type": "stream",
     "text": [
      "Processing images:  86%|████████▌ | 171/200 [10:24<02:04,  4.29s/it]"
     ]
    },
    {
     "name": "stdout",
     "output_type": "stream",
     "text": [
      "{\n",
      "  \"DESCRIPTION\": \"Image shows a clear view inside a sewer pipe with adequate lighting. The pipe material appears to be concrete or PVC. There is a presence of water flow at the bottom. No visible defects such as cracks, roots, or deformations are present.\",\n",
      "  \"CODE\": \"NoDefect\"\n",
      "}\n",
      "Image ID: 00076692.png | Predicted: NoDefect | Ground Truth: NoDefect\n"
     ]
    },
    {
     "name": "stderr",
     "output_type": "stream",
     "text": [
      "Processing images:  86%|████████▌ | 172/200 [10:28<01:59,  4.26s/it]"
     ]
    },
    {
     "name": "stdout",
     "output_type": "stream",
     "text": [
      "{\n",
      "  \"DESCRIPTION\": \"The image shows a clear view inside a sewer pipe with adequate lighting. The pipe appears to be made of concrete and shows a smooth, unbroken surface with no visible cracks, breaks, or roots. Water is present along the bottom, but there are no signs of significant obstruction or defects.\",\n",
      "  \"CODE\": \"NoDefect\"\n",
      "}\n",
      "Image ID: 00650641.png | Predicted: NoDefect | Ground Truth: NoDefect\n"
     ]
    },
    {
     "name": "stderr",
     "output_type": "stream",
     "text": [
      "Processing images:  86%|████████▋ | 173/200 [10:35<02:11,  4.87s/it]"
     ]
    },
    {
     "name": "stdout",
     "output_type": "stream",
     "text": [
      "{\n",
      "  \"DESCRIPTION\": \"The image shows a clear view inside a sewer pipe with adequate lighting. The pipe appears to be smooth and intact, without any visible defects or blockages. There is no water present.\",\n",
      "  \"CODE\": \"NoDefect\"\n",
      "}\n",
      "Image ID: 01011133.png | Predicted: NoDefect | Ground Truth: NoDefect\n"
     ]
    },
    {
     "name": "stderr",
     "output_type": "stream",
     "text": [
      "Processing images:  87%|████████▋ | 174/200 [10:37<01:50,  4.24s/it]"
     ]
    },
    {
     "name": "stdout",
     "output_type": "stream",
     "text": [
      "{\n",
      "  \"DESCRIPTION\": \"The image shows a sewer pipe with good lighting conditions. The pipe appears to be made of PVC. There is a visible irregularity on the surface that seems like a protrusion or bulge.\",\n",
      "  \"CODE\": \"DE\"\n",
      "}\n",
      "Image ID: 01225283.png | Predicted: DE | Ground Truth: PF\n"
     ]
    },
    {
     "name": "stderr",
     "output_type": "stream",
     "text": [
      "Processing images:  88%|████████▊ | 175/200 [10:41<01:42,  4.11s/it]"
     ]
    },
    {
     "name": "stdout",
     "output_type": "stream",
     "text": [
      "{\n",
      "  \"DESCRIPTION\": \"The image shows the interior of a concrete sewer pipe with adequate lighting. The surface appears generally smooth but there are signs of deformation near the top, indicating a potential structural issue. No water is present.\",\n",
      "  \"CODE\": \"DE\"\n",
      "}\n",
      "Image ID: 00773677.png | Predicted: DE | Ground Truth: PF\n"
     ]
    },
    {
     "name": "stderr",
     "output_type": "stream",
     "text": [
      "Processing images:  88%|████████▊ | 176/200 [10:44<01:28,  3.67s/it]"
     ]
    },
    {
     "name": "stdout",
     "output_type": "stream",
     "text": [
      "{\n",
      "  \"DESCRIPTION\": \"The image shows a concrete sewer pipe with a visible longitudinal crack. The lighting is adequate to observe the crack clearly. There is no water visible in the pipe.\",\n",
      "  \"CODE\": \"RB\"\n",
      "}\n",
      "Image ID: 00189308.png | Predicted: RB | Ground Truth: RB\n"
     ]
    },
    {
     "name": "stderr",
     "output_type": "stream",
     "text": [
      "Processing images:  88%|████████▊ | 177/200 [10:47<01:19,  3.47s/it]"
     ]
    },
    {
     "name": "stdout",
     "output_type": "stream",
     "text": [
      "{\n",
      "  \"DESCRIPTION\": \"The image shows a concrete sewer pipe with clear visibility and adequate lighting. There is a small amount of water at the bottom. The pipe appears to have a smooth surface without visible cracks or deformations. No visible signs of root intrusion are present.\",\n",
      "  \"CODE\": \"NoDefect\"\n",
      "}\n",
      "Image ID: 00251271.png | Predicted: NoDefect | Ground Truth: NoDefect\n"
     ]
    },
    {
     "name": "stderr",
     "output_type": "stream",
     "text": [
      "Processing images:  89%|████████▉ | 178/200 [10:49<01:08,  3.12s/it]"
     ]
    },
    {
     "name": "stdout",
     "output_type": "stream",
     "text": [
      "{\n",
      "  \"DESCRIPTION\": \"Image shows an interior view of a concrete sewer pipe with adequate lighting. A visible root intrusion is present, suggesting infiltration through a joint or crack.\",\n",
      "  \"CODE\": \"RO\"\n",
      "}\n",
      "Image ID: 00583788.png | Predicted: RO | Ground Truth: RO\n"
     ]
    },
    {
     "name": "stderr",
     "output_type": "stream",
     "text": [
      "Processing images:  90%|████████▉ | 179/200 [10:52<01:03,  3.02s/it]"
     ]
    },
    {
     "name": "stdout",
     "output_type": "stream",
     "text": [
      "{\n",
      "  \"DESCRIPTION\": \"The image shows a section of a sewer pipe with sufficient lighting. The visibility decreases further into the pipe. The interior surface appears smooth with no visible defects or obstructions evident. Pipe material is unclear due to lighting but may be plastic or lined concrete. Presence of small particles noted, possibly indicating dirt or sediment.\",\n",
      "  \"CODE\": \"NoDefect\"\n",
      "}\n",
      "Image ID: 00998155.png | Predicted: NoDefect | Ground Truth: NoDefect\n"
     ]
    },
    {
     "name": "stderr",
     "output_type": "stream",
     "text": [
      "Processing images:  90%|█████████ | 180/200 [10:55<01:02,  3.11s/it]"
     ]
    },
    {
     "name": "stdout",
     "output_type": "stream",
     "text": [
      "{\n",
      "  \"DESCRIPTION\": \"The image depicts a sewer pipe with relatively clear visibility. The pipe appears to be made of concrete with good lighting conditions. There is a noticeable crack at the bottom portion of the pipe, indicating potential structural damage.\",\n",
      "  \"CODE\": \"RB\"\n",
      "}\n",
      "Image ID: 00071719.png | Predicted: RB | Ground Truth: RB\n"
     ]
    },
    {
     "name": "stderr",
     "output_type": "stream",
     "text": [
      "Processing images:  90%|█████████ | 181/200 [10:58<00:59,  3.11s/it]"
     ]
    },
    {
     "name": "stdout",
     "output_type": "stream",
     "text": [
      "{\n",
      "  \"DESCRIPTION\": \"The image shows a section of sewer pipe with adequate lighting and moderate clarity. The pipe appears to be concrete. There are visible roots infiltrating the pipe, penetrating through the surface.\",\n",
      "  \"CODE\": \"RO\"\n",
      "}\n",
      "Image ID: 00904368.png | Predicted: RO | Ground Truth: RO\n"
     ]
    },
    {
     "name": "stderr",
     "output_type": "stream",
     "text": [
      "Processing images:  91%|█████████ | 182/200 [11:02<00:57,  3.21s/it]"
     ]
    },
    {
     "name": "stdout",
     "output_type": "stream",
     "text": [
      "{\n",
      "  \"DESCRIPTION\": \"The image appears clear with adequate lighting. The interior of the pipe seems smooth and intact, possibly made of PVC. There is no visible water or debris present, and the pipe surface exhibits no signs of damage or obstruction.\",\n",
      "  \"CODE\": \"NoDefect\"\n",
      "}\n",
      "Image ID: 00795294.png | Predicted: NoDefect | Ground Truth: NoDefect\n"
     ]
    },
    {
     "name": "stderr",
     "output_type": "stream",
     "text": [
      "Processing images:  92%|█████████▏| 183/200 [11:04<00:50,  2.99s/it]"
     ]
    },
    {
     "name": "stdout",
     "output_type": "stream",
     "text": [
      "{\n",
      "  \"DESCRIPTION\": \"The image shows the interior of a well-lit sewer pipe, likely made of concrete or a similar material. The pipe appears clean and free of blockages. The surface is smooth with no visible cracks, breaks, or deformations.\",\n",
      "  \"CODE\": \"NoDefect\"\n",
      "}\n",
      "Image ID: 00221213.png | Predicted: NoDefect | Ground Truth: NoDefect\n"
     ]
    },
    {
     "name": "stderr",
     "output_type": "stream",
     "text": [
      "Processing images:  92%|█████████▏| 184/200 [11:08<00:49,  3.11s/it]"
     ]
    },
    {
     "name": "stdout",
     "output_type": "stream",
     "text": [
      "{\n",
      "  \"DESCRIPTION\": \"The image shows a smooth, concrete pipe interior with clear, adequate lighting. There are no visible cracks, roots, or deformations present. The pipe appears to be in good condition, with a consistent surface and minor signs of wear.\",\n",
      "  \"CODE\": \"NoDefect\"\n",
      "}\n",
      "Image ID: 00298504.png | Predicted: NoDefect | Ground Truth: NoDefect\n"
     ]
    },
    {
     "name": "stderr",
     "output_type": "stream",
     "text": [
      "Processing images:  92%|█████████▎| 185/200 [11:10<00:44,  2.99s/it]"
     ]
    },
    {
     "name": "stdout",
     "output_type": "stream",
     "text": [
      "{\n",
      "  \"DESCRIPTION\": \"The image shows a concrete sewer pipe with good lighting and clarity. There is a presence of water at the bottom, but the surface appears smooth with no visible cracks or deformations. No signs of roots, surface damage, or production errors are detected.\",\n",
      "  \"CODE\": \"NoDefect\"\n",
      "}\n",
      "Image ID: 01085889.png | Predicted: NoDefect | Ground Truth: OB\n"
     ]
    },
    {
     "name": "stderr",
     "output_type": "stream",
     "text": [
      "Processing images:  93%|█████████▎| 186/200 [11:13<00:41,  2.96s/it]"
     ]
    },
    {
     "name": "stdout",
     "output_type": "stream",
     "text": [
      "{\n",
      "  \"DESCRIPTION\": \"The image shows a concrete sewer pipe with good image clarity and proper lighting conditions. There is a small amount of standing water in the bottom of the pipe. No visible cracks, breaks, or deformations are noted. The surface appears smooth and intact, with no obstructions or root intrusions.\",\n",
      "  \"CODE\": \"NoDefect\"\n",
      "}\n",
      "Image ID: 00975300.png | Predicted: NoDefect | Ground Truth: NoDefect\n"
     ]
    },
    {
     "name": "stderr",
     "output_type": "stream",
     "text": [
      "Processing images:  94%|█████████▎| 187/200 [11:17<00:41,  3.18s/it]"
     ]
    },
    {
     "name": "stdout",
     "output_type": "stream",
     "text": [
      "{\n",
      "  \"DESCRIPTION\": \"The image shows an interior view of a sewer pipe with good clarity and adequate lighting. The pipe appears to be made of a smooth, likely PVC material. There is visible water at the bottom, but no significant defects such as cracks, breaks, or blockages. The surface appears intact and smooth.\",\n",
      "  \"CODE\": \"NoDefect\"\n",
      "}\n",
      "Image ID: 01145726.png | Predicted: NoDefect | Ground Truth: DE\n"
     ]
    },
    {
     "name": "stderr",
     "output_type": "stream",
     "text": [
      "Processing images:  94%|█████████▍| 188/200 [11:19<00:35,  2.97s/it]"
     ]
    },
    {
     "name": "stdout",
     "output_type": "stream",
     "text": [
      "{\n",
      "  \"DESCRIPTION\": \"The image shows a well-lit view of a sewer pipe, possibly made of concrete, extending into the distance. The pipe surface appears smooth and intact with no visible signs of damage such as cracks or blockages.\",\n",
      "  \"CODE\": \"NoDefect\"\n",
      "}\n",
      "Image ID: 00255694.png | Predicted: NoDefect | Ground Truth: NoDefect\n"
     ]
    },
    {
     "name": "stderr",
     "output_type": "stream",
     "text": [
      "Processing images:  94%|█████████▍| 189/200 [11:23<00:33,  3.02s/it]"
     ]
    },
    {
     "name": "stdout",
     "output_type": "stream",
     "text": [
      "{\n",
      "  \"DESCRIPTION\": \"The image shows a concrete sewer pipe with adequate lighting. There is water present at the bottom of the pipe. Notably, roots are visibly infiltrating the pipe on the right side.\",\n",
      "  \"CODE\": \"RO\"\n",
      "}\n",
      "Image ID: 00615828.png | Predicted: RO | Ground Truth: RO\n"
     ]
    },
    {
     "name": "stderr",
     "output_type": "stream",
     "text": [
      "Processing images:  95%|█████████▌| 190/200 [11:26<00:30,  3.05s/it]"
     ]
    },
    {
     "name": "stdout",
     "output_type": "stream",
     "text": [
      "{\n",
      "  \"DESCRIPTION\": \"The image shows a clear view inside a concrete sewer pipe with good lighting. A significant longitudinal crack is visible along the wall of the pipe, indicating potential structural damage. No water is present in the pipe.\",\n",
      "  \"CODE\": \"RB\"\n",
      "}\n",
      "Image ID: 01164967.png | Predicted: RB | Ground Truth: RO\n"
     ]
    },
    {
     "name": "stderr",
     "output_type": "stream",
     "text": [
      "Processing images:  96%|█████████▌| 191/200 [11:29<00:27,  3.00s/it]"
     ]
    },
    {
     "name": "stdout",
     "output_type": "stream",
     "text": [
      "{\n",
      "  \"DESCRIPTION\": \"The image shows a concrete sewer pipe with good lighting and clear visibility. The joint of a secondary orange PVC pipe protrudes into the main pipeline. The surface of the concrete pipe appears smooth with no visible defects. No presence of waterlogged areas or blockages detected.\",\n",
      "  \"CODE\": \"NoDefect\"\n",
      "}\n",
      "Image ID: 00932585.png | Predicted: NoDefect | Ground Truth: NoDefect\n"
     ]
    },
    {
     "name": "stderr",
     "output_type": "stream",
     "text": [
      "Processing images:  96%|█████████▌| 192/200 [11:33<00:26,  3.31s/it]"
     ]
    },
    {
     "name": "stdout",
     "output_type": "stream",
     "text": [
      "{ \n",
      "  \"DESCRIPTION\": \"The image shows a sewer pipe with clear, even lighting. The pipe appears to be smooth and unbroken, with no visible signs of cracks, breaks, or blockages. The interior surface looks well-maintained with no noticeable defects.\", \n",
      "  \"CODE\": \"NoDefect\"\n",
      "}\n",
      "Image ID: 00210684.png | Predicted: NoDefect | Ground Truth: NoDefect\n"
     ]
    },
    {
     "name": "stderr",
     "output_type": "stream",
     "text": [
      "Processing images:  96%|█████████▋| 193/200 [11:35<00:22,  3.18s/it]"
     ]
    },
    {
     "name": "stdout",
     "output_type": "stream",
     "text": [
      "{\n",
      "  \"DESCRIPTION\": \"The image shows a clear view inside a concrete sewer pipe with good lighting conditions. The surface appears smooth and unbroken, with no visible cracks or blockages. There is minor water presence at the bottom, but no defects are evident.\",\n",
      "  \"CODE\": \"NoDefect\"\n",
      "}\n",
      "Image ID: 00582609.png | Predicted: NoDefect | Ground Truth: NoDefect\n"
     ]
    },
    {
     "name": "stderr",
     "output_type": "stream",
     "text": [
      "Processing images:  97%|█████████▋| 194/200 [11:38<00:17,  2.89s/it]"
     ]
    },
    {
     "name": "stdout",
     "output_type": "stream",
     "text": [
      "{\n",
      "  \"DESCRIPTION\": \"The image shows a section of a sewer pipe with clear visibility. The lighting conditions are sufficient to observe a crack running longitudinally along the surface of what appears to be a concrete pipe. The surface has some rough texture but no significant obstructions or debris are present.\",\n",
      "  \"CODE\": \"RB\"\n",
      "}\n",
      "Image ID: 00225888.png | Predicted: RB | Ground Truth: RB\n"
     ]
    },
    {
     "name": "stderr",
     "output_type": "stream",
     "text": [
      "Processing images:  98%|█████████▊| 195/200 [11:40<00:13,  2.79s/it]"
     ]
    },
    {
     "name": "stdout",
     "output_type": "stream",
     "text": [
      "{\n",
      "  \"DESCRIPTION\": \"The image shows a clear view of the interior of a round sewer pipe made of concrete or similar material. The lighting is good, and the surface appears smooth. There is no visible presence of water obstructing the view. However, there is a circumferential crack visible on the ceiling of the pipe.\",\n",
      "  \"CODE\": \"RB\"\n",
      "}\n",
      "Image ID: 01174815.png | Predicted: RB | Ground Truth: PF\n"
     ]
    },
    {
     "name": "stderr",
     "output_type": "stream",
     "text": [
      "Processing images:  98%|█████████▊| 196/200 [11:42<00:10,  2.53s/it]"
     ]
    },
    {
     "name": "stdout",
     "output_type": "stream",
     "text": [
      "{\n",
      "  \"DESCRIPTION\": \"The image shows a sewer pipe with clear visibility and adequate lighting. The pipe appears to be concrete with a section showing root intrusion at the bottom, indicating an advanced stage of obstruction.\",\n",
      "  \"CODE\": \"RO\"\n",
      "}\n",
      "Image ID: 01076125.png | Predicted: RO | Ground Truth: RO\n"
     ]
    },
    {
     "name": "stderr",
     "output_type": "stream",
     "text": [
      "Processing images:  98%|█████████▊| 197/200 [11:46<00:08,  2.98s/it]"
     ]
    },
    {
     "name": "stdout",
     "output_type": "stream",
     "text": [
      "{\n",
      "  \"DESCRIPTION\": \"The image shows a concrete sewer pipe with a visible crack along its surface. The lighting is adequate, clearly highlighting the defect. There appears to be no significant water presence in the pipe.\",\n",
      "  \"CODE\": \"RB\"\n",
      "}\n",
      "Image ID: 00190227.png | Predicted: RB | Ground Truth: RB\n"
     ]
    },
    {
     "name": "stderr",
     "output_type": "stream",
     "text": [
      "Processing images:  99%|█████████▉| 198/200 [11:50<00:06,  3.22s/it]"
     ]
    },
    {
     "name": "stdout",
     "output_type": "stream",
     "text": [
      "{\n",
      "  \"DESCRIPTION\": \"The image shows a concrete sewer pipe with good lighting conditions. The pipe surface appears mostly smooth with a visible longitudinal crack along the pipe wall. No presence of water or blockages like roots are observed.\",\n",
      "  \"CODE\": \"RB\"\n",
      "}\n",
      "Image ID: 01001126.png | Predicted: RB | Ground Truth: RB\n"
     ]
    },
    {
     "name": "stderr",
     "output_type": "stream",
     "text": [
      "Processing images: 100%|█████████▉| 199/200 [11:55<00:03,  3.85s/it]"
     ]
    },
    {
     "name": "stdout",
     "output_type": "stream",
     "text": [
      "{\n",
      "  \"DESCRIPTION\": \"The image is clear with good lighting conditions. The pipe appears to be made of a smooth material, likely concrete or PVC. There is some visible debris but no water flow obstruction. No cracks, breaks, or deformations are visible, and the pipe surface seems intact.\",\n",
      "  \"CODE\": \"NoDefect\"\n",
      "}\n",
      "Image ID: 00835200.png | Predicted: NoDefect | Ground Truth: DE\n"
     ]
    },
    {
     "name": "stderr",
     "output_type": "stream",
     "text": [
      "Processing images: 100%|██████████| 200/200 [11:58<00:00,  3.59s/it]"
     ]
    },
    {
     "name": "stdout",
     "output_type": "stream",
     "text": [
      "{\n",
      "  \"DESCRIPTION\": \"The image shows a clear, well-lit view inside a sewer pipe, likely concrete in material. There is a small amount of water at the bottom, but the surfaces appear smooth and unbroken with no visible cracks, damage, or obstructions.\",\n",
      "  \"CODE\": \"NoDefect\"\n",
      "}\n",
      "Image ID: 00507208.png | Predicted: NoDefect | Ground Truth: PF\n"
     ]
    },
    {
     "name": "stderr",
     "output_type": "stream",
     "text": [
      "\n",
      "/usr/local/lib/python3.10/dist-packages/sklearn/metrics/_classification.py:1531: UndefinedMetricWarning: Precision is ill-defined and being set to 0.0 in labels with no predicted samples. Use `zero_division` parameter to control this behavior.\n",
      "  _warn_prf(average, modifier, f\"{metric.capitalize()} is\", len(result))\n",
      "/usr/local/lib/python3.10/dist-packages/sklearn/metrics/_classification.py:1531: UndefinedMetricWarning: Recall is ill-defined and being set to 0.0 in labels with no true samples. Use `zero_division` parameter to control this behavior.\n",
      "  _warn_prf(average, modifier, f\"{metric.capitalize()} is\", len(result))\n",
      "/usr/local/lib/python3.10/dist-packages/sklearn/metrics/_classification.py:1531: UndefinedMetricWarning: Precision is ill-defined and being set to 0.0 in labels with no predicted samples. Use `zero_division` parameter to control this behavior.\n",
      "  _warn_prf(average, modifier, f\"{metric.capitalize()} is\", len(result))\n",
      "/usr/local/lib/python3.10/dist-packages/sklearn/metrics/_classification.py:1531: UndefinedMetricWarning: Recall is ill-defined and being set to 0.0 in labels with no true samples. Use `zero_division` parameter to control this behavior.\n",
      "  _warn_prf(average, modifier, f\"{metric.capitalize()} is\", len(result))\n",
      "/usr/local/lib/python3.10/dist-packages/sklearn/metrics/_classification.py:1531: UndefinedMetricWarning: Precision is ill-defined and being set to 0.0 in labels with no predicted samples. Use `zero_division` parameter to control this behavior.\n",
      "  _warn_prf(average, modifier, f\"{metric.capitalize()} is\", len(result))\n",
      "/usr/local/lib/python3.10/dist-packages/sklearn/metrics/_classification.py:1531: UndefinedMetricWarning: Recall is ill-defined and being set to 0.0 in labels with no true samples. Use `zero_division` parameter to control this behavior.\n",
      "  _warn_prf(average, modifier, f\"{metric.capitalize()} is\", len(result))\n"
     ]
    }
   ],
   "source": [
    "import os\n",
    "from openai import OpenAI\n",
    "from PIL import Image\n",
    "import base64\n",
    "import pandas as pd\n",
    "from sklearn.metrics import accuracy_score, f1_score, classification_report\n",
    "from tqdm import tqdm\n",
    "import json\n",
    "import re\n",
    "\n",
    "# Open log file\n",
    "log_path = './results/new_prompt/gpt4o/'\n",
    "os.makedirs(log_path, exist_ok=True)\n",
    "log_file = os.path.join(log_path, 'prediction_log.txt')\n",
    "log_file = open(log_file, 'w')\n",
    "\n",
    "# Load data\n",
    "df_table_prd = pd.read_csv('../LMM_sewerML/results/df_table_prd.csv')\n",
    "df_table_dsc = pd.read_csv('../LMM_sewerML/results/df_table_dsc.csv')\n",
    "image_dir = '../LMM_sewerML/images'\n",
    "\n",
    "# set openai key, need to fill in the key   \n",
    "client = OpenAI(api_key=\"\")\n",
    "\n",
    "# Define the prompt template\n",
    "prompt_template = \"\"\"\n",
    "You are a virtual sewer technician with the capability to analyze images from CCTV cameras taken inside sewer pipes.\n",
    "Your task is to examine each image and provide a concise, yet accurate, summary for retrieval. \n",
    "After summarizing, you must classify the image as defect types.\n",
    "While providing the summary, remember the following guidelines:\"\n",
    "1) Provide a general overview of the image that you see, describing important elements such image clarity, lighting conditions, type of pipe (concrete, PVC, ...), presence of water.\n",
    "2) Check for defects in the sewer pipes in the image.\n",
    "3) Pipes in good condition usually show a smooth, unbroken surface, no visible signs of damage like cracks or collapses, and an absence of blockages such as roots.\n",
    "4) On the other hand, you can have the following defects:\n",
    "4a)Cracks, Breaks, and Collapses (RB): Identify visible cracks along the pipe, instances where the pipe has fractured or completely broken apart, and areas where the pipe has collapsed.\n",
    "This includes longitudinal cracks, circumferential breaks, and complete structural failures that compromise the integrity of the sewer system.\n",
    "4b)Surface Damage (OB): Detect areas of the pipe's interior that exhibit signs of wear, erosion, or damage on the surface.\n",
    "This includes minor scratches, pitting, scaling, or any form of deterioration that affects the pipe's surface but does not necessarily penetrate deeply into the structure.\n",
    "4c) Production Error (PF): Identify defects that originated during the pipe's manufacturing process, such as inconsistent pipe thickness, improper joint alignment, or material imperfections.\n",
    "These are flaws that were introduced before installation and could potentially affect the pipe's performance or longevity.\n",
    "4d) Deformations (DE): Recognize any alterations in the shape of the pipe, such as bending, sagging, or bulging, that indicate a deformation.\n",
    "This includes both minor deformations that may affect flow efficiency and major deformations that threaten the pipe's structural integrity.\n",
    "4e) Roots (RO): Detect the presence of roots infiltrating the sewer pipe, whether through joints, cracks, or other vulnerabilities.\n",
    "This involves identifying both the initial stages of root intrusion and the more advanced stages where roots have significantly obstructed the pipe.\n",
    "5) Additional considerations while analyzing the images: do not consider blurred text or user-defined circled areas in the images.\n",
    "6) You will always try to describe the image that you see. Provide the output in JSON format as follows:\n",
    "\n",
    "{ \"DESCRIPTION\": \"<Description of the image that you see>\", \"CODE\": \"<Defect Code>\"}\n",
    "\n",
    "Note: The \"CODE\" includes \"RB\", \"OB\", \"PF\", \"DE\", \"RO\". If no defect is detected, set \"CODE\" to \"NoDefect\".\n",
    "\"\"\"\n",
    "\n",
    "# Store predictions and actual labels\n",
    "predictions = []\n",
    "actual_labels = []\n",
    "descriptions = []\n",
    "\n",
    "# Iterate over each row in the ground truth dataframe with progress bar\n",
    "for idx, row in tqdm(df_table_prd.iterrows(), total=df_table_prd.shape[0], desc=\"Processing images\"):\n",
    "    img_id = row['img_id']\n",
    "    ground_truth = row['defect_type']\n",
    "    img_path = os.path.join(image_dir, img_id)\n",
    "    \n",
    "    # Check if image file exists\n",
    "    if not os.path.exists(img_path):\n",
    "        logger.warning(f\"Image {img_id} not found. Skipping.\")\n",
    "        continue\n",
    "\n",
    "    # Load image\n",
    "    with open(img_path, \"rb\") as image_file:\n",
    "        img_b64_str = base64.b64encode(image_file.read()).decode('utf-8')\n",
    "    img_type = \"image/png\"  # set image type\n",
    "\n",
    "    # Create prompt with image placeholder\n",
    "    prompt = prompt_template\n",
    "\n",
    "    # OpenAI GPT-4o\n",
    "    response = client.chat.completions.create(\n",
    "        model=\"gpt-4o\",\n",
    "        messages=[\n",
    "            {\n",
    "                \"role\": \"user\",\n",
    "                \"content\": [\n",
    "                    {\"type\": \"text\", \"text\": prompt},\n",
    "                    {\"type\": \"image_url\", \"image_url\": {\"url\": f\"data:{img_type};base64,{img_b64_str}\"}},\n",
    "                ],\n",
    "            }\n",
    "        ],\n",
    "    )\n",
    "\n",
    "    # Extract defect prediction and description from model output\n",
    "    # print(response)\n",
    "    response_text = response.choices[0].message.content.strip()\n",
    "    # print(response_text)\n",
    "    \n",
    "    # Extract defect prediction and description from model output\n",
    "\n",
    "    # Remove the specifijson and closing\n",
    "\n",
    "\n",
    "    if response_text.startswith(\"```\"):\n",
    "        cleaned_response_text = response_text.split('\\n', 1)[-1].rsplit('\\n', 1)[0].strip()\n",
    "    else:\n",
    "        cleaned_response_text = response_text.strip()\n",
    "    print(cleaned_response_text)\n",
    "\n",
    "    try:\n",
    "        # Attempt to parse the response as JSON\n",
    "        response_json = json.loads(cleaned_response_text)\n",
    "        description = response_json.get(\"DESCRIPTION\", \"No description provided\")\n",
    "        predicted_defect = response_json.get(\"CODE\", \"NoDefect\")\n",
    "    except json.JSONDecodeError:\n",
    "        # Handle cases where the response is not valid JSON\n",
    "        log_file.write(f\"Invalid JSON response for Image ID {img_id}: {response}\\n\")\n",
    "        description = \"Error in JSON response\"\n",
    "        predicted_defect = \"Error\"\n",
    "\n",
    "    # Append results to lists\n",
    "    predictions.append(predicted_defect)\n",
    "    actual_labels.append(ground_truth)\n",
    "    descriptions.append(description)\n",
    "\n",
    "    # Log intermediate outputs\n",
    "    print(f\"Image ID: {img_id} | Predicted: {predicted_defect} | Ground Truth: {ground_truth}\")\n",
    "    log_file.write(f\"Image ID: {img_id} | Predicted: {predicted_defect} | Ground Truth: {ground_truth}\")\n",
    "\n",
    "# Calculate evaluation metrics\n",
    "accuracy = accuracy_score(actual_labels, predictions)\n",
    "f1 = f1_score(actual_labels, predictions, average='weighted')\n",
    "report = classification_report(actual_labels, predictions)\n",
    "\n",
    "log_file.write(f\"\\nAccuracy: {accuracy:.4f}\\n\")\n",
    "log_file.write(f\"F1 Score: {f1:.4f}\\n\")\n",
    "log_file.write(\"\\nClassification Report:\\n\")\n",
    "log_file.write(report)\n",
    "\n",
    "log_file.close()\n",
    "\n",
    "# Save results to CSV files\n",
    "df_table_prd['gpt4o'] = predictions\n",
    "df_table_prd.to_csv(log_path + 'df_table_prd.csv', index=False)\n",
    "\n",
    "df_table_dsc['gpt4o'] = descriptions\n",
    "df_table_dsc.to_csv(log_path + 'df_table_dsc.csv', index=False)"
   ]
  },
  {
   "cell_type": "code",
   "execution_count": null,
   "id": "7b679018-11de-4e84-b099-02f940eab386",
   "metadata": {},
   "outputs": [],
   "source": []
  }
 ],
 "metadata": {
  "kernelspec": {
   "display_name": "Python 3 (ipykernel)",
   "language": "python",
   "name": "python3"
  },
  "language_info": {
   "codemirror_mode": {
    "name": "ipython",
    "version": 3
   },
   "file_extension": ".py",
   "mimetype": "text/x-python",
   "name": "python",
   "nbconvert_exporter": "python",
   "pygments_lexer": "ipython3",
   "version": "3.10.12"
  }
 },
 "nbformat": 4,
 "nbformat_minor": 5
}
