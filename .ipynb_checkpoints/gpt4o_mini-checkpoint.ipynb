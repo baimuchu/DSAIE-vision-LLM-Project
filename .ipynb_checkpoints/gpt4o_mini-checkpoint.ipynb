{
 "cells": [
  {
   "cell_type": "markdown",
   "id": "51061603-a311-4513-b003-5b9ac0862aa0",
   "metadata": {},
   "source": [
    "# GPT 4o-mini"
   ]
  },
  {
   "cell_type": "code",
   "execution_count": 1,
   "id": "aa236e3a-c48e-4ca6-b235-298b1874dcdf",
   "metadata": {},
   "outputs": [
    {
     "name": "stdout",
     "output_type": "stream",
     "text": [
      "Requirement already satisfied: pip in /usr/local/lib/python3.10/dist-packages (24.3.1)\n",
      "\u001b[33mWARNING: Running pip as the 'root' user can result in broken permissions and conflicting behaviour with the system package manager, possibly rendering your system unusable.It is recommended to use a virtual environment instead: https://pip.pypa.io/warnings/venv. Use the --root-user-action option if you know what you are doing and want to suppress this warning.\u001b[0m\u001b[33m\n",
      "\u001b[0mRequirement already satisfied: pandas in /usr/local/lib/python3.10/dist-packages (from -r gpt_requirements.txt (line 1)) (2.2.3)\n",
      "Requirement already satisfied: scikit-learn in /usr/local/lib/python3.10/dist-packages (from -r gpt_requirements.txt (line 2)) (1.5.2)\n",
      "Requirement already satisfied: tqdm in /usr/local/lib/python3.10/dist-packages (from -r gpt_requirements.txt (line 3)) (4.67.1)\n",
      "Requirement already satisfied: openai in /usr/local/lib/python3.10/dist-packages (from -r gpt_requirements.txt (line 4)) (1.55.2)\n",
      "Requirement already satisfied: numpy>=1.22.4 in /usr/local/lib/python3.10/dist-packages (from pandas->-r gpt_requirements.txt (line 1)) (1.24.4)\n",
      "Requirement already satisfied: python-dateutil>=2.8.2 in /usr/local/lib/python3.10/dist-packages (from pandas->-r gpt_requirements.txt (line 1)) (2.8.2)\n",
      "Requirement already satisfied: pytz>=2020.1 in /usr/local/lib/python3.10/dist-packages (from pandas->-r gpt_requirements.txt (line 1)) (2024.2)\n",
      "Requirement already satisfied: tzdata>=2022.7 in /usr/local/lib/python3.10/dist-packages (from pandas->-r gpt_requirements.txt (line 1)) (2024.2)\n",
      "Requirement already satisfied: scipy>=1.6.0 in /usr/local/lib/python3.10/dist-packages (from scikit-learn->-r gpt_requirements.txt (line 2)) (1.14.1)\n",
      "Requirement already satisfied: joblib>=1.2.0 in /usr/local/lib/python3.10/dist-packages (from scikit-learn->-r gpt_requirements.txt (line 2)) (1.4.2)\n",
      "Requirement already satisfied: threadpoolctl>=3.1.0 in /usr/local/lib/python3.10/dist-packages (from scikit-learn->-r gpt_requirements.txt (line 2)) (3.5.0)\n",
      "Requirement already satisfied: anyio<5,>=3.5.0 in /usr/local/lib/python3.10/dist-packages (from openai->-r gpt_requirements.txt (line 4)) (4.0.0)\n",
      "Requirement already satisfied: distro<2,>=1.7.0 in /usr/lib/python3/dist-packages (from openai->-r gpt_requirements.txt (line 4)) (1.7.0)\n",
      "Requirement already satisfied: httpx<1,>=0.23.0 in /usr/local/lib/python3.10/dist-packages (from openai->-r gpt_requirements.txt (line 4)) (0.27.2)\n",
      "Requirement already satisfied: jiter<1,>=0.4.0 in /usr/local/lib/python3.10/dist-packages (from openai->-r gpt_requirements.txt (line 4)) (0.8.0)\n",
      "Requirement already satisfied: pydantic<3,>=1.9.0 in /usr/local/lib/python3.10/dist-packages (from openai->-r gpt_requirements.txt (line 4)) (2.10.2)\n",
      "Requirement already satisfied: sniffio in /usr/local/lib/python3.10/dist-packages (from openai->-r gpt_requirements.txt (line 4)) (1.3.0)\n",
      "Requirement already satisfied: typing-extensions<5,>=4.11 in /usr/local/lib/python3.10/dist-packages (from openai->-r gpt_requirements.txt (line 4)) (4.12.2)\n",
      "Requirement already satisfied: idna>=2.8 in /usr/local/lib/python3.10/dist-packages (from anyio<5,>=3.5.0->openai->-r gpt_requirements.txt (line 4)) (3.4)\n",
      "Requirement already satisfied: exceptiongroup>=1.0.2 in /usr/local/lib/python3.10/dist-packages (from anyio<5,>=3.5.0->openai->-r gpt_requirements.txt (line 4)) (1.1.3)\n",
      "Requirement already satisfied: certifi in /usr/local/lib/python3.10/dist-packages (from httpx<1,>=0.23.0->openai->-r gpt_requirements.txt (line 4)) (2022.12.7)\n",
      "Requirement already satisfied: httpcore==1.* in /usr/local/lib/python3.10/dist-packages (from httpx<1,>=0.23.0->openai->-r gpt_requirements.txt (line 4)) (1.0.7)\n",
      "Requirement already satisfied: h11<0.15,>=0.13 in /usr/local/lib/python3.10/dist-packages (from httpcore==1.*->httpx<1,>=0.23.0->openai->-r gpt_requirements.txt (line 4)) (0.14.0)\n",
      "Requirement already satisfied: annotated-types>=0.6.0 in /usr/local/lib/python3.10/dist-packages (from pydantic<3,>=1.9.0->openai->-r gpt_requirements.txt (line 4)) (0.7.0)\n",
      "Requirement already satisfied: pydantic-core==2.27.1 in /usr/local/lib/python3.10/dist-packages (from pydantic<3,>=1.9.0->openai->-r gpt_requirements.txt (line 4)) (2.27.1)\n",
      "Requirement already satisfied: six>=1.5 in /usr/lib/python3/dist-packages (from python-dateutil>=2.8.2->pandas->-r gpt_requirements.txt (line 1)) (1.16.0)\n",
      "\u001b[33mWARNING: Running pip as the 'root' user can result in broken permissions and conflicting behaviour with the system package manager, possibly rendering your system unusable.It is recommended to use a virtual environment instead: https://pip.pypa.io/warnings/venv. Use the --root-user-action option if you know what you are doing and want to suppress this warning.\u001b[0m\u001b[33m\n",
      "\u001b[0m"
     ]
    }
   ],
   "source": [
    "! python -m pip install --upgrade pip\n",
    "! pip install -r gpt_requirements.txt"
   ]
  },
  {
   "cell_type": "code",
   "execution_count": 4,
   "id": "a16be237-cb40-46fd-995f-ac96245168ca",
   "metadata": {
    "scrolled": true
   },
   "outputs": [
    {
     "name": "stderr",
     "output_type": "stream",
     "text": [
      "Processing images:   0%|          | 1/200 [00:03<11:39,  3.52s/it]"
     ]
    },
    {
     "name": "stdout",
     "output_type": "stream",
     "text": [
      "{ \n",
      "  \"DESCRIPTION\": \"The image shows a concrete sewer pipe with a visible crack along the surface. The lighting is relatively dim, but sufficient to see some surface irregularities. The pipe has debris and possible erosion at the site of the crack, indicating surface damage. Water presence is not clearly indicated in the image.\", \n",
      "  \"CODE\": \"RB\" \n",
      "}\n",
      "Image ID: 00617545.png | Predicted: RB | Ground Truth: RB\n"
     ]
    },
    {
     "name": "stderr",
     "output_type": "stream",
     "text": [
      "Processing images:   1%|          | 2/200 [00:06<11:16,  3.42s/it]"
     ]
    },
    {
     "name": "stdout",
     "output_type": "stream",
     "text": [
      "{\n",
      "  \"DESCRIPTION\": \"The image shows a section of a sewer pipe with uneven surface conditions and visible discoloration. The lighting is adequate, allowing for observation of the pipe's interior. The pipe appears to be made of concrete, with some areas exhibiting wear and erosion. There is a presence of water flowing through the pipe, contributing to the overall condition assessment.\",\n",
      "  \"CODE\": \"OB\"\n",
      "}\n",
      "Image ID: 00635967.png | Predicted: OB | Ground Truth: NoDefect\n"
     ]
    },
    {
     "name": "stderr",
     "output_type": "stream",
     "text": [
      "Processing images:   2%|▏         | 3/200 [00:10<11:33,  3.52s/it]"
     ]
    },
    {
     "name": "stdout",
     "output_type": "stream",
     "text": [
      "{\n",
      "  \"DESCRIPTION\": \"The image shows a sewer pipe with a concrete structure, partially filled with murky water. The lighting is dim, making it slightly difficult to identify finer details. The pipe appears to be in generally good condition with a smooth surface visible, and no evident signs of cracks or surface damage. There are no noticeable obstructions such as roots or blockages in the visible area.\",\n",
      "  \"CODE\": \"NoDefect\"\n",
      "}\n",
      "Image ID: 00002720.png | Predicted: NoDefect | Ground Truth: NoDefect\n"
     ]
    },
    {
     "name": "stderr",
     "output_type": "stream",
     "text": [
      "Processing images:   2%|▏         | 4/200 [00:13<11:16,  3.45s/it]"
     ]
    },
    {
     "name": "stdout",
     "output_type": "stream",
     "text": [
      "{ \n",
      "  \"DESCRIPTION\": \"The image shows a section of a sewer pipe with a smooth metallic surface. There is a noticeable hole in the pipe, revealing a red interior. The overall lighting appears to be adequate, providing clear visibility of the pipe surface. Minor scratches or marks are visible around the opening, which may indicate surface damage or wear.\",\n",
      "  \"CODE\": \"OB\"\n",
      "}\n",
      "Image ID: 00497284.png | Predicted: OB | Ground Truth: NoDefect\n"
     ]
    },
    {
     "name": "stderr",
     "output_type": "stream",
     "text": [
      "Processing images:   2%|▎         | 5/200 [00:16<09:54,  3.05s/it]"
     ]
    },
    {
     "name": "stdout",
     "output_type": "stream",
     "text": [
      "{\n",
      "  \"DESCRIPTION\": \"The image shows the interior of a sewer pipe with a visible crack along the pipe surface. The lighting is adequate, highlighting surface textures and the crack's location. The pipe appears to be a concrete structure. There is no water present in the pipe, allowing for clear visibility of the defect.\",\n",
      "  \"CODE\": \"RB\"\n",
      "}\n",
      "Image ID: 00231002.png | Predicted: RB | Ground Truth: RB\n"
     ]
    },
    {
     "name": "stderr",
     "output_type": "stream",
     "text": [
      "Processing images:   3%|▎         | 6/200 [00:19<10:34,  3.27s/it]"
     ]
    },
    {
     "name": "stdout",
     "output_type": "stream",
     "text": [
      "{\n",
      "  \"DESCRIPTION\": \"The image shows the interior of a sewer pipe, likely made of concrete due to the texture visible. The pipe appears to be relatively clear but contains some standing water and debris at the bottom. The lighting is dim, indicating it is likely a deep sewer system. There are signs of surface wear on the pipe's interior, with areas showing erosion and slight scaling, though no major breaks or collapses are present.\",\n",
      "  \"CODE\": \"OB\"\n",
      "}\n",
      "Image ID: 00468553.png | Predicted: OB | Ground Truth: PF\n"
     ]
    },
    {
     "name": "stderr",
     "output_type": "stream",
     "text": [
      "Processing images:   4%|▎         | 7/200 [00:30<17:59,  5.59s/it]"
     ]
    },
    {
     "name": "stdout",
     "output_type": "stream",
     "text": [
      "{\n",
      "  \"DESCRIPTION\": \"The image is quite unclear and appears to be slightly blurred, with a greenish hue suggesting potential algae or buildup on the pipe's interior. There is no visible water present in the image. The surface of the pipe is not distinctly visible, making it difficult to assess its condition accurately.\",\n",
      "  \"CODE\": \"NoDefect\"\n",
      "}\n",
      "Image ID: 00953221.png | Predicted: NoDefect | Ground Truth: NoDefect\n"
     ]
    },
    {
     "name": "stderr",
     "output_type": "stream",
     "text": [
      "Processing images:   4%|▍         | 8/200 [00:33<15:43,  4.92s/it]"
     ]
    },
    {
     "name": "stdout",
     "output_type": "stream",
     "text": [
      "{ \n",
      "  \"DESCRIPTION\": \"The image shows the interior of a sewer pipe, likely made of concrete based on the texture. The lighting is dim, leading to a darkened view of the pipe's interior. There appears to be some surface irregularities, but no visible cracks, breaks, or deformations are noted. The overall condition of the pipe seems to be acceptable with no significant blockages or root intrusions present.\", \n",
      "  \"CODE\": \"OB\" \n",
      "}\n",
      "Image ID: 00242381.png | Predicted: OB | Ground Truth: NoDefect\n"
     ]
    },
    {
     "name": "stderr",
     "output_type": "stream",
     "text": [
      "Processing images:   4%|▍         | 9/200 [00:38<15:03,  4.73s/it]"
     ]
    },
    {
     "name": "stdout",
     "output_type": "stream",
     "text": [
      "{\n",
      "  \"DESCRIPTION\": \"The image shows a sewer pipe with a smooth, unbroken concrete surface. The interior is relatively clear and well-lit, with a shallow layer of water present at the bottom. There are no visible signs of damage, blockages, or roots, indicating a healthy pipe structure. The walls appear consistent in texture, without any noticeable wear or deterioration.\",\n",
      "  \"CODE\": \"NoDefect\"\n",
      "}\n",
      "Image ID: 00292340.png | Predicted: NoDefect | Ground Truth: PF\n"
     ]
    },
    {
     "name": "stderr",
     "output_type": "stream",
     "text": [
      "Processing images:   5%|▌         | 10/200 [00:40<12:52,  4.07s/it]"
     ]
    },
    {
     "name": "stdout",
     "output_type": "stream",
     "text": [
      "{ \"DESCRIPTION\": \"The image shows a clear view of a relatively clean sewer pipe with a smooth, cylindrical interior. The lighting conditions are consistent, allowing for a good analysis of the surface. No visible signs of water accumulation are present in the lower section of the pipe, which appears to be made of PVC based on its shiny surface. There are no visible cracks, breaks, or collapses in the pipe structural integrity.\", \"CODE\": \"NoDefect\" }\n",
      "Image ID: 00184032.png | Predicted: NoDefect | Ground Truth: OB\n"
     ]
    },
    {
     "name": "stderr",
     "output_type": "stream",
     "text": [
      "Processing images:   6%|▌         | 11/200 [00:44<12:16,  3.90s/it]"
     ]
    },
    {
     "name": "stdout",
     "output_type": "stream",
     "text": [
      "{ \"DESCRIPTION\": \"The image shows a dark and somewhat unclear view inside a sewer pipe, likely made of concrete. There appears to be some debris along the bottom of the pipe, indicating the presence of stagnant water or blockages. The lighting is poor, making it difficult to discern detailed features of the pipe surface.\", \"CODE\": \"NoDefect\" }\n",
      "Image ID: 00544551.png | Predicted: NoDefect | Ground Truth: NoDefect\n"
     ]
    },
    {
     "name": "stderr",
     "output_type": "stream",
     "text": [
      "Processing images:   6%|▌         | 12/200 [00:47<11:30,  3.67s/it]"
     ]
    },
    {
     "name": "stdout",
     "output_type": "stream",
     "text": [
      "{\n",
      "  \"DESCRIPTION\": \"The image shows the interior of a sewer pipe, likely concrete, characterized by a circular cross-section. The lighting is dim, but sufficient to make out the pipe's surface. There is a noticeable presence of water along the bottom, and the interior appears relatively unblemished with no visible debris or significant wear.\",\n",
      "  \"CODE\": \"NoDefect\"\n",
      "}\n",
      "Image ID: 01051658.png | Predicted: NoDefect | Ground Truth: DE\n"
     ]
    },
    {
     "name": "stderr",
     "output_type": "stream",
     "text": [
      "Processing images:   6%|▋         | 13/200 [00:51<11:41,  3.75s/it]"
     ]
    },
    {
     "name": "stdout",
     "output_type": "stream",
     "text": [
      "{\n",
      "  \"DESCRIPTION\": \"The image shows a section of a concrete sewer pipe with a relatively smooth surface, but it exhibits signs of surface staining and erosion along the walls. The lighting appears to be adequate, allowing for a clear view of the pipe's interior. There is no visible water accumulation in the section displayed, indicating a dry condition. Additionally, there are no visible cracks, breaks, or root intrusions detected in this part of the pipe.\",\n",
      "  \"CODE\": \"OB\"\n",
      "}\n",
      "Image ID: 00841517.png | Predicted: OB | Ground Truth: PF\n"
     ]
    },
    {
     "name": "stderr",
     "output_type": "stream",
     "text": [
      "Processing images:   7%|▋         | 14/200 [00:55<11:48,  3.81s/it]"
     ]
    },
    {
     "name": "stdout",
     "output_type": "stream",
     "text": [
      "{\n",
      "  \"DESCRIPTION\": \"The image shows the interior of a sewer pipe, which appears to be a concrete pipe. The lighting is dim, but the pipe surface is relatively clear with some organic material buildup visible at the bottom. There is also a noticeable root intrusion present on the right side of the pipe, indicating potential blockage and damage from the roots.\",\n",
      "  \"CODE\": \"RO\"\n",
      "}\n",
      "Image ID: 00306871.png | Predicted: RO | Ground Truth: RO\n"
     ]
    },
    {
     "name": "stderr",
     "output_type": "stream",
     "text": [
      "Processing images:   8%|▊         | 15/200 [00:58<11:40,  3.79s/it]"
     ]
    },
    {
     "name": "stdout",
     "output_type": "stream",
     "text": [
      "{\n",
      "  \"DESCRIPTION\": \"The image shows a clear view of a sewer pipe with smooth, metallic walls. The lighting is adequate, allowing for a good inspection of the pipe interior. There is some water pooling at the bottom, and the surface appears to have minor wear and scratches, indicating possible surface damage but no significant defects like cracks or deformations are visible.\",\n",
      "  \"CODE\": \"OB\"\n",
      "}\n",
      "Image ID: 01057513.png | Predicted: OB | Ground Truth: DE\n"
     ]
    },
    {
     "name": "stderr",
     "output_type": "stream",
     "text": [
      "Processing images:   8%|▊         | 16/200 [01:01<10:33,  3.44s/it]"
     ]
    },
    {
     "name": "stdout",
     "output_type": "stream",
     "text": [
      "{\n",
      "  \"DESCRIPTION\": \"The image shows a clear view inside a sewer pipe, with good lighting conditions. The pipe appears to be a smooth-walled structure, likely made of PVC, and is free of visible water accumulation. The surface of the pipe exhibits slight signs of wear and potential erosion but no major visible defects. The interior is generally clean with no obvious blockages or significant damage observed.\",\n",
      "  \"CODE\": \"OB\"\n",
      "}\n",
      "Image ID: 00852617.png | Predicted: OB | Ground Truth: NoDefect\n"
     ]
    },
    {
     "name": "stderr",
     "output_type": "stream",
     "text": [
      "Processing images:   8%|▊         | 17/200 [01:04<09:43,  3.19s/it]"
     ]
    },
    {
     "name": "stdout",
     "output_type": "stream",
     "text": [
      "{ \"DESCRIPTION\": \"The image shows a relatively clear view of the interior of a sewer pipe, which appears to be made of concrete. There is some water present, and the lighting is sufficient to see the texture of the pipe. The surface of the pipe is showing signs of wear with some minor scratches and pitting but no major cracks or breaks are visible.\", \"CODE\": \"OB\" }\n",
      "Image ID: 00908736.png | Predicted: OB | Ground Truth: NoDefect\n"
     ]
    },
    {
     "name": "stderr",
     "output_type": "stream",
     "text": [
      "Processing images:   9%|▉         | 18/200 [01:07<09:55,  3.27s/it]"
     ]
    },
    {
     "name": "stdout",
     "output_type": "stream",
     "text": [
      "{ \n",
      "  \"DESCRIPTION\": \"The image shows a long sewer pipe with a smooth, white interior. The lighting in the image is dim, making it difficult to see details further down the pipe, but the surface appears intact. There are minor water droplets visible on the walls, indicating moisture. No signs of significant blockages or damage are apparent in the visible sections of the pipe.\",\n",
      "  \"CODE\": \"NoDefect\"\n",
      "}\n",
      "Image ID: 00287653.png | Predicted: NoDefect | Ground Truth: NoDefect\n"
     ]
    },
    {
     "name": "stderr",
     "output_type": "stream",
     "text": [
      "Processing images:  10%|▉         | 19/200 [01:10<09:03,  3.00s/it]"
     ]
    },
    {
     "name": "stdout",
     "output_type": "stream",
     "text": [
      "{\n",
      "  \"DESCRIPTION\": \"The image shows a sewer pipe with a clear view of its surface. The lighting conditions appear to be dim, which may affect visibility. The pipe appears to be made of PVC, with a mostly smooth surface. However, there are some indications of surface wear or minor damage present.\",\n",
      "  \"CODE\": \"OB\"\n",
      "}\n",
      "Image ID: 00967874.png | Predicted: OB | Ground Truth: NoDefect\n"
     ]
    },
    {
     "name": "stderr",
     "output_type": "stream",
     "text": [
      "Processing images:  10%|█         | 20/200 [01:12<08:57,  2.99s/it]"
     ]
    },
    {
     "name": "stdout",
     "output_type": "stream",
     "text": [
      "{\n",
      "  \"DESCRIPTION\": \"The image shows the interior of a sewer pipe. The pipe appears to be concrete with poor lighting conditions contributing to low clarity. There is a visible presence of water flowing through the pipe. The surface of the pipe shows signs of wear with rough edges apparent, indicating potential deterioration.\",\n",
      "  \"CODE\": \"OB\"\n",
      "}\n",
      "Image ID: 00519810.png | Predicted: OB | Ground Truth: NoDefect\n"
     ]
    },
    {
     "name": "stderr",
     "output_type": "stream",
     "text": [
      "Processing images:  10%|█         | 21/200 [01:17<10:06,  3.39s/it]"
     ]
    },
    {
     "name": "stdout",
     "output_type": "stream",
     "text": [
      "{\n",
      "  \"DESCRIPTION\": \"The image shows the interior of a sewer pipe, likely made of concrete, illuminated with a yellow tint that suggests the presence of surface residue or biofilm. There is water present within the pipe, which has a smooth, unbroken surface overall. However, there are signs of wear on the interior surface, indicating surface damage due to erosion or scaling.\",\n",
      "  \"CODE\": \"OB\"\n",
      "}\n",
      "Image ID: 00902655.png | Predicted: OB | Ground Truth: NoDefect\n"
     ]
    },
    {
     "name": "stderr",
     "output_type": "stream",
     "text": [
      "Processing images:  11%|█         | 22/200 [01:20<09:50,  3.31s/it]"
     ]
    },
    {
     "name": "stdout",
     "output_type": "stream",
     "text": [
      "{\n",
      "  \"DESCRIPTION\": \"The image depicts the interior of a concrete sewer pipe, showing a semi-wet surface with a small amount of water running along the bottom. The pipe walls appear to have some discoloration and staining, indicating possible surface wear or buildup. The lighting is dim, typical of subterranean settings, and the overall visibility is moderate.\",\n",
      "  \"CODE\": \"OB\"\n",
      "}\n",
      "Image ID: 00248494.png | Predicted: OB | Ground Truth: NoDefect\n"
     ]
    },
    {
     "name": "stderr",
     "output_type": "stream",
     "text": [
      "Processing images:  12%|█▏        | 23/200 [01:25<11:31,  3.91s/it]"
     ]
    },
    {
     "name": "stdout",
     "output_type": "stream",
     "text": [
      "{\n",
      "  \"DESCRIPTION\": \"The image shows a concrete sewer pipe that appears somewhat dark and is illuminated by the camera light. There is a significant presence of roots intruding into the pipe, which are clearly visible and may obstruct the flow. The surface of the pipe shows signs of wear, but no major breaks or cracks are discernible from this perspective.\",\n",
      "  \"CODE\": \"RO\"\n",
      "}\n",
      "Image ID: 00306868.png | Predicted: RO | Ground Truth: RO\n"
     ]
    },
    {
     "name": "stderr",
     "output_type": "stream",
     "text": [
      "Processing images:  12%|█▏        | 24/200 [01:28<10:46,  3.67s/it]"
     ]
    },
    {
     "name": "stdout",
     "output_type": "stream",
     "text": [
      "{\n",
      "  \"DESCRIPTION\": \"The image shows the interior of a sewer pipe, which appears to be made of concrete. The lighting is dim, highlighting some moisture and debris within the pipe. A noticeable root intrusion is present, indicating the roots have penetrated through a joint or crack in the pipe, causing an obstruction. The surface of the pipe shows some wear, but the main issue is the root infiltration.\",\n",
      "  \"CODE\": \"RO\"\n",
      "}\n",
      "Image ID: 00305000.png | Predicted: RO | Ground Truth: RB\n"
     ]
    },
    {
     "name": "stderr",
     "output_type": "stream",
     "text": [
      "Processing images:  12%|█▎        | 25/200 [01:31<09:39,  3.31s/it]"
     ]
    },
    {
     "name": "stdout",
     "output_type": "stream",
     "text": [
      "{ \n",
      "  \"DESCRIPTION\": \"The image shows the interior of a sewer pipe with a smooth cylindrical structure. The lighting is dim, but the pipe appears mostly clear with some water at the bottom. There are traces of buildup or debris along the walls, but no visible cracks or major damages are evident.\",\n",
      "  \"CODE\": \"NoDefect\"\n",
      "}\n",
      "Image ID: 00406657.png | Predicted: NoDefect | Ground Truth: PF\n"
     ]
    },
    {
     "name": "stderr",
     "output_type": "stream",
     "text": [
      "Processing images:  13%|█▎        | 26/200 [01:35<10:00,  3.45s/it]"
     ]
    },
    {
     "name": "stdout",
     "output_type": "stream",
     "text": [
      "{\n",
      "  \"DESCRIPTION\": \"The image shows a concrete sewer pipe with visible wear and a significant crack along one side. The lighting is adequate, revealing the rough texture of the pipe's interior, which is somewhat obscured by debris. Additionally, there is a root intrusion visible within the crack, indicating potential blockage. Water is not present in this section of the pipe.\",\n",
      "  \"CODE\": \"RB\"\n",
      "}\n",
      "Image ID: 01021927.png | Predicted: RB | Ground Truth: RO\n"
     ]
    },
    {
     "name": "stderr",
     "output_type": "stream",
     "text": [
      "Processing images:  14%|█▎        | 27/200 [01:38<09:47,  3.40s/it]"
     ]
    },
    {
     "name": "stdout",
     "output_type": "stream",
     "text": [
      "{\n",
      "  \"DESCRIPTION\": \"The image shows a concrete sewer pipe with a dark, somewhat blurred interior. The lighting is dim, making visibility low. There is a layer of debris or sediment along the bottom of the pipe, and the walls appear rough, indicating possible surface wear or erosion.\",\n",
      "  \"CODE\": \"OB\"\n",
      "}\n",
      "Image ID: 00572939.png | Predicted: OB | Ground Truth: OB\n"
     ]
    },
    {
     "name": "stderr",
     "output_type": "stream",
     "text": [
      "Processing images:  14%|█▍        | 28/200 [02:57<1:14:56, 26.14s/it]"
     ]
    },
    {
     "name": "stdout",
     "output_type": "stream",
     "text": [
      "{ \n",
      "  \"DESCRIPTION\": \"The image shows a long concrete sewer pipe with a smooth, unbroken surface. The lighting is dim, and there is some murky water visible along the bottom of the pipe. The overall clarity is moderate, with no significant signs of damage or obstructions.\", \n",
      "  \"CODE\": \"NoDefect\" \n",
      "}\n",
      "Image ID: 00710330.png | Predicted: NoDefect | Ground Truth: NoDefect\n"
     ]
    },
    {
     "name": "stderr",
     "output_type": "stream",
     "text": [
      "Processing images:  14%|█▍        | 29/200 [03:02<55:59, 19.65s/it]  "
     ]
    },
    {
     "name": "stdout",
     "output_type": "stream",
     "text": [
      "{ \"DESCRIPTION\": \"The image shows the interior of a sewer pipe. The pipe appears to be made of concrete and is in relatively good condition, though it exhibits some low-light areas. There are no visible signs of major damage, cracks, or blockages. The surface appears smooth with minor variations but lacks any significant deterioration.\", \"CODE\": \"NoDefect\" }\n",
      "Image ID: 00311380.png | Predicted: NoDefect | Ground Truth: NoDefect\n"
     ]
    },
    {
     "name": "stderr",
     "output_type": "stream",
     "text": [
      "Processing images:  15%|█▌        | 30/200 [03:06<43:06, 15.22s/it]"
     ]
    },
    {
     "name": "stdout",
     "output_type": "stream",
     "text": [
      "{\n",
      "  \"DESCRIPTION\": \"The image shows a clear view of a cylindrical sewer pipe. The interior appears smooth with some light reflections suggesting a metallic or concrete pipe. There are no visible obstructions or standing water, and the lighting is adequate for analysis.\",\n",
      "  \"CODE\": \"NoDefect\"\n",
      "}\n",
      "Image ID: 00959013.png | Predicted: NoDefect | Ground Truth: NoDefect\n"
     ]
    },
    {
     "name": "stderr",
     "output_type": "stream",
     "text": [
      "Processing images:  16%|█▌        | 31/200 [03:10<32:36, 11.58s/it]"
     ]
    },
    {
     "name": "stdout",
     "output_type": "stream",
     "text": [
      "{\n",
      "  \"DESCRIPTION\": \"The image shows a dark sewer pipe with visible root intrusion. The pipe appears to be made of a smooth material, possibly PVC. The lighting is dim, but the roots are clearly visible as they obstruct part of the pipe's interior. The interior of the pipe exhibits signs of accumulation, indicating potential water presence, although the clarity of the water cannot be determined.\",\n",
      "  \"CODE\": \"RO\"\n",
      "}\n",
      "Image ID: 00341760.png | Predicted: RO | Ground Truth: RO\n"
     ]
    },
    {
     "name": "stderr",
     "output_type": "stream",
     "text": [
      "Processing images:  16%|█▌        | 32/200 [03:14<26:01,  9.30s/it]"
     ]
    },
    {
     "name": "stdout",
     "output_type": "stream",
     "text": [
      "{\n",
      "  \"DESCRIPTION\": \"The image shows a clear view of a sewer pipe with a smooth, corrugated interior surface. Lighting conditions are adequate, allowing visibility of the pipe structure. There is a noticeable presence of water flowing along the bottom, but no visible obstructions, cracks, or other defects in the pipe are apparent.\",\n",
      "  \"CODE\": \"NoDefect\"\n",
      "}\n",
      "Image ID: 01233591.png | Predicted: NoDefect | Ground Truth: NoDefect\n"
     ]
    },
    {
     "name": "stderr",
     "output_type": "stream",
     "text": [
      "Processing images:  16%|█▋        | 33/200 [03:16<20:18,  7.30s/it]"
     ]
    },
    {
     "name": "stdout",
     "output_type": "stream",
     "text": [
      "{\n",
      "  \"DESCRIPTION\": \"The image shows a mostly dark sewer pipe with a few water droplets visible on the surface. The lighting conditions are low, affecting visibility. The pipe appears to be made of a smooth material, possibly PVC, without any visible cracks or significant surface damage observed. There is a minimal presence of water at the bottom, but no blockages or root intrusions are evident.\",\n",
      "  \"CODE\": \"NoDefect\"\n",
      "}\n",
      "Image ID: 01069656.png | Predicted: NoDefect | Ground Truth: NoDefect\n"
     ]
    },
    {
     "name": "stderr",
     "output_type": "stream",
     "text": [
      "Processing images:  17%|█▋        | 34/200 [03:19<16:49,  6.08s/it]"
     ]
    },
    {
     "name": "stdout",
     "output_type": "stream",
     "text": [
      "{\n",
      "  \"DESCRIPTION\": \"The image shows a dark section of a sewer pipe with some light interference from the water present. The pipe appears to be in decent condition overall, but there are visible indications of wear on the surface, particularly around the edges of the pipe where it meets the water. The lighting conditions are somewhat poor, affecting visibility. No significant structural issues like cracks or collapses are apparent in this section.\",\n",
      "  \"CODE\": \"OB\"\n",
      "}\n",
      "Image ID: 01051282.png | Predicted: OB | Ground Truth: RO\n"
     ]
    },
    {
     "name": "stderr",
     "output_type": "stream",
     "text": [
      "Processing images:  18%|█▊        | 35/200 [03:22<14:05,  5.13s/it]"
     ]
    },
    {
     "name": "stdout",
     "output_type": "stream",
     "text": [
      "{\n",
      "  \"DESCRIPTION\": \"The image displays a section of a sewer pipe that appears dark and has some visible surface scratches or wear. The lighting seems adequate to highlight the interior surface. The pipe's material is unclear, but the surface shows signs of potential erosion or surface damage.\",\n",
      "  \"CODE\": \"OB\"\n",
      "}\n",
      "Image ID: 00414188.png | Predicted: OB | Ground Truth: RB\n"
     ]
    },
    {
     "name": "stderr",
     "output_type": "stream",
     "text": [
      "Processing images:  18%|█▊        | 36/200 [03:25<11:45,  4.30s/it]"
     ]
    },
    {
     "name": "stdout",
     "output_type": "stream",
     "text": [
      "{\n",
      "  \"DESCRIPTION\": \"The image shows the interior of a concrete sewer pipe with noticeable water accumulation at the bottom. The pipe appears to have a smooth and unbroken surface, with no visible signs of damage or blockages. The lighting is somewhat dim, but the overall clarity is sufficient to assess the pipe's condition.\",\n",
      "  \"CODE\": \"NoDefect\"\n",
      "}\n",
      "Image ID: 00656179.png | Predicted: NoDefect | Ground Truth: NoDefect\n"
     ]
    },
    {
     "name": "stderr",
     "output_type": "stream",
     "text": [
      "Processing images:  18%|█▊        | 37/200 [03:27<10:19,  3.80s/it]"
     ]
    },
    {
     "name": "stdout",
     "output_type": "stream",
     "text": [
      "{\n",
      "  \"DESCRIPTION\": \"The image shows a clear view of a sewer pipe with an orange hue indicating the type of material, likely PVC. The pipe appears to be in good condition with no visible signs of damage, cracks, or obstructions. The lighting conditions are adequate, allowing for a clear view of the pipe's interior, which seems smooth and unbroken throughout.\",\n",
      "  \"CODE\": \"NoDefect\"\n",
      "}\n",
      "Image ID: 01230189.png | Predicted: NoDefect | Ground Truth: NoDefect\n"
     ]
    },
    {
     "name": "stderr",
     "output_type": "stream",
     "text": [
      "Processing images:  19%|█▉        | 38/200 [03:31<10:00,  3.71s/it]"
     ]
    },
    {
     "name": "stdout",
     "output_type": "stream",
     "text": [
      "{\n",
      "  \"DESCRIPTION\": \"The image shows a section of a sewer pipe with a smooth and unbroken surface. The lighting condition is poor, resulting in a brownish hue that obscures finer details. There is no visible presence of water or blockages, indicating a clear flow path. The pipe appears to be made of concrete, and there are no apparent defects such as cracks, breaks, or surface damage.\",\n",
      "  \"CODE\": \"NoDefect\"\n",
      "}\n",
      "Image ID: 01103697.png | Predicted: NoDefect | Ground Truth: NoDefect\n"
     ]
    },
    {
     "name": "stderr",
     "output_type": "stream",
     "text": [
      "Processing images:  20%|█▉        | 39/200 [03:35<10:38,  3.96s/it]"
     ]
    },
    {
     "name": "stdout",
     "output_type": "stream",
     "text": [
      "{\n",
      "  \"DESCRIPTION\": \"The image shows a clear view of two sewer pipes with a visible interior surface. The lighting is sufficient to observe details, although some areas appear discolored with a build-up of sediment or corrosion. There is no standing water present. Both pipes are cylindrical with a concrete or clay material. The interiors exhibit significant surface wear, including discoloration and possible erosion.\",\n",
      "  \"CODE\": \"OB\"\n",
      "}\n",
      "Image ID: 00055654.png | Predicted: OB | Ground Truth: NoDefect\n"
     ]
    },
    {
     "name": "stderr",
     "output_type": "stream",
     "text": [
      "Processing images:  20%|██        | 40/200 [03:39<09:57,  3.74s/it]"
     ]
    },
    {
     "name": "stdout",
     "output_type": "stream",
     "text": [
      "{\n",
      "  \"DESCRIPTION\": \"The image shows a section of a sewer pipe interior with visible cracks along the surface. The lighting conditions are adequate, allowing for clear visibility of the defect, which appears to be a longitudinal crack running across the pipe. The pipe surface shows a concrete texture but is compromised by the crack, indicating potential issues with structural integrity.\",\n",
      "  \"CODE\": \"RB\"\n",
      "}\n",
      "Image ID: 00224834.png | Predicted: RB | Ground Truth: RB\n"
     ]
    },
    {
     "name": "stderr",
     "output_type": "stream",
     "text": [
      "Processing images:  20%|██        | 41/200 [03:44<11:22,  4.29s/it]"
     ]
    },
    {
     "name": "stdout",
     "output_type": "stream",
     "text": [
      "{ \"DESCRIPTION\": \"The image shows the interior of a sewer pipe, which appears to be made of concrete. The lighting is dim, but there is some visibility of the pipe's inner surface. There are no visible signs of water present, and the surface looks relatively smooth at first glance, although some areas may need closer inspection for detailed assessment.\", \"CODE\": \"NoDefect\" }\n",
      "Image ID: 00953931.png | Predicted: NoDefect | Ground Truth: DE\n"
     ]
    },
    {
     "name": "stderr",
     "output_type": "stream",
     "text": [
      "Processing images:  21%|██        | 42/200 [03:47<10:01,  3.81s/it]"
     ]
    },
    {
     "name": "stdout",
     "output_type": "stream",
     "text": [
      "{\n",
      "  \"DESCRIPTION\": \"The image shows a clear view of the interior of a sewer pipe, likely made of concrete. The lighting is adequate, revealing some discoloration and potential wear along the pipe walls. There is a noticeable accumulation of sediment or debris at the bottom, but the pipe's structure appears generally intact without major visible damage.\",\n",
      "  \"CODE\": \"OB\"\n",
      "}\n",
      "Image ID: 00392052.png | Predicted: OB | Ground Truth: NoDefect\n"
     ]
    },
    {
     "name": "stderr",
     "output_type": "stream",
     "text": [
      "Processing images:  22%|██▏       | 43/200 [03:49<09:03,  3.46s/it]"
     ]
    },
    {
     "name": "stdout",
     "output_type": "stream",
     "text": [
      "{\n",
      "  \"DESCRIPTION\": \"The image shows a clear view of a concrete sewer pipe. There is adequate lighting, allowing for a visible examination of the pipe's interior. The surface appears relatively smooth with some minor buildup indicating wear or light surface damage, but no significant blockages or visible defects are present.\",\n",
      "  \"CODE\": \"OB\"\n",
      "}\n",
      "Image ID: 00795710.png | Predicted: OB | Ground Truth: OB\n"
     ]
    },
    {
     "name": "stderr",
     "output_type": "stream",
     "text": [
      "Processing images:  22%|██▏       | 44/200 [03:54<09:31,  3.66s/it]"
     ]
    },
    {
     "name": "stdout",
     "output_type": "stream",
     "text": [
      "{\n",
      "  \"DESCRIPTION\": \"The image shows the interior of a sewer pipe, with a noticeable yellow tint affecting clarity. The pipe appears to be relatively smooth but coated with some debris or sediment that obscures detailed visibility. The pipe structure seems intact without visible cracks or breaks. There's an absence of water in the pipeline, indicating dry conditions. Overall, it shows signs of surface wear but no critical defects.\",\n",
      "  \"CODE\": \"OB\"\n",
      "}\n",
      "Image ID: 01154770.png | Predicted: OB | Ground Truth: NoDefect\n"
     ]
    },
    {
     "name": "stderr",
     "output_type": "stream",
     "text": [
      "Processing images:  22%|██▎       | 45/200 [03:57<09:01,  3.49s/it]"
     ]
    },
    {
     "name": "stdout",
     "output_type": "stream",
     "text": [
      "{\n",
      "  \"DESCRIPTION\": \"The image shows a dark section of a sewer pipe. The lighting appears poor, making details hard to discern. The interior of the pipe exhibits signs of some residue or buildup, with a slightly rough surface. There are no visible cracks or breaks, and the pipe seems to hold water at the bottom.\",\n",
      "  \"CODE\": \"OB\"\n",
      "}\n",
      "Image ID: 00299021.png | Predicted: OB | Ground Truth: OB\n"
     ]
    },
    {
     "name": "stderr",
     "output_type": "stream",
     "text": [
      "Processing images:  23%|██▎       | 46/200 [04:01<09:27,  3.69s/it]"
     ]
    },
    {
     "name": "stdout",
     "output_type": "stream",
     "text": [
      "{ \"DESCRIPTION\": \"The image appears to be predominantly dark with poor visibility, making it difficult to assess any details regarding the pipe or its condition. There are no clear signs of water, structural elements, or lighting present. Overall, the quality of the image does not allow for effective analysis.\", \"CODE\": \"NoDefect\" }\n",
      "Image ID: 00919648.png | Predicted: NoDefect | Ground Truth: RO\n"
     ]
    },
    {
     "name": "stderr",
     "output_type": "stream",
     "text": [
      "Processing images:  24%|██▎       | 47/200 [04:06<10:11,  4.00s/it]"
     ]
    },
    {
     "name": "stdout",
     "output_type": "stream",
     "text": [
      "{\n",
      "  \"DESCRIPTION\": \"The image presents a view inside a sewer pipe with a smooth, relatively clear shape. The lighting appears somewhat dim with an orange hue, indicating possible rust or buildup along the interior walls. There are no visible obstructions or water accumulation detected, suggesting a potential good flow condition. However, the walls display signs of surface degradation, possibly indicating wear or erosion over time.\",\n",
      "  \"CODE\": \"OB\"\n",
      "}\n",
      "Image ID: 01024200.png | Predicted: OB | Ground Truth: NoDefect\n"
     ]
    },
    {
     "name": "stderr",
     "output_type": "stream",
     "text": [
      "Processing images:  24%|██▍       | 48/200 [04:10<10:48,  4.27s/it]"
     ]
    },
    {
     "name": "stdout",
     "output_type": "stream",
     "text": [
      "{\n",
      "  \"DESCRIPTION\": \"The image shows the interior of a sewer pipe, appearing to be made of PVC. The lighting is dim, with an orange hue, indicating possible deposition or buildup on the pipe walls. There is a minimal presence of stagnant water visible at the bottom. The surface of the pipe appears mostly unbroken, with no visible signs of damage such as cracks, breaks, or collapses.\",\n",
      "  \"CODE\": \"NoDefect\"\n",
      "}\n",
      "Image ID: 00822900.png | Predicted: NoDefect | Ground Truth: NoDefect\n"
     ]
    },
    {
     "name": "stderr",
     "output_type": "stream",
     "text": [
      "Processing images:  24%|██▍       | 49/200 [04:15<10:41,  4.25s/it]"
     ]
    },
    {
     "name": "stdout",
     "output_type": "stream",
     "text": [
      "{\n",
      "  \"DESCRIPTION\": \"The image shows a concrete sewer pipe with a reasonably clear view of the interior. The lighting appears adequate for inspection, highlighting the pipe's surface. There is some water accumulation along the bottom, and the walls exhibit signs of surface wear and possible erosion, indicated by discoloration and minor scratches.\",\n",
      "  \"CODE\": \"OB\"\n",
      "}\n",
      "Image ID: 01127769.png | Predicted: OB | Ground Truth: NoDefect\n"
     ]
    },
    {
     "name": "stderr",
     "output_type": "stream",
     "text": [
      "Processing images:  25%|██▌       | 50/200 [04:20<11:14,  4.50s/it]"
     ]
    },
    {
     "name": "stdout",
     "output_type": "stream",
     "text": [
      "{\n",
      "  \"DESCRIPTION\": \"The image shows a PVC sewer pipe that is fairly clear but has some darkened areas suggesting possible sediment or buildup. The lighting is adequate, allowing for reasonable visibility. The pipe appears to be in good condition overall, but there are several visible cracks extending along the surface, indicating potential structural issues.\",\n",
      "  \"CODE\": \"RB\"\n",
      "}\n",
      "Image ID: 01016394.png | Predicted: RB | Ground Truth: NoDefect\n"
     ]
    },
    {
     "name": "stderr",
     "output_type": "stream",
     "text": [
      "Processing images:  26%|██▌       | 51/200 [04:24<11:02,  4.44s/it]"
     ]
    },
    {
     "name": "stdout",
     "output_type": "stream",
     "text": [
      "{ \"DESCRIPTION\": \"The image shows the interior of a sewer pipe, which appears to be made of concrete. The lighting is poor, resulting in a yellowish hue that obscures visibility. There are no visible signs of water, and the surface of the pipe seems smooth without any apparent obstructions or damage.\", \"CODE\": \"NoDefect\" }\n",
      "Image ID: 01143948.png | Predicted: NoDefect | Ground Truth: DE\n"
     ]
    },
    {
     "name": "stderr",
     "output_type": "stream",
     "text": [
      "Processing images:  26%|██▌       | 52/200 [04:28<10:32,  4.27s/it]"
     ]
    },
    {
     "name": "stdout",
     "output_type": "stream",
     "text": [
      "{\n",
      "    \"DESCRIPTION\": \"The image shows a PVC sewer pipe with a yellowish interior, indicating potential staining. Lighting is adequate, allowing for clear visibility of the pipe's interior. There is a small flow of water present at the bottom, but no visible blockages, cracks, or surface damage can be seen in the pipe.\",\n",
      "    \"CODE\": \"NoDefect\"\n",
      "}\n",
      "Image ID: 01129787.png | Predicted: NoDefect | Ground Truth: NoDefect\n"
     ]
    },
    {
     "name": "stderr",
     "output_type": "stream",
     "text": [
      "Processing images:  26%|██▋       | 53/200 [04:33<10:57,  4.48s/it]"
     ]
    },
    {
     "name": "stdout",
     "output_type": "stream",
     "text": [
      "{\n",
      "    \"DESCRIPTION\": \"The image shows a clear view inside a sewer pipe, which appears to be made of PVC. The lighting condition is acceptable, allowing for a reasonable inspection quality. The pipe surface is mostly smooth, with minor discoloration visible, but no standing water is present. The interior does not show any significant blockages or obstructions, and overall the pipe seems to be in good condition.\",\n",
      "    \"CODE\": \"NoDefect\"\n",
      "}\n",
      "Image ID: 00412362.png | Predicted: NoDefect | Ground Truth: NoDefect\n"
     ]
    },
    {
     "name": "stderr",
     "output_type": "stream",
     "text": [
      "Processing images:  27%|██▋       | 54/200 [04:40<12:37,  5.19s/it]"
     ]
    },
    {
     "name": "stdout",
     "output_type": "stream",
     "text": [
      "{\n",
      "  \"DESCRIPTION\": \"The image shows a clear view inside a sewer pipe with smooth, cylindrical walls and adequate lighting. The pipe appears to be made of PVC, as indicated by its bright, shiny surface. There is some water present at the bottom, and minor sediment buildup is visible along the pipe's interior, along with some signs of wear, such as scratches.\",\n",
      "  \"CODE\": \"OB\"\n",
      "}\n",
      "Image ID: 01153621.png | Predicted: OB | Ground Truth: NoDefect\n"
     ]
    },
    {
     "name": "stderr",
     "output_type": "stream",
     "text": [
      "Processing images:  28%|██▊       | 55/200 [04:42<10:43,  4.44s/it]"
     ]
    },
    {
     "name": "stdout",
     "output_type": "stream",
     "text": [
      "{\n",
      "  \"DESCRIPTION\": \"The image shows the interior of a sewer pipe with a smooth, cylindrical surface. The lighting appears dim, causing the further end of the pipe to be poorly visible. The pipe is likely made of PVC, with no visible signs of water accumulation. Overall, the pipe seems to be in good condition.\",\n",
      "  \"CODE\": \"NoDefect\"\n",
      "}\n",
      "Image ID: 01238319.png | Predicted: NoDefect | Ground Truth: NoDefect\n"
     ]
    },
    {
     "name": "stderr",
     "output_type": "stream",
     "text": [
      "Processing images:  28%|██▊       | 56/200 [04:45<09:35,  3.99s/it]"
     ]
    },
    {
     "name": "stdout",
     "output_type": "stream",
     "text": [
      "{ \n",
      "  \"DESCRIPTION\": \"The image shows a view inside a sewer pipe that appears to be made of PVC material, characterized by a smooth surface. The lighting is dim, with some shadowing observed, and there is a presence of dark water indicating stagnation or contamination. The interior surface of the pipe shows no visible cracks, breaks, or other significant defects.\",\n",
      "  \"CODE\": \"NoDefect\"\n",
      "}\n",
      "Image ID: 01019697.png | Predicted: NoDefect | Ground Truth: DE\n"
     ]
    },
    {
     "name": "stderr",
     "output_type": "stream",
     "text": [
      "Processing images:  28%|██▊       | 57/200 [04:50<09:47,  4.11s/it]"
     ]
    },
    {
     "name": "stdout",
     "output_type": "stream",
     "text": [
      "{\n",
      "  \"DESCRIPTION\": \"The image shows the interior of a sewer pipe made of PVC. The clarity is moderate, with noticeable lighting variations causing a gradient effect towards the end of the pipe. There is visible corrosion along the pipe's surface, along with some accumulation of debris and organic matter, indicating signs of wear and erosion over time. The bottom section of the pipe is mostly clear, but the surface exhibits areas of rust and staining.\",\n",
      "  \"CODE\": \"OB\"\n",
      "}\n",
      "Image ID: 00553974.png | Predicted: OB | Ground Truth: PF\n"
     ]
    },
    {
     "name": "stderr",
     "output_type": "stream",
     "text": [
      "Processing images:  29%|██▉       | 58/200 [04:53<09:24,  3.98s/it]"
     ]
    },
    {
     "name": "stdout",
     "output_type": "stream",
     "text": [
      "{ \"DESCRIPTION\": \"The image shows a clear view inside a sewer pipe, likely made of PVC or concrete. The pipe appears to be mostly dry with some water pooling at the bottom, indicating normal flow conditions. The surface of the pipe seems smooth with no visible signs of damage, cracks, or collapses.\", \"CODE\": \"NoDefect\" }\n",
      "Image ID: 01182752.png | Predicted: NoDefect | Ground Truth: OB\n"
     ]
    },
    {
     "name": "stderr",
     "output_type": "stream",
     "text": [
      "Processing images:  30%|██▉       | 59/200 [04:57<08:57,  3.81s/it]"
     ]
    },
    {
     "name": "stdout",
     "output_type": "stream",
     "text": [
      "{\n",
      "  \"DESCRIPTION\": \"The image shows the interior of a sewer pipe that appears to be made of concrete, with a relatively smooth surface. Lighting conditions are adequate, allowing for a clear view of the pipe's interior. There is a small amount of water present at the bottom, indicating normal flow. The surface of the pipe does not show any visible cracks, breaks, or other significant defects.\",\n",
      "  \"CODE\": \"NoDefect\"\n",
      "}\n",
      "Image ID: 00763700.png | Predicted: NoDefect | Ground Truth: DE\n"
     ]
    },
    {
     "name": "stderr",
     "output_type": "stream",
     "text": [
      "Processing images:  30%|███       | 60/200 [05:00<08:34,  3.68s/it]"
     ]
    },
    {
     "name": "stdout",
     "output_type": "stream",
     "text": [
      "{\n",
      "  \"DESCRIPTION\": \"The image shows the interior of a sewer pipe with clear visibility and good lighting conditions. The pipe appears to be made of concrete, and there is a small tool or device extending into the pipe. The surface of the pipe is generally smooth, with no visible signs of damage, cracks, or blockages. Water is not present in the view.\",\n",
      "  \"CODE\": \"NoDefect\"\n",
      "}\n",
      "Image ID: 00472380.png | Predicted: NoDefect | Ground Truth: RB\n"
     ]
    },
    {
     "name": "stderr",
     "output_type": "stream",
     "text": [
      "Processing images:  30%|███       | 61/200 [05:05<09:12,  3.97s/it]"
     ]
    },
    {
     "name": "stdout",
     "output_type": "stream",
     "text": [
      "{\n",
      "  \"DESCRIPTION\": \"The image shows a section of a sewer pipe with a visible surface area of wear and erosion. The lighting is dim, typical of sewer conditions, and the pipe appears to be made of concrete. There are small stones and debris present, indicating some level of sedimentation. The surface of the pipe exhibits signs of deterioration, particularly in a localized area, but there are no clear visible cracks or breaks.\",\n",
      "  \"CODE\": \"OB\"\n",
      "}\n",
      "Image ID: 00235099.png | Predicted: OB | Ground Truth: RB\n"
     ]
    },
    {
     "name": "stderr",
     "output_type": "stream",
     "text": [
      "Processing images:  31%|███       | 62/200 [05:10<09:55,  4.31s/it]"
     ]
    },
    {
     "name": "stdout",
     "output_type": "stream",
     "text": [
      "{ \n",
      "  \"DESCRIPTION\": \"The image captures the interior of a sewer pipe, showcasing a smooth and unbroken surface. The lighting is adequate, allowing for clear visibility of the pipe's structure. There is no visible water present inside the pipe, indicating a dry condition. Overall, the pipe appears to be in good condition with no noticeable defects.\",\n",
      "  \"CODE\": \"NoDefect\"\n",
      "}\n",
      "Image ID: 00347287.png | Predicted: NoDefect | Ground Truth: RB\n"
     ]
    },
    {
     "name": "stderr",
     "output_type": "stream",
     "text": [
      "Processing images:  32%|███▏      | 63/200 [05:15<10:33,  4.62s/it]"
     ]
    },
    {
     "name": "stdout",
     "output_type": "stream",
     "text": [
      "{\n",
      "  \"DESCRIPTION\": \"The image shows a close-up view of a sewer pipe, likely made of PVC, with a somewhat hazy appearance due to the presence of moisture. There are visible water droplets on the surface, indicating some level of accumulation within the pipe. The lighting conditions seem adequate to highlight the surface details. Overall, the pipe surface appears smooth and unblemished without any apparent signs of damage or blockages.\",\n",
      "  \"CODE\": \"NoDefect\"\n",
      "}\n",
      "Image ID: 00848872.png | Predicted: NoDefect | Ground Truth: PF\n"
     ]
    },
    {
     "name": "stderr",
     "output_type": "stream",
     "text": [
      "Processing images:  32%|███▏      | 64/200 [05:19<09:36,  4.24s/it]"
     ]
    },
    {
     "name": "stdout",
     "output_type": "stream",
     "text": [
      "{\n",
      "  \"DESCRIPTION\": \"The image shows a long view inside a sewer pipe, which appears to be in relatively clear condition. The pipe surface has some roughness and slight erosion visible, typical of wear, but no significant water presence is observed. The lighting is adequate to reveal details, and the pipe material seems to be concrete, exhibiting varying texture along its interior.\",\n",
      "  \"CODE\": \"OB\"\n",
      "}\n",
      "Image ID: 00069800.png | Predicted: OB | Ground Truth: OB\n"
     ]
    },
    {
     "name": "stderr",
     "output_type": "stream",
     "text": [
      "Processing images:  32%|███▎      | 65/200 [05:21<08:31,  3.79s/it]"
     ]
    },
    {
     "name": "stdout",
     "output_type": "stream",
     "text": [
      "{ \n",
      "  \"DESCRIPTION\": \"The image depicts the interior of a sewer pipe, showing a cylindrical tunnel with visible water along the bottom. The lighting is dim, making the far end of the pipe hard to discern, while the surface appears somewhat worn with minor discoloration but no significant defects such as cracks or breaks are evident.\", \n",
      "  \"CODE\": \"NoDefect\" \n",
      "}\n",
      "Image ID: 00222387.png | Predicted: NoDefect | Ground Truth: NoDefect\n"
     ]
    },
    {
     "name": "stderr",
     "output_type": "stream",
     "text": [
      "Processing images:  33%|███▎      | 66/200 [05:26<08:48,  3.94s/it]"
     ]
    },
    {
     "name": "stdout",
     "output_type": "stream",
     "text": [
      "{\n",
      "  \"DESCRIPTION\": \"The image shows the interior of a sewer pipe with a generally smooth surface but exhibits signs of surface wear and erosion. The lighting appears adequate, allowing for clear visibility of the pipe's condition. There is a small amount of water present at the bottom of the pipe. Overall, the condition suggests some degradation without significant structural issues.\",\n",
      "  \"CODE\": \"OB\"\n",
      "}\n",
      "Image ID: 01009692.png | Predicted: OB | Ground Truth: NoDefect\n"
     ]
    },
    {
     "name": "stderr",
     "output_type": "stream",
     "text": [
      "Processing images:  34%|███▎      | 67/200 [05:29<08:04,  3.64s/it]"
     ]
    },
    {
     "name": "stdout",
     "output_type": "stream",
     "text": [
      "{\n",
      "  \"DESCRIPTION\": \"The image shows a clear view inside a cylindrical sewer pipe, likely made of concrete. The lighting is adequate, allowing for visibility of the interior surface, which appears relatively smooth. There is a thin layer of water at the bottom of the pipe, but no noticeable obstructions or debris. The surface does show some signs of wear, with minor discoloration and possible erosion in certain areas.\",\n",
      "  \"CODE\": \"OB\"\n",
      "}\n",
      "Image ID: 00360434.png | Predicted: OB | Ground Truth: NoDefect\n"
     ]
    },
    {
     "name": "stderr",
     "output_type": "stream",
     "text": [
      "Processing images:  34%|███▍      | 68/200 [05:32<07:52,  3.58s/it]"
     ]
    },
    {
     "name": "stdout",
     "output_type": "stream",
     "text": [
      "{ \"DESCRIPTION\": \"The image shows the interior of a sewer pipe with good lighting conditions, revealing a smooth and clean surface. The pipe appears to be made of PVC, devoid of any significant blockages or visible damages. While there are a few water droplets present, no defects are noted along the pipe's structure.\", \"CODE\": \"NoDefect\" }\n",
      "Image ID: 00617232.png | Predicted: NoDefect | Ground Truth: NoDefect\n"
     ]
    },
    {
     "name": "stderr",
     "output_type": "stream",
     "text": [
      "Processing images:  34%|███▍      | 69/200 [05:37<08:27,  3.88s/it]"
     ]
    },
    {
     "name": "stdout",
     "output_type": "stream",
     "text": [
      "{ \"DESCRIPTION\": \"The image shows the interior of a concrete sewer pipe with some visible water at the bottom. The lighting is somewhat dim, but the clarity of the image allows for a reasonable view of the surface. There are no visible signs of cracks, breaks, or blockages in the pipe. The surface appears relatively smooth, with some minor granular deposits present but no significant surface damage. Overall, the pipe seems to be in good condition.\", \"CODE\": \"NoDefect\" }\n",
      "Image ID: 00402904.png | Predicted: NoDefect | Ground Truth: OB\n"
     ]
    },
    {
     "name": "stderr",
     "output_type": "stream",
     "text": [
      "Processing images:  35%|███▌      | 70/200 [05:40<08:10,  3.77s/it]"
     ]
    },
    {
     "name": "stdout",
     "output_type": "stream",
     "text": [
      "{\n",
      "  \"DESCRIPTION\": \"The image shows a sewer pipe with a highly unclear view, possibly due to poor lighting conditions or obstruction. The pipe appears to have a uniform color but lacks any visible details that could indicate its material type or condition. There is no water visible in the image, making it difficult to assess internal conditions. Overall, the image clarity is low and does not provide any useful information about defects.\",\n",
      "  \"CODE\": \"NoDefect\"\n",
      "}\n",
      "Image ID: 01028450.png | Predicted: NoDefect | Ground Truth: DE\n"
     ]
    },
    {
     "name": "stderr",
     "output_type": "stream",
     "text": [
      "Processing images:  36%|███▌      | 71/200 [05:43<07:17,  3.39s/it]"
     ]
    },
    {
     "name": "stdout",
     "output_type": "stream",
     "text": [
      "{\n",
      "  \"DESCRIPTION\": \"The image depicts the interior of a sewer pipe with a smooth, circular design and a yellow lining. The lighting is sufficient to clearly show the pipe structure, which appears to be in good condition with no standing water. However, there is a visible area that may indicate surface damage on the bottom of the pipe.\",\n",
      "  \"CODE\": \"OB\"\n",
      "}\n",
      "Image ID: 00860498.png | Predicted: OB | Ground Truth: NoDefect\n"
     ]
    },
    {
     "name": "stderr",
     "output_type": "stream",
     "text": [
      "Processing images:  36%|███▌      | 72/200 [05:47<07:39,  3.59s/it]"
     ]
    },
    {
     "name": "stdout",
     "output_type": "stream",
     "text": [
      "{ \n",
      "  \"DESCRIPTION\": \"The image shows a clear view of a PVC sewer pipe with a smooth, circular interior. There is some moisture visible along the pipe's surface, and overall, the lighting is adequate for observation. The interior seems free of any significant obstructions or visible damage, showing a consistent and unbroken surface.\",\n",
      "  \"CODE\": \"NoDefect\"\n",
      "}\n",
      "Image ID: 00938594.png | Predicted: NoDefect | Ground Truth: NoDefect\n"
     ]
    },
    {
     "name": "stderr",
     "output_type": "stream",
     "text": [
      "Processing images:  36%|███▋      | 73/200 [05:51<07:56,  3.75s/it]"
     ]
    },
    {
     "name": "stdout",
     "output_type": "stream",
     "text": [
      "{\n",
      "  \"DESCRIPTION\": \"The image shows a circular sewer pipe with a yellowish hue, indicating possible staining from wastewater or mineral deposits. The interior appears relatively clean with no significant water accumulation, suggesting a functioning drainage system. The pipe surface looks smooth, with no visible cracks, breaks, or blockages detected. The overall image clarity is good, with even lighting throughout.\",\n",
      "  \"CODE\": \"NoDefect\"\n",
      "}\n",
      "Image ID: 00260898.png | Predicted: NoDefect | Ground Truth: NoDefect\n"
     ]
    },
    {
     "name": "stderr",
     "output_type": "stream",
     "text": [
      "Processing images:  37%|███▋      | 74/200 [05:54<07:41,  3.67s/it]"
     ]
    },
    {
     "name": "stdout",
     "output_type": "stream",
     "text": [
      "{\n",
      "  \"DESCRIPTION\": \"The image shows the interior of a sewer pipe with a bright yellow hue. The visibility is somewhat limited, with a dark center possibly indicating water or shadowy obstruction. The pipe appears to be cylindrical and may be made from PVC or a similar material. There are no visible cracks, breaks, or any apparent surface damage, and no roots or blockages are detected.\",\n",
      "  \"CODE\": \"NoDefect\"\n",
      "}\n",
      "Image ID: 00457210.png | Predicted: NoDefect | Ground Truth: NoDefect\n"
     ]
    },
    {
     "name": "stderr",
     "output_type": "stream",
     "text": [
      "Processing images:  38%|███▊      | 75/200 [05:57<06:47,  3.26s/it]"
     ]
    },
    {
     "name": "stdout",
     "output_type": "stream",
     "text": [
      "{\n",
      "  \"DESCRIPTION\": \"The image shows the interior of a PVC sewer pipe. The lighting is dim, with some visible discoloration and sediment buildup along the walls. There are no clear signs of significant blockage or disruption in the flow, but the surface exhibits some wear.\",\n",
      "  \"CODE\": \"OB\"\n",
      "}\n",
      "Image ID: 00425339.png | Predicted: OB | Ground Truth: PF\n"
     ]
    },
    {
     "name": "stderr",
     "output_type": "stream",
     "text": [
      "Processing images:  38%|███▊      | 76/200 [06:00<06:52,  3.33s/it]"
     ]
    },
    {
     "name": "stdout",
     "output_type": "stream",
     "text": [
      "{\n",
      "  \"DESCRIPTION\": \"The image shows a concrete sewer pipe with visible water flowing through it. The pipe has a smooth, unbroken surface, but there are signs of surface wear and minor scaling present. The lighting conditions are reasonably good, allowing for clear visibility of the pipe's interior.\",\n",
      "  \"CODE\": \"OB\"\n",
      "}\n",
      "Image ID: 00481322.png | Predicted: OB | Ground Truth: NoDefect\n"
     ]
    },
    {
     "name": "stderr",
     "output_type": "stream",
     "text": [
      "Processing images:  38%|███▊      | 77/200 [06:03<06:26,  3.14s/it]"
     ]
    },
    {
     "name": "stdout",
     "output_type": "stream",
     "text": [
      "{ \n",
      "  \"DESCRIPTION\": \"The image shows a section of a concrete sewer pipe with clear visibility. The lighting is adequate, allowing for a detailed view of the pipe's interior. The surface appears mostly smooth, with some discoloration likely due to grime or sediment accumulation, but no standing water is present.\",\n",
      "  \"CODE\": \"NoDefect\"\n",
      "}\n",
      "Image ID: 00836585.png | Predicted: NoDefect | Ground Truth: DE\n"
     ]
    },
    {
     "name": "stderr",
     "output_type": "stream",
     "text": [
      "Processing images:  39%|███▉      | 78/200 [06:07<07:02,  3.46s/it]"
     ]
    },
    {
     "name": "stdout",
     "output_type": "stream",
     "text": [
      "{\n",
      "  \"DESCRIPTION\": \"The image shows the interior of a circular sewer pipe made of concrete. The condition of the surface appears to have some wear, but the pipe does not exhibit any significant cracks, breaks, or collapses. The lighting appears to be dim, causing the image to have a slightly dark appearance, and there is some visibility of water within the pipe. Overall, the pipe seems to be in reasonable condition with minor surface issues but without severe defects.\",\n",
      "  \"CODE\": \"OB\"\n",
      "}\n",
      "Image ID: 00803164.png | Predicted: OB | Ground Truth: NoDefect\n"
     ]
    },
    {
     "name": "stderr",
     "output_type": "stream",
     "text": [
      "Processing images:  40%|███▉      | 79/200 [06:10<06:59,  3.46s/it]"
     ]
    },
    {
     "name": "stdout",
     "output_type": "stream",
     "text": [
      "{\n",
      "  \"DESCRIPTION\": \"The image shows the interior of a sewer pipe, which appears to be made of concrete. The lighting is dim, creating a dark environment, and there is standing water visible at the bottom, indicating potential blockage or poor drainage. The pipe surface looks rough with signs of wear, covered in grime and possibly some buildup. No visible cracks or significant deformations are noted.\",\n",
      "  \"CODE\": \"OB\"\n",
      "}\n",
      "Image ID: 00959031.png | Predicted: OB | Ground Truth: NoDefect\n"
     ]
    },
    {
     "name": "stderr",
     "output_type": "stream",
     "text": [
      "Processing images:  40%|████      | 80/200 [06:13<06:18,  3.15s/it]"
     ]
    },
    {
     "name": "stdout",
     "output_type": "stream",
     "text": [
      "{\n",
      "  \"DESCRIPTION\": \"The image shows the interior of a sewer pipe that is clear and well-lit, indicating good visibility. The pipe appears to be made of concrete with a smooth surface. There is a minor presence of water at the bottom, and while there are signs of surface wear, there are no major visible cracks or breaks evident.\",\n",
      "  \"CODE\": \"OB\"\n",
      "}\n",
      "Image ID: 00836815.png | Predicted: OB | Ground Truth: PF\n"
     ]
    },
    {
     "name": "stderr",
     "output_type": "stream",
     "text": [
      "Processing images:  40%|████      | 81/200 [06:17<06:55,  3.49s/it]"
     ]
    },
    {
     "name": "stdout",
     "output_type": "stream",
     "text": [
      "{\n",
      "  \"DESCRIPTION\": \"The image shows a clear view of a concrete sewer pipe. The lighting is adequate, allowing for a reasonable assessment of the pipe's interior. There is a noticeable presence of roots infiltrating the pipe, as seen on the left side of the image. The surface appears mostly intact with no visible cracks or severe damage, but the root intrusion suggests a potential blockage concern.\",\n",
      "  \"CODE\": \"RO\"\n",
      "}\n",
      "Image ID: 01121214.png | Predicted: RO | Ground Truth: RO\n"
     ]
    },
    {
     "name": "stderr",
     "output_type": "stream",
     "text": [
      "Processing images:  41%|████      | 82/200 [06:21<07:14,  3.68s/it]"
     ]
    },
    {
     "name": "stdout",
     "output_type": "stream",
     "text": [
      "{\n",
      "  \"DESCRIPTION\": \"The image shows the interior of a sewer pipe, which appears to be made of concrete. The lighting is dim, resulting in a dark and unclear view towards the end of the pipe. Water is present, and the pipe walls exhibit noticeable surface damage with signs of erosion and wear. The surface has a rough texture, indicating potential deterioration over time.\",\n",
      "  \"CODE\": \"OB\"\n",
      "}\n",
      "Image ID: 00307807.png | Predicted: OB | Ground Truth: OB\n"
     ]
    },
    {
     "name": "stderr",
     "output_type": "stream",
     "text": [
      "Processing images:  42%|████▏     | 83/200 [06:26<07:59,  4.10s/it]"
     ]
    },
    {
     "name": "stdout",
     "output_type": "stream",
     "text": [
      "{\n",
      "  \"DESCRIPTION\": \"The image shows the interior of a sewer pipe, likely made of concrete, with a cylindrical shape. The clarity is relatively good, though there are some reflections and discoloration visible. Lighting appears adequate, providing a clear view down the length of the pipe with some water present at the bottom. The surface of the pipe shows signs of wear and erosion, with a rougher appearance, but no visible cracks, breaks, or collapses are noted.\",\n",
      "  \"CODE\": \"OB\"\n",
      "}\n",
      "Image ID: 00134089.png | Predicted: OB | Ground Truth: NoDefect\n"
     ]
    },
    {
     "name": "stderr",
     "output_type": "stream",
     "text": [
      "Processing images:  42%|████▏     | 84/200 [06:29<07:04,  3.66s/it]"
     ]
    },
    {
     "name": "stdout",
     "output_type": "stream",
     "text": [
      "{\n",
      "  \"DESCRIPTION\": \"The image captures a view inside a sewer pipe, showing a cylindrical concrete structure with some presence of water at the bottom. The interior appears dimly lit, and there is a layer of sediment or buildup visible on the pipe's surface, indicating possible surface deterioration. However, the pipe surface is generally smooth with no visible cracks, breaks, or significant blockages obstructing the flow.\",\n",
      "  \"CODE\": \"OB\"\n",
      "}\n",
      "Image ID: 01279553.png | Predicted: OB | Ground Truth: OB\n"
     ]
    },
    {
     "name": "stderr",
     "output_type": "stream",
     "text": [
      "Processing images:  42%|████▎     | 85/200 [06:33<07:10,  3.74s/it]"
     ]
    },
    {
     "name": "stdout",
     "output_type": "stream",
     "text": [
      "{\n",
      "  \"DESCRIPTION\": \"The image shows the interior of a mostly circular concrete sewer pipe with some water present at the bottom. The lighting conditions appear dim, resulting in a darker appearance towards the far end of the pipe. The surface of the pipe exhibits signs of wear with some buildup, likely indicating surface damage but no visible cracks or structural failures are apparent.\",\n",
      "  \"CODE\": \"OB\"\n",
      "}\n",
      "Image ID: 00213396.png | Predicted: OB | Ground Truth: NoDefect\n"
     ]
    },
    {
     "name": "stderr",
     "output_type": "stream",
     "text": [
      "Processing images:  43%|████▎     | 86/200 [06:36<06:29,  3.42s/it]"
     ]
    },
    {
     "name": "stdout",
     "output_type": "stream",
     "text": [
      "{\n",
      "  \"DESCRIPTION\": \"The image shows the interior of a concrete sewer pipe with a textured surface. The lighting is dim, and the visibility is somewhat low due to the presence of debris and sediment accumulation. The pipe appears to be partially obstructed by dirt and organic materials, making it challenging to assess its overall condition.\",\n",
      "  \"CODE\": \"OB\"\n",
      "}\n",
      "Image ID: 00242368.png | Predicted: OB | Ground Truth: RB\n"
     ]
    },
    {
     "name": "stderr",
     "output_type": "stream",
     "text": [
      "Processing images:  44%|████▎     | 87/200 [06:39<06:21,  3.37s/it]"
     ]
    },
    {
     "name": "stdout",
     "output_type": "stream",
     "text": [
      "{\n",
      "  \"DESCRIPTION\": \"The image shows the interior of a sewer pipe, likely made of concrete, with some visible wear and surface damage. The lighting is relatively bright, allowing for clear visibility of the pipe's interior. There are visible signs of dark streaks and deposits along the surface, indicating potential erosion or buildup. No standing water is present in the image.\",\n",
      "  \"CODE\": \"OB\"\n",
      "}\n",
      "Image ID: 00814913.png | Predicted: OB | Ground Truth: NoDefect\n"
     ]
    },
    {
     "name": "stderr",
     "output_type": "stream",
     "text": [
      "Processing images:  44%|████▍     | 88/200 [06:42<05:57,  3.19s/it]"
     ]
    },
    {
     "name": "stdout",
     "output_type": "stream",
     "text": [
      "{\n",
      "  \"DESCRIPTION\": \"The image shows a concrete sewer pipe with visible surface damage. There are signs of erosion along a long line running through the pipe, indicating wear on the surface. The lighting is adequate, allowing for a clear view of the defect. There are no visible blockages, roots, or water present in the pipe.\",\n",
      "  \"CODE\": \"OB\"\n",
      "}\n",
      "Image ID: 01157853.png | Predicted: OB | Ground Truth: RB\n"
     ]
    },
    {
     "name": "stderr",
     "output_type": "stream",
     "text": [
      "Processing images:  44%|████▍     | 89/200 [06:46<06:27,  3.49s/it]"
     ]
    },
    {
     "name": "stdout",
     "output_type": "stream",
     "text": [
      "{ \n",
      "  \"DESCRIPTION\": \"The image displays the interior of a PVC sewer pipe with adequate lighting. The pipe appears to have a smooth surface with minimal water presence, allowing for a clear view. There are no visible signs of damage, cracks, or deformations noted within the pipe.\", \n",
      "  \"CODE\": \"NoDefect\" \n",
      "}\n",
      "Image ID: 00758263.png | Predicted: NoDefect | Ground Truth: DE\n"
     ]
    },
    {
     "name": "stderr",
     "output_type": "stream",
     "text": [
      "Processing images:  45%|████▌     | 90/200 [06:50<06:32,  3.57s/it]"
     ]
    },
    {
     "name": "stdout",
     "output_type": "stream",
     "text": [
      "{\n",
      "  \"DESCRIPTION\": \"The image shows a concrete sewer pipe with a dark, moist interior. The lighting is dim, but surface details are visible. The pipe appears to have a rough texture, indicating possible surface wear. There is standing water along the bottom, but no visible blockages or root intrusions detected.\",\n",
      "  \"CODE\": \"OB\"\n",
      "}\n",
      "Image ID: 01116344.png | Predicted: OB | Ground Truth: OB\n"
     ]
    },
    {
     "name": "stderr",
     "output_type": "stream",
     "text": [
      "Processing images:  46%|████▌     | 91/200 [06:54<06:50,  3.77s/it]"
     ]
    },
    {
     "name": "stdout",
     "output_type": "stream",
     "text": [
      "{\n",
      "  \"DESCRIPTION\": \"The image shows the interior of a concrete sewer pipe with adequate clarity and lighting. There is a visible stream of water along the bottom, and the surface appears relatively smooth with some minor irregularities. No significant defects such as cracks, fractures, or blockages are observed.\",\n",
      "  \"CODE\": \"NoDefect\"\n",
      "}\n",
      "Image ID: 00990063.png | Predicted: NoDefect | Ground Truth: PF\n"
     ]
    },
    {
     "name": "stderr",
     "output_type": "stream",
     "text": [
      "Processing images:  46%|████▌     | 92/200 [06:57<06:40,  3.71s/it]"
     ]
    },
    {
     "name": "stdout",
     "output_type": "stream",
     "text": [
      "{\n",
      "  \"DESCRIPTION\": \"The image shows a sewer pipe with a clear view down its length. The lighting is poor, causing a slight haziness toward the far end of the pipe. The pipe appears to be made of concrete, with visible signs of surface wear and minor build-up. There is no standing water visible in the image, indicating a generally dry condition, although some erosion is evident on the pipe's interior surface.\",\n",
      "  \"CODE\": \"OB\"\n",
      "}\n",
      "Image ID: 00426911.png | Predicted: OB | Ground Truth: NoDefect\n"
     ]
    },
    {
     "name": "stderr",
     "output_type": "stream",
     "text": [
      "Processing images:  46%|████▋     | 93/200 [07:00<06:03,  3.39s/it]"
     ]
    },
    {
     "name": "stdout",
     "output_type": "stream",
     "text": [
      "{\n",
      "  \"DESCRIPTION\": \"The image shows a clear view inside a corrugated sewer pipe. The lighting appears sufficient, although there are dark areas suggesting limited visibility deeper into the pipe. There are visible signs of staining along the bottom, likely from accumulated water or waste, but the overall pipe structure appears intact without any significant cracks or collapses.\",\n",
      "  \"CODE\": \"NoDefect\"\n",
      "}\n",
      "Image ID: 00177468.png | Predicted: NoDefect | Ground Truth: DE\n"
     ]
    },
    {
     "name": "stderr",
     "output_type": "stream",
     "text": [
      "Processing images:  47%|████▋     | 94/200 [07:05<06:45,  3.83s/it]"
     ]
    },
    {
     "name": "stdout",
     "output_type": "stream",
     "text": [
      "{\n",
      "  \"DESCRIPTION\": \"The image shows a segment of a sewer pipe with visible root penetration visible. The lighting appears to be adequate for inspection, although some reflections can affect clarity. The pipe appears to be in a potentially clay or concrete material. Roots can be seen encroaching into the pipe structure, indicating possible blockage or damage to the pipe’s interior surface.\",\n",
      "  \"CODE\": \"RO\"\n",
      "}\n",
      "Image ID: 00904376.png | Predicted: RO | Ground Truth: RO\n"
     ]
    },
    {
     "name": "stderr",
     "output_type": "stream",
     "text": [
      "Processing images:  48%|████▊     | 95/200 [07:10<07:32,  4.31s/it]"
     ]
    },
    {
     "name": "stdout",
     "output_type": "stream",
     "text": [
      "{ \n",
      "  \"DESCRIPTION\": \"The image shows a clear view inside a sewer pipe, appearing to be concrete. The lighting conditions are dim, typical for sewer environments, but the image retains sufficient clarity for analysis. There is a minor accumulation of water visible at the bottom, suggesting some flow. Overall, the pipe's interior surface appears unbroken and smooth, showing no visible signs of damage or obstruction.\", \n",
      "  \"CODE\": \"NoDefect\"\n",
      "}\n",
      "Image ID: 00561167.png | Predicted: NoDefect | Ground Truth: NoDefect\n"
     ]
    },
    {
     "name": "stderr",
     "output_type": "stream",
     "text": [
      "Processing images:  48%|████▊     | 96/200 [07:14<07:06,  4.10s/it]"
     ]
    },
    {
     "name": "stdout",
     "output_type": "stream",
     "text": [
      "{\n",
      "  \"DESCRIPTION\": \"The image shows the interior of a concrete sewer pipe with poor lighting conditions. The pipe appears to be clean but there are some areas along the walls that exhibit staining and possible surface wear. No standing water is visible, and the overall surface appears relatively smooth aside from minor discolorations. A closer inspection reveals a small area that may indicate early signs of surface damage.\",\n",
      "  \"CODE\": \"OB\"\n",
      "}\n",
      "Image ID: 00088775.png | Predicted: OB | Ground Truth: NoDefect\n"
     ]
    },
    {
     "name": "stderr",
     "output_type": "stream",
     "text": [
      "Processing images:  48%|████▊     | 97/200 [07:17<06:24,  3.73s/it]"
     ]
    },
    {
     "name": "stdout",
     "output_type": "stream",
     "text": [
      "{\n",
      "  \"DESCRIPTION\": \"The image shows the interior of a sewer pipe with a rough surface, characterized by significant root intrusion. The lighting conditions are dim, highlighting areas of deterioration and growths. There is evidence of potential structural compromise around the area where roots are penetrating.\",\n",
      "  \"CODE\": \"RO\"\n",
      "}\n",
      "Image ID: 00415061.png | Predicted: RO | Ground Truth: RO\n"
     ]
    },
    {
     "name": "stderr",
     "output_type": "stream",
     "text": [
      "Processing images:  49%|████▉     | 98/200 [07:20<05:53,  3.46s/it]"
     ]
    },
    {
     "name": "stdout",
     "output_type": "stream",
     "text": [
      "{ \n",
      "  \"DESCRIPTION\": \"The image shows the interior of a sewer pipe that appears to be clean with some moisture present, indicating possible water flow. The surface of the pipe is smooth and unbroken, with no visible cracks or collapses. The lighting is dim, typical for a sewer environment, but the clarity is sufficient to assess the pipe condition. There are small droplets of water on the surface, but no blockages, roots, or signs of deterioration are evident.\",\n",
      "  \"CODE\": \"NoDefect\"\n",
      "}\n",
      "Image ID: 00175871.png | Predicted: NoDefect | Ground Truth: NoDefect\n"
     ]
    },
    {
     "name": "stderr",
     "output_type": "stream",
     "text": [
      "Processing images:  50%|████▉     | 99/200 [07:23<05:59,  3.56s/it]"
     ]
    },
    {
     "name": "stdout",
     "output_type": "stream",
     "text": [
      "{\n",
      "  \"DESCRIPTION\": \"The image shows the interior of a concrete sewer pipe with water visible at the bottom. The lighting appears dim, with the surface of the pipe exhibiting some discoloration and possible signs of wear. There are no clear cracks or deformations present, suggesting a generally stable structure.\",\n",
      "  \"CODE\": \"NoDefect\"\n",
      "}\n",
      "Image ID: 00292339.png | Predicted: NoDefect | Ground Truth: PF\n"
     ]
    },
    {
     "name": "stderr",
     "output_type": "stream",
     "text": [
      "Processing images:  50%|█████     | 100/200 [07:27<05:57,  3.57s/it]"
     ]
    },
    {
     "name": "stdout",
     "output_type": "stream",
     "text": [
      "{ \n",
      "  \"DESCRIPTION\": \"The image shows the interior of a sewer pipe with a concrete structure. The lighting is dim, typical for a sewer environment, and there is some water present on the surface. The pipe's surface appears rough and shows signs of wear, such as discoloration and some minor surface damage, but no clear structural issues are visible.\",\n",
      "  \"CODE\": \"OB\"\n",
      "}\n",
      "Image ID: 00583802.png | Predicted: OB | Ground Truth: RO\n"
     ]
    },
    {
     "name": "stderr",
     "output_type": "stream",
     "text": [
      "Processing images:  50%|█████     | 101/200 [07:29<05:10,  3.14s/it]"
     ]
    },
    {
     "name": "stdout",
     "output_type": "stream",
     "text": [
      "{\n",
      "  \"DESCRIPTION\": \"The image shows a well-lit view of a PVC sewer pipe with a smooth interior surface, free of visible obstructions or water accumulation. The pipe appears to be in good condition with no apparent anomalies.\",\n",
      "  \"CODE\": \"NoDefect\"\n",
      "}\n",
      "Image ID: 00511913.png | Predicted: NoDefect | Ground Truth: NoDefect\n"
     ]
    },
    {
     "name": "stderr",
     "output_type": "stream",
     "text": [
      "Processing images:  51%|█████     | 102/200 [07:32<05:07,  3.14s/it]"
     ]
    },
    {
     "name": "stdout",
     "output_type": "stream",
     "text": [
      "{ \n",
      "  \"DESCRIPTION\": \"The image shows the interior of a sewer pipe with a somewhat unclear view, indicating poor lighting conditions. The pipe appears to have a rough surface with some indications of deterioration or surface wear, but no clear signs of cracking or visible deformation. The presence of water is not distinctly noted in the image, but the general texture suggests potential wear or erosion over time.\", \n",
      "  \"CODE\": \"OB\" \n",
      "}\n",
      "Image ID: 00234428.png | Predicted: OB | Ground Truth: RB\n"
     ]
    },
    {
     "name": "stderr",
     "output_type": "stream",
     "text": [
      "Processing images:  52%|█████▏    | 103/200 [07:36<05:23,  3.34s/it]"
     ]
    },
    {
     "name": "stdout",
     "output_type": "stream",
     "text": [
      "{\n",
      "  \"DESCRIPTION\": \"The image shows a sewer pipe largely obscured by sediment and organic matter. The pipe appears to be made of concrete, with standing water visible inside. Roots are infiltrating the pipe and protruding from the sides, indicating a significant blockage.\",\n",
      "  \"CODE\": \"RO\"\n",
      "}\n",
      "Image ID: 01003241.png | Predicted: RO | Ground Truth: RO\n"
     ]
    },
    {
     "name": "stderr",
     "output_type": "stream",
     "text": [
      "Processing images:  52%|█████▏    | 104/200 [07:39<04:58,  3.11s/it]"
     ]
    },
    {
     "name": "stdout",
     "output_type": "stream",
     "text": [
      "{ \n",
      "  \"DESCRIPTION\": \"The image shows the interior of a sewer pipe, which appears to be made of PVC. The lighting is adequate, allowing for clear visibility. There is a presence of water flowing down the center, and the pipe surface seems mostly smooth with some discoloration visible. No significant defects such as cracks or blockages are noted.\",\n",
      "  \"CODE\": \"NoDefect\"\n",
      "}\n",
      "Image ID: 00478094.png | Predicted: NoDefect | Ground Truth: NoDefect\n"
     ]
    },
    {
     "name": "stderr",
     "output_type": "stream",
     "text": [
      "Processing images:  52%|█████▎    | 105/200 [07:43<05:32,  3.50s/it]"
     ]
    },
    {
     "name": "stdout",
     "output_type": "stream",
     "text": [
      "{\n",
      "  \"DESCRIPTION\": \"The image shows a dark, cylindrical sewer pipe with a visible flow of water along the bottom. The interior surfaces of the pipe appear smooth and unbroken without any visible signs of damage, cracks, or blockages. Lighting conditions are low, making it difficult to see details but the pipe appears to be in good condition overall.\",\n",
      "  \"CODE\": \"NoDefect\"\n",
      "}\n",
      "Image ID: 01195696.png | Predicted: NoDefect | Ground Truth: NoDefect\n"
     ]
    },
    {
     "name": "stderr",
     "output_type": "stream",
     "text": [
      "Processing images:  53%|█████▎    | 106/200 [07:46<05:25,  3.46s/it]"
     ]
    },
    {
     "name": "stdout",
     "output_type": "stream",
     "text": [
      "{\n",
      "  \"DESCRIPTION\": \"The image shows a sewer pipe with poor visibility due to low lighting and potential mist or haze. The pipe appears to have a smooth surface structure, but the extreme lighting conditions obscure clear details. There is no visible water present, and the pipe material is indeterminate due to the visual obstruction.\",\n",
      "  \"CODE\": \"NoDefect\"\n",
      "}\n",
      "Image ID: 01203448.png | Predicted: NoDefect | Ground Truth: NoDefect\n"
     ]
    },
    {
     "name": "stderr",
     "output_type": "stream",
     "text": [
      "Processing images:  54%|█████▎    | 107/200 [07:50<05:24,  3.49s/it]"
     ]
    },
    {
     "name": "stdout",
     "output_type": "stream",
     "text": [
      "{\n",
      "  \"DESCRIPTION\": \"The image shows the interior of a sewer pipe that appears to be made of concrete. The lighting is low, and there is some presence of water visible along the bottom, contributing to a slightly murky appearance. The pipe's surface is generally smooth but contains noticeable discoloration and some buildup along the edges, indicating potential surface wear or corrosion, but no obvious cracks or significant blockages are detected.\",\n",
      "  \"CODE\": \"OB\"\n",
      "}\n",
      "Image ID: 00828234.png | Predicted: OB | Ground Truth: DE\n"
     ]
    },
    {
     "name": "stderr",
     "output_type": "stream",
     "text": [
      "Processing images:  54%|█████▍    | 108/200 [07:53<04:55,  3.21s/it]"
     ]
    },
    {
     "name": "stdout",
     "output_type": "stream",
     "text": [
      "{\n",
      "  \"DESCRIPTION\": \"The image shows a dark interior of a sewer pipe, likely made of PVC. The lighting conditions appear limited, resulting in a blurred view that makes it difficult to assess the pipe's condition definitively. There are no visible signs of water, and the overall clarity of the image is low, hindering detailed inspection.\",\n",
      "  \"CODE\": \"NoDefect\"\n",
      "}\n",
      "Image ID: 01084051.png | Predicted: NoDefect | Ground Truth: NoDefect\n"
     ]
    },
    {
     "name": "stderr",
     "output_type": "stream",
     "text": [
      "Processing images:  55%|█████▍    | 109/200 [07:55<04:33,  3.00s/it]"
     ]
    },
    {
     "name": "stdout",
     "output_type": "stream",
     "text": [
      "{\n",
      "  \"DESCRIPTION\": \"The image shows a sewer pipe with a smooth cylindrical interior, predominantly orange in color, suggesting some staining or corrosion. The pipe appears to be made of PVC and is clear of any visible water accumulation. The surface shows no significant defects like cracks or breaks, indicating a relatively good condition with minimal wear.\",\n",
      "  \"CODE\": \"NoDefect\"\n",
      "}\n",
      "Image ID: 01032510.png | Predicted: NoDefect | Ground Truth: NoDefect\n"
     ]
    },
    {
     "name": "stderr",
     "output_type": "stream",
     "text": [
      "Processing images:  55%|█████▌    | 110/200 [07:59<05:06,  3.40s/it]"
     ]
    },
    {
     "name": "stdout",
     "output_type": "stream",
     "text": [
      "{\n",
      "  \"DESCRIPTION\": \"The image shows a clear view of a sewer pipe with a well-defined interior structure. The lighting appears to be somewhat dim, resulting in a darker area toward the end of the pipe. The material of the pipe is concrete, and there is visible buildup and potential surface damage along the walls, likely from erosion. There are no apparent signs of standing water, blockages, or significant defects like cracks or collapses. However, the surface appears worn, indicating some deterioration over time.\",\n",
      "  \"CODE\": \"OB\"\n",
      "}\n",
      "Image ID: 00739180.png | Predicted: OB | Ground Truth: NoDefect\n"
     ]
    },
    {
     "name": "stderr",
     "output_type": "stream",
     "text": [
      "Processing images:  56%|█████▌    | 111/200 [08:03<04:56,  3.33s/it]"
     ]
    },
    {
     "name": "stdout",
     "output_type": "stream",
     "text": [
      "{\n",
      "  \"DESCRIPTION\": \"The image depicts the interior of a sewer pipe, primarily made of concrete, with a clear view of the pipe's surface. There is water present, evidenced by the reflections and bubbles seen along the top. The lighting conditions seem adequate for pipe inspection, although the color quality is somewhat faded. The pipe appears to have a smooth, unbroken surface, showing no visible signs of damage, cracks, or blockages.\",\n",
      "  \"CODE\": \"NoDefect\"\n",
      "}\n",
      "Image ID: 00276076.png | Predicted: NoDefect | Ground Truth: NoDefect\n"
     ]
    },
    {
     "name": "stderr",
     "output_type": "stream",
     "text": [
      "Processing images:  56%|█████▌    | 112/200 [08:07<05:28,  3.73s/it]"
     ]
    },
    {
     "name": "stdout",
     "output_type": "stream",
     "text": [
      "{\n",
      "  \"DESCRIPTION\": \"The image shows a concrete sewer pipe with a generally clear view, although lighting conditions are dim. The interior features some visible surface damage and stains, indicating potential wear. No water is present in the pipe and the pipe appears fairly wide.\",\n",
      "  \"CODE\": \"OB\"\n",
      "}\n",
      "Image ID: 00173582.png | Predicted: OB | Ground Truth: NoDefect\n"
     ]
    },
    {
     "name": "stderr",
     "output_type": "stream",
     "text": [
      "Processing images:  56%|█████▋    | 113/200 [08:11<05:35,  3.85s/it]"
     ]
    },
    {
     "name": "stdout",
     "output_type": "stream",
     "text": [
      "{\n",
      "  \"DESCRIPTION\": \"The image shows the interior of a sewer pipe with a smooth, unbroken surface and consistent lighting. The pipe appears to be in good condition, exhibiting no visible signs of significant damage or blockages. There are minor surface irregularities that suggest wear but no critical defects.\",\n",
      "  \"CODE\": \"NoDefect\"\n",
      "}\n",
      "Image ID: 00690716.png | Predicted: NoDefect | Ground Truth: NoDefect\n"
     ]
    },
    {
     "name": "stderr",
     "output_type": "stream",
     "text": [
      "Processing images:  57%|█████▋    | 114/200 [08:14<04:57,  3.45s/it]"
     ]
    },
    {
     "name": "stdout",
     "output_type": "stream",
     "text": [
      "{\n",
      "  \"DESCRIPTION\": \"The image shows the interior of a sewer pipe, likely made of PVC, with visible water flowing along the bottom. The lighting appears adequate but the image lacks clarity with some blur present, making detailed inspection challenging. The interior surface of the pipe seems mostly smooth with no obvious blockages or major visible defects at first glance.\",\n",
      "  \"CODE\": \"NoDefect\"\n",
      "}\n",
      "Image ID: 01124051.png | Predicted: NoDefect | Ground Truth: NoDefect\n"
     ]
    },
    {
     "name": "stderr",
     "output_type": "stream",
     "text": [
      "Processing images:  57%|█████▊    | 115/200 [08:18<05:14,  3.70s/it]"
     ]
    },
    {
     "name": "stdout",
     "output_type": "stream",
     "text": [
      "{\n",
      "  \"DESCRIPTION\": \"The image shows the interior of a sewer pipe that appears to be made of PVC. The lighting is low, with a noticeable orange hue and some visible sediment or particles scattered throughout. The center of the pipe is dark, indicating depth. There are no visible signs of cracks, breaks, collapses, or other significant defects in the structure. The surface appears relatively smooth, without major wear or erosion suggestive of surface damage or manufacturing errors.\",\n",
      "  \"CODE\": \"NoDefect\"\n",
      "}\n",
      "Image ID: 00412106.png | Predicted: NoDefect | Ground Truth: NoDefect\n"
     ]
    },
    {
     "name": "stderr",
     "output_type": "stream",
     "text": [
      "Processing images:  58%|█████▊    | 116/200 [08:22<05:09,  3.69s/it]"
     ]
    },
    {
     "name": "stdout",
     "output_type": "stream",
     "text": [
      "{ \"DESCRIPTION\": \"The image shows a clear view of a sewer pipe's interior, likely made of PVC, with good lighting and visibility. The surface appears relatively smooth with no visible obstructions or water present in the pipe. There are no apparent signs of damage or deterioration.\", \"CODE\": \"NoDefect\" }\n",
      "Image ID: 00312938.png | Predicted: NoDefect | Ground Truth: OB\n"
     ]
    },
    {
     "name": "stderr",
     "output_type": "stream",
     "text": [
      "Processing images:  58%|█████▊    | 117/200 [08:25<04:54,  3.55s/it]"
     ]
    },
    {
     "name": "stdout",
     "output_type": "stream",
     "text": [
      "{ \n",
      "  \"DESCRIPTION\": \"The image shows the interior of a sewer pipe with a smooth, undamaged surface, indicating it is likely made of PVC material. The lighting is low but sufficient enough for a clear view of the pipe's surface. There is a small amount of water present at the bottom, but no visible defects such as cracks or obstructions are evident.\", \n",
      "  \"CODE\": \"NoDefect\"\n",
      "}\n",
      "Image ID: 00456442.png | Predicted: NoDefect | Ground Truth: NoDefect\n"
     ]
    },
    {
     "name": "stderr",
     "output_type": "stream",
     "text": [
      "Processing images:  59%|█████▉    | 118/200 [08:28<04:46,  3.49s/it]"
     ]
    },
    {
     "name": "stdout",
     "output_type": "stream",
     "text": [
      "{\n",
      "  \"DESCRIPTION\": \"The image shows the interior of a PVC sewer pipe with visible water residue. The pipe appears to have a relatively smooth surface, although there are scattered stains and sediment. Lighting conditions are adequate for visibility, and there are no obvious signs of cracks or fractures. The overall condition of the pipe seems stable with no detected blockages or root intrusions.\",\n",
      "  \"CODE\": \"NoDefect\"\n",
      "}\n",
      "Image ID: 01153619.png | Predicted: NoDefect | Ground Truth: NoDefect\n"
     ]
    },
    {
     "name": "stderr",
     "output_type": "stream",
     "text": [
      "Processing images:  60%|█████▉    | 119/200 [08:32<04:47,  3.55s/it]"
     ]
    },
    {
     "name": "stdout",
     "output_type": "stream",
     "text": [
      "{\n",
      "  \"DESCRIPTION\": \"The image shows a dark interior of a sewer pipe, likely made of concrete or PVC. The visibility is low, with some light reflections indicating potential moisture on the surface. The pipe appears to have a smooth surface without any clear signs of visible damage or blockages.\",\n",
      "  \"CODE\": \"NoDefect\"\n",
      "}\n",
      "Image ID: 00847063.png | Predicted: NoDefect | Ground Truth: NoDefect\n"
     ]
    },
    {
     "name": "stderr",
     "output_type": "stream",
     "text": [
      "Processing images:  60%|██████    | 120/200 [08:37<05:03,  3.80s/it]"
     ]
    },
    {
     "name": "stdout",
     "output_type": "stream",
     "text": [
      "{ \n",
      "  \"DESCRIPTION\": \"The image shows a section of a concrete sewer pipe with visible surface wear and debris. The lighting is inadequate, resulting in unclear visibility of some details. There is a noticeable crack along the surface of the pipe, indicating potential structural integrity issues.\", \n",
      "  \"CODE\": \"RB\" \n",
      "}\n",
      "Image ID: 00406425.png | Predicted: RB | Ground Truth: RB\n"
     ]
    },
    {
     "name": "stderr",
     "output_type": "stream",
     "text": [
      "Processing images:  60%|██████    | 121/200 [08:41<05:06,  3.88s/it]"
     ]
    },
    {
     "name": "stdout",
     "output_type": "stream",
     "text": [
      "{ \n",
      "  \"DESCRIPTION\": \"The image shows the interior of a sewer pipe, likely made of concrete, with visible dirt and debris present. Lighting is low, making it difficult to discern minor details. Prominent root intrusions are observed, indicating potential blockage issues. The pipe surface appears generally intact but compromised by root growth.\",\n",
      "  \"CODE\": \"RO\"\n",
      "}\n",
      "Image ID: 00128889.png | Predicted: RO | Ground Truth: RO\n"
     ]
    },
    {
     "name": "stderr",
     "output_type": "stream",
     "text": [
      "Processing images:  61%|██████    | 122/200 [08:44<04:55,  3.79s/it]"
     ]
    },
    {
     "name": "stdout",
     "output_type": "stream",
     "text": [
      "{\n",
      "  \"DESCRIPTION\": \"The image shows a concrete pipe with a clear view down its length. The lighting is adequate, providing good visibility. The interior surface appears smooth with no visible signs of cracks, breaks, or collapses. There is no water present, and the pipe looks structurally sound without any obstructions or surface damage.\",\n",
      "  \"CODE\": \"NoDefect\"\n",
      "}\n",
      "Image ID: 00231010.png | Predicted: NoDefect | Ground Truth: NoDefect\n"
     ]
    },
    {
     "name": "stderr",
     "output_type": "stream",
     "text": [
      "Processing images:  62%|██████▏   | 123/200 [08:48<04:59,  3.90s/it]"
     ]
    },
    {
     "name": "stdout",
     "output_type": "stream",
     "text": [
      "{\n",
      "  \"DESCRIPTION\": \"The image shows the interior of a sewer pipe, which appears to be made of concrete. The clarity of the image is somewhat good, although there are visible signs of surface damage with rust and discoloration present. The lighting conditions seem adequate, allowing for visibility of the pipe's surface. There is no standing water visible in the pipe.\",\n",
      "  \"CODE\": \"OB\"\n",
      "}\n",
      "Image ID: 00759937.png | Predicted: OB | Ground Truth: DE\n"
     ]
    },
    {
     "name": "stderr",
     "output_type": "stream",
     "text": [
      "Processing images:  62%|██████▏   | 124/200 [08:52<04:58,  3.92s/it]"
     ]
    },
    {
     "name": "stdout",
     "output_type": "stream",
     "text": [
      "{\n",
      "  \"DESCRIPTION\": \"The image shows a dark tunnel with minimal lighting, making it difficult to see details clearly. The pipe appears to have smooth sides, but the focus is primarily on the distant end that fades into darkness. There is no visible water present in the image.\",\n",
      "  \"CODE\": \"NoDefect\"\n",
      "}\n",
      "Image ID: 01192271.png | Predicted: NoDefect | Ground Truth: NoDefect\n"
     ]
    },
    {
     "name": "stderr",
     "output_type": "stream",
     "text": [
      "Processing images:  62%|██████▎   | 125/200 [08:55<04:37,  3.70s/it]"
     ]
    },
    {
     "name": "stdout",
     "output_type": "stream",
     "text": [
      "{\n",
      "  \"DESCRIPTION\": \"The image shows the interior of a PVC sewer pipe with a smooth surface and adequate lighting conditions. The pipe appears clean, with no visible signs of damage or blockages. There is water present in the lower section of the pipe, but its flow seems unobstructed.\",\n",
      "  \"CODE\": \"NoDefect\"\n",
      "}\n",
      "Image ID: 00368814.png | Predicted: NoDefect | Ground Truth: NoDefect\n"
     ]
    },
    {
     "name": "stderr",
     "output_type": "stream",
     "text": [
      "Processing images:  63%|██████▎   | 126/200 [08:59<04:29,  3.64s/it]"
     ]
    },
    {
     "name": "stdout",
     "output_type": "stream",
     "text": [
      "{\n",
      "  \"DESCRIPTION\": \"The image shows the interior of a sewer pipe, likely made of concrete, with some visible debris and organic matter present. The lighting is inconsistent, indicating limited visibility. There are signs of significant wear and potential blockage, with roots or organic material obstructing the pipe's interior.\",\n",
      "  \"CODE\": \"RO\"\n",
      "}\n",
      "Image ID: 01075787.png | Predicted: RO | Ground Truth: RO\n"
     ]
    },
    {
     "name": "stderr",
     "output_type": "stream",
     "text": [
      "Processing images:  64%|██████▎   | 127/200 [09:02<04:15,  3.51s/it]"
     ]
    },
    {
     "name": "stdout",
     "output_type": "stream",
     "text": [
      "{\n",
      "  \"DESCRIPTION\": \"The image depicts a concrete sewer pipe with visible degradation on the interior surface. The lighting appears adequate for observation, revealing a brownish coloration likely due to sediment accumulation. There are signs of surface damage, including minor scratches and uneven wear, but no visible cracks or significant blockages are detected in the main pipeline area.\",\n",
      "  \"CODE\": \"OB\"\n",
      "}\n",
      "Image ID: 00595037.png | Predicted: OB | Ground Truth: OB\n"
     ]
    },
    {
     "name": "stderr",
     "output_type": "stream",
     "text": [
      "Processing images:  64%|██████▍   | 128/200 [09:07<04:41,  3.91s/it]"
     ]
    },
    {
     "name": "stdout",
     "output_type": "stream",
     "text": [
      "{\n",
      "  \"DESCRIPTION\": \"The image shows the interior of a sewer pipe with a smooth, light-colored surface indicating it may be made of PVC or another similar plastic material. The lighting appears adequate, allowing for visibility of the pipe's interior, with some minor surface reflections. There is no standing water visible in the image, suggesting a clear flow path and no significant blockages. Overall, the pipe appears to be in good structural condition with no visible signs of defects.\",\n",
      "  \"CODE\": \"NoDefect\"\n",
      "}\n",
      "Image ID: 00521590.png | Predicted: NoDefect | Ground Truth: PF\n"
     ]
    },
    {
     "name": "stderr",
     "output_type": "stream",
     "text": [
      "Processing images:  64%|██████▍   | 129/200 [09:12<04:58,  4.21s/it]"
     ]
    },
    {
     "name": "stdout",
     "output_type": "stream",
     "text": [
      "{\n",
      "  \"DESCRIPTION\": \"The image shows the interior of a PVC sewer pipe. The lighting is somewhat dim, but the surface condition is visible. There is some discoloration and signs of potential wear along the edges of the pipe. The presence of liquid suggests active flow, but no significant blockages are observed.\",\n",
      "  \"CODE\": \"OB\"\n",
      "}\n",
      "Image ID: 00555059.png | Predicted: OB | Ground Truth: NoDefect\n"
     ]
    },
    {
     "name": "stderr",
     "output_type": "stream",
     "text": [
      "Processing images:  65%|██████▌   | 130/200 [09:15<04:40,  4.01s/it]"
     ]
    },
    {
     "name": "stdout",
     "output_type": "stream",
     "text": [
      "{ \n",
      "  \"DESCRIPTION\": \"The image shows the interior of a sewer pipe with a generally smooth surface and a bright, clear appearance. There is some discolored water at the bottom, indicating potential minor accumulation. The pipe appears to be made of PVC, with no visible cracks, breaks, or significant obstructions evident in the view. The lighting is adequate for analysis, revealing the structural integrity of the pipe.\", \n",
      "  \"CODE\": \"NoDefect\" \n",
      "}\n",
      "Image ID: 00324277.png | Predicted: NoDefect | Ground Truth: NoDefect\n"
     ]
    },
    {
     "name": "stderr",
     "output_type": "stream",
     "text": [
      "Processing images:  66%|██████▌   | 131/200 [09:20<04:47,  4.17s/it]"
     ]
    },
    {
     "name": "stdout",
     "output_type": "stream",
     "text": [
      "{\n",
      "  \"DESCRIPTION\": \"The image depicts the interior of a sewer pipe, showing a concrete structure of moderate clarity with some water visible at the bottom. The lighting is dim, resulting in a shadowy appearance towards the end of the pipe. The surface appears somewhat worn with minor abrasions but no significant cracks or notable obstructions, indicating a generally stable condition.\",\n",
      "  \"CODE\": \"OB\"\n",
      "}\n",
      "Image ID: 01095696.png | Predicted: OB | Ground Truth: RO\n"
     ]
    },
    {
     "name": "stderr",
     "output_type": "stream",
     "text": [
      "Processing images:  66%|██████▌   | 132/200 [09:24<04:39,  4.12s/it]"
     ]
    },
    {
     "name": "stdout",
     "output_type": "stream",
     "text": [
      "{ \n",
      "  \"DESCRIPTION\": \"The image shows the interior view of a sewer pipe. The pipe appears to be made of concrete with some areas exhibiting signs of wear and corrosion. The lighting is dim, but the surface of the pipe is somewhat visible. There is a presence of water accumulation at the bottom. The interior surface displays some rough areas and possible erosion.\",\n",
      "  \"CODE\": \"OB\" \n",
      "}\n",
      "Image ID: 00641759.png | Predicted: OB | Ground Truth: OB\n"
     ]
    },
    {
     "name": "stderr",
     "output_type": "stream",
     "text": [
      "Processing images:  66%|██████▋   | 133/200 [09:27<04:08,  3.71s/it]"
     ]
    },
    {
     "name": "stdout",
     "output_type": "stream",
     "text": [
      "{ \n",
      "  \"DESCRIPTION\": \"The image shows the interior of a pipe, likely concrete based on its texture. The lighting is adequate, revealing a smooth yet slightly worn surface with a visible crack along the side. No significant obstructions or water presence are noted.\",\n",
      "  \"CODE\": \"RB\"\n",
      "}\n",
      "Image ID: 01062947.png | Predicted: RB | Ground Truth: RB\n"
     ]
    },
    {
     "name": "stderr",
     "output_type": "stream",
     "text": [
      "Processing images:  67%|██████▋   | 134/200 [09:31<04:12,  3.83s/it]"
     ]
    },
    {
     "name": "stdout",
     "output_type": "stream",
     "text": [
      "{\n",
      "  \"DESCRIPTION\": \"The image presents a view inside a sewer pipe with a generally dark and blurry appearance. The pipe seems to be made of concrete and exhibits signs of surface wear, including erosion and discoloration throughout its interior. There is no standing water visible in the pipe, and while the overall condition appears acceptable, some areas show significant surface damage. A faint outline of what appears to be a root intrusion is barely discernible toward the right side of the image.\",\n",
      "  \"CODE\": \"RO\"\n",
      "}\n",
      "Image ID: 00117348.png | Predicted: RO | Ground Truth: OB\n"
     ]
    },
    {
     "name": "stderr",
     "output_type": "stream",
     "text": [
      "Processing images:  68%|██████▊   | 135/200 [09:34<03:47,  3.51s/it]"
     ]
    },
    {
     "name": "stdout",
     "output_type": "stream",
     "text": [
      "{ \n",
      "  \"DESCRIPTION\": \"The image shows a generally clear view of a concrete sewer pipe. There is a noticeable presence of water at the bottom, and the pipe interior appears to be smooth with no visible signs of damage or obstructions. Lighting conditions are adequate, revealing the pipe's structure clearly.\",\n",
      "  \"CODE\": \"NoDefect\"\n",
      "}\n",
      "Image ID: 00251253.png | Predicted: NoDefect | Ground Truth: NoDefect\n"
     ]
    },
    {
     "name": "stderr",
     "output_type": "stream",
     "text": [
      "Processing images:  68%|██████▊   | 136/200 [09:37<03:40,  3.45s/it]"
     ]
    },
    {
     "name": "stdout",
     "output_type": "stream",
     "text": [
      "{\n",
      "  \"DESCRIPTION\": \"The image shows a close-up of a sewer pipe interior with a dark surface that appears slightly reflective. There are visible patches of surface damage with some areas showing signs of wear or erosion. The lighting is adequate, allowing for clear visibility of the surface texture, but there are no signs of water or significant blockages observed in this section of the pipe.\",\n",
      "  \"CODE\": \"OB\"\n",
      "}\n",
      "Image ID: 00899810.png | Predicted: OB | Ground Truth: NoDefect\n"
     ]
    },
    {
     "name": "stderr",
     "output_type": "stream",
     "text": [
      "Processing images:  68%|██████▊   | 137/200 [09:40<03:38,  3.47s/it]"
     ]
    },
    {
     "name": "stdout",
     "output_type": "stream",
     "text": [
      "{\n",
      "  \"DESCRIPTION\": \"The image shows a clear view of a sewer pipe, likely made of PVC, with good lighting making the interior visible. The pipe appears to be in a relatively clean condition with no visible presence of water or blockages, and the surface appears smooth without any obvious defects.\",\n",
      "  \"CODE\": \"NoDefect\"\n",
      "}\n",
      "Image ID: 00663241.png | Predicted: NoDefect | Ground Truth: DE\n"
     ]
    },
    {
     "name": "stderr",
     "output_type": "stream",
     "text": [
      "Processing images:  69%|██████▉   | 138/200 [09:45<03:46,  3.66s/it]"
     ]
    },
    {
     "name": "stdout",
     "output_type": "stream",
     "text": [
      "{ \"DESCRIPTION\": \"The image depicts a clear view inside a sewer pipe, likely made of PVC. The lighting is adequate, allowing for good visibility. There is a noticeable obstruction visible at the bottom of the pipe, resembling a deposit or blockage. The interior surface of the pipe appears smooth with no visible cracks or deformations, indicating it is generally in good structural condition. However, the presence of the blockage is a significant concern.\", \"CODE\": \"NoDefect\" }\n",
      "Image ID: 00856645.png | Predicted: NoDefect | Ground Truth: PF\n"
     ]
    },
    {
     "name": "stderr",
     "output_type": "stream",
     "text": [
      "Processing images:  70%|██████▉   | 139/200 [09:49<03:59,  3.93s/it]"
     ]
    },
    {
     "name": "stdout",
     "output_type": "stream",
     "text": [
      "{\n",
      "  \"DESCRIPTION\": \"The image depicts the interior of a concrete sewer pipe with clear visibility. The lighting conditions appear adequate for analysis, allowing for a good view of the pipe's structure. Water is present at the bottom, but the pipe surface looks relatively clean, showing no significant signs of damage such as cracks, breaks, or collapses. There are no visible blockages from roots or other debris.\",\n",
      "  \"CODE\": \"NoDefect\"\n",
      "}\n",
      "Image ID: 00322633.png | Predicted: NoDefect | Ground Truth: NoDefect\n"
     ]
    },
    {
     "name": "stderr",
     "output_type": "stream",
     "text": [
      "Processing images:  70%|███████   | 140/200 [09:52<03:37,  3.62s/it]"
     ]
    },
    {
     "name": "stdout",
     "output_type": "stream",
     "text": [
      "{\n",
      "  \"DESCRIPTION\": \"The image shows the interior of a sewer pipe, which appears to be made of concrete. The lighting is sufficient to reveal the smooth surface of the pipe, though there is some dark water flowing along the bottom. There are no visible defects such as cracks or breaks, and the overall structure remains intact and clean.\",\n",
      "  \"CODE\": \"NoDefect\"\n",
      "}\n",
      "Image ID: 00292342.png | Predicted: NoDefect | Ground Truth: DE\n"
     ]
    },
    {
     "name": "stderr",
     "output_type": "stream",
     "text": [
      "Processing images:  70%|███████   | 141/200 [09:57<03:58,  4.05s/it]"
     ]
    },
    {
     "name": "stdout",
     "output_type": "stream",
     "text": [
      "{ \n",
      "  \"DESCRIPTION\": \"The image shows the interior of a sewer pipe which appears to be a concrete type. The lighting is poor, creating a dark environment with limited visibility. There are visible signs of wear and erosion along the surface of the pipe, with some dark streaks indicating potential sediment buildup. Overall, the pipe's surface is not smooth, suggesting some level of deterioration.\",\n",
      "  \"CODE\": \"OB\"\n",
      "}\n",
      "Image ID: 00246069.png | Predicted: OB | Ground Truth: NoDefect\n"
     ]
    },
    {
     "name": "stderr",
     "output_type": "stream",
     "text": [
      "Processing images:  71%|███████   | 142/200 [10:01<03:46,  3.91s/it]"
     ]
    },
    {
     "name": "stdout",
     "output_type": "stream",
     "text": [
      "{\n",
      "  \"DESCRIPTION\": \"The image shows a concrete sewer pipe with a dark, damp interior. There is standing water visible on the bottom, and the walls of the pipe exhibit signs of surface erosion and wear, with uneven textures and some discoloration. The overall lighting is low, making it difficult to see details further down the pipe.\",\n",
      "  \"CODE\": \"OB\"\n",
      "}\n",
      "Image ID: 00643468.png | Predicted: OB | Ground Truth: OB\n"
     ]
    },
    {
     "name": "stderr",
     "output_type": "stream",
     "text": [
      "Processing images:  72%|███████▏  | 143/200 [10:03<03:21,  3.53s/it]"
     ]
    },
    {
     "name": "stdout",
     "output_type": "stream",
     "text": [
      "{\n",
      "  \"DESCRIPTION\": \"The image shows the interior of a concrete sewer pipe that appears to be dry with adequate lighting. The surface exhibits some signs of wear and minor erosion, indicating possible surface damage but no significant blockages or severe structural issues are visible.\",\n",
      "  \"CODE\": \"OB\"\n",
      "}\n",
      "Image ID: 00356629.png | Predicted: OB | Ground Truth: RB\n"
     ]
    },
    {
     "name": "stderr",
     "output_type": "stream",
     "text": [
      "Processing images:  72%|███████▏  | 144/200 [10:07<03:17,  3.52s/it]"
     ]
    },
    {
     "name": "stdout",
     "output_type": "stream",
     "text": [
      "{\n",
      "  \"DESCRIPTION\": \"The image shows the interior of a sewer pipe, which appears to be made of a smooth, light-colored material. The lighting conditions are sufficient to reveal surface details. A noticeable crack is present along the side of the pipe, indicating a potential structural issue. The interior shows some signs of wear, but overall, the pipe seems to be mostly unobstructed with no visible water accumulation.\",\n",
      "  \"CODE\": \"RB\"\n",
      "}\n",
      "Image ID: 00773678.png | Predicted: RB | Ground Truth: PF\n"
     ]
    },
    {
     "name": "stderr",
     "output_type": "stream",
     "text": [
      "Processing images:  72%|███████▎  | 145/200 [10:11<03:22,  3.68s/it]"
     ]
    },
    {
     "name": "stdout",
     "output_type": "stream",
     "text": [
      "{ \n",
      "  \"DESCRIPTION\": \"The image shows a sewer pipe with a predominantly yellow interior. The pipe appears to be clear, revealing the presence of some water flowing through it. The visibility is limited towards the end of the pipe, but the initial section appears smooth without any significant blockages or visible damage. The lighting conditions do not seem optimal, possibly affecting clarity in the deeper regions of the pipe.\",\n",
      "  \"CODE\": \"NoDefect\"\n",
      "}\n",
      "Image ID: 00701822.png | Predicted: NoDefect | Ground Truth: DE\n"
     ]
    },
    {
     "name": "stderr",
     "output_type": "stream",
     "text": [
      "Processing images:  73%|███████▎  | 146/200 [10:15<03:29,  3.87s/it]"
     ]
    },
    {
     "name": "stdout",
     "output_type": "stream",
     "text": [
      "{\n",
      "  \"DESCRIPTION\": \"The image shows the interior of a sewer pipe, likely made of concrete, with a clear view down the length of the pipe. The lighting appears to be adequate for visibility, but the pipe is filled with dark water that obstructs full clarity. The surface of the pipe shows signs of discoloration, suggesting some level of deterioration, but there are no visible cracks, breaks, or blockages evident in this section.\",\n",
      "  \"CODE\": \"OB\"\n",
      "}\n",
      "Image ID: 00342979.png | Predicted: OB | Ground Truth: NoDefect\n"
     ]
    },
    {
     "name": "stderr",
     "output_type": "stream",
     "text": [
      "Processing images:  74%|███████▎  | 147/200 [10:20<03:40,  4.16s/it]"
     ]
    },
    {
     "name": "stdout",
     "output_type": "stream",
     "text": [
      "{\n",
      "  \"DESCRIPTION\": \"The image shows the interior of a sewer pipe with a concrete surface. There is some water flowing through the pipe, and while the lighting is somewhat dim, it appears that the pipe has a rough texture with signs of wear along the walls. The overall clarity of the image is acceptable; however, details are somewhat obscured due to lighting conditions. No clear defects like cracks or breaks are visible.\",\n",
      "  \"CODE\": \"OB\"\n",
      "}\n",
      "Image ID: 00736295.png | Predicted: OB | Ground Truth: OB\n"
     ]
    },
    {
     "name": "stderr",
     "output_type": "stream",
     "text": [
      "Processing images:  74%|███████▍  | 148/200 [10:24<03:27,  3.98s/it]"
     ]
    },
    {
     "name": "stdout",
     "output_type": "stream",
     "text": [
      "{\n",
      "  \"DESCRIPTION\": \"The image shows a long, cylindrical concrete sewer pipe with a relatively smooth and unbroken surface. The lighting appears to be dim, and there is some water accumulation visible at the bottom of the pipe. There are faint discolorations and markings present on the pipe, but no significant defects like cracks or blockages are apparent.\",\n",
      "  \"CODE\": \"NoDefect\"\n",
      "}\n",
      "Image ID: 00557617.png | Predicted: NoDefect | Ground Truth: DE\n"
     ]
    },
    {
     "name": "stderr",
     "output_type": "stream",
     "text": [
      "Processing images:  74%|███████▍  | 149/200 [10:27<03:20,  3.93s/it]"
     ]
    },
    {
     "name": "stdout",
     "output_type": "stream",
     "text": [
      "{\n",
      "  \"DESCRIPTION\": \"The image shows a well-lit section of a sewer pipe, primarily made of concrete. The surface appears smooth, with minimal discoloration near the bottom indicating the presence of stagnant water. There are no visible cracks or breaks along the pipe's structure, and the overall clarity of the image is good.\",\n",
      "  \"CODE\": \"NoDefect\"\n",
      "}\n",
      "Image ID: 00722113.png | Predicted: NoDefect | Ground Truth: DE\n"
     ]
    },
    {
     "name": "stderr",
     "output_type": "stream",
     "text": [
      "Processing images:  75%|███████▌  | 150/200 [10:30<02:56,  3.54s/it]"
     ]
    },
    {
     "name": "stdout",
     "output_type": "stream",
     "text": [
      "{\n",
      "  \"DESCRIPTION\": \"The image shows the interior of a sewer pipe that appears to be made of concrete. The lighting is dim, with some shadows present, and there is standing water at the bottom of the pipe. Debris, including leaves and other organic matter, is visible near the center of the pipe, indicating potential blockages.\",\n",
      "  \"CODE\": \"RO\"\n",
      "}\n",
      "Image ID: 00616737.png | Predicted: RO | Ground Truth: RO\n"
     ]
    },
    {
     "name": "stderr",
     "output_type": "stream",
     "text": [
      "Processing images:  76%|███████▌  | 151/200 [10:34<03:00,  3.69s/it]"
     ]
    },
    {
     "name": "stdout",
     "output_type": "stream",
     "text": [
      "{\n",
      "  \"DESCRIPTION\": \"The image shows a sewer pipe with a dark cylindrical interior. There is some buildup of debris and sediment along the pipe walls, which suggests wear. The lighting appears adequate, allowing clear visualization of the pipe's interior but revealing no significant water presence. The pipe surface shows signs of erosion but remains mostly intact.\",\n",
      "  \"CODE\": \"OB\"\n",
      "}\n",
      "Image ID: 00817381.png | Predicted: OB | Ground Truth: OB\n"
     ]
    },
    {
     "name": "stderr",
     "output_type": "stream",
     "text": [
      "Processing images:  76%|███████▌  | 152/200 [10:37<02:43,  3.41s/it]"
     ]
    },
    {
     "name": "stdout",
     "output_type": "stream",
     "text": [
      "{ \"DESCRIPTION\": \"The image shows a clear view of the interior of a sewer pipe with a smooth, orange surface. There are no visible signs of water or blockages. The lighting is adequate, allowing for a clear observation of the pipe. The surface appears intact with no visible cracks or other defects.\", \"CODE\": \"NoDefect\" }\n",
      "Image ID: 00563451.png | Predicted: NoDefect | Ground Truth: NoDefect\n"
     ]
    },
    {
     "name": "stderr",
     "output_type": "stream",
     "text": [
      "Processing images:  76%|███████▋  | 153/200 [10:41<02:52,  3.68s/it]"
     ]
    },
    {
     "name": "stdout",
     "output_type": "stream",
     "text": [
      "{ \n",
      "  \"DESCRIPTION\": \"The image shows a concrete sewer pipe with a generally clear and smooth interior surface. The lighting is dim but sufficient to reveal details, and there are no visible signs of water accumulation. The surface appears to be in good condition overall, with no noticeable defects or obstructions present.\",\n",
      "  \"CODE\": \"NoDefect\"\n",
      "}\n",
      "Image ID: 00122097.png | Predicted: NoDefect | Ground Truth: OB\n"
     ]
    },
    {
     "name": "stderr",
     "output_type": "stream",
     "text": [
      "Processing images:  77%|███████▋  | 154/200 [10:45<02:55,  3.81s/it]"
     ]
    },
    {
     "name": "stdout",
     "output_type": "stream",
     "text": [
      "{\n",
      "  \"DESCRIPTION\": \"The image presents an interior view of a sewer pipe, likely made of PVC. The pipe appears to be dark, suggesting a moderate level of water presence. The lighting is dim, which limits visibility. A noticeable red object is present in the pipe, possibly indicating a form of blockage or intrusion. Overall, the surface of the pipe seems smooth, showing no visible signs of severe damage, cracks, or structural failure.\",\n",
      "  \"CODE\": \"RO\"\n",
      "}\n",
      "Image ID: 00989281.png | Predicted: RO | Ground Truth: PF\n"
     ]
    },
    {
     "name": "stderr",
     "output_type": "stream",
     "text": [
      "Processing images:  78%|███████▊  | 155/200 [10:48<02:41,  3.59s/it]"
     ]
    },
    {
     "name": "stdout",
     "output_type": "stream",
     "text": [
      "{ \n",
      "  \"DESCRIPTION\": \"The image shows a clear view of a concrete sewer pipe with some water present at the bottom. The lighting is moderate, revealing the inner surface of the pipe, which appears smooth and unbroken. There are no visible signs of damage or obstructions in the pipe.\",\n",
      "  \"CODE\": \"NoDefect\"\n",
      "}\n",
      "Image ID: 01077629.png | Predicted: NoDefect | Ground Truth: NoDefect\n"
     ]
    },
    {
     "name": "stderr",
     "output_type": "stream",
     "text": [
      "Processing images:  78%|███████▊  | 156/200 [10:52<02:41,  3.68s/it]"
     ]
    },
    {
     "name": "stdout",
     "output_type": "stream",
     "text": [
      "{ \"DESCRIPTION\": \"The image depicts the interior of a concrete sewer pipe with good clarity and moderate lighting conditions. The walls of the pipe appear smooth and unbroken, although there are rust stains visible along the bottom, indicating some surface wear. There is no standing water or evident blockages in the pipe.\", \"CODE\": \"OB\" }\n",
      "Image ID: 00555056.png | Predicted: OB | Ground Truth: PF\n"
     ]
    },
    {
     "name": "stderr",
     "output_type": "stream",
     "text": [
      "Processing images:  78%|███████▊  | 157/200 [10:57<02:53,  4.04s/it]"
     ]
    },
    {
     "name": "stdout",
     "output_type": "stream",
     "text": [
      "{\n",
      "  \"DESCRIPTION\": \"The image shows a concrete sewer pipe with a clear view down the tunnel. The lighting is dim but sufficient, highlighting the smooth interior surface. There is standing water along the bottom, but no visible signs of obstructions or defects are evident in the pipe. Overall, the pipe appears to be in good condition with no visible damage or wear.\",\n",
      "  \"CODE\": \"NoDefect\"\n",
      "}\n",
      "Image ID: 00046169.png | Predicted: NoDefect | Ground Truth: NoDefect\n"
     ]
    },
    {
     "name": "stderr",
     "output_type": "stream",
     "text": [
      "Processing images:  79%|███████▉  | 158/200 [10:59<02:28,  3.54s/it]"
     ]
    },
    {
     "name": "stdout",
     "output_type": "stream",
     "text": [
      "{ \n",
      "  \"DESCRIPTION\": \"The image shows the interior of a sewer pipe that appears to be made of concrete. The lighting is dim, creating a shadowy effect towards the far end of the pipe. The surface exhibits significant signs of wear and erosion, suggesting deterioration over time. Water presence is not clearly indicated but the dirt accumulation and the texture suggest a moist environment.\",\"CODE\": \"OB\"\n",
      "}\n",
      "Image ID: 01266260.png | Predicted: OB | Ground Truth: OB\n"
     ]
    },
    {
     "name": "stderr",
     "output_type": "stream",
     "text": [
      "Processing images:  80%|███████▉  | 159/200 [11:02<02:12,  3.24s/it]"
     ]
    },
    {
     "name": "stdout",
     "output_type": "stream",
     "text": [
      "{ \"DESCRIPTION\": \"The image appears to be unclear due to poor lighting conditions, displaying a blurred and distorted view. There are no visible signs of a sewer pipe or identifiable features. The clarity is insufficient for detailed analysis.\", \"CODE\": \"NoDefect\" }\n",
      "Image ID: 00575420.png | Predicted: NoDefect | Ground Truth: NoDefect\n"
     ]
    },
    {
     "name": "stderr",
     "output_type": "stream",
     "text": [
      "Processing images:  80%|████████  | 160/200 [11:06<02:20,  3.52s/it]"
     ]
    },
    {
     "name": "stdout",
     "output_type": "stream",
     "text": [
      "{ \"DESCRIPTION\": \"The image shows a concrete sewer pipe that has a smooth, unbroken surface with a prominent blue stripe running along the length. The lighting conditions suggest it is adequately illuminated, allowing for clear visibility of the pipe's interior. There are no visible signs of damage or blockages, and the pipe appears to be in good condition, with no water present.\", \"CODE\": \"NoDefect\" }\n",
      "Image ID: 00903107.png | Predicted: NoDefect | Ground Truth: NoDefect\n"
     ]
    },
    {
     "name": "stderr",
     "output_type": "stream",
     "text": [
      "Processing images:  80%|████████  | 161/200 [11:09<02:03,  3.16s/it]"
     ]
    },
    {
     "name": "stdout",
     "output_type": "stream",
     "text": [
      "{ \"DESCRIPTION\": \"The image appears to be very dark and lacks clarity, making it difficult to discern any specific characteristics of the pipe. There are no visible signs of defects or blockages due to the poor lighting condition. The type of pipe is indeterminate, and the presence of water is unclear.\", \"CODE\": \"NoDefect\" }\n",
      "Image ID: 00309864.png | Predicted: NoDefect | Ground Truth: NoDefect\n"
     ]
    },
    {
     "name": "stderr",
     "output_type": "stream",
     "text": [
      "Processing images:  81%|████████  | 162/200 [11:12<02:08,  3.38s/it]"
     ]
    },
    {
     "name": "stdout",
     "output_type": "stream",
     "text": [
      "{ \n",
      "  \"DESCRIPTION\": \"The image shows the interior of a sewer pipe, which appears to be constructed of concrete. The lighting is dim, but the surfaces can be seen clearly enough to analyze defects. A noticeable line runs along the bottom, suggesting a possible crack or seam. There is some discoloration and dampness on the pipe's surface, indicating the presence of water. Overall, the pipe's surface is not smooth, showing signs of potential damage or erosion.\", \n",
      "  \"CODE\": \"RB\" \n",
      "}\n",
      "Image ID: 01108894.png | Predicted: RB | Ground Truth: NoDefect\n"
     ]
    },
    {
     "name": "stderr",
     "output_type": "stream",
     "text": [
      "Processing images:  82%|████████▏ | 163/200 [11:15<01:51,  3.02s/it]"
     ]
    },
    {
     "name": "stdout",
     "output_type": "stream",
     "text": [
      "{\n",
      "  \"DESCRIPTION\": \"The image shows a PVC sewer pipe with a smooth, unbroken surface, illuminated under clear lighting conditions. There is no visible water in the pipe, which appears clean and free of blockages.\",\n",
      "  \"CODE\": \"NoDefect\"\n",
      "}\n",
      "Image ID: 00334169.png | Predicted: NoDefect | Ground Truth: NoDefect\n"
     ]
    },
    {
     "name": "stderr",
     "output_type": "stream",
     "text": [
      "Processing images:  82%|████████▏ | 164/200 [11:18<01:48,  3.01s/it]"
     ]
    },
    {
     "name": "stdout",
     "output_type": "stream",
     "text": [
      "{\n",
      "  \"DESCRIPTION\": \"The image shows the interior of a concrete sewer pipe, displaying some water flow along the bottom. The lighting appears adequate, allowing for clear visibility of the pipe's surface. No specific damage or obstruction is visible, though some potential surface wear can be detected near the edges.\",\n",
      "  \"CODE\": \"OB\"\n",
      "}\n",
      "Image ID: 00220697.png | Predicted: OB | Ground Truth: NoDefect\n"
     ]
    },
    {
     "name": "stderr",
     "output_type": "stream",
     "text": [
      "Processing images:  82%|████████▎ | 165/200 [11:20<01:38,  2.82s/it]"
     ]
    },
    {
     "name": "stdout",
     "output_type": "stream",
     "text": [
      "{ \"DESCRIPTION\": \"The image shows a clear view inside a sewer pipe, likely made of PVC or another smooth material. The lighting is sufficient to observe the interior, but the image becomes darker towards the vanishing point. There are no visible signs of damage, blockages, or root intrusions, indicating that the pipe appears to be in good condition.\", \"CODE\": \"NoDefect\" }\n",
      "Image ID: 01196894.png | Predicted: NoDefect | Ground Truth: NoDefect\n"
     ]
    },
    {
     "name": "stderr",
     "output_type": "stream",
     "text": [
      "Processing images:  83%|████████▎ | 166/200 [11:23<01:40,  2.96s/it]"
     ]
    },
    {
     "name": "stdout",
     "output_type": "stream",
     "text": [
      "{\n",
      "  \"DESCRIPTION\": \"The image shows a sewer pipe with a well-defined interior, illuminated with an orange hue. The lighting conditions suggest that there may be some sediment or buildup along the bottom edge of the pipe. The pipe appears to be made of concrete, and there is a presence of water at the base. Overall, the surface seems to be relatively smooth, but there are some signs of surface wear or potential buildup.\",\n",
      "  \"CODE\": \"OB\"\n",
      "}\n",
      "Image ID: 01259730.png | Predicted: OB | Ground Truth: NoDefect\n"
     ]
    },
    {
     "name": "stderr",
     "output_type": "stream",
     "text": [
      "Processing images:  84%|████████▎ | 167/200 [11:30<02:11,  4.00s/it]"
     ]
    },
    {
     "name": "stdout",
     "output_type": "stream",
     "text": [
      "{\n",
      "  \"DESCRIPTION\": \"The image shows a sewer pipe that appears to be concrete, featuring a circular cross-section. The lighting conditions are dim, likely due to the length of the pipe and its orientation. There is visible water along the bottom, and the surface exhibits signs of wear with stains and debris present. There are notable features along the pipeline, including areas of scaling and possible minor erosion evident on the pipe's interior surface.\",\n",
      "  \"CODE\": \"OB\"\n",
      "}\n",
      "Image ID: 00116458.png | Predicted: OB | Ground Truth: PF\n"
     ]
    },
    {
     "name": "stderr",
     "output_type": "stream",
     "text": [
      "Processing images:  84%|████████▍ | 168/200 [11:37<02:41,  5.05s/it]"
     ]
    },
    {
     "name": "stdout",
     "output_type": "stream",
     "text": [
      "{ \"DESCRIPTION\": \"The image shows a close-up view of a sewer pipe, with a prominent visible crack running along the surface. The lighting conditions are moderate, providing enough clarity to identify the crack clearly. The pipe appears to have a concrete surface with some signs of wear, but the most notable feature is the crack, indicating a potential structural issue.\", \"CODE\": \"RB\" }\n",
      "Image ID: 01051480.png | Predicted: RB | Ground Truth: RB\n"
     ]
    },
    {
     "name": "stderr",
     "output_type": "stream",
     "text": [
      "Processing images:  84%|████████▍ | 169/200 [11:40<02:15,  4.37s/it]"
     ]
    },
    {
     "name": "stdout",
     "output_type": "stream",
     "text": [
      "{\n",
      "  \"DESCRIPTION\": \"The image shows the interior of a sewer pipe, likely made of PVC based on the smooth and shiny surface with an orange hue. The lighting is relatively dim, transitioning to darker areas, which may indicate some water presence. There are visible signs of surface wear, particularly scratching and slight discoloration along the walls of the pipe.\",\n",
      "  \"CODE\": \"OB\"\n",
      "}\n",
      "Image ID: 01098148.png | Predicted: OB | Ground Truth: DE\n"
     ]
    },
    {
     "name": "stderr",
     "output_type": "stream",
     "text": [
      "Processing images:  85%|████████▌ | 170/200 [11:44<02:05,  4.17s/it]"
     ]
    },
    {
     "name": "stdout",
     "output_type": "stream",
     "text": [
      "{\n",
      "  \"DESCRIPTION\": \"The image shows the interior of a circular sewer pipe, likely made of concrete, with a smooth but slightly rust-colored surface. The pipe is artificially lit, which highlights the tunnel-like structure that progressively darkens toward the end. There are no visible signs of blockages, cracks, or roots, suggesting a clear path of flow within the pipe.\",\n",
      "  \"CODE\": \"NoDefect\"\n",
      "}\n",
      "Image ID: 00650644.png | Predicted: NoDefect | Ground Truth: NoDefect\n"
     ]
    },
    {
     "name": "stderr",
     "output_type": "stream",
     "text": [
      "Processing images:  86%|████████▌ | 171/200 [11:48<02:02,  4.23s/it]"
     ]
    },
    {
     "name": "stdout",
     "output_type": "stream",
     "text": [
      "{\n",
      "  \"DESCRIPTION\": \"The image presents a view inside a sewer pipe with a notable orange interior surface. The visibility is somewhat compromised due to low lighting conditions, but there appears to be a visible layer of water at the bottom. The pipe likely has a smooth surface with no apparent signs of significant cracks, breaks, or collapses in the visible segments.\",\n",
      "  \"CODE\": \"NoDefect\"\n",
      "}\n",
      "Image ID: 00076692.png | Predicted: NoDefect | Ground Truth: NoDefect\n"
     ]
    },
    {
     "name": "stderr",
     "output_type": "stream",
     "text": [
      "Processing images:  86%|████████▌ | 172/200 [11:53<02:05,  4.46s/it]"
     ]
    },
    {
     "name": "stdout",
     "output_type": "stream",
     "text": [
      "{\n",
      "  \"DESCRIPTION\": \"The image shows a long, dark sewer pipe with a generally clear view. The interior surface appears relatively smooth with some light rust or discoloration, indicating possible wear. There is no visible water or blockages inside the pipe, and the lighting conditions seem consistent throughout the length of the view. Overall, the pipe structure seems intact.\",\n",
      "  \"CODE\": \"NoDefect\"\n",
      "}\n",
      "Image ID: 00650641.png | Predicted: NoDefect | Ground Truth: NoDefect\n"
     ]
    },
    {
     "name": "stderr",
     "output_type": "stream",
     "text": [
      "Processing images:  86%|████████▋ | 173/200 [11:58<02:03,  4.59s/it]"
     ]
    },
    {
     "name": "stdout",
     "output_type": "stream",
     "text": [
      "{\n",
      "  \"DESCRIPTION\": \"The image shows a cylindrical sewer pipe with a slightly cloudy view due to water presence. The pipe appears to be in good condition with a fairly smooth and unbroken surface. There are no visible signs of damage such as cracks or collapses, and no blockages are observed.\",\n",
      "  \"CODE\": \"NoDefect\"\n",
      "}\n",
      "Image ID: 01011133.png | Predicted: NoDefect | Ground Truth: NoDefect\n"
     ]
    },
    {
     "name": "stderr",
     "output_type": "stream",
     "text": [
      "Processing images:  87%|████████▋ | 174/200 [12:01<01:48,  4.16s/it]"
     ]
    },
    {
     "name": "stdout",
     "output_type": "stream",
     "text": [
      "{ \n",
      "  \"DESCRIPTION\": \"The image shows an interior view of a sewer pipe, likely made of PVC, with visible areas of discoloration and minor water presence. A significant defect is noted on the surface of the pipe, indicating possible wear or erosion.\",\n",
      "  \"CODE\": \"OB\"\n",
      "}\n",
      "Image ID: 01225283.png | Predicted: OB | Ground Truth: PF\n"
     ]
    },
    {
     "name": "stderr",
     "output_type": "stream",
     "text": [
      "Processing images:  88%|████████▊ | 175/200 [12:05<01:41,  4.06s/it]"
     ]
    },
    {
     "name": "stdout",
     "output_type": "stream",
     "text": [
      "{ \n",
      "  \"DESCRIPTION\": \"The image shows a clear view of a concrete sewer pipe with a smooth interior surface. The lighting is adequate, revealing no significant pooling of water. The pipe appears to be in generally good condition, with no visible signs of major damage or blockages.\", \n",
      "  \"CODE\": \"NoDefect\" \n",
      "}\n",
      "Image ID: 00773677.png | Predicted: NoDefect | Ground Truth: PF\n"
     ]
    },
    {
     "name": "stderr",
     "output_type": "stream",
     "text": [
      "Processing images:  88%|████████▊ | 176/200 [12:09<01:39,  4.16s/it]"
     ]
    },
    {
     "name": "stdout",
     "output_type": "stream",
     "text": [
      "{\n",
      "  \"DESCRIPTION\": \"The image shows a concrete sewer pipe with visible surface damage. There is a prominent crack running longitudinally along the pipe's surface, indicating potential structural issues. The lighting is dim, but enough detail is captured to observe the texture and condition of the pipe. There are scattered spots of erosion and wear but no standing water present.\",\n",
      "  \"CODE\": \"RB\"\n",
      "}\n",
      "Image ID: 00189308.png | Predicted: RB | Ground Truth: RB\n"
     ]
    },
    {
     "name": "stderr",
     "output_type": "stream",
     "text": [
      "Processing images:  88%|████████▊ | 177/200 [12:13<01:33,  4.06s/it]"
     ]
    },
    {
     "name": "stdout",
     "output_type": "stream",
     "text": [
      "{\n",
      "  \"DESCRIPTION\": \"The image depicts a concrete sewer pipe with visible standing water and sediment on the bottom. The interior surface appears rough and degraded, with signs of potential surface damage near the waterline. The lighting is relatively dim, but enough detail is discernible to assess the condition of the pipe. No clear cracks or structural failures are visible, but there are indications of wear that could suggest ongoing deterioration.\",\n",
      "  \"CODE\": \"OB\"\n",
      "}\n",
      "Image ID: 00251271.png | Predicted: OB | Ground Truth: NoDefect\n"
     ]
    },
    {
     "name": "stderr",
     "output_type": "stream",
     "text": [
      "Processing images:  89%|████████▉ | 178/200 [12:16<01:24,  3.85s/it]"
     ]
    },
    {
     "name": "stdout",
     "output_type": "stream",
     "text": [
      "{\n",
      "  \"DESCRIPTION\": \"The image shows the interior of a sewer pipe with a concrete surface. The lighting is adequate, allowing for clear visibility of the pipe's condition. There are signs of water present, particularly near a specific area. A noticeable defect is visible, indicating surface deterioration or root intrusion.\",\n",
      "  \"CODE\": \"RO\"\n",
      "}\n",
      "Image ID: 00583788.png | Predicted: RO | Ground Truth: RO\n"
     ]
    },
    {
     "name": "stderr",
     "output_type": "stream",
     "text": [
      "Processing images:  90%|████████▉ | 179/200 [12:21<01:24,  4.03s/it]"
     ]
    },
    {
     "name": "stdout",
     "output_type": "stream",
     "text": [
      "{ \n",
      "  \"DESCRIPTION\": \"The image shows a sewer pipe with significant discoloration, predominantly orange, indicating possible corrosion or sediment build-up. The lighting appears to be uneven, creating a dark central area. The surface of the pipe is not clearly visible, but no obvious defects such as cracks, breaks, or obstructions can be determined due to the image's quality.\",\n",
      "  \"CODE\": \"NoDefect\"\n",
      "}\n",
      "Image ID: 00998155.png | Predicted: NoDefect | Ground Truth: NoDefect\n"
     ]
    },
    {
     "name": "stderr",
     "output_type": "stream",
     "text": [
      "Processing images:  90%|█████████ | 180/200 [12:26<01:24,  4.25s/it]"
     ]
    },
    {
     "name": "stdout",
     "output_type": "stream",
     "text": [
      "{\n",
      "  \"DESCRIPTION\": \"The image shows a clear view of a concrete sewer pipe with good lighting conditions. The interior surface is relatively smooth but exhibits signs of surface wear or erosion, such as scratches and slight pitting. There is no visible presence of water or significant blockages in the pipe.\",\n",
      "  \"CODE\": \"OB\"\n",
      "}\n",
      "Image ID: 00071719.png | Predicted: OB | Ground Truth: RB\n"
     ]
    },
    {
     "name": "stderr",
     "output_type": "stream",
     "text": [
      "Processing images:  90%|█████████ | 181/200 [12:34<01:41,  5.34s/it]"
     ]
    },
    {
     "name": "stdout",
     "output_type": "stream",
     "text": [
      "{\n",
      "  \"DESCRIPTION\": \"The image presents an interior view of a sewer pipe with visible organic material. The lighting is dim and somewhat unclear, but roots are clearly seen intruding into the pipe, indicating a blockage. The pipe appears to be constructed of a dark material, potentially PVC or concrete, with natural light reflecting off the organic material.\",\n",
      "  \"CODE\": \"RO\"\n",
      "}\n",
      "Image ID: 00904368.png | Predicted: RO | Ground Truth: RO\n"
     ]
    },
    {
     "name": "stderr",
     "output_type": "stream",
     "text": [
      "Processing images:  91%|█████████ | 182/200 [12:38<01:32,  5.13s/it]"
     ]
    },
    {
     "name": "stdout",
     "output_type": "stream",
     "text": [
      "{\n",
      "  \"DESCRIPTION\": \"The image shows a view inside a sewer pipe, characterized by a yellowish tint and some debris visible in the water. The lighting is moderate, with the interior surface appearing largely intact but slightly obscured. The pipe appears to be made of PVC, and there are no significant visible damages like cracks or collapses. However, the water visibility is low, making it difficult to detect minor surface issues.\",\n",
      "  \"CODE\": \"NoDefect\"\n",
      "}\n",
      "Image ID: 00795294.png | Predicted: NoDefect | Ground Truth: NoDefect\n"
     ]
    },
    {
     "name": "stderr",
     "output_type": "stream",
     "text": [
      "Processing images:  92%|█████████▏| 183/200 [12:42<01:18,  4.63s/it]"
     ]
    },
    {
     "name": "stdout",
     "output_type": "stream",
     "text": [
      "{\n",
      "  \"DESCRIPTION\": \"The image shows a PVC sewer pipe with noticeable discoloration and some residue along the bottom. The clarity is somewhat low, with a dark interior that makes detailed inspection difficult. The lighting appears insufficient, rendering parts of the pipe nearly black. There are visible scratches and wear on the interior surface but no major cracks, blockages, or signs of root intrusion.\",\n",
      "  \"CODE\": \"OB\"\n",
      "}\n",
      "Image ID: 00221213.png | Predicted: OB | Ground Truth: NoDefect\n"
     ]
    },
    {
     "name": "stderr",
     "output_type": "stream",
     "text": [
      "Processing images:  92%|█████████▏| 184/200 [12:46<01:10,  4.43s/it]"
     ]
    },
    {
     "name": "stdout",
     "output_type": "stream",
     "text": [
      "{\n",
      "  \"DESCRIPTION\": \"The image shows the interior of a sewer pipe, which appears to be made of PVC. The lighting is somewhat poor, giving the scene an orange tone. There is a noticeable layer of sediment or debris along the bottom of the pipe, and the surface of the pipe exhibits some discoloration and potential wear, though no significant cracks or breaks are visible.\",\n",
      "  \"CODE\": \"OB\"\n",
      "}\n",
      "Image ID: 00298504.png | Predicted: OB | Ground Truth: NoDefect\n"
     ]
    },
    {
     "name": "stderr",
     "output_type": "stream",
     "text": [
      "Processing images:  92%|█████████▎| 185/200 [12:48<00:59,  3.96s/it]"
     ]
    },
    {
     "name": "stdout",
     "output_type": "stream",
     "text": [
      "{ \n",
      "  \"DESCRIPTION\": \"The image shows a concrete sewer pipe that is partially filled with water. The interior appears to have a smooth, unbroken surface and is adequately illuminated, providing a clear view without significant obstructions. No visible defects such as cracks, breaks, or surface damage are present in the pipe.\", \n",
      "  \"CODE\": \"NoDefect\" \n",
      "}\n",
      "Image ID: 01085889.png | Predicted: NoDefect | Ground Truth: OB\n"
     ]
    },
    {
     "name": "stderr",
     "output_type": "stream",
     "text": [
      "Processing images:  93%|█████████▎| 186/200 [12:52<00:54,  3.86s/it]"
     ]
    },
    {
     "name": "stdout",
     "output_type": "stream",
     "text": [
      "{ \n",
      "  \"DESCRIPTION\": \"The image shows the interior of a concrete sewer pipe with visible water running through it. The pipe appears to be in a fair condition overall, but there are signs of surface damage along the interior walls, such as erosion and potentially scaling. The lighting is dim, making it challenging to assess finer details. The flow of water is observable, indicating that the pipe is in service, but the presence of debris along the bottom suggests some level of blockages or accumulation.\",\n",
      "  \"CODE\": \"OB\"\n",
      "}\n",
      "Image ID: 00975300.png | Predicted: OB | Ground Truth: NoDefect\n"
     ]
    },
    {
     "name": "stderr",
     "output_type": "stream",
     "text": [
      "Processing images:  94%|█████████▎| 187/200 [12:55<00:46,  3.61s/it]"
     ]
    },
    {
     "name": "stdout",
     "output_type": "stream",
     "text": [
      "{\n",
      "  \"DESCRIPTION\": \"The image shows a clear view of a sewer pipe, likely made of PVC, with a smooth surface. There are some dark spots indicating potential wear or surface erosion, but overall, the pipe appears mostly intact with no standing water present.\",\n",
      "  \"CODE\": \"OB\"\n",
      "}\n",
      "Image ID: 01145726.png | Predicted: OB | Ground Truth: DE\n"
     ]
    },
    {
     "name": "stderr",
     "output_type": "stream",
     "text": [
      "Processing images:  94%|█████████▍| 188/200 [12:59<00:44,  3.70s/it]"
     ]
    },
    {
     "name": "stdout",
     "output_type": "stream",
     "text": [
      "{\n",
      "  \"DESCRIPTION\": \"The image presents a clear view of a sewer pipe, characterized by a smooth, circular interior surface. The lighting is sufficient, revealing a gradual transition in color from orange to darker shades as the view progresses deeper into the pipe. There is no visible water present, and the interior appears mostly unobstructed with a consistent texture. No apparent damages or irregularities are observed along the walls of the pipe.\",\n",
      "  \"CODE\": \"NoDefect\"\n",
      "}\n",
      "Image ID: 00255694.png | Predicted: NoDefect | Ground Truth: NoDefect\n"
     ]
    },
    {
     "name": "stderr",
     "output_type": "stream",
     "text": [
      "Processing images:  94%|█████████▍| 189/200 [13:04<00:43,  3.94s/it]"
     ]
    },
    {
     "name": "stdout",
     "output_type": "stream",
     "text": [
      "{ \n",
      "  \"DESCRIPTION\": \"The image shows the interior of a sewer pipe with a concrete structure. The pipe is partially filled with murky water, making visibility slightly restricted. The lighting conditions appear dim yet adequate for observation. In the image, there is a noticeable presence of roots infiltrating the pipe, as indicated by the protruding growth on the side.\",\n",
      "  \"CODE\": \"RO\"\n",
      "}\n",
      "Image ID: 00615828.png | Predicted: RO | Ground Truth: RO\n"
     ]
    },
    {
     "name": "stderr",
     "output_type": "stream",
     "text": [
      "Processing images:  95%|█████████▌| 190/200 [13:08<00:40,  4.09s/it]"
     ]
    },
    {
     "name": "stdout",
     "output_type": "stream",
     "text": [
      "{\n",
      "  \"DESCRIPTION\": \"The image shows an interior view of a sewer pipe, presumably made of concrete. The pipe appears dark with a somewhat dull surface. There are visible cracks along the inner wall, indicating potential structural weakness. The lighting is adequate to discern details, but there is a noticeable shadow suggesting depth. Water presence is not clear, but the overall condition suggests an area of concern due to the cracks observed.\",\n",
      "  \"CODE\": \"RB\"\n",
      "}\n",
      "Image ID: 01164967.png | Predicted: RB | Ground Truth: RO\n"
     ]
    },
    {
     "name": "stderr",
     "output_type": "stream",
     "text": [
      "Processing images:  96%|█████████▌| 191/200 [13:11<00:33,  3.75s/it]"
     ]
    },
    {
     "name": "stdout",
     "output_type": "stream",
     "text": [
      "{\n",
      "  \"DESCRIPTION\": \"The image shows a close-up view of a connection point in a sewer pipe, with one section featuring a distinct orange fitting. The lighting conditions appear dim, typical for underground environments, and there is a slight accumulation of water at the bottom of the pipe. The pipe material appears to be concrete, with some signs of surface staining or wear.\",\n",
      "  \"CODE\": \"PF\"\n",
      "}\n",
      "Image ID: 00932585.png | Predicted: PF | Ground Truth: NoDefect\n"
     ]
    },
    {
     "name": "stderr",
     "output_type": "stream",
     "text": [
      "Processing images:  96%|█████████▌| 192/200 [13:14<00:29,  3.64s/it]"
     ]
    },
    {
     "name": "stdout",
     "output_type": "stream",
     "text": [
      "{ \n",
      "  \"DESCRIPTION\": \"The image shows the interior of a PVC sewer pipe. The lighting is somewhat dim, causing a darker central area with less defined edges. The pipe's surface appears smooth with no significant defects visible. There are no signs of water accumulation or surface damage evident in this view.\", \n",
      "  \"CODE\": \"NoDefect\" \n",
      "}\n",
      "Image ID: 00210684.png | Predicted: NoDefect | Ground Truth: NoDefect\n"
     ]
    },
    {
     "name": "stderr",
     "output_type": "stream",
     "text": [
      "Processing images:  96%|█████████▋| 193/200 [13:18<00:26,  3.76s/it]"
     ]
    },
    {
     "name": "stdout",
     "output_type": "stream",
     "text": [
      "{\n",
      "  \"DESCRIPTION\": \"The image shows a concrete sewer pipe with a generally clear and well-lit interior leading into darkness. There are slight signs of surface wear near the top interior section, although no significant defects like cracks or collapses are visible.\",\n",
      "  \"CODE\": \"OB\"\n",
      "}\n",
      "Image ID: 00582609.png | Predicted: OB | Ground Truth: NoDefect\n"
     ]
    },
    {
     "name": "stderr",
     "output_type": "stream",
     "text": [
      "Processing images:  97%|█████████▋| 194/200 [13:22<00:22,  3.70s/it]"
     ]
    },
    {
     "name": "stdout",
     "output_type": "stream",
     "text": [
      "{\n",
      "  \"DESCRIPTION\": \"The image shows a concrete sewer pipe with visible surface erosion and a prominent crack running along its length. The lighting conditions appear dim, indicating that the camera might be using low-light capabilities. There are some irregularities on the pipe's surface, suggesting wear and age. The water presence is minimal, possibly indicating a low-flow situation.\",\n",
      "  \"CODE\": \"RB\"\n",
      "}\n",
      "Image ID: 00225888.png | Predicted: RB | Ground Truth: RB\n"
     ]
    },
    {
     "name": "stderr",
     "output_type": "stream",
     "text": [
      "Processing images:  98%|█████████▊| 195/200 [13:25<00:17,  3.41s/it]"
     ]
    },
    {
     "name": "stdout",
     "output_type": "stream",
     "text": [
      "{ \n",
      "  \"DESCRIPTION\": \"The image shows the interior of a sewer pipe with a smooth surface and clear visibility. The pipe appears to be made of PVC, with good lighting conditions suggesting minimal obstruction. There is no standing water present, allowing for a full view of the pipe's condition.\",\n",
      "  \"CODE\": \"NoDefect\"\n",
      "}\n",
      "Image ID: 01174815.png | Predicted: NoDefect | Ground Truth: PF\n"
     ]
    },
    {
     "name": "stderr",
     "output_type": "stream",
     "text": [
      "Processing images:  98%|█████████▊| 196/200 [13:29<00:14,  3.73s/it]"
     ]
    },
    {
     "name": "stdout",
     "output_type": "stream",
     "text": [
      "{ \n",
      "  \"DESCRIPTION\": \"The image shows the interior of a sewer pipe with a smooth, cylindrical shape. The lighting is dim, typical for a sewer environment, and the surface appears relatively clean, with some organic material present, suggesting potential root intrusion. No visible cracks or collapses are evident, and the water level is absent, indicating dry conditions. The material of the pipe seems to be concrete, but there are no significant surface damages or blockages noted.\",\n",
      "  \"CODE\": \"RO\"\n",
      "}\n",
      "Image ID: 01076125.png | Predicted: RO | Ground Truth: RO\n"
     ]
    },
    {
     "name": "stderr",
     "output_type": "stream",
     "text": [
      "Processing images:  98%|█████████▊| 197/200 [13:33<00:11,  3.74s/it]"
     ]
    },
    {
     "name": "stdout",
     "output_type": "stream",
     "text": [
      "{ \n",
      "  \"DESCRIPTION\": \"The image shows the interior of a sewer pipe with a noticeable defect. The pipe appears to be made of concrete, and there is poor lighting, making some details hard to discern. The visible area includes a significant break in the pipe structure, indicating a fracture. There are no signs of water accumulation in the vicinity of the defect. The surface around the break shows signs of erosion and wear.\",\n",
      "  \"CODE\": \"RB\"\n",
      "}\n",
      "Image ID: 00190227.png | Predicted: RB | Ground Truth: RB\n"
     ]
    },
    {
     "name": "stderr",
     "output_type": "stream",
     "text": [
      "Processing images:  99%|█████████▉| 198/200 [13:37<00:07,  3.90s/it]"
     ]
    },
    {
     "name": "stdout",
     "output_type": "stream",
     "text": [
      "{\n",
      "  \"DESCRIPTION\": \"The image shows a sewer pipe with a clear view of its interior. The pipe is made of concrete and appears to have a few minor surface imperfections, including some signs of wear and staining. There is no standing water visible and the lighting conditions are adequate for analysis. Overall, the pipe retains a relatively smooth surface without major obstructions.\",\n",
      "  \"CODE\": \"OB\"\n",
      "}\n",
      "Image ID: 01001126.png | Predicted: OB | Ground Truth: RB\n"
     ]
    },
    {
     "name": "stderr",
     "output_type": "stream",
     "text": [
      "Processing images: 100%|█████████▉| 199/200 [13:40<00:03,  3.57s/it]"
     ]
    },
    {
     "name": "stdout",
     "output_type": "stream",
     "text": [
      "{\n",
      "  \"DESCRIPTION\": \"The image depicts the interior of a sewer pipe with a smooth, yellow surface. The lighting is adequate, providing a clear view of the pipe's condition. There are no visible signs of water flow or standing water within the pipe. The surface appears intact, without any noticeable cracks, breaks, or obstructions.\",\n",
      "  \"CODE\": \"NoDefect\"\n",
      "}\n",
      "Image ID: 00835200.png | Predicted: NoDefect | Ground Truth: DE\n"
     ]
    },
    {
     "name": "stderr",
     "output_type": "stream",
     "text": [
      "Processing images: 100%|██████████| 200/200 [13:43<00:00,  4.12s/it]"
     ]
    },
    {
     "name": "stdout",
     "output_type": "stream",
     "text": [
      "{ \n",
      "  \"DESCRIPTION\": \"The image shows the interior of a sewer pipe with a smooth, unbroken surface. The lighting is adequate, allowing for clear visibility. There is some water at the bottom, indicated by a darker area. The pipe appears to be made of PVC material and has no visible signs of damage, blockages, or root infiltration.\",\n",
      "  \"CODE\": \"NoDefect\"\n",
      "}\n",
      "Image ID: 00507208.png | Predicted: NoDefect | Ground Truth: PF\n"
     ]
    },
    {
     "name": "stderr",
     "output_type": "stream",
     "text": [
      "\n",
      "/usr/local/lib/python3.10/dist-packages/sklearn/metrics/_classification.py:1531: UndefinedMetricWarning: Precision is ill-defined and being set to 0.0 in labels with no predicted samples. Use `zero_division` parameter to control this behavior.\n",
      "  _warn_prf(average, modifier, f\"{metric.capitalize()} is\", len(result))\n",
      "/usr/local/lib/python3.10/dist-packages/sklearn/metrics/_classification.py:1531: UndefinedMetricWarning: Precision is ill-defined and being set to 0.0 in labels with no predicted samples. Use `zero_division` parameter to control this behavior.\n",
      "  _warn_prf(average, modifier, f\"{metric.capitalize()} is\", len(result))\n",
      "/usr/local/lib/python3.10/dist-packages/sklearn/metrics/_classification.py:1531: UndefinedMetricWarning: Precision is ill-defined and being set to 0.0 in labels with no predicted samples. Use `zero_division` parameter to control this behavior.\n",
      "  _warn_prf(average, modifier, f\"{metric.capitalize()} is\", len(result))\n"
     ]
    }
   ],
   "source": [
    "import os\n",
    "from openai import OpenAI\n",
    "from PIL import Image\n",
    "import base64\n",
    "import pandas as pd\n",
    "from sklearn.metrics import accuracy_score, f1_score, classification_report\n",
    "from tqdm import tqdm\n",
    "import json\n",
    "import re\n",
    "\n",
    "# Open log file\n",
    "log_path = './results/new_prompt/gpt4omini/'\n",
    "os.makedirs(log_path, exist_ok=True)\n",
    "log_file = os.path.join(log_path, 'prediction_log.txt')\n",
    "log_file = open(log_file, 'w')\n",
    "\n",
    "# Load data\n",
    "df_table_prd = pd.read_csv('../LMM_sewerML/results/df_table_prd.csv')\n",
    "df_table_dsc = pd.read_csv('../LMM_sewerML/results/df_table_dsc.csv')\n",
    "image_dir = '../LMM_sewerML/images'\n",
    "\n",
    "# set openai key, need to fill in the key   \n",
    "client = OpenAI(api_key=\"\")\n",
    "\n",
    "# Define the prompt template\n",
    "prompt_template = \"\"\"\n",
    "You are a virtual sewer technician with the capability to analyze images from CCTV cameras taken inside sewer pipes.\n",
    "Your task is to examine each image and provide a concise, yet accurate, summary for retrieval. \n",
    "After summarizing, you must classify the image as defect types.\n",
    "While providing the summary, remember the following guidelines:\"\n",
    "1) Provide a general overview of the image that you see, describing important elements such image clarity, lighting conditions, type of pipe (concrete, PVC, ...), presence of water.\n",
    "2) Check for defects in the sewer pipes in the image.\n",
    "3) Pipes in good condition usually show a smooth, unbroken surface, no visible signs of damage like cracks or collapses, and an absence of blockages such as roots.\n",
    "4) On the other hand, you can have the following defects:\n",
    "4a)Cracks, Breaks, and Collapses (RB): Identify visible cracks along the pipe, instances where the pipe has fractured or completely broken apart, and areas where the pipe has collapsed.\n",
    "This includes longitudinal cracks, circumferential breaks, and complete structural failures that compromise the integrity of the sewer system.\n",
    "4b)Surface Damage (OB): Detect areas of the pipe's interior that exhibit signs of wear, erosion, or damage on the surface.\n",
    "This includes minor scratches, pitting, scaling, or any form of deterioration that affects the pipe's surface but does not necessarily penetrate deeply into the structure.\n",
    "4c) Production Error (PF): Identify defects that originated during the pipe's manufacturing process, such as inconsistent pipe thickness, improper joint alignment, or material imperfections.\n",
    "These are flaws that were introduced before installation and could potentially affect the pipe's performance or longevity.\n",
    "4d) Deformations (DE): Recognize any alterations in the shape of the pipe, such as bending, sagging, or bulging, that indicate a deformation.\n",
    "This includes both minor deformations that may affect flow efficiency and major deformations that threaten the pipe's structural integrity.\n",
    "4e) Roots (RO): Detect the presence of roots infiltrating the sewer pipe, whether through joints, cracks, or other vulnerabilities.\n",
    "This involves identifying both the initial stages of root intrusion and the more advanced stages where roots have significantly obstructed the pipe.\n",
    "5) Additional considerations while analyzing the images: do not consider blurred text or user-defined circled areas in the images.\n",
    "6) You will always try to describe the image that you see. Provide the output in JSON format as follows:\n",
    "\n",
    "{ \"DESCRIPTION\": \"<Description of the image that you see>\", \"CODE\": \"<Defect Code>\"}\n",
    "\n",
    "Note: The \"CODE\" includes \"RB\", \"OB\", \"PF\", \"DE\", \"RO\". If no defect is detected, set \"CODE\" to \"NoDefect\".\n",
    "\"\"\"\n",
    "\n",
    "# Store predictions and actual labels\n",
    "predictions = []\n",
    "actual_labels = []\n",
    "descriptions = []\n",
    "\n",
    "# Iterate over each row in the ground truth dataframe with progress bar\n",
    "for idx, row in tqdm(df_table_prd.iterrows(), total=df_table_prd.shape[0], desc=\"Processing images\"):\n",
    "    img_id = row['img_id']\n",
    "    ground_truth = row['defect_type']\n",
    "    img_path = os.path.join(image_dir, img_id)\n",
    "    \n",
    "    # Check if image file exists\n",
    "    if not os.path.exists(img_path):\n",
    "        logger.warning(f\"Image {img_id} not found. Skipping.\")\n",
    "        continue\n",
    "\n",
    "    # Load image\n",
    "    with open(img_path, \"rb\") as image_file:\n",
    "        img_b64_str = base64.b64encode(image_file.read()).decode('utf-8')\n",
    "    img_type = \"image/png\"  # set image type\n",
    "\n",
    "    # Create prompt with image placeholder\n",
    "    prompt = prompt_template\n",
    "\n",
    "    # OpenAI GPT-4o\n",
    "    response = client.chat.completions.create(\n",
    "        model=\"gpt-4o-mini\",\n",
    "        messages=[\n",
    "            {\n",
    "                \"role\": \"user\",\n",
    "                \"content\": [\n",
    "                    {\"type\": \"text\", \"text\": prompt},\n",
    "                    {\"type\": \"image_url\", \"image_url\": {\"url\": f\"data:{img_type};base64,{img_b64_str}\"}},\n",
    "                ],\n",
    "            }\n",
    "        ],\n",
    "    )\n",
    "\n",
    "    # Extract defect prediction and description from model output\n",
    "    # print(response)\n",
    "    response_text = response.choices[0].message.content.strip()\n",
    "    # print(response_text)\n",
    "\n",
    "    # Remove the specifijson and closing\n",
    "    if response_text.startswith(\"```\"):\n",
    "        cleaned_response_text = response_text.split('\\n', 1)[-1].rsplit('\\n', 1)[0].strip()\n",
    "    else:\n",
    "        cleaned_response_text = response_text.strip()\n",
    "    print(cleaned_response_text)\n",
    "\n",
    "    # Extract defect prediction and description from model output\n",
    "    try:\n",
    "        # Attempt to parse the response as JSON\n",
    "        response_json = json.loads(cleaned_response_text)\n",
    "        description = response_json.get(\"DESCRIPTION\", \"No description provided\")\n",
    "        predicted_defect = response_json.get(\"CODE\", \"NoDefect\")\n",
    "    except json.JSONDecodeError:\n",
    "        # Handle cases where the response is not valid JSON\n",
    "        log_file.write(f\"Invalid JSON response for Image ID {img_id}: {response}\\n\")\n",
    "        description = \"Error in JSON response\"\n",
    "        predicted_defect = \"Error\"\n",
    "\n",
    "    # Append results to lists\n",
    "    predictions.append(predicted_defect)\n",
    "    actual_labels.append(ground_truth)\n",
    "    descriptions.append(description)\n",
    "\n",
    "    # Log intermediate outputs\n",
    "    print(f\"Image ID: {img_id} | Predicted: {predicted_defect} | Ground Truth: {ground_truth}\")\n",
    "    log_file.write(f\"Image ID: {img_id} | Predicted: {predicted_defect} | Ground Truth: {ground_truth}\\n\")\n",
    "\n",
    "# Calculate evaluation metrics\n",
    "accuracy = accuracy_score(actual_labels, predictions)\n",
    "f1 = f1_score(actual_labels, predictions, average='weighted')\n",
    "report = classification_report(actual_labels, predictions)\n",
    "\n",
    "log_file.write(f\"\\nAccuracy: {accuracy:.4f}\\n\")\n",
    "log_file.write(f\"F1 Score: {f1:.4f}\\n\")\n",
    "log_file.write(\"\\nClassification Report:\\n\")\n",
    "log_file.write(report)\n",
    "\n",
    "log_file.close()\n",
    "\n",
    "# Save results to CSV files\n",
    "df_table_prd['gpt4o-mini'] = predictions\n",
    "df_table_prd.to_csv(log_path + 'df_table_prd.csv', index=False)\n",
    "\n",
    "df_table_dsc['gpt4o-mini'] = descriptions\n",
    "df_table_dsc.to_csv(log_path + 'df_table_dsc.csv', index=False)"
   ]
  },
  {
   "cell_type": "code",
   "execution_count": null,
   "id": "67b57b85-36f8-4efe-b3e3-9a1d58c26461",
   "metadata": {},
   "outputs": [],
   "source": []
  }
 ],
 "metadata": {
  "kernelspec": {
   "display_name": "Python 3 (ipykernel)",
   "language": "python",
   "name": "python3"
  },
  "language_info": {
   "codemirror_mode": {
    "name": "ipython",
    "version": 3
   },
   "file_extension": ".py",
   "mimetype": "text/x-python",
   "name": "python",
   "nbconvert_exporter": "python",
   "pygments_lexer": "ipython3",
   "version": "3.10.12"
  }
 },
 "nbformat": 4,
 "nbformat_minor": 5
}
